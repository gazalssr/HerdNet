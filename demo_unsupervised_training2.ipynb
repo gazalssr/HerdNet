{
  "cells": [
    {
      "cell_type": "markdown",
      "metadata": {
        "id": "view-in-github",
        "colab_type": "text"
      },
      "source": [
        "<a href=\"https://colab.research.google.com/github/gazalssr/HerdNet/blob/main/demo_unsupervised_training2.ipynb\" target=\"_parent\"><img src=\"https://colab.research.google.com/assets/colab-badge.svg\" alt=\"Open In Colab\"/></a>"
      ]
    },
    {
      "cell_type": "markdown",
      "metadata": {
        "id": "tOMmy2YvTHSy"
      },
      "source": [
        "# Unsupervised Training"
      ]
    },
    {
      "cell_type": "markdown",
      "metadata": {
        "id": "_XTpIbRwT9PO"
      },
      "source": [
        "## Installations"
      ]
    },
    {
      "cell_type": "code",
      "execution_count": 42,
      "metadata": {
        "id": "9v5ab5BbSrVl",
        "colab": {
          "base_uri": "https://localhost:8080/"
        },
        "outputId": "86f12d6a-58c8-41ec-d646-b693ba924fcf"
      },
      "outputs": [
        {
          "output_type": "stream",
          "name": "stdout",
          "text": [
            "Thu Aug 17 20:53:07 2023       \n",
            "+-----------------------------------------------------------------------------+\n",
            "| NVIDIA-SMI 525.105.17   Driver Version: 525.105.17   CUDA Version: 12.0     |\n",
            "|-------------------------------+----------------------+----------------------+\n",
            "| GPU  Name        Persistence-M| Bus-Id        Disp.A | Volatile Uncorr. ECC |\n",
            "| Fan  Temp  Perf  Pwr:Usage/Cap|         Memory-Usage | GPU-Util  Compute M. |\n",
            "|                               |                      |               MIG M. |\n",
            "|===============================+======================+======================|\n",
            "|   0  Tesla T4            Off  | 00000000:00:04.0 Off |                    0 |\n",
            "| N/A   41C    P8     9W /  70W |      0MiB / 15360MiB |      0%      Default |\n",
            "|                               |                      |                  N/A |\n",
            "+-------------------------------+----------------------+----------------------+\n",
            "                                                                               \n",
            "+-----------------------------------------------------------------------------+\n",
            "| Processes:                                                                  |\n",
            "|  GPU   GI   CI        PID   Type   Process name                  GPU Memory |\n",
            "|        ID   ID                                                   Usage      |\n",
            "|=============================================================================|\n",
            "|  No running processes found                                                 |\n",
            "+-----------------------------------------------------------------------------+\n"
          ]
        }
      ],
      "source": [
        "# Check GPU\n",
        "!nvidia-smi"
      ]
    },
    {
      "cell_type": "code",
      "execution_count": 43,
      "metadata": {
        "id": "z9RVoQx5UOkg"
      },
      "outputs": [],
      "source": [
        "%%capture --no-stderr\n",
        "# Install the dependencies\n",
        "!pip install albumentations>=1.0.3\n",
        "!pip install fiftyone>=0.14.3\n",
        "!pip install hydra-core>=1.1.0\n",
        "!pip install opencv-python>=4.5.1.48\n",
        "!pip install pandas>=1.2.3\n",
        "!pip install pillow>=8.2.0\n",
        "!pip install scikit-image>=0.18.1\n",
        "!pip install scikit-learn>=1.0.2\n",
        "!pip install scipy>=1.6.2\n",
        "!pip install wandb>=0.10.33"
      ]
    },
    {
      "cell_type": "code",
      "execution_count": 44,
      "metadata": {
        "id": "oJydpjxoUGAC",
        "colab": {
          "base_uri": "https://localhost:8080/"
        },
        "outputId": "11a8720c-ef97-497b-cb16-58440b2c282e"
      },
      "outputs": [
        {
          "output_type": "stream",
          "name": "stdout",
          "text": [
            "Cloning into 'HerdNet'...\n",
            "remote: Enumerating objects: 388, done.\u001b[K\n",
            "remote: Counting objects: 100% (49/49), done.\u001b[K\n",
            "remote: Compressing objects: 100% (35/35), done.\u001b[K\n",
            "remote: Total 388 (delta 18), reused 24 (delta 14), pack-reused 339\u001b[K\n",
            "Receiving objects: 100% (388/388), 183.83 KiB | 5.74 MiB/s, done.\n",
            "Resolving deltas: 100% (229/229), done.\n",
            "Obtaining file:///content/HerdNet\n",
            "  Preparing metadata (setup.py) ... \u001b[?25l\u001b[?25hdone\n",
            "Installing collected packages: animaloc\n",
            "  Running setup.py develop for animaloc\n",
            "Successfully installed animaloc-0.2.0\n"
          ]
        }
      ],
      "source": [
        "# Download and install the code\n",
        "import sys\n",
        "\n",
        "!git clone https://github.com/sfoucher/HerdNet\n",
        "#!cd '/content/HerdNet' && python setup.py install\n",
        "!pip install -e /content/HerdNet\n",
        "sys.path.append('/content/HerdNet')"
      ]
    },
    {
      "cell_type": "markdown",
      "metadata": {
        "id": "cuxaC9qGVk5S"
      },
      "source": [
        "## Create datasets"
      ]
    },
    {
      "cell_type": "code",
      "execution_count": null,
      "metadata": {
        "id": "y1n_cQLFYBsJ"
      },
      "outputs": [],
      "source": [
        "# Set the seed\n",
        "from animaloc.utils.seed import set_seed\n",
        "\n",
        "set_seed(9292)"
      ]
    },
    {
      "cell_type": "code",
      "source": [
        "# Create training  patches using the patcher tool\n",
        "from animaloc.utils.useful_funcs import mkdir\n",
        "import pandas as pd\n",
        "df = pd.read_csv('/content/drive/MyDrive/TrainCAH/Train_CAH_1357.csv')\n",
        "df = df.to_csv('/content/drive/MyDrive/TrainCAH/Train_CAH_1357.csv', index=False)\n",
        "mkdir('/content/drive/MyDrive/Train_patches')\n",
        "# mkdir('/content/Train_patches') # local directory\n",
        "!python /content/HerdNet/tools/patcher.py /content/drive/MyDrive/TrainCAH/ 512 512 0 /content/drive/MyDrive/Train_patches -csv /content/drive/MyDrive/TrainCAH/Train_CAH_1357.csv -min 0.0 -all True\n",
        "# !python /content/HerdNet/tools/patcher.py /content/drive/MyDrive/images/ 512 512 0 /content/drive/MyDrive/Train_patches -csv /content/drive/MyDrive/images/IMGcoors_FCH__GRP_4_01_.csv -min 0.0 -all True"
      ],
      "metadata": {
        "colab": {
          "base_uri": "https://localhost:8080/"
        },
        "id": "zMPMc_ckVUp6",
        "outputId": "b00aaff5-6a82-4dab-cc5a-a05212518443"
      },
      "execution_count": 45,
      "outputs": [
        {
          "output_type": "stream",
          "name": "stdout",
          "text": [
            "Creating the buffer: 100% 13/13 [00:19<00:00,  1.53s/it]\n",
            "Exporting patches: 100% 18/18 [02:33<00:00,  8.51s/it]\n"
          ]
        }
      ]
    },
    {
      "cell_type": "code",
      "source": [
        "import csv, os\n",
        "import pandas as pd\n",
        "folder_path=\"/content/drive/MyDrive/Train_patches\"\n",
        "!cp \"/content/drive/MyDrive/Train_patches/gt.csv\" \"/content/drive/MyDrive/GT\"\n",
        "gt_path='/content/drive/MyDrive/GT/gt.csv'\n",
        "# gt_path='/content/drive/MyDrive/Train_patches/gt.csv'\n",
        "# output_csv_path='/content/drive/MyDrive/Train_patches/gt_empty.csv'\n",
        "file_ids = []\n",
        "for filename in os.listdir(folder_path):\n",
        "    # if os.path.isfile(os.path.join(folder_path, filename)):\n",
        "    if filename.endswith('.jpg'):\n",
        "        file_ids.append(filename)\n",
        "# print(file_ids)\n",
        "############# Save tpo csv ##################\n",
        "data = {'file_id': file_ids}\n",
        "df = pd.DataFrame(data)\n",
        "FileIDs_csv_path = '/content/drive/MyDrive/FileList/file_ids.csv'\n",
        "df.to_csv(FileIDs_csv_path, index=False)\n",
        "F_D=pd.read_csv(FileIDs_csv_path)\n",
        "gt=pd.read_csv(gt_path)\n",
        "gt_images= gt['images'].tolist()\n",
        "names_from_first_csv = F_D['file_id'].tolist()\n",
        "print(names_from_first_csv)\n",
        "file_names_not_in_second_csv = [file_id for file_id in names_from_first_csv if file_id not in gt_images]\n",
        "data = {'Empty patches': file_names_not_in_second_csv}\n",
        "df_output = pd.DataFrame(data)\n",
        "output_csv_path='/content/drive/MyDrive/GT/gt_empty.csv'\n",
        "df_output.to_csv(output_csv_path, index=False)"
      ],
      "metadata": {
        "colab": {
          "base_uri": "https://localhost:8080/"
        },
        "id": "12JCyDT10qOO",
        "outputId": "6618cba3-f4f1-4a93-aba3-967071cf2e72"
      },
      "execution_count": 47,
      "outputs": [
        {
          "output_type": "stream",
          "name": "stdout",
          "text": [
            "['CAH_GRP_5_90mm_99.jpg', 'CAH_GRP_5_90mm_101.jpg', 'CAH_GRP_5_90mm_102.jpg', 'CAH_GRP_5_90mm_104.jpg', 'CAH_GRP_5_90mm_103.jpg', 'CAH_GRP_5_90mm_105.jpg', 'CAH_GRP_5_90mm_106.jpg', 'CAH_GRP_5_90mm_108.jpg', 'CAH_GRP_5_90mm_107.jpg', 'CAH_GRP_5_90mm_109.jpg', 'CAH_GRP_5_90mm_110.jpg', 'CAH_GRP_5_90mm_111.jpg', 'CAH_GRP_5_90mm_112.jpg', 'CAH_GRP_5_90mm_113.jpg', 'CAH_GRP_5_90mm_115.jpg', 'CAH_GRP_5_90mm_114.jpg', 'CAH_GRP_5_90mm_117.jpg', 'CAH_GRP_5_90mm_116.jpg', 'CAH_GRP_5_90mm_118.jpg', 'CAH_GRP_5_90mm_119.jpg', 'CAH_GRP_5_90mm_120.jpg', 'CAH_GRP_5_90mm_121.jpg', 'CAH_GRP_5_90mm_122.jpg', 'CAH_GRP_5_90mm_123.jpg', 'CAH_GRP_5_90mm_124.jpg', 'CAH_GRP_5_90mm_125.jpg', 'CAH_GRP_5_90mm_126.jpg', 'CAH_GRP_5_90mm_128.jpg', 'CAH_GRP_5_90mm_127.jpg', 'CAH_GRP_5_90mm_129.jpg', 'CAH_GRP_5_90mm_130.jpg', 'CAH_GRP_5_90mm_131.jpg', 'CAH_GRP_5_90mm_132.jpg', 'CAH_GRP_5_90mm_133.jpg', 'CAH_GRP_5_90mm_134.jpg', 'CAH_GRP_5_90mm_135.jpg', 'CAH_GRP_5_90mm_136.jpg', 'CAH_GRP_5_90mm_137.jpg', 'CAH_GRP_5_90mm_138.jpg', 'CAH_GRP_5_90mm_140.jpg', 'CAH_GRP_5_90mm_139.jpg', 'CAH_GRP_5_90mm_141.jpg', 'CAH_GRP_5_90mm_142.jpg', 'CAH_GRP_5_90mm_143.jpg', 'CAH_GRP_5_90mm_145.jpg', 'CAH_GRP_5_90mm_144.jpg', 'CAH_GRP_5_90mm_146.jpg', 'CAH_GRP_5_90mm_147.jpg', 'CAH_GRP_5_90mm_149.jpg', 'CAH_GRP_5_90mm_148.jpg', 'CAH_GRP_5_90mm_150.jpg', 'CAH_GRP_5_90mm_151.jpg', 'CAH_GRP_5_90mm_152.jpg', 'CAH_GRP_5_90mm_153.jpg', 'CAH_GRP_5_90mm_155.jpg', 'CAH_GRP_5_90mm_154.jpg', 'CAH_GRP_5_90mm_156.jpg', 'CAH_GRP_5_90mm_157.jpg', 'CAH_GRP_5_90mm_158.jpg', 'CAH_GRP_5_90mm_159.jpg', 'CAH_GRP_5_90mm_161.jpg', 'CAH_GRP_5_90mm_160.jpg', 'CAH_GRP_5_90mm_162.jpg', 'CAH_GRP_5_90mm_163.jpg', 'CAH_GRP_5_90mm_164.jpg', 'CAH_GRP_5_90mm_165.jpg', 'CAH_GRP_5_90mm_167.jpg', 'CAH_GRP_5_90mm_166.jpg', 'CAH_GRP_5_90mm_168.jpg', 'CAH_GRP_5_90mm_169.jpg', 'CAH_GRP_5_90mm_170.jpg', 'CAH_GRP_5_90mm_171.jpg', 'CAH_GRP_5_90mm_172.jpg', 'CAH_GRP_5_90mm_173.jpg', 'CAH_GRP_5_90mm_174.jpg', 'CAH_GRP_5_90mm_175.jpg', 'CAH_GRP_5_90mm_176.jpg', 'CAH_GRP_5_90mm_177.jpg', 'CAH_GRP_5_90mm_178.jpg', 'CAH_GRP_5_90mm_179.jpg', 'CAH_GRP_5_90mm_180.jpg', 'CAH_GRP_5_90mm_181.jpg', 'CAH_GRP_5_90mm_182.jpg', 'CAH_GRP_5_90mm_183.jpg', 'CAH_GRP_5_90mm_184.jpg', 'CAH_GRP_5_90mm_185.jpg', 'CAH_GRP_5_90mm_186.jpg', 'CAH_GRP_5_90mm_187.jpg', 'CAH_GRP_5_90mm_190.jpg', 'CAH_GRP_5_90mm_189.jpg', 'CAH_GRP_5_90mm_188.jpg', 'CAH_GRP_5_90mm_191.jpg', 'CAH_GRP_5_90mm_194.jpg', 'CAH_GRP_5_90mm_192.jpg', 'CAH_GRP_5_90mm_193.jpg', 'CAH_GRP_5_90mm_195.jpg', 'CAH_GRP_5_90mm_196.jpg', 'CAH_GRP_5_90mm_197.jpg', 'CAH_GRP_5_90mm_198.jpg', 'CAH_GRP_5_90mm_199.jpg', 'CAH_GRP_5_90mm_200.jpg', 'CAH_GRP_5_90mm_201.jpg', 'CAH_GRP_5_90mm_202.jpg', 'CAH_GRP_5_90mm_203.jpg', 'CAH_GRP_5_90mm_204.jpg', 'CAH_GRP_5_90mm_205.jpg', 'CAH_GRP_5_90mm_206.jpg', 'CAH_GRP_5_90mm_207.jpg', 'CAH_GRP_5_90mm_208.jpg', 'CAH_GRP_5_90mm_209.jpg', 'CAH_GRP_5_90mm_210.jpg', 'CAH_GRP_5_90mm_211.jpg', 'CAH_GRP_5_90mm_212.jpg', 'CAH_GRP_5_90mm_213.jpg', 'CAH_GRP_5_90mm_214.jpg', 'CAH_GRP_5_90mm_215.jpg', 'CAH_GRP_5_90mm_216.jpg', 'CAH_GRP_5_90mm_217.jpg', 'CAH_GRP_5_90mm_218.jpg', 'CAH_GRP_5_90mm_219.jpg', 'CAH_GRP_5_90mm_220.jpg', 'CAH_GRP_5_90mm_221.jpg', 'CAH_GRP_5_90mm_222.jpg', 'CAH_GRP_5_90mm_223.jpg', 'CAH_GRP_5_90mm_224.jpg', 'CAH_GRP_5_90mm_225.jpg', 'CAH_GRP_5_90mm_226.jpg', 'CAH_GRP_5_90mm_227.jpg', 'CAH_GRP_5_90mm_228.jpg', 'CAH_GRP_5_90mm_229.jpg', 'CAH_GRP_5_90mm_231.jpg', 'CAH_GRP_5_90mm_230.jpg', 'CAH_GRP_5_90mm_232.jpg', 'CAH_GRP_5_90mm_233.jpg', 'CAH_GRP_5_90mm_234.jpg', 'CAH_GRP_5_90mm_235.jpg', 'CAH_GRP_5_90mm_238.jpg', 'CAH_GRP_5_90mm_237.jpg', 'CAH_GRP_5_90mm_236.jpg', 'CAH_GRP_5_90mm_239.jpg', 'CAH_GRP_5_90mm_240.jpg', 'CAH_GRP_5_90mm_242.jpg', 'CAH_GRP_5_90mm_244.jpg', 'CAH_GRP_5_90mm_243.jpg', 'CAH_GRP_5_90mm_241.jpg', 'CAH_GRP_5_90mm_246.jpg', 'CAH_GRP_5_90mm_245.jpg', 'CAH_GRP_5_90mm_247.jpg', 'CAH_GRP_5_90mm_248.jpg', 'CAH_GRP_5_90mm_249.jpg', 'CAH_GRP_5_90mm_250.jpg', 'CAH_GRP_5_90mm_252.jpg', 'CAH_GRP_5_90mm_251.jpg', 'CAH_GRP_5_90mm_253.jpg', 'CAH_GRP_5_90mm_254.jpg', 'CAH_GRP_5_90mm_255.jpg', 'CAH_GRP_5_90mm_256.jpg', 'CAH_GRP_5_90mm_257.jpg', 'CAH_GRP_5_90mm_258.jpg', 'CAH_GRP_5_90mm_259.jpg', 'MB1_CAH_img_3_4.jpg', 'MB1_CAH_img_3_1.jpg', 'MB1_CAH_img_3_5.jpg', 'MB1_CAH_img_3_3.jpg', 'MB1_CAH_img_3_0.jpg', 'MB1_CAH_img_3_2.jpg', 'MB1_CAH_img_3_6.jpg', 'MB1_CAH_img_3_8.jpg', 'MB1_CAH_img_3_7.jpg', 'MB1_CAH_img_3_9.jpg', 'MB1_CAH_img_3_10.jpg', 'MB1_CAH_img_3_14.jpg', 'MB1_CAH_img_3_13.jpg', 'MB1_CAH_img_3_12.jpg', 'MB1_CAH_img_3_11.jpg', 'MB1_CAH_img_3_15.jpg', 'MB1_CAH_img_3_16.jpg', 'MB1_CAH_img_3_17.jpg', 'MB1_CAH_img_3_18.jpg', 'MB1_CAH_img_3_19.jpg', 'MB1_CAH_img_3_20.jpg', 'MB1_CAH_img_3_21.jpg', 'MB1_CAH_img_3_23.jpg', 'MB1_CAH_img_3_22.jpg', 'MB1_CAH_img_3_25.jpg', 'MB1_CAH_img_3_24.jpg', 'MB1_CAH_img_3_26.jpg', 'MB1_CAH_img_3_27.jpg', 'MB1_CAH_img_3_28.jpg', 'MB1_CAH_img_3_29.jpg', 'MB1_CAH_img_3_32.jpg', 'MB1_CAH_img_3_31.jpg', 'MB1_CAH_img_3_30.jpg', 'MB1_CAH_img_3_33.jpg', 'MB1_CAH_img_3_34.jpg', 'MB1_CAH_img_3_35.jpg', 'MB1_CAH_img_3_36.jpg', 'MB1_CAH_img_3_37.jpg', 'MB1_CAH_img_3_38.jpg', 'MB1_CAH_img_3_39.jpg', 'MB1_CAH_img_3_40.jpg', 'MB1_CAH_img_3_41.jpg', 'MB1_CAH_img_3_43.jpg', 'MB1_CAH_img_3_42.jpg', 'MB1_CAH_img_3_44.jpg', 'MB1_CAH_img_3_45.jpg', 'MB1_CAH_img_3_48.jpg', 'MB1_CAH_img_3_46.jpg', 'MB1_CAH_img_3_47.jpg', 'MB1_CAH_img_3_49.jpg', 'MB1_CAH_img_3_50.jpg', 'MB1_CAH_img_3_51.jpg', 'MB1_CAH_img_3_52.jpg', 'MB1_CAH_img_3_53.jpg', 'MB1_CAH_img_3_54.jpg', 'MB1_CAH_img_3_56.jpg', 'MB1_CAH_img_3_55.jpg', 'MB1_CAH_img_3_57.jpg', 'MB1_CAH_img_3_58.jpg', 'MB1_CAH_img_3_59.jpg', 'MB1_CAH_img_3_60.jpg', 'MB1_CAH_img_3_62.jpg', 'MB1_CAH_img_3_61.jpg', 'MB1_CAH_img_3_63.jpg', 'MB1_CAH_img_3_64.jpg', 'MB1_CAH_img_3_66.jpg', 'MB1_CAH_img_3_65.jpg', 'MB1_CAH_img_3_68.jpg', 'MB1_CAH_img_3_67.jpg', 'MB1_CAH_img_3_69.jpg', 'MB1_CAH_img_3_70.jpg', 'MB1_CAH_img_3_73.jpg', 'MB1_CAH_img_3_72.jpg', 'MB1_CAH_img_3_71.jpg', 'MB1_CAH_img_3_74.jpg', 'MB1_CAH_img_3_75.jpg', 'MB1_CAH_img_3_76.jpg', 'MB1_CAH_img_3_78.jpg', 'MB1_CAH_img_3_80.jpg', 'MB1_CAH_img_3_77.jpg', 'MB1_CAH_img_3_79.jpg', 'MB1_CAH_img_3_81.jpg', 'MB1_CAH_img_3_82.jpg', 'MB1_CAH_img_3_83.jpg', 'MB1_CAH_img_3_85.jpg', 'MB1_CAH_img_3_86.jpg', 'MB1_CAH_img_3_84.jpg', 'MB1_CAH_img_3_87.jpg', 'MB1_CAH_img_3_88.jpg', 'MB1_CAH_img_3_89.jpg', 'MB1_CAH_img_3_90.jpg', 'MB1_CAH_img_3_92.jpg', 'MB1_CAH_img_3_91.jpg', 'MB1_CAH_img_3_94.jpg', 'MB1_CAH_img_3_93.jpg', 'MB1_CAH_img_3_95.jpg', 'MB1_CAH_img_3_96.jpg', 'MB1_CAH_img_3_97.jpg', 'MB1_CAH_img_3_98.jpg', 'MB1_CAH_img_3_99.jpg', 'MB1_CAH_img_3_101.jpg', 'MB1_CAH_img_3_100.jpg', 'MB1_CAH_img_3_102.jpg', 'MB1_CAH_img_3_103.jpg', 'MB1_CAH_img_3_104.jpg', 'MB1_CAH_img_3_105.jpg', 'MB1_CAH_img_3_107.jpg', 'MB1_CAH_img_3_106.jpg', 'MB1_CAH_img_3_108.jpg', 'MB1_CAH_img_3_109.jpg', 'MB1_CAH_img_3_110.jpg', 'MB1_CAH_img_3_112.jpg', 'MB1_CAH_img_3_111.jpg', 'MB1_CAH_img_3_113.jpg', 'MB1_CAH_img_3_114.jpg', 'MB1_CAH_img_3_116.jpg', 'MB1_CAH_img_3_115.jpg', 'MB1_CAH_img_3_117.jpg', 'MB1_CAH_img_3_119.jpg', 'MB1_CAH_img_3_118.jpg', 'MB1_CAH_img_7_0.jpg', 'MB1_CAH_img_7_1.jpg', 'MB1_CAH_img_7_3.jpg', 'MB1_CAH_img_7_2.jpg', 'MB1_CAH_img_7_4.jpg', 'MB1_CAH_img_7_5.jpg', 'MB1_CAH_img_7_6.jpg', 'MB1_CAH_img_7_7.jpg', 'MB1_CAH_img_7_8.jpg', 'MB1_CAH_img_7_9.jpg', 'MB1_CAH_img_7_10.jpg', 'MB1_CAH_img_7_11.jpg', 'MB1_CAH_img_7_12.jpg', 'MB1_CAH_img_7_13.jpg', 'MB1_CAH_img_7_14.jpg', 'MB1_CAH_img_7_15.jpg', 'MB1_CAH_img_7_16.jpg', 'MB1_CAH_img_7_17.jpg', 'MB1_CAH_img_7_18.jpg', 'MB1_CAH_img_7_19.jpg', 'MB1_CAH_img_7_20.jpg', 'MB1_CAH_img_7_22.jpg', 'MB1_CAH_img_7_21.jpg', 'MB1_CAH_img_7_23.jpg', 'MB1_CAH_img_7_25.jpg', 'MB1_CAH_img_7_24.jpg', 'MB1_CAH_img_7_26.jpg', 'MB1_CAH_img_7_27.jpg', 'MB1_CAH_img_7_28.jpg', 'MB1_CAH_img_7_29.jpg', 'MB2_CAH_img_3_0.jpg', 'MB2_CAH_img_3_1.jpg', 'MB2_CAH_img_3_4.jpg', 'MB2_CAH_img_3_2.jpg', 'MB2_CAH_img_3_3.jpg', 'MB2_CAH_img_3_8.jpg', 'MB2_CAH_img_3_6.jpg', 'MB2_CAH_img_3_7.jpg', 'MB2_CAH_img_3_5.jpg', 'MB2_CAH_img_3_9.jpg', 'MB2_CAH_img_3_10.jpg', 'MB2_CAH_img_3_11.jpg', 'MB2_CAH_img_3_13.jpg', 'MB2_CAH_img_3_12.jpg', 'MB2_CAH_img_3_14.jpg', 'MB2_CAH_img_3_16.jpg', 'MB2_CAH_img_3_15.jpg', 'MB2_CAH_img_3_17.jpg', 'MB2_CAH_img_3_19.jpg', 'MB2_CAH_img_3_18.jpg', 'MB2_CAH_img_3_20.jpg', 'MB2_CAH_img_3_21.jpg', 'MB2_CAH_img_3_22.jpg', 'MB2_CAH_img_3_23.jpg', 'MB2_CAH_img_3_24.jpg', 'MB2_CAH_img_3_25.jpg', 'MB2_CAH_img_3_26.jpg', 'MB2_CAH_img_3_28.jpg', 'MB2_CAH_img_3_27.jpg', 'MB2_CAH_img_3_29.jpg', 'MB2_CAH_img_3_31.jpg', 'MB2_CAH_img_3_30.jpg', 'MB2_CAH_img_3_33.jpg', 'MB2_CAH_img_3_32.jpg', 'MB2_CAH_img_3_34.jpg', 'MB2_CAH_img_3_35.jpg', 'MB2_CAH_img_3_36.jpg', 'MB2_CAH_img_3_38.jpg', 'MB2_CAH_img_3_37.jpg', 'MB2_CAH_img_3_40.jpg', 'MB2_CAH_img_3_39.jpg', 'MB2_CAH_img_3_41.jpg', 'MB2_CAH_img_3_42.jpg', 'MB2_CAH_img_3_43.jpg', 'MB2_CAH_img_3_44.jpg', 'MB2_CAH_img_3_45.jpg', 'MB2_CAH_img_3_47.jpg', 'MB2_CAH_img_3_46.jpg', 'MB2_CAH_img_3_48.jpg', 'MB2_CAH_img_3_49.jpg', 'MB2_CAH_img_3_50.jpg', 'MB2_CAH_img_3_51.jpg', 'MB2_CAH_img_3_52.jpg', 'MB2_CAH_img_3_53.jpg', 'MB2_CAH_img_3_54.jpg', 'MB2_CAH_img_3_55.jpg', 'MB2_CAH_img_3_56.jpg', 'MB2_CAH_img_3_57.jpg', 'MB2_CAH_img_3_58.jpg', 'MB2_CAH_img_3_59.jpg', 'MB2_CAH_img_3_61.jpg', 'MB2_CAH_img_3_60.jpg', 'MB2_CAH_img_3_62.jpg', 'MB2_CAH_img_3_65.jpg', 'MB2_CAH_img_3_66.jpg', 'MB2_CAH_img_3_64.jpg', 'MB2_CAH_img_3_63.jpg', 'MB2_CAH_img_3_68.jpg', 'MB2_CAH_img_3_67.jpg', 'MB2_CAH_img_3_69.jpg', 'MB2_CAH_img_3_72.jpg', 'MB2_CAH_img_3_71.jpg', 'MB2_CAH_img_3_70.jpg', 'MB2_CAH_img_3_74.jpg', 'MB2_CAH_img_3_75.jpg', 'MB2_CAH_img_3_76.jpg', 'MB2_CAH_img_3_77.jpg', 'MB2_CAH_img_3_78.jpg', 'MB2_CAH_img_3_73.jpg', 'MB2_CAH_img_3_84.jpg', 'MB2_CAH_img_3_81.jpg', 'MB2_CAH_img_3_79.jpg', 'MB2_CAH_img_3_80.jpg', 'MB2_CAH_img_3_85.jpg', 'MB2_CAH_img_3_86.jpg', 'MB2_CAH_img_3_83.jpg', 'MB2_CAH_img_3_88.jpg', 'MB2_CAH_img_3_82.jpg', 'MB2_CAH_img_3_87.jpg', 'MB2_CAH_img_3_90.jpg', 'MB2_CAH_img_3_89.jpg', 'MB2_CAH_img_3_91.jpg', 'MB2_CAH_img_3_94.jpg', 'MB2_CAH_img_3_93.jpg', 'MB2_CAH_img_3_92.jpg', 'MB2_CAH_img_3_97.jpg', 'MB2_CAH_img_3_96.jpg', 'MB2_CAH_img_3_95.jpg', 'MB2_CAH_img_3_98.jpg', 'MB2_CAH_img_3_99.jpg', 'MB2_CAH_img_3_101.jpg', 'MB2_CAH_img_3_100.jpg', 'MB2_CAH_img_3_102.jpg', 'MB2_CAH_img_3_103.jpg', 'MB2_CAH_img_3_104.jpg', 'MB2_CAH_img_3_105.jpg', 'MB2_CAH_img_3_107.jpg', 'MB2_CAH_img_3_106.jpg', 'MB2_CAH_img_3_108.jpg', 'MB2_CAH_img_3_109.jpg', 'MB2_CAH_img_3_110.jpg', 'MB2_CAH_img_3_111.jpg', 'MB2_CAH_img_3_112.jpg', 'MB2_CAH_img_3_113.jpg', 'MB2_CAH_img_3_114.jpg', 'MB2_CAH_img_3_115.jpg', 'MB2_CAH_img_3_119.jpg', 'MB2_CAH_img_3_118.jpg', 'MB2_CAH_img_3_117.jpg', 'MB2_CAH_img_3_116.jpg', 'MB2_CAH_img_7_2.jpg', 'MB2_CAH_img_7_0.jpg', 'MB2_CAH_img_7_1.jpg', 'MB2_CAH_img_7_3.jpg', 'MB2_CAH_img_7_4.jpg', 'MB2_CAH_img_7_5.jpg', 'MB2_CAH_img_7_9.jpg', 'MB2_CAH_img_7_7.jpg', 'MB2_CAH_img_7_8.jpg', 'MB2_CAH_img_7_6.jpg', 'MB2_CAH_img_7_10.jpg', 'MB2_CAH_img_7_11.jpg', 'MB2_CAH_img_7_15.jpg', 'MB2_CAH_img_7_13.jpg', 'MB2_CAH_img_7_14.jpg', 'MB2_CAH_img_7_12.jpg', 'MB2_CAH_img_7_16.jpg', 'MB2_CAH_img_7_19.jpg', 'MB2_CAH_img_7_18.jpg', 'MB2_CAH_img_7_17.jpg', 'MB2_CAH_img_7_21.jpg', 'MB2_CAH_img_7_22.jpg', 'MB2_CAH_img_7_20.jpg', 'MB2_CAH_img_7_24.jpg', 'MB2_CAH_img_7_23.jpg', 'MB2_CAH_img_7_25.jpg', 'MB2_CAH_img_7_26.jpg', 'MB2_CAH_img_7_28.jpg', 'MB2_CAH_img_7_27.jpg', 'MB2_CAH_img_7_29.jpg', 'MT1_CAH_img_3_0.jpg', 'MT1_CAH_img_3_6.jpg', 'MT1_CAH_img_3_1.jpg', 'MT1_CAH_img_3_8.jpg', 'MT1_CAH_img_3_5.jpg', 'MT1_CAH_img_3_10.jpg', 'MT1_CAH_img_3_2.jpg', 'MT1_CAH_img_3_4.jpg', 'MT1_CAH_img_3_3.jpg', 'MT1_CAH_img_3_7.jpg', 'MT1_CAH_img_3_9.jpg', 'MT1_CAH_img_3_11.jpg', 'MT1_CAH_img_3_15.jpg', 'MT1_CAH_img_3_14.jpg', 'MT1_CAH_img_3_13.jpg', 'MT1_CAH_img_3_12.jpg', 'MT1_CAH_img_3_19.jpg', 'MT1_CAH_img_3_16.jpg', 'MT1_CAH_img_3_18.jpg', 'MT1_CAH_img_3_17.jpg', 'MT1_CAH_img_3_20.jpg', 'MT1_CAH_img_3_22.jpg', 'MT1_CAH_img_3_21.jpg', 'MT1_CAH_img_3_24.jpg', 'MT1_CAH_img_3_23.jpg', 'MT1_CAH_img_3_25.jpg', 'MT1_CAH_img_3_26.jpg', 'MT1_CAH_img_3_28.jpg', 'MT1_CAH_img_3_29.jpg', 'MT1_CAH_img_3_27.jpg', 'MT1_CAH_img_3_30.jpg', 'MT1_CAH_img_3_31.jpg', 'MT1_CAH_img_3_33.jpg', 'MT1_CAH_img_3_32.jpg', 'MT1_CAH_img_3_34.jpg', 'MT1_CAH_img_3_35.jpg', 'MT1_CAH_img_3_36.jpg', 'MT1_CAH_img_3_37.jpg', 'MT1_CAH_img_3_38.jpg', 'MT1_CAH_img_3_39.jpg', 'MT1_CAH_img_3_40.jpg', 'MT1_CAH_img_3_41.jpg', 'MT1_CAH_img_3_42.jpg', 'MT1_CAH_img_3_43.jpg', 'MT1_CAH_img_3_44.jpg', 'MT1_CAH_img_3_45.jpg', 'MT1_CAH_img_3_46.jpg', 'MT1_CAH_img_3_47.jpg', 'MT1_CAH_img_3_49.jpg', 'MT1_CAH_img_3_48.jpg', 'MT1_CAH_img_3_50.jpg', 'MT1_CAH_img_3_51.jpg', 'MT1_CAH_img_3_53.jpg', 'MT1_CAH_img_3_52.jpg', 'MT1_CAH_img_3_54.jpg', 'MT1_CAH_img_3_55.jpg', 'MT1_CAH_img_3_57.jpg', 'MT1_CAH_img_3_56.jpg', 'MT1_CAH_img_3_58.jpg', 'MT1_CAH_img_3_60.jpg', 'MT1_CAH_img_3_59.jpg', 'MT1_CAH_img_3_62.jpg', 'MT1_CAH_img_3_61.jpg', 'MT1_CAH_img_3_63.jpg', 'MT1_CAH_img_3_64.jpg', 'MT1_CAH_img_3_65.jpg', 'MT1_CAH_img_3_66.jpg', 'MT1_CAH_img_3_67.jpg', 'MT1_CAH_img_3_68.jpg', 'MT1_CAH_img_3_69.jpg', 'MT1_CAH_img_3_70.jpg', 'MT1_CAH_img_3_71.jpg', 'MT1_CAH_img_3_72.jpg', 'MT1_CAH_img_3_73.jpg', 'MT1_CAH_img_3_74.jpg', 'MT1_CAH_img_3_75.jpg', 'MT1_CAH_img_3_76.jpg', 'MT1_CAH_img_3_77.jpg', 'MT1_CAH_img_3_78.jpg', 'MT1_CAH_img_3_79.jpg', 'MT1_CAH_img_3_80.jpg', 'MT1_CAH_img_3_81.jpg', 'MT1_CAH_img_3_82.jpg', 'MT1_CAH_img_3_85.jpg', 'MT1_CAH_img_3_83.jpg', 'MT1_CAH_img_3_84.jpg', 'MT1_CAH_img_3_86.jpg', 'MT1_CAH_img_3_88.jpg', 'MT1_CAH_img_3_87.jpg', 'MT1_CAH_img_3_90.jpg', 'MT1_CAH_img_3_89.jpg', 'MT1_CAH_img_3_91.jpg', 'MT1_CAH_img_3_92.jpg', 'MT1_CAH_img_3_93.jpg', 'MT1_CAH_img_3_94.jpg', 'MT1_CAH_img_3_95.jpg', 'MT1_CAH_img_3_96.jpg', 'MT1_CAH_img_3_97.jpg', 'MT1_CAH_img_3_98.jpg', 'MT1_CAH_img_3_99.jpg', 'MT1_CAH_img_3_100.jpg', 'MT1_CAH_img_3_101.jpg', 'MT1_CAH_img_3_102.jpg', 'MT1_CAH_img_3_103.jpg', 'MT1_CAH_img_3_104.jpg', 'MT1_CAH_img_3_106.jpg', 'MT1_CAH_img_3_105.jpg', 'MT1_CAH_img_3_107.jpg', 'MT1_CAH_img_3_108.jpg', 'MT1_CAH_img_3_109.jpg', 'MT1_CAH_img_3_110.jpg', 'MT1_CAH_img_3_111.jpg', 'MT1_CAH_img_3_112.jpg', 'MT1_CAH_img_3_114.jpg', 'MT1_CAH_img_3_113.jpg', 'MT1_CAH_img_3_115.jpg', 'MT1_CAH_img_3_116.jpg', 'MT1_CAH_img_3_117.jpg', 'MT1_CAH_img_3_118.jpg', 'MT1_CAH_img_3_119.jpg', 'MT1_CAH_img_7_0.jpg', 'MT1_CAH_img_7_2.jpg', 'MT1_CAH_img_7_1.jpg', 'MT1_CAH_img_7_4.jpg', 'MT1_CAH_img_7_5.jpg', 'MT1_CAH_img_7_3.jpg', 'MT1_CAH_img_7_6.jpg', 'MT1_CAH_img_7_8.jpg', 'MT1_CAH_img_7_7.jpg', 'MT1_CAH_img_7_10.jpg', 'MT1_CAH_img_7_11.jpg', 'MT1_CAH_img_7_9.jpg', 'MT1_CAH_img_7_12.jpg', 'MT1_CAH_img_7_13.jpg', 'MT1_CAH_img_7_14.jpg', 'MT1_CAH_img_7_15.jpg', 'MT1_CAH_img_7_16.jpg', 'MT1_CAH_img_7_17.jpg', 'MT1_CAH_img_7_18.jpg', 'MT1_CAH_img_7_19.jpg', 'MT1_CAH_img_7_20.jpg', 'MT1_CAH_img_7_21.jpg', 'MT1_CAH_img_7_23.jpg', 'MT1_CAH_img_7_22.jpg', 'MT1_CAH_img_7_24.jpg', 'MT1_CAH_img_7_25.jpg', 'MT1_CAH_img_7_26.jpg', 'MT1_CAH_img_7_27.jpg', 'MT1_CAH_img_7_28.jpg', 'MT1_CAH_img_7_29.jpg', 'MT2_CAH_img_3_1.jpg', 'MT2_CAH_img_3_0.jpg', 'MT2_CAH_img_3_4.jpg', 'MT2_CAH_img_3_6.jpg', 'MT2_CAH_img_3_2.jpg', 'MT2_CAH_img_3_3.jpg', 'MT2_CAH_img_3_5.jpg', 'MT2_CAH_img_3_7.jpg', 'MT2_CAH_img_3_8.jpg', 'MT2_CAH_img_3_11.jpg', 'MT2_CAH_img_3_9.jpg', 'MT2_CAH_img_3_12.jpg', 'MT2_CAH_img_3_10.jpg', 'MT2_CAH_img_3_14.jpg', 'MT2_CAH_img_3_13.jpg', 'MT2_CAH_img_3_15.jpg', 'MT2_CAH_img_3_17.jpg', 'MT2_CAH_img_3_16.jpg', 'MT2_CAH_img_3_18.jpg', 'MT2_CAH_img_3_19.jpg', 'MT2_CAH_img_3_21.jpg', 'MT2_CAH_img_3_20.jpg', 'MT2_CAH_img_3_23.jpg', 'MT2_CAH_img_3_22.jpg', 'MT2_CAH_img_3_24.jpg', 'MT2_CAH_img_3_25.jpg', 'MT2_CAH_img_3_26.jpg', 'MT2_CAH_img_3_28.jpg', 'MT2_CAH_img_3_27.jpg', 'MT2_CAH_img_3_30.jpg', 'MT2_CAH_img_3_31.jpg', 'MT2_CAH_img_3_29.jpg', 'MT2_CAH_img_3_34.jpg', 'MT2_CAH_img_3_33.jpg', 'MT2_CAH_img_3_35.jpg', 'MT2_CAH_img_3_32.jpg', 'MT2_CAH_img_3_36.jpg', 'MT2_CAH_img_3_37.jpg', 'MT2_CAH_img_3_38.jpg', 'MT2_CAH_img_3_39.jpg', 'MT2_CAH_img_3_40.jpg', 'MT2_CAH_img_3_41.jpg', 'MT2_CAH_img_3_43.jpg', 'MT2_CAH_img_3_42.jpg', 'MT2_CAH_img_3_44.jpg', 'MT2_CAH_img_3_45.jpg', 'MT2_CAH_img_3_46.jpg', 'MT2_CAH_img_3_47.jpg', 'MT2_CAH_img_3_49.jpg', 'MT2_CAH_img_3_48.jpg', 'MT2_CAH_img_3_50.jpg', 'MT2_CAH_img_3_51.jpg', 'MT2_CAH_img_3_52.jpg', 'MT2_CAH_img_3_53.jpg', 'MT2_CAH_img_3_54.jpg', 'MT2_CAH_img_3_56.jpg', 'MT2_CAH_img_3_55.jpg', 'MT2_CAH_img_3_58.jpg', 'MT2_CAH_img_3_57.jpg', 'MT2_CAH_img_3_59.jpg', 'MT2_CAH_img_3_61.jpg', 'MT2_CAH_img_3_60.jpg', 'MT2_CAH_img_3_62.jpg', 'MT2_CAH_img_3_63.jpg', 'MT2_CAH_img_3_66.jpg', 'MT2_CAH_img_3_65.jpg', 'MT2_CAH_img_3_64.jpg', 'MT2_CAH_img_3_67.jpg', 'MT2_CAH_img_3_68.jpg', 'MT2_CAH_img_3_69.jpg', 'MT2_CAH_img_3_70.jpg', 'MT2_CAH_img_3_71.jpg', 'MT2_CAH_img_3_72.jpg', 'MT2_CAH_img_3_73.jpg', 'MT2_CAH_img_3_74.jpg', 'MT2_CAH_img_3_75.jpg', 'MT2_CAH_img_3_77.jpg', 'MT2_CAH_img_3_76.jpg', 'MT2_CAH_img_3_78.jpg', 'MT2_CAH_img_3_79.jpg', 'MT2_CAH_img_3_84.jpg', 'MT2_CAH_img_3_80.jpg', 'MT2_CAH_img_3_82.jpg', 'MT2_CAH_img_3_83.jpg', 'MT2_CAH_img_3_81.jpg', 'MT2_CAH_img_3_85.jpg', 'MT2_CAH_img_3_89.jpg', 'MT2_CAH_img_3_87.jpg', 'MT2_CAH_img_3_86.jpg', 'MT2_CAH_img_3_88.jpg', 'MT2_CAH_img_3_90.jpg', 'MT2_CAH_img_3_91.jpg', 'MT2_CAH_img_3_92.jpg', 'MT2_CAH_img_3_95.jpg', 'MT2_CAH_img_3_96.jpg', 'MT2_CAH_img_3_94.jpg', 'MT2_CAH_img_3_93.jpg', 'MT2_CAH_img_3_97.jpg', 'MT2_CAH_img_3_98.jpg', 'MT2_CAH_img_3_99.jpg', 'MT2_CAH_img_3_100.jpg', 'MT2_CAH_img_3_101.jpg', 'MT2_CAH_img_3_102.jpg', 'MT2_CAH_img_3_103.jpg', 'MT2_CAH_img_3_104.jpg', 'MT2_CAH_img_3_106.jpg', 'MT2_CAH_img_3_105.jpg', 'MT2_CAH_img_3_108.jpg', 'MT2_CAH_img_3_107.jpg', 'MT2_CAH_img_3_109.jpg', 'MT2_CAH_img_3_110.jpg', 'MT2_CAH_img_3_111.jpg', 'MT2_CAH_img_3_112.jpg', 'MT2_CAH_img_3_113.jpg', 'MT2_CAH_img_3_115.jpg', 'MT2_CAH_img_3_114.jpg', 'MT2_CAH_img_3_116.jpg', 'MT2_CAH_img_3_117.jpg', 'MT2_CAH_img_3_118.jpg', 'MT2_CAH_img_3_119.jpg', 'TL_CAH_img_3_2.jpg', 'TL_CAH_img_3_4.jpg', 'TL_CAH_img_3_0.jpg', 'TL_CAH_img_3_5.jpg', 'TL_CAH_img_3_3.jpg', 'TL_CAH_img_3_1.jpg', 'TL_CAH_img_3_10.jpg', 'TL_CAH_img_3_6.jpg', 'TL_CAH_img_3_8.jpg', 'TL_CAH_img_3_9.jpg', 'TL_CAH_img_3_7.jpg', 'TL_CAH_img_3_12.jpg', 'TL_CAH_img_3_14.jpg', 'TL_CAH_img_3_11.jpg', 'TL_CAH_img_3_13.jpg', 'TL_CAH_img_3_16.jpg', 'TL_CAH_img_3_15.jpg', 'TL_CAH_img_3_18.jpg', 'TL_CAH_img_3_17.jpg', 'TL_CAH_img_3_19.jpg', 'TL_CAH_img_3_20.jpg', 'TL_CAH_img_3_22.jpg', 'TL_CAH_img_3_21.jpg', 'TL_CAH_img_3_23.jpg', 'TL_CAH_img_3_25.jpg', 'TL_CAH_img_3_24.jpg', 'TL_CAH_img_3_26.jpg', 'TL_CAH_img_3_27.jpg', 'TL_CAH_img_3_28.jpg', 'TL_CAH_img_3_29.jpg', 'TL_CAH_img_3_30.jpg', 'TL_CAH_img_3_31.jpg', 'TL_CAH_img_3_32.jpg', 'TL_CAH_img_3_33.jpg', 'TL_CAH_img_3_34.jpg', 'TL_CAH_img_3_35.jpg', 'TL_CAH_img_3_36.jpg', 'TL_CAH_img_3_37.jpg', 'TL_CAH_img_3_38.jpg', 'TL_CAH_img_3_39.jpg', 'TL_CAH_img_3_40.jpg', 'TL_CAH_img_3_41.jpg', 'TL_CAH_img_3_42.jpg', 'TL_CAH_img_3_43.jpg', 'TL_CAH_img_3_44.jpg', 'TL_CAH_img_3_45.jpg', 'TL_CAH_img_3_46.jpg', 'TL_CAH_img_3_48.jpg', 'TL_CAH_img_3_47.jpg', 'TL_CAH_img_3_49.jpg', 'TL_CAH_img_3_50.jpg', 'TL_CAH_img_3_51.jpg', 'TL_CAH_img_3_52.jpg', 'TL_CAH_img_3_54.jpg', 'TL_CAH_img_3_53.jpg', 'TL_CAH_img_3_55.jpg', 'TL_CAH_img_3_56.jpg', 'TL_CAH_img_3_57.jpg', 'TL_CAH_img_3_58.jpg', 'TL_CAH_img_3_59.jpg', 'TL_CAH_img_3_60.jpg', 'TL_CAH_img_3_61.jpg', 'TL_CAH_img_3_62.jpg', 'TL_CAH_img_3_63.jpg', 'TL_CAH_img_3_64.jpg', 'TL_CAH_img_3_65.jpg', 'TL_CAH_img_3_66.jpg', 'TL_CAH_img_3_67.jpg', 'TL_CAH_img_3_68.jpg', 'TL_CAH_img_3_71.jpg', 'TL_CAH_img_3_69.jpg', 'TL_CAH_img_3_70.jpg', 'TL_CAH_img_3_72.jpg', 'TL_CAH_img_3_73.jpg', 'TL_CAH_img_3_74.jpg', 'TL_CAH_img_3_76.jpg', 'TL_CAH_img_3_77.jpg', 'TL_CAH_img_3_78.jpg', 'TL_CAH_img_3_75.jpg', 'TL_CAH_img_3_80.jpg', 'TL_CAH_img_3_79.jpg', 'TL_CAH_img_3_81.jpg', 'TL_CAH_img_3_83.jpg', 'TL_CAH_img_3_82.jpg', 'TL_CAH_img_3_84.jpg', 'TL_CAH_img_3_85.jpg', 'TL_CAH_img_3_86.jpg', 'TL_CAH_img_3_87.jpg', 'TL_CAH_img_3_88.jpg', 'TL_CAH_img_3_89.jpg', 'TL_CAH_img_3_90.jpg', 'TL_CAH_img_3_91.jpg', 'TL_CAH_img_3_92.jpg', 'TL_CAH_img_3_94.jpg', 'TL_CAH_img_3_93.jpg', 'TL_CAH_img_3_95.jpg', 'TL_CAH_img_3_96.jpg', 'TL_CAH_img_3_99.jpg', 'TL_CAH_img_3_97.jpg', 'TL_CAH_img_3_98.jpg', 'TL_CAH_img_3_100.jpg', 'TL_CAH_img_3_102.jpg', 'TL_CAH_img_3_103.jpg', 'TL_CAH_img_3_101.jpg', 'TL_CAH_img_3_104.jpg', 'TL_CAH_img_3_105.jpg', 'TL_CAH_img_3_107.jpg', 'TL_CAH_img_3_106.jpg', 'TL_CAH_img_3_109.jpg', 'TL_CAH_img_3_108.jpg', 'TL_CAH_img_3_110.jpg', 'TL_CAH_img_3_111.jpg', 'TL_CAH_img_3_112.jpg', 'TL_CAH_img_3_113.jpg', 'TL_CAH_img_3_114.jpg', 'TL_CAH_img_3_115.jpg', 'TL_CAH_img_3_116.jpg', 'TL_CAH_img_3_119.jpg', 'TL_CAH_img_3_118.jpg', 'TL_CAH_img_3_117.jpg', 'TL_CAH_img_7_0.jpg', 'TL_CAH_img_7_1.jpg', 'TL_CAH_img_7_3.jpg', 'TL_CAH_img_7_2.jpg', 'TL_CAH_img_7_4.jpg', 'TL_CAH_img_7_6.jpg', 'TL_CAH_img_7_5.jpg', 'TL_CAH_img_7_7.jpg', 'TL_CAH_img_7_8.jpg', 'TL_CAH_img_7_9.jpg', 'TL_CAH_img_7_10.jpg', 'TL_CAH_img_7_11.jpg', 'TL_CAH_img_7_12.jpg', 'TL_CAH_img_7_14.jpg', 'TL_CAH_img_7_13.jpg', 'TL_CAH_img_7_15.jpg', 'TL_CAH_img_7_16.jpg', 'TL_CAH_img_7_18.jpg', 'TL_CAH_img_7_17.jpg', 'TL_CAH_img_7_19.jpg', 'TL_CAH_img_7_20.jpg', 'TL_CAH_img_7_21.jpg', 'TL_CAH_img_7_22.jpg', 'TL_CAH_img_7_23.jpg', 'TL_CAH_img_7_24.jpg', 'TL_CAH_img_7_25.jpg', 'TL_CAH_img_7_26.jpg', 'TL_CAH_img_7_27.jpg', 'TL_CAH_img_7_28.jpg', 'TL_CAH_img_7_29.jpg', 'TR_CAH_img_3_0.jpg', 'TR_CAH_img_3_8.jpg', 'TR_CAH_img_3_4.jpg', 'TR_CAH_img_3_3.jpg', 'TR_CAH_img_3_5.jpg', 'TR_CAH_img_3_2.jpg', 'TR_CAH_img_3_6.jpg', 'TR_CAH_img_3_7.jpg', 'TR_CAH_img_3_1.jpg', 'TR_CAH_img_3_9.jpg', 'TR_CAH_img_3_10.jpg', 'TR_CAH_img_3_11.jpg', 'TR_CAH_img_3_12.jpg', 'TR_CAH_img_3_13.jpg', 'TR_CAH_img_3_15.jpg', 'TR_CAH_img_3_14.jpg', 'TR_CAH_img_3_16.jpg', 'TR_CAH_img_3_17.jpg', 'TR_CAH_img_3_18.jpg', 'TR_CAH_img_3_19.jpg', 'TR_CAH_img_3_21.jpg', 'TR_CAH_img_3_20.jpg', 'TR_CAH_img_3_22.jpg', 'TR_CAH_img_3_23.jpg', 'TR_CAH_img_3_24.jpg', 'TR_CAH_img_3_25.jpg', 'TR_CAH_img_3_26.jpg', 'TR_CAH_img_3_27.jpg', 'TR_CAH_img_3_30.jpg', 'TR_CAH_img_3_28.jpg', 'TR_CAH_img_3_31.jpg', 'TR_CAH_img_3_29.jpg', 'TR_CAH_img_3_32.jpg', 'TR_CAH_img_3_33.jpg', 'TR_CAH_img_3_35.jpg', 'TR_CAH_img_3_34.jpg', 'TR_CAH_img_3_37.jpg', 'TR_CAH_img_3_36.jpg', 'TR_CAH_img_3_38.jpg', 'TR_CAH_img_3_39.jpg', 'TR_CAH_img_3_40.jpg', 'TR_CAH_img_3_41.jpg', 'TR_CAH_img_3_42.jpg', 'TR_CAH_img_3_43.jpg', 'TR_CAH_img_3_45.jpg', 'TR_CAH_img_3_44.jpg', 'TR_CAH_img_3_46.jpg', 'TR_CAH_img_3_48.jpg', 'TR_CAH_img_3_47.jpg', 'TR_CAH_img_3_49.jpg', 'TR_CAH_img_3_50.jpg', 'TR_CAH_img_3_52.jpg', 'TR_CAH_img_3_51.jpg', 'TR_CAH_img_3_53.jpg', 'TR_CAH_img_3_55.jpg', 'TR_CAH_img_3_56.jpg', 'TR_CAH_img_3_54.jpg', 'TR_CAH_img_3_57.jpg', 'TR_CAH_img_3_58.jpg', 'TR_CAH_img_3_59.jpg', 'TR_CAH_img_3_60.jpg', 'TR_CAH_img_3_61.jpg', 'TR_CAH_img_3_62.jpg', 'TR_CAH_img_3_64.jpg', 'TR_CAH_img_3_63.jpg', 'TR_CAH_img_3_65.jpg', 'TR_CAH_img_3_66.jpg', 'TR_CAH_img_3_67.jpg', 'TR_CAH_img_3_68.jpg', 'TR_CAH_img_3_70.jpg', 'TR_CAH_img_3_69.jpg', 'TR_CAH_img_3_71.jpg', 'TR_CAH_img_3_72.jpg', 'TR_CAH_img_3_73.jpg', 'TR_CAH_img_3_74.jpg', 'TR_CAH_img_3_76.jpg', 'TR_CAH_img_3_75.jpg', 'TR_CAH_img_3_77.jpg', 'TR_CAH_img_3_79.jpg', 'TR_CAH_img_3_78.jpg', 'TR_CAH_img_3_80.jpg', 'TR_CAH_img_3_81.jpg', 'TR_CAH_img_3_82.jpg', 'TR_CAH_img_3_83.jpg', 'TR_CAH_img_3_84.jpg', 'TR_CAH_img_3_85.jpg', 'TR_CAH_img_3_86.jpg', 'TR_CAH_img_3_87.jpg', 'TR_CAH_img_3_88.jpg', 'TR_CAH_img_3_89.jpg', 'TR_CAH_img_3_90.jpg', 'TR_CAH_img_3_91.jpg', 'TR_CAH_img_3_92.jpg', 'TR_CAH_img_3_93.jpg', 'TR_CAH_img_3_94.jpg', 'TR_CAH_img_3_95.jpg', 'TR_CAH_img_3_97.jpg', 'TR_CAH_img_3_96.jpg', 'TR_CAH_img_3_99.jpg', 'TR_CAH_img_3_98.jpg', 'TR_CAH_img_3_100.jpg', 'TR_CAH_img_3_102.jpg', 'TR_CAH_img_3_103.jpg', 'TR_CAH_img_3_101.jpg', 'TR_CAH_img_3_104.jpg', 'TR_CAH_img_3_105.jpg', 'TR_CAH_img_3_106.jpg', 'TR_CAH_img_3_107.jpg', 'TR_CAH_img_3_108.jpg', 'TR_CAH_img_3_111.jpg', 'TR_CAH_img_3_110.jpg', 'TR_CAH_img_3_109.jpg', 'TR_CAH_img_3_112.jpg', 'TR_CAH_img_3_113.jpg', 'TR_CAH_img_3_114.jpg', 'TR_CAH_img_3_116.jpg', 'TR_CAH_img_3_115.jpg', 'TR_CAH_img_3_117.jpg', 'TR_CAH_img_3_118.jpg', 'TR_CAH_img_3_119.jpg', 'TR_CAH_img_3_122.jpg', 'TR_CAH_img_3_123.jpg', 'TR_CAH_img_3_124.jpg', 'TR_CAH_img_3_125.jpg', 'TR_CAH_img_3_126.jpg', 'TR_CAH_img_3_127.jpg', 'TR_CAH_img_3_128.jpg', 'TR_CAH_img_3_129.jpg', 'TR_CAH_img_3_130.jpg', 'TR_CAH_img_3_131.jpg', 'TR_CAH_img_3_132.jpg', 'TR_CAH_img_3_133.jpg', 'TR_CAH_img_3_134.jpg', 'TR_CAH_img_3_135.jpg', 'TR_CAH_img_3_136.jpg', 'TR_CAH_img_3_137.jpg', 'TR_CAH_img_3_138.jpg', 'TR_CAH_img_3_139.jpg', 'TR_CAH_img_3_140.jpg', 'TR_CAH_img_3_141.jpg', 'TR_CAH_img_3_142.jpg', 'TR_CAH_img_3_143.jpg', 'TR_CAH_img_3_144.jpg', 'TR_CAH_img_3_145.jpg', 'TR_CAH_img_3_146.jpg', 'TR_CAH_img_3_147.jpg', 'TR_CAH_img_3_148.jpg', 'TR_CAH_img_3_149.jpg', 'TR_CAH_img_3_150.jpg', 'TR_CAH_img_3_151.jpg', 'TR_CAH_img_3_152.jpg', 'TR_CAH_img_3_153.jpg', 'TR_CAH_img_3_154.jpg', 'TR_CAH_img_3_155.jpg', 'TR_CAH_img_3_156.jpg', 'TR_CAH_img_3_157.jpg', 'TR_CAH_img_3_158.jpg', 'TR_CAH_img_3_159.jpg', 'TR_CAH_img_3_160.jpg', 'TR_CAH_img_3_161.jpg', 'TR_CAH_img_3_162.jpg', 'TR_CAH_img_3_163.jpg', 'TR_CAH_img_3_164.jpg', 'TR_CAH_img_3_165.jpg', 'TR_CAH_img_3_166.jpg', 'TR_CAH_img_3_167.jpg', 'TR_CAH_img_3_168.jpg', 'TR_CAH_img_3_169.jpg', 'TR_CAH_img_3_170.jpg', 'TR_CAH_img_3_171.jpg', 'TR_CAH_img_3_172.jpg', 'TR_CAH_img_3_173.jpg', 'TR_CAH_img_3_174.jpg', 'TR_CAH_img_3_175.jpg', 'TR_CAH_img_3_176.jpg', 'TR_CAH_img_3_177.jpg', 'TR_CAH_img_3_178.jpg', 'TR_CAH_img_3_179.jpg', 'TR_CAH_img_3_180.jpg', 'TR_CAH_img_3_181.jpg', 'TR_CAH_img_3_182.jpg', 'TR_CAH_img_3_183.jpg', 'TR_CAH_img_3_184.jpg', 'TR_CAH_img_3_185.jpg', 'TR_CAH_img_3_186.jpg', 'TR_CAH_img_3_187.jpg', 'TR_CAH_img_3_188.jpg', 'TR_CAH_img_3_189.jpg', 'TR_CAH_img_3_190.jpg', 'TR_CAH_img_3_191.jpg', 'TR_CAH_img_3_192.jpg', 'TR_CAH_img_3_193.jpg', 'TR_CAH_img_3_194.jpg', 'TR_CAH_img_3_195.jpg', 'TR_CAH_img_3_196.jpg', 'TR_CAH_img_3_197.jpg', 'TR_CAH_img_3_198.jpg', 'TR_CAH_img_3_199.jpg', 'TR_CAH_img_3_200.jpg', 'TR_CAH_img_3_201.jpg', 'TR_CAH_img_3_202.jpg', 'TR_CAH_img_3_203.jpg', 'TR_CAH_img_3_204.jpg', 'TR_CAH_img_3_205.jpg', 'TR_CAH_img_3_206.jpg', 'TR_CAH_img_3_207.jpg', 'TR_CAH_img_3_208.jpg', 'TR_CAH_img_3_209.jpg', 'TR_CAH_img_3_210.jpg', 'TR_CAH_img_3_211.jpg', 'TR_CAH_img_3_212.jpg', 'TR_CAH_img_3_213.jpg', 'TR_CAH_img_3_214.jpg', 'TR_CAH_img_3_215.jpg', 'TR_CAH_img_3_216.jpg', 'TR_CAH_img_3_217.jpg', 'TR_CAH_img_3_218.jpg', 'TR_CAH_img_3_219.jpg', 'TR_CAH_img_3_220.jpg', 'TR_CAH_img_3_221.jpg', 'TR_CAH_img_3_222.jpg', 'TR_CAH_img_3_223.jpg', 'TR_CAH_img_3_224.jpg', 'TR_CAH_img_3_225.jpg', 'TR_CAH_img_3_226.jpg', 'TR_CAH_img_3_227.jpg', 'TR_CAH_img_3_228.jpg', 'TR_CAH_img_3_229.jpg', 'TR_CAH_img_3_230.jpg', 'TR_CAH_img_3_231.jpg', 'TR_CAH_img_3_232.jpg', 'TR_CAH_img_3_233.jpg', 'TR_CAH_img_3_234.jpg', 'TR_CAH_img_3_235.jpg', 'TR_CAH_img_3_236.jpg', 'TR_CAH_img_3_237.jpg', 'TR_CAH_img_3_238.jpg', 'TR_CAH_img_3_239.jpg', 'TR_CAH_img_3_240.jpg', 'TR_CAH_img_3_241.jpg', 'TR_CAH_img_3_242.jpg', 'TR_CAH_img_3_243.jpg', 'TR_CAH_img_3_244.jpg', 'TR_CAH_img_3_245.jpg', 'TR_CAH_img_3_246.jpg', 'TR_CAH_img_3_247.jpg', 'TR_CAH_img_3_248.jpg', 'TR_CAH_img_3_249.jpg', 'TR_CAH_img_3_250.jpg', 'TR_CAH_img_3_251.jpg', 'TR_CAH_img_3_252.jpg', 'TR_CAH_img_3_253.jpg', 'TR_CAH_img_3_254.jpg', 'TR_CAH_img_3_255.jpg', 'TR_CAH_img_3_256.jpg', 'TR_CAH_img_3_257.jpg', 'TR_CAH_img_3_258.jpg', 'TR_CAH_img_3_259.jpg', 'TR_CAH_img_3_260.jpg', 'TR_CAH_img_3_261.jpg', 'TR_CAH_img_3_262.jpg', 'TR_CAH_img_3_263.jpg', 'TR_CAH_img_3_264.jpg', 'TR_CAH_img_3_265.jpg', 'TR_CAH_img_3_266.jpg', 'TR_CAH_img_3_267.jpg', 'TR_CAH_img_3_268.jpg', 'TR_CAH_img_3_269.jpg', 'TR_CAH_img_3_270.jpg', 'TR_CAH_img_3_271.jpg', 'TR_CAH_img_3_272.jpg', 'TR_CAH_img_3_273.jpg', 'TR_CAH_img_3_274.jpg', 'TR_CAH_img_3_275.jpg', 'TR_CAH_img_3_276.jpg', 'TR_CAH_img_3_277.jpg', 'TR_CAH_img_3_278.jpg', 'TR_CAH_img_3_279.jpg', 'TR_CAH_img_3_280.jpg', 'TR_CAH_img_3_281.jpg', 'TR_CAH_img_3_282.jpg', 'TR_CAH_img_3_283.jpg', 'TR_CAH_img_3_284.jpg', 'TR_CAH_img_3_285.jpg', 'TR_CAH_img_3_286.jpg', 'TR_CAH_img_3_287.jpg', 'TR_CAH_img_3_288.jpg', 'TR_CAH_img_3_289.jpg', 'TR_CAH_img_3_290.jpg', 'TR_CAH_img_3_291.jpg', 'TR_CAH_img_3_292.jpg', 'TR_CAH_img_3_293.jpg', 'TR_CAH_img_3_294.jpg', 'TR_CAH_img_3_295.jpg', 'TR_CAH_img_3_296.jpg', 'TR_CAH_img_3_297.jpg', 'TR_CAH_img_3_298.jpg', 'TR_CAH_img_3_299.jpg', 'TR_CAH_img_3_300.jpg', 'TR_CAH_img_3_301.jpg', 'TR_CAH_img_3_302.jpg', 'TR_CAH_img_3_303.jpg', 'TR_CAH_img_3_304.jpg', 'TR_CAH_img_3_305.jpg', 'TR_CAH_img_3_306.jpg', 'TR_CAH_img_3_307.jpg', 'TR_CAH_img_3_308.jpg', 'TR_CAH_img_3_309.jpg', 'TR_CAH_img_3_310.jpg', 'TR_CAH_img_3_311.jpg', 'TR_CAH_img_3_312.jpg', 'TR_CAH_img_3_313.jpg', 'TR_CAH_img_3_314.jpg', 'TR_CAH_img_3_315.jpg', 'TR_CAH_img_3_316.jpg', 'TR_CAH_img_3_317.jpg', 'TR_CAH_img_3_318.jpg', 'TR_CAH_img_3_319.jpg', 'TR_CAH_img_3_320.jpg', 'TR_CAH_img_3_321.jpg', 'TR_CAH_img_3_322.jpg', 'TR_CAH_img_3_323.jpg', 'TR_CAH_img_3_324.jpg', 'TR_CAH_img_3_325.jpg', 'TR_CAH_img_3_326.jpg', 'TR_CAH_img_3_327.jpg', 'TR_CAH_img_3_328.jpg', 'TR_CAH_img_3_329.jpg', 'TR_CAH_img_3_330.jpg', 'TR_CAH_img_3_331.jpg', 'TR_CAH_img_3_332.jpg', 'TR_CAH_img_3_333.jpg', 'TR_CAH_img_3_334.jpg', 'TR_CAH_img_3_335.jpg', 'TR_CAH_img_3_336.jpg', 'TR_CAH_img_3_337.jpg', 'TR_CAH_img_3_338.jpg', 'TR_CAH_img_3_339.jpg', 'TR_CAH_img_3_340.jpg', 'TR_CAH_img_3_341.jpg', 'TR_CAH_img_3_342.jpg', 'TR_CAH_img_3_343.jpg', 'TR_CAH_img_3_344.jpg', 'TR_CAH_img_3_345.jpg', 'TR_CAH_img_3_346.jpg', 'TR_CAH_img_3_347.jpg', 'TR_CAH_img_3_348.jpg', 'TR_CAH_img_3_349.jpg', 'TR_CAH_img_3_350.jpg', 'TR_CAH_img_3_351.jpg', 'TR_CAH_img_3_352.jpg', 'TR_CAH_img_3_353.jpg', 'TR_CAH_img_3_354.jpg', 'TR_CAH_img_3_355.jpg', 'TR_CAH_img_3_356.jpg', 'TR_CAH_img_3_357.jpg', 'TR_CAH_img_3_358.jpg', 'TR_CAH_img_3_359.jpg', 'TR_CAH_img_3_360.jpg', 'TR_CAH_img_3_361.jpg', 'TR_CAH_img_3_362.jpg', 'TR_CAH_img_3_363.jpg', 'TR_CAH_img_3_364.jpg', 'TR_CAH_img_3_365.jpg', 'TR_CAH_img_3_366.jpg', 'TR_CAH_img_3_367.jpg', 'TR_CAH_img_3_368.jpg', 'TR_CAH_img_3_369.jpg', 'TR_CAH_img_3_370.jpg', 'TR_CAH_img_3_371.jpg', 'TR_CAH_img_3_372.jpg', 'TR_CAH_img_3_373.jpg', 'TR_CAH_img_3_374.jpg', 'TR_CAH_img_3_375.jpg', 'TR_CAH_img_3_376.jpg', 'TR_CAH_img_3_377.jpg', 'TR_CAH_img_3_378.jpg', 'TR_CAH_img_3_379.jpg', 'TR_CAH_img_3_380.jpg', 'TR_CAH_img_3_381.jpg', 'TR_CAH_img_3_382.jpg', 'TR_CAH_img_3_383.jpg', 'TR_CAH_img_3_384.jpg', 'TR_CAH_img_3_385.jpg', 'TR_CAH_img_3_386.jpg', 'TR_CAH_img_3_387.jpg', 'TR_CAH_img_3_388.jpg', 'TR_CAH_img_3_389.jpg', 'TR_CAH_img_3_390.jpg', 'TR_CAH_img_3_391.jpg', 'TR_CAH_img_3_392.jpg', 'TR_CAH_img_3_393.jpg', 'TR_CAH_img_3_394.jpg', 'TR_CAH_img_3_395.jpg', 'TR_CAH_img_3_396.jpg', 'TR_CAH_img_3_397.jpg', 'TR_CAH_img_3_398.jpg', 'TR_CAH_img_3_399.jpg', 'TR_CAH_img_3_400.jpg', 'TR_CAH_img_3_401.jpg', 'TR_CAH_img_3_402.jpg', 'TR_CAH_img_3_403.jpg', 'TR_CAH_img_3_404.jpg', 'TR_CAH_img_3_405.jpg', 'MT2_CAH_img_7_5.jpg', 'MT2_CAH_img_7_1.jpg', 'MT2_CAH_img_7_0.jpg', 'MT2_CAH_img_7_2.jpg', 'MT2_CAH_img_7_3.jpg', 'MT2_CAH_img_7_4.jpg', 'MT2_CAH_img_7_8.jpg', 'MT2_CAH_img_7_10.jpg', 'MT2_CAH_img_7_7.jpg', 'MT2_CAH_img_7_6.jpg', 'MT2_CAH_img_7_14.jpg', 'MT2_CAH_img_7_13.jpg', 'MT2_CAH_img_7_11.jpg', 'MT2_CAH_img_7_12.jpg', 'MT2_CAH_img_7_15.jpg', 'MT2_CAH_img_7_17.jpg', 'MT2_CAH_img_7_18.jpg', 'MT2_CAH_img_7_9.jpg', 'MT2_CAH_img_7_16.jpg', 'MT2_CAH_img_7_19.jpg', 'MT2_CAH_img_7_20.jpg', 'MT2_CAH_img_7_22.jpg', 'MT2_CAH_img_7_21.jpg', 'MT2_CAH_img_7_24.jpg', 'MT2_CAH_img_7_23.jpg', 'MT2_CAH_img_7_25.jpg', 'MT2_CAH_img_7_26.jpg', 'MT2_CAH_img_7_27.jpg', 'MT2_CAH_img_7_28.jpg', 'MT2_CAH_img_7_29.jpg', 'BL_CAH_img_7_0.jpg', 'BL_CAH_img_7_1.jpg', 'BL_CAH_img_7_2.jpg', 'BL_CAH_img_7_3.jpg', 'BL_CAH_img_7_4.jpg', 'BL_CAH_img_7_5.jpg', 'BL_CAH_img_7_6.jpg', 'BL_CAH_img_7_8.jpg', 'BL_CAH_img_7_7.jpg', 'BL_CAH_img_7_10.jpg', 'BL_CAH_img_7_9.jpg', 'BL_CAH_img_7_11.jpg', 'BL_CAH_img_7_13.jpg', 'BL_CAH_img_7_12.jpg', 'BL_CAH_img_7_15.jpg', 'BL_CAH_img_7_14.jpg', 'BL_CAH_img_7_16.jpg', 'BL_CAH_img_7_17.jpg', 'BL_CAH_img_7_18.jpg', 'BL_CAH_img_7_20.jpg', 'BL_CAH_img_7_19.jpg', 'BL_CAH_img_7_21.jpg', 'BL_CAH_img_7_23.jpg', 'BL_CAH_img_7_22.jpg', 'BL_CAH_img_7_24.jpg', 'BL_CAH_img_7_25.jpg', 'BL_CAH_img_7_26.jpg', 'BL_CAH_img_7_27.jpg', 'BL_CAH_img_7_28.jpg', 'BL_CAH_img_7_29.jpg', 'TR_CAH_img_7_0.jpg', 'TR_CAH_img_7_1.jpg', 'TR_CAH_img_7_2.jpg', 'TR_CAH_img_7_3.jpg', 'TR_CAH_img_7_5.jpg', 'TR_CAH_img_7_4.jpg', 'TR_CAH_img_7_7.jpg', 'TR_CAH_img_7_6.jpg', 'TR_CAH_img_7_8.jpg', 'TR_CAH_img_7_10.jpg', 'TR_CAH_img_7_9.jpg', 'TR_CAH_img_7_11.jpg', 'TR_CAH_img_7_13.jpg', 'TR_CAH_img_7_12.jpg', 'TR_CAH_img_7_14.jpg', 'TR_CAH_img_7_15.jpg', 'TR_CAH_img_7_17.jpg', 'TR_CAH_img_7_16.jpg', 'TR_CAH_img_7_18.jpg', 'TR_CAH_img_7_19.jpg', 'TR_CAH_img_7_20.jpg', 'TR_CAH_img_7_21.jpg', 'TR_CAH_img_7_22.jpg', 'TR_CAH_img_7_23.jpg', 'TR_CAH_img_7_24.jpg', 'TR_CAH_img_7_25.jpg', 'TR_CAH_img_7_26.jpg', 'TR_CAH_img_7_27.jpg', 'TR_CAH_img_7_28.jpg', 'TR_CAH_img_7_29.jpg', 'BL_CAH_img_3_0.jpg', 'BL_CAH_img_3_1.jpg', 'BL_CAH_img_3_9.jpg', 'BL_CAH_img_3_5.jpg', 'BL_CAH_img_3_8.jpg', 'BL_CAH_img_3_3.jpg', 'BL_CAH_img_3_6.jpg', 'BL_CAH_img_3_4.jpg', 'BL_CAH_img_3_7.jpg', 'BL_CAH_img_3_2.jpg', 'BL_CAH_img_3_10.jpg', 'BL_CAH_img_3_11.jpg', 'BL_CAH_img_3_12.jpg', 'BL_CAH_img_3_13.jpg', 'BL_CAH_img_3_17.jpg', 'BL_CAH_img_3_19.jpg', 'BL_CAH_img_3_18.jpg', 'BL_CAH_img_3_14.jpg', 'BL_CAH_img_3_16.jpg', 'BL_CAH_img_3_15.jpg', 'BL_CAH_img_3_20.jpg', 'BL_CAH_img_3_21.jpg', 'BL_CAH_img_3_22.jpg', 'BL_CAH_img_3_23.jpg', 'BL_CAH_img_3_24.jpg', 'BL_CAH_img_3_26.jpg', 'BL_CAH_img_3_25.jpg', 'BL_CAH_img_3_29.jpg', 'BL_CAH_img_3_28.jpg', 'BL_CAH_img_3_30.jpg', 'BL_CAH_img_3_27.jpg', 'BL_CAH_img_3_31.jpg', 'BL_CAH_img_3_32.jpg', 'BL_CAH_img_3_34.jpg', 'BL_CAH_img_3_33.jpg', 'BL_CAH_img_3_37.jpg', 'BL_CAH_img_3_36.jpg', 'BL_CAH_img_3_38.jpg', 'BL_CAH_img_3_35.jpg', 'BL_CAH_img_3_40.jpg', 'BL_CAH_img_3_41.jpg', 'BL_CAH_img_3_39.jpg', 'BL_CAH_img_3_42.jpg', 'BL_CAH_img_3_43.jpg', 'BL_CAH_img_3_44.jpg', 'BL_CAH_img_3_47.jpg', 'BL_CAH_img_3_45.jpg', 'BL_CAH_img_3_46.jpg', 'BL_CAH_img_3_48.jpg', 'BL_CAH_img_3_49.jpg', 'BL_CAH_img_3_51.jpg', 'BL_CAH_img_3_50.jpg', 'BL_CAH_img_3_52.jpg', 'BL_CAH_img_3_53.jpg', 'BL_CAH_img_3_54.jpg', 'BL_CAH_img_3_55.jpg', 'BL_CAH_img_3_56.jpg', 'BL_CAH_img_3_57.jpg', 'BL_CAH_img_3_59.jpg', 'BL_CAH_img_3_58.jpg', 'BL_CAH_img_3_60.jpg', 'BL_CAH_img_3_61.jpg', 'BL_CAH_img_3_62.jpg', 'BL_CAH_img_3_63.jpg', 'BL_CAH_img_3_64.jpg', 'BL_CAH_img_3_65.jpg', 'BL_CAH_img_3_67.jpg', 'BL_CAH_img_3_66.jpg', 'BL_CAH_img_3_69.jpg', 'BL_CAH_img_3_70.jpg', 'BL_CAH_img_3_71.jpg', 'BL_CAH_img_3_72.jpg', 'BL_CAH_img_3_68.jpg', 'BL_CAH_img_3_73.jpg', 'BL_CAH_img_3_74.jpg', 'BL_CAH_img_3_76.jpg', 'BL_CAH_img_3_75.jpg', 'BL_CAH_img_3_77.jpg', 'BL_CAH_img_3_79.jpg', 'BL_CAH_img_3_81.jpg', 'BL_CAH_img_3_80.jpg', 'BL_CAH_img_3_82.jpg', 'BL_CAH_img_3_83.jpg', 'BL_CAH_img_3_84.jpg', 'BL_CAH_img_3_85.jpg', 'BL_CAH_img_3_87.jpg', 'BL_CAH_img_3_89.jpg', 'BL_CAH_img_3_88.jpg', 'BL_CAH_img_3_86.jpg', 'BL_CAH_img_3_78.jpg', 'BL_CAH_img_3_90.jpg', 'BL_CAH_img_3_91.jpg', 'BL_CAH_img_3_93.jpg', 'BL_CAH_img_3_92.jpg', 'BL_CAH_img_3_94.jpg', 'BL_CAH_img_3_95.jpg', 'BL_CAH_img_3_96.jpg', 'BL_CAH_img_3_97.jpg', 'BL_CAH_img_3_99.jpg', 'BL_CAH_img_3_98.jpg', 'BL_CAH_img_3_100.jpg', 'BL_CAH_img_3_101.jpg', 'BL_CAH_img_3_102.jpg', 'BL_CAH_img_3_103.jpg', 'BL_CAH_img_3_104.jpg', 'BL_CAH_img_3_105.jpg', 'BL_CAH_img_3_106.jpg', 'BL_CAH_img_3_107.jpg', 'BL_CAH_img_3_108.jpg', 'BL_CAH_img_3_109.jpg', 'BL_CAH_img_3_110.jpg', 'BL_CAH_img_3_111.jpg', 'BL_CAH_img_3_112.jpg', 'BL_CAH_img_3_113.jpg', 'BL_CAH_img_3_115.jpg', 'BL_CAH_img_3_114.jpg', 'BL_CAH_img_3_116.jpg', 'BL_CAH_img_3_117.jpg', 'BL_CAH_img_3_118.jpg', 'BL_CAH_img_3_119.jpg', 'BR_CAH_img_3_1.jpg', 'BR_CAH_img_3_2.jpg', 'BR_CAH_img_3_0.jpg', 'BR_CAH_img_3_6.jpg', 'BR_CAH_img_3_4.jpg', 'BR_CAH_img_3_3.jpg', 'BR_CAH_img_3_5.jpg', 'BR_CAH_img_3_8.jpg', 'BR_CAH_img_3_7.jpg', 'BR_CAH_img_3_11.jpg', 'BR_CAH_img_3_10.jpg', 'BR_CAH_img_3_9.jpg', 'BR_CAH_img_3_12.jpg', 'BR_CAH_img_3_13.jpg', 'BR_CAH_img_3_14.jpg', 'BR_CAH_img_3_15.jpg', 'BR_CAH_img_3_16.jpg', 'BR_CAH_img_3_17.jpg', 'BR_CAH_img_3_19.jpg', 'BR_CAH_img_3_18.jpg', 'BR_CAH_img_3_21.jpg', 'BR_CAH_img_3_20.jpg', 'BR_CAH_img_3_22.jpg', 'BR_CAH_img_3_23.jpg', 'BR_CAH_img_3_25.jpg', 'BR_CAH_img_3_24.jpg', 'BR_CAH_img_3_27.jpg', 'BR_CAH_img_3_26.jpg', 'BR_CAH_img_3_28.jpg', 'BR_CAH_img_3_29.jpg', 'BR_CAH_img_3_30.jpg', 'BR_CAH_img_3_31.jpg', 'BR_CAH_img_3_32.jpg', 'BR_CAH_img_3_33.jpg', 'BR_CAH_img_3_34.jpg', 'BR_CAH_img_3_36.jpg', 'BR_CAH_img_3_35.jpg', 'BR_CAH_img_3_37.jpg', 'BR_CAH_img_3_38.jpg', 'BR_CAH_img_3_39.jpg', 'BR_CAH_img_3_40.jpg', 'BR_CAH_img_3_41.jpg', 'BR_CAH_img_3_42.jpg', 'BR_CAH_img_3_43.jpg', 'BR_CAH_img_3_44.jpg', 'BR_CAH_img_3_46.jpg', 'BR_CAH_img_3_45.jpg', 'BR_CAH_img_3_47.jpg', 'BR_CAH_img_3_48.jpg', 'BR_CAH_img_3_49.jpg', 'BR_CAH_img_3_50.jpg', 'BR_CAH_img_3_51.jpg', 'BR_CAH_img_3_52.jpg', 'BR_CAH_img_3_54.jpg', 'BR_CAH_img_3_53.jpg', 'BR_CAH_img_3_55.jpg', 'BR_CAH_img_3_58.jpg', 'BR_CAH_img_3_57.jpg', 'BR_CAH_img_3_56.jpg', 'BR_CAH_img_3_59.jpg', 'BR_CAH_img_3_60.jpg', 'BR_CAH_img_3_62.jpg', 'BR_CAH_img_3_61.jpg', 'BR_CAH_img_3_63.jpg', 'BR_CAH_img_3_64.jpg', 'BR_CAH_img_3_65.jpg', 'BR_CAH_img_3_66.jpg', 'BR_CAH_img_3_67.jpg', 'BR_CAH_img_3_68.jpg', 'BR_CAH_img_3_69.jpg', 'BR_CAH_img_3_71.jpg', 'BR_CAH_img_3_70.jpg', 'BR_CAH_img_3_72.jpg', 'BR_CAH_img_3_73.jpg', 'BR_CAH_img_3_76.jpg', 'BR_CAH_img_3_75.jpg', 'BR_CAH_img_3_74.jpg', 'BR_CAH_img_3_78.jpg', 'BR_CAH_img_3_79.jpg', 'BR_CAH_img_3_77.jpg', 'BR_CAH_img_3_80.jpg', 'BR_CAH_img_3_84.jpg', 'BR_CAH_img_3_82.jpg', 'BR_CAH_img_3_83.jpg', 'BR_CAH_img_3_81.jpg', 'BR_CAH_img_3_87.jpg', 'BR_CAH_img_3_86.jpg', 'BR_CAH_img_3_85.jpg', 'BR_CAH_img_3_89.jpg', 'BR_CAH_img_3_88.jpg', 'BR_CAH_img_3_91.jpg', 'BR_CAH_img_3_90.jpg', 'BR_CAH_img_3_92.jpg', 'BR_CAH_img_3_93.jpg', 'BR_CAH_img_3_94.jpg', 'BR_CAH_img_3_95.jpg', 'BR_CAH_img_3_96.jpg', 'BR_CAH_img_3_97.jpg', 'BR_CAH_img_3_98.jpg', 'BR_CAH_img_3_99.jpg', 'BR_CAH_img_3_100.jpg', 'BR_CAH_img_3_103.jpg', 'BR_CAH_img_3_106.jpg', 'BR_CAH_img_3_101.jpg', 'BR_CAH_img_3_102.jpg', 'BR_CAH_img_3_105.jpg', 'BR_CAH_img_3_104.jpg', 'BR_CAH_img_3_108.jpg', 'BR_CAH_img_3_107.jpg', 'BR_CAH_img_3_109.jpg', 'BR_CAH_img_3_110.jpg', 'BR_CAH_img_3_111.jpg', 'BR_CAH_img_3_113.jpg', 'BR_CAH_img_3_115.jpg', 'BR_CAH_img_3_114.jpg', 'BR_CAH_img_3_116.jpg', 'BR_CAH_img_3_112.jpg', 'BR_CAH_img_3_117.jpg', 'BR_CAH_img_3_118.jpg', 'BR_CAH_img_3_119.jpg', 'BR_CAH_img_7_1.jpg', 'BR_CAH_img_7_0.jpg', 'BR_CAH_img_7_2.jpg', 'BR_CAH_img_7_3.jpg', 'BR_CAH_img_7_5.jpg', 'BR_CAH_img_7_4.jpg', 'BR_CAH_img_7_7.jpg', 'BR_CAH_img_7_8.jpg', 'BR_CAH_img_7_6.jpg', 'BR_CAH_img_7_10.jpg', 'BR_CAH_img_7_9.jpg', 'BR_CAH_img_7_11.jpg', 'BR_CAH_img_7_12.jpg', 'BR_CAH_img_7_13.jpg', 'BR_CAH_img_7_14.jpg', 'BR_CAH_img_7_16.jpg', 'BR_CAH_img_7_15.jpg', 'BR_CAH_img_7_17.jpg', 'BR_CAH_img_7_18.jpg', 'BR_CAH_img_7_20.jpg', 'BR_CAH_img_7_19.jpg', 'BR_CAH_img_7_22.jpg', 'BR_CAH_img_7_21.jpg', 'BR_CAH_img_7_24.jpg', 'BR_CAH_img_7_23.jpg', 'BR_CAH_img_7_26.jpg', 'BR_CAH_img_7_25.jpg', 'BR_CAH_img_7_27.jpg', 'BR_CAH_img_7_28.jpg', 'BR_CAH_img_7_29.jpg', 'CAH_GRP_1_7.jpg', 'CAH_GRP_1_1.jpg', 'CAH_GRP_1_5.jpg', 'CAH_GRP_1_3.jpg', 'CAH_GRP_1_6.jpg', 'CAH_GRP_1_4.jpg', 'CAH_GRP_1_0.jpg', 'CAH_GRP_1_2.jpg', 'CAH_GRP_1_8.jpg', 'CAH_GRP_1_9.jpg', 'CAH_GRP_1_10.jpg', 'CAH_GRP_1_11.jpg', 'CAH_GRP_1_14.jpg', 'CAH_GRP_1_13.jpg', 'CAH_GRP_1_15.jpg', 'CAH_GRP_1_16.jpg', 'CAH_GRP_1_12.jpg', 'CAH_GRP_1_17.jpg', 'CAH_GRP_1_18.jpg', 'CAH_GRP_1_20.jpg', 'CAH_GRP_1_19.jpg', 'CAH_GRP_1_22.jpg', 'CAH_GRP_1_23.jpg', 'CAH_GRP_1_24.jpg', 'CAH_GRP_1_21.jpg', 'CAH_GRP_1_25.jpg', 'CAH_GRP_1_26.jpg', 'CAH_GRP_1_27.jpg', 'CAH_GRP_1_29.jpg', 'CAH_GRP_1_28.jpg', 'CAH_GRP_1_30.jpg', 'CAH_GRP_1_31.jpg', 'CAH_GRP_1_33.jpg', 'CAH_GRP_1_32.jpg', 'CAH_GRP_1_34.jpg', 'CAH_GRP_1_35.jpg', 'CAH_GRP_1_36.jpg', 'CAH_GRP_1_37.jpg', 'CAH_GRP_1_38.jpg', 'CAH_GRP_1_39.jpg', 'CAH_GRP_1_40.jpg', 'CAH_GRP_1_41.jpg', 'CAH_GRP_1_42.jpg', 'CAH_GRP_1_43.jpg', 'CAH_GRP_1_44.jpg', 'CAH_GRP_1_45.jpg', 'CAH_GRP_1_46.jpg', 'CAH_GRP_1_48.jpg', 'CAH_GRP_1_47.jpg', 'CAH_GRP_1_49.jpg', 'CAH_GRP_1_50.jpg', 'CAH_GRP_1_51.jpg', 'CAH_GRP_1_52.jpg', 'CAH_GRP_1_54.jpg', 'CAH_GRP_1_53.jpg', 'CAH_GRP_1_56.jpg', 'CAH_GRP_1_55.jpg', 'CAH_GRP_1_58.jpg', 'CAH_GRP_1_57.jpg', 'CAH_GRP_1_59.jpg', 'CAH_GRP_1_60.jpg', 'CAH_GRP_1_61.jpg', 'CAH_GRP_1_63.jpg', 'CAH_GRP_1_62.jpg', 'CAH_GRP_1_64.jpg', 'CAH_GRP_1_65.jpg', 'CAH_GRP_1_66.jpg', 'CAH_GRP_1_67.jpg', 'CAH_GRP_1_68.jpg', 'CAH_GRP_1_70.jpg', 'CAH_GRP_1_69.jpg', 'CAH_GRP_1_71.jpg', 'CAH_GRP_1_72.jpg', 'CAH_GRP_1_73.jpg', 'CAH_GRP_1_74.jpg', 'CAH_GRP_1_80.jpg', 'CAH_GRP_1_79.jpg', 'CAH_GRP_1_77.jpg', 'CAH_GRP_1_75.jpg', 'CAH_GRP_1_76.jpg', 'CAH_GRP_1_78.jpg', 'CAH_GRP_1_81.jpg', 'CAH_GRP_1_83.jpg', 'CAH_GRP_1_84.jpg', 'CAH_GRP_1_82.jpg', 'CAH_GRP_1_86.jpg', 'CAH_GRP_1_85.jpg', 'CAH_GRP_1_87.jpg', 'CAH_GRP_1_89.jpg', 'CAH_GRP_1_88.jpg', 'CAH_GRP_1_90.jpg', 'CAH_GRP_1_91.jpg', 'CAH_GRP_1_92.jpg', 'CAH_GRP_1_93.jpg', 'CAH_GRP_1_94.jpg', 'CAH_GRP_1_95.jpg', 'CAH_GRP_1_97.jpg', 'CAH_GRP_1_96.jpg', 'CAH_GRP_1_99.jpg', 'CAH_GRP_1_98.jpg', 'CAH_GRP_1_102.jpg', 'CAH_GRP_1_100.jpg', 'CAH_GRP_1_101.jpg', 'CAH_GRP_1_103.jpg', 'CAH_GRP_1_105.jpg', 'CAH_GRP_1_104.jpg', 'CAH_GRP_1_106.jpg', 'CAH_GRP_1_107.jpg', 'CAH_GRP_1_108.jpg', 'CAH_GRP_1_109.jpg', 'CAH_GRP_1_111.jpg', 'CAH_GRP_1_110.jpg', 'CAH_GRP_1_112.jpg', 'CAH_GRP_1_113.jpg', 'CAH_GRP_1_114.jpg', 'CAH_GRP_1_116.jpg', 'CAH_GRP_1_117.jpg', 'CAH_GRP_1_115.jpg', 'CAH_GRP_1_118.jpg', 'CAH_GRP_1_119.jpg', 'CAH_GRP_1_120.jpg', 'CAH_GRP_1_121.jpg', 'CAH_GRP_1_123.jpg', 'CAH_GRP_1_124.jpg', 'CAH_GRP_1_122.jpg', 'CAH_GRP_1_125.jpg', 'CAH_GRP_1_126.jpg', 'CAH_GRP_1_127.jpg', 'CAH_GRP_1_128.jpg', 'CAH_GRP_1_129.jpg', 'CAH_GRP_1_130.jpg', 'CAH_GRP_1_132.jpg', 'CAH_GRP_1_131.jpg', 'CAH_GRP_1_134.jpg', 'CAH_GRP_1_135.jpg', 'CAH_GRP_1_133.jpg', 'CAH_GRP_1_136.jpg', 'CAH_GRP_1_137.jpg', 'CAH_GRP_1_138.jpg', 'CAH_GRP_1_141.jpg', 'CAH_GRP_1_139.jpg', 'CAH_GRP_1_140.jpg', 'CAH_GRP_1_142.jpg', 'CAH_GRP_1_143.jpg', 'CAH_GRP_1_146.jpg', 'CAH_GRP_1_144.jpg', 'CAH_GRP_1_145.jpg', 'CAH_GRP_1_147.jpg', 'CAH_GRP_1_148.jpg', 'CAH_GRP_1_149.jpg', 'CAH_GRP_1_150.jpg', 'CAH_GRP_1_151.jpg', 'CAH_GRP_1_152.jpg', 'CAH_GRP_1_153.jpg', 'CAH_GRP_1_154.jpg', 'CAH_GRP_1_156.jpg', 'CAH_GRP_1_155.jpg', 'CAH_GRP_1_157.jpg', 'CAH_GRP_1_158.jpg', 'CAH_GRP_1_161.jpg', 'CAH_GRP_1_160.jpg', 'CAH_GRP_1_159.jpg', 'CAH_GRP_1_162.jpg', 'CAH_GRP_1_163.jpg', 'CAH_GRP_1_164.jpg', 'CAH_GRP_1_165.jpg', 'CAH_GRP_1_166.jpg', 'CAH_GRP_1_167.jpg', 'CAH_GRP_1_168.jpg', 'CAH_GRP_1_169.jpg', 'CAH_GRP_1_170.jpg', 'CAH_GRP_1_171.jpg', 'CAH_GRP_1_172.jpg', 'CAH_GRP_1_173.jpg', 'CAH_GRP_1_175.jpg', 'CAH_GRP_1_174.jpg', 'CAH_GRP_1_176.jpg', 'CAH_GRP_1_177.jpg', 'CAH_GRP_1_179.jpg', 'CAH_GRP_1_178.jpg', 'CAH_GRP_1_180.jpg', 'CAH_GRP_1_182.jpg', 'CAH_GRP_1_181.jpg', 'CAH_GRP_1_183.jpg', 'CAH_GRP_1_184.jpg', 'CAH_GRP_1_185.jpg', 'CAH_GRP_1_186.jpg', 'CAH_GRP_1_189.jpg', 'CAH_GRP_1_187.jpg', 'CAH_GRP_1_188.jpg', 'CAH_GRP_1_190.jpg', 'CAH_GRP_1_191.jpg', 'CAH_GRP_1_192.jpg', 'CAH_GRP_1_193.jpg', 'CAH_GRP_1_195.jpg', 'CAH_GRP_1_194.jpg', 'CAH_GRP_1_196.jpg', 'CAH_GRP_1_197.jpg', 'CAH_GRP_1_199.jpg', 'CAH_GRP_1_198.jpg', 'CAH_GRP_1_200.jpg', 'CAH_GRP_1_201.jpg', 'CAH_GRP_1_203.jpg', 'CAH_GRP_1_204.jpg', 'CAH_GRP_1_202.jpg', 'CAH_GRP_1_205.jpg', 'CAH_GRP_1_206.jpg', 'CAH_GRP_1_207.jpg', 'CAH_GRP_1_208.jpg', 'CAH_GRP_1_209.jpg', 'CAH_GRP_1_210.jpg', 'CAH_GRP_1_211.jpg', 'CAH_GRP_1_212.jpg', 'CAH_GRP_1_213.jpg', 'CAH_GRP_1_214.jpg', 'CAH_GRP_1_215.jpg', 'CAH_GRP_1_216.jpg', 'CAH_GRP_1_218.jpg', 'CAH_GRP_1_219.jpg', 'CAH_GRP_1_217.jpg', 'CAH_GRP_1_220.jpg', 'CAH_GRP_1_221.jpg', 'CAH_GRP_1_222.jpg', 'CAH_GRP_1_223.jpg', 'CAH_GRP_1_224.jpg', 'CAH_GRP_1_225.jpg', 'CAH_GRP_1_227.jpg', 'CAH_GRP_1_226.jpg', 'CAH_GRP_1_228.jpg', 'CAH_GRP_1_229.jpg', 'CAH_GRP_1_230.jpg', 'CAH_GRP_1_231.jpg', 'CAH_GRP_1_232.jpg', 'CAH_GRP_1_233.jpg', 'CAH_GRP_1_234.jpg', 'CAH_GRP_1_236.jpg', 'CAH_GRP_1_235.jpg', 'CAH_GRP_1_238.jpg', 'CAH_GRP_1_237.jpg', 'CAH_GRP_1_239.jpg', 'CAH_GRP_1_240.jpg', 'CAH_GRP_1_241.jpg', 'CAH_GRP_1_243.jpg', 'CAH_GRP_1_244.jpg', 'CAH_GRP_1_242.jpg', 'CAH_GRP_1_245.jpg', 'CAH_GRP_1_246.jpg', 'CAH_GRP_1_247.jpg', 'CAH_GRP_1_248.jpg', 'CAH_GRP_1_250.jpg', 'CAH_GRP_1_249.jpg', 'CAH_GRP_1_251.jpg', 'CAH_GRP_1_252.jpg', 'CAH_GRP_1_253.jpg', 'CAH_GRP_1_254.jpg', 'CAH_GRP_5_90mm_0.jpg', 'CAH_GRP_5_90mm_1.jpg', 'CAH_GRP_5_90mm_7.jpg', 'CAH_GRP_5_90mm_5.jpg', 'CAH_GRP_5_90mm_3.jpg', 'CAH_GRP_5_90mm_2.jpg', 'CAH_GRP_5_90mm_4.jpg', 'CAH_GRP_5_90mm_6.jpg', 'CAH_GRP_5_90mm_11.jpg', 'CAH_GRP_5_90mm_8.jpg', 'CAH_GRP_5_90mm_9.jpg', 'CAH_GRP_5_90mm_10.jpg', 'CAH_GRP_5_90mm_12.jpg', 'CAH_GRP_5_90mm_13.jpg', 'CAH_GRP_5_90mm_14.jpg', 'CAH_GRP_5_90mm_15.jpg', 'CAH_GRP_5_90mm_17.jpg', 'CAH_GRP_5_90mm_16.jpg', 'CAH_GRP_5_90mm_18.jpg', 'CAH_GRP_5_90mm_19.jpg', 'CAH_GRP_5_90mm_21.jpg', 'CAH_GRP_5_90mm_20.jpg', 'CAH_GRP_5_90mm_22.jpg', 'CAH_GRP_5_90mm_23.jpg', 'CAH_GRP_5_90mm_24.jpg', 'CAH_GRP_5_90mm_25.jpg', 'CAH_GRP_5_90mm_26.jpg', 'CAH_GRP_5_90mm_27.jpg', 'CAH_GRP_5_90mm_28.jpg', 'CAH_GRP_5_90mm_30.jpg', 'CAH_GRP_5_90mm_29.jpg', 'CAH_GRP_5_90mm_31.jpg', 'CAH_GRP_5_90mm_32.jpg', 'CAH_GRP_5_90mm_33.jpg', 'CAH_GRP_5_90mm_35.jpg', 'CAH_GRP_5_90mm_34.jpg', 'CAH_GRP_5_90mm_36.jpg', 'CAH_GRP_5_90mm_38.jpg', 'CAH_GRP_5_90mm_39.jpg', 'CAH_GRP_5_90mm_37.jpg', 'CAH_GRP_5_90mm_40.jpg', 'CAH_GRP_5_90mm_42.jpg', 'CAH_GRP_5_90mm_43.jpg', 'CAH_GRP_5_90mm_41.jpg', 'CAH_GRP_5_90mm_44.jpg', 'CAH_GRP_5_90mm_45.jpg', 'CAH_GRP_5_90mm_46.jpg', 'CAH_GRP_5_90mm_47.jpg', 'CAH_GRP_5_90mm_48.jpg', 'CAH_GRP_5_90mm_49.jpg', 'CAH_GRP_5_90mm_50.jpg', 'CAH_GRP_5_90mm_51.jpg', 'CAH_GRP_5_90mm_53.jpg', 'CAH_GRP_5_90mm_52.jpg', 'CAH_GRP_5_90mm_54.jpg', 'CAH_GRP_5_90mm_55.jpg', 'CAH_GRP_5_90mm_57.jpg', 'CAH_GRP_5_90mm_56.jpg', 'CAH_GRP_5_90mm_60.jpg', 'CAH_GRP_5_90mm_58.jpg', 'CAH_GRP_5_90mm_59.jpg', 'CAH_GRP_5_90mm_62.jpg', 'CAH_GRP_5_90mm_61.jpg', 'CAH_GRP_5_90mm_63.jpg', 'CAH_GRP_5_90mm_64.jpg', 'CAH_GRP_5_90mm_65.jpg', 'CAH_GRP_5_90mm_66.jpg', 'CAH_GRP_5_90mm_67.jpg', 'CAH_GRP_5_90mm_68.jpg', 'CAH_GRP_5_90mm_70.jpg', 'CAH_GRP_5_90mm_69.jpg', 'CAH_GRP_5_90mm_71.jpg', 'CAH_GRP_5_90mm_72.jpg', 'CAH_GRP_5_90mm_73.jpg', 'CAH_GRP_5_90mm_74.jpg', 'CAH_GRP_5_90mm_75.jpg', 'CAH_GRP_5_90mm_76.jpg', 'CAH_GRP_5_90mm_78.jpg', 'CAH_GRP_5_90mm_77.jpg', 'CAH_GRP_5_90mm_79.jpg', 'CAH_GRP_5_90mm_80.jpg', 'CAH_GRP_5_90mm_81.jpg', 'CAH_GRP_5_90mm_82.jpg', 'CAH_GRP_5_90mm_83.jpg', 'CAH_GRP_5_90mm_84.jpg', 'CAH_GRP_5_90mm_85.jpg', 'CAH_GRP_5_90mm_86.jpg', 'CAH_GRP_5_90mm_87.jpg', 'CAH_GRP_5_90mm_88.jpg', 'CAH_GRP_5_90mm_89.jpg', 'CAH_GRP_5_90mm_90.jpg', 'CAH_GRP_5_90mm_91.jpg', 'CAH_GRP_5_90mm_93.jpg', 'CAH_GRP_5_90mm_92.jpg', 'CAH_GRP_5_90mm_94.jpg', 'CAH_GRP_5_90mm_96.jpg', 'CAH_GRP_5_90mm_95.jpg', 'CAH_GRP_5_90mm_97.jpg', 'CAH_GRP_5_90mm_100.jpg', 'CAH_GRP_5_90mm_98.jpg', 'MB2_CAH_img_7_70.jpg', 'MB2_CAH_img_7_71.jpg', 'MB2_CAH_img_7_72.jpg', 'MB2_CAH_img_7_73.jpg', 'MB2_CAH_img_7_74.jpg', 'MB2_CAH_img_7_75.jpg', 'MB2_CAH_img_7_76.jpg', 'MB2_CAH_img_7_77.jpg', 'MB2_CAH_img_7_78.jpg', 'MB2_CAH_img_7_79.jpg', 'MB2_CAH_img_7_80.jpg', 'MB2_CAH_img_7_81.jpg', 'MB2_CAH_img_7_82.jpg', 'MB2_CAH_img_7_83.jpg', 'MB2_CAH_img_7_84.jpg', 'MB2_CAH_img_7_85.jpg', 'MB2_CAH_img_7_86.jpg', 'MB2_CAH_img_7_87.jpg', 'MB2_CAH_img_7_88.jpg', 'MB2_CAH_img_7_89.jpg', 'MT1_CAH_img_3_120.jpg', 'MT1_CAH_img_3_121.jpg', 'MT1_CAH_img_3_122.jpg', 'MT1_CAH_img_3_123.jpg', 'MT1_CAH_img_3_124.jpg', 'MT1_CAH_img_3_125.jpg', 'MT1_CAH_img_3_126.jpg', 'MT1_CAH_img_3_127.jpg', 'MT1_CAH_img_3_128.jpg', 'MT1_CAH_img_3_129.jpg', 'MT1_CAH_img_3_130.jpg', 'MT1_CAH_img_3_131.jpg', 'MT1_CAH_img_3_132.jpg', 'MT1_CAH_img_3_133.jpg', 'MT1_CAH_img_3_134.jpg', 'MT1_CAH_img_3_135.jpg', 'MT1_CAH_img_3_136.jpg', 'MT1_CAH_img_3_137.jpg', 'MT1_CAH_img_3_138.jpg', 'MT1_CAH_img_3_139.jpg', 'MT1_CAH_img_3_140.jpg', 'MT1_CAH_img_3_141.jpg', 'MT1_CAH_img_3_142.jpg', 'MT1_CAH_img_3_143.jpg', 'MT1_CAH_img_3_144.jpg', 'MT1_CAH_img_3_145.jpg', 'MT1_CAH_img_3_146.jpg', 'MT1_CAH_img_3_147.jpg', 'MT1_CAH_img_3_148.jpg', 'MT1_CAH_img_3_149.jpg', 'MT1_CAH_img_3_150.jpg', 'MT1_CAH_img_3_151.jpg', 'MT1_CAH_img_3_152.jpg', 'MT1_CAH_img_3_153.jpg', 'MT1_CAH_img_3_154.jpg', 'MT1_CAH_img_3_155.jpg', 'MT1_CAH_img_3_156.jpg', 'MT1_CAH_img_3_157.jpg', 'MT1_CAH_img_3_158.jpg', 'MT1_CAH_img_3_159.jpg', 'MT1_CAH_img_3_160.jpg', 'MT1_CAH_img_3_161.jpg', 'MT1_CAH_img_3_162.jpg', 'MT1_CAH_img_3_163.jpg', 'MT1_CAH_img_3_164.jpg', 'MT1_CAH_img_3_165.jpg', 'MT1_CAH_img_3_166.jpg', 'MT1_CAH_img_3_167.jpg', 'MT1_CAH_img_3_168.jpg', 'MT1_CAH_img_3_169.jpg', 'MT1_CAH_img_3_170.jpg', 'MT1_CAH_img_3_171.jpg', 'MT1_CAH_img_3_172.jpg', 'MT1_CAH_img_3_173.jpg', 'MT1_CAH_img_3_174.jpg', 'MT1_CAH_img_3_175.jpg', 'MT1_CAH_img_3_176.jpg', 'MT1_CAH_img_3_177.jpg', 'MT1_CAH_img_3_178.jpg', 'MT1_CAH_img_3_179.jpg', 'MT1_CAH_img_3_180.jpg', 'MT1_CAH_img_3_181.jpg', 'MT1_CAH_img_3_182.jpg', 'MT1_CAH_img_3_183.jpg', 'MT1_CAH_img_3_184.jpg', 'MT1_CAH_img_3_185.jpg', 'MT1_CAH_img_3_186.jpg', 'MT1_CAH_img_3_187.jpg', 'MT1_CAH_img_3_188.jpg', 'MT1_CAH_img_3_189.jpg', 'MT1_CAH_img_3_190.jpg', 'MT1_CAH_img_3_191.jpg', 'MT1_CAH_img_3_192.jpg', 'MT1_CAH_img_3_193.jpg', 'MT1_CAH_img_3_194.jpg', 'MT1_CAH_img_3_195.jpg', 'MT1_CAH_img_3_196.jpg', 'MT1_CAH_img_3_197.jpg', 'MT1_CAH_img_3_198.jpg', 'MT1_CAH_img_3_199.jpg', 'MT1_CAH_img_3_200.jpg', 'MT1_CAH_img_3_201.jpg', 'MT1_CAH_img_3_202.jpg', 'MT1_CAH_img_3_203.jpg', 'MT1_CAH_img_3_204.jpg', 'MT1_CAH_img_3_205.jpg', 'MT1_CAH_img_3_206.jpg', 'MT1_CAH_img_3_207.jpg', 'MT1_CAH_img_3_208.jpg', 'MT1_CAH_img_3_209.jpg', 'MT1_CAH_img_3_210.jpg', 'MT1_CAH_img_3_211.jpg', 'MT1_CAH_img_3_212.jpg', 'MT1_CAH_img_3_213.jpg', 'MT1_CAH_img_3_214.jpg', 'MT1_CAH_img_3_215.jpg', 'MT1_CAH_img_3_216.jpg', 'MT1_CAH_img_3_217.jpg', 'MT1_CAH_img_3_218.jpg', 'MT1_CAH_img_3_219.jpg', 'MT1_CAH_img_3_220.jpg', 'MT1_CAH_img_3_221.jpg', 'MT1_CAH_img_3_222.jpg', 'MT1_CAH_img_3_223.jpg', 'MT1_CAH_img_3_224.jpg', 'MT1_CAH_img_3_225.jpg', 'MT1_CAH_img_3_226.jpg', 'MT1_CAH_img_3_227.jpg', 'MT1_CAH_img_3_228.jpg', 'MT1_CAH_img_3_229.jpg', 'MT1_CAH_img_3_230.jpg', 'MT1_CAH_img_3_231.jpg', 'MT1_CAH_img_3_232.jpg', 'MT1_CAH_img_3_233.jpg', 'MT1_CAH_img_3_234.jpg', 'MT1_CAH_img_3_235.jpg', 'MT1_CAH_img_3_236.jpg', 'MT1_CAH_img_3_237.jpg', 'MT1_CAH_img_3_238.jpg', 'MT1_CAH_img_3_239.jpg', 'MT1_CAH_img_3_240.jpg', 'MT1_CAH_img_3_241.jpg', 'MT1_CAH_img_3_242.jpg', 'MT1_CAH_img_3_243.jpg', 'MT1_CAH_img_3_244.jpg', 'MT1_CAH_img_3_245.jpg', 'MT1_CAH_img_3_246.jpg', 'MT1_CAH_img_3_247.jpg', 'MT1_CAH_img_3_248.jpg', 'MT1_CAH_img_3_249.jpg', 'MT1_CAH_img_3_250.jpg', 'MT1_CAH_img_3_251.jpg', 'MT1_CAH_img_3_252.jpg', 'MT1_CAH_img_3_253.jpg', 'MT1_CAH_img_3_254.jpg', 'MT1_CAH_img_3_255.jpg', 'MT1_CAH_img_3_256.jpg', 'MT1_CAH_img_3_257.jpg', 'MT1_CAH_img_3_258.jpg', 'MT1_CAH_img_3_259.jpg', 'MT1_CAH_img_3_260.jpg', 'MT1_CAH_img_3_261.jpg', 'MT1_CAH_img_3_262.jpg', 'MT1_CAH_img_3_263.jpg', 'MT1_CAH_img_3_264.jpg', 'MT1_CAH_img_3_265.jpg', 'MT1_CAH_img_3_266.jpg', 'MT1_CAH_img_3_267.jpg', 'MT1_CAH_img_3_268.jpg', 'MT1_CAH_img_3_269.jpg', 'MT1_CAH_img_3_270.jpg', 'MT1_CAH_img_3_271.jpg', 'MT1_CAH_img_3_272.jpg', 'MT1_CAH_img_3_273.jpg', 'MT1_CAH_img_3_274.jpg', 'MT1_CAH_img_3_275.jpg', 'MT1_CAH_img_3_276.jpg', 'MT1_CAH_img_3_277.jpg', 'MT1_CAH_img_3_278.jpg', 'MT1_CAH_img_3_279.jpg', 'MT1_CAH_img_3_280.jpg', 'MT1_CAH_img_3_281.jpg', 'MT1_CAH_img_3_282.jpg', 'MT1_CAH_img_3_283.jpg', 'MT1_CAH_img_3_284.jpg', 'MT1_CAH_img_3_285.jpg', 'MT1_CAH_img_3_286.jpg', 'MT1_CAH_img_3_287.jpg', 'MT1_CAH_img_3_288.jpg', 'MT1_CAH_img_3_289.jpg', 'MT1_CAH_img_3_290.jpg', 'MT1_CAH_img_3_291.jpg', 'MT1_CAH_img_3_292.jpg', 'MT1_CAH_img_3_293.jpg', 'MT1_CAH_img_3_294.jpg', 'MT1_CAH_img_3_295.jpg', 'MT1_CAH_img_3_296.jpg', 'MT1_CAH_img_3_297.jpg', 'MT1_CAH_img_3_298.jpg', 'MT1_CAH_img_3_299.jpg', 'MT1_CAH_img_3_300.jpg', 'MT1_CAH_img_3_301.jpg', 'MT1_CAH_img_3_302.jpg', 'MT1_CAH_img_3_303.jpg', 'MT1_CAH_img_3_304.jpg', 'MT1_CAH_img_3_305.jpg', 'MT1_CAH_img_3_306.jpg', 'MT1_CAH_img_3_307.jpg', 'MT1_CAH_img_3_308.jpg', 'MT1_CAH_img_3_309.jpg', 'MT1_CAH_img_3_310.jpg', 'MT1_CAH_img_3_311.jpg', 'MT1_CAH_img_3_312.jpg', 'MT1_CAH_img_3_313.jpg', 'MT1_CAH_img_3_314.jpg', 'MT1_CAH_img_3_315.jpg', 'MT1_CAH_img_3_316.jpg', 'MT1_CAH_img_3_317.jpg', 'MT1_CAH_img_3_318.jpg', 'MT1_CAH_img_3_319.jpg', 'MT1_CAH_img_3_320.jpg', 'MT1_CAH_img_3_321.jpg', 'MT1_CAH_img_3_322.jpg', 'MT1_CAH_img_3_323.jpg', 'MT1_CAH_img_3_324.jpg', 'MT1_CAH_img_3_325.jpg', 'MT1_CAH_img_3_326.jpg', 'MT1_CAH_img_3_327.jpg', 'MT1_CAH_img_3_328.jpg', 'MT1_CAH_img_3_329.jpg', 'MT1_CAH_img_3_330.jpg', 'MT1_CAH_img_3_331.jpg', 'MT1_CAH_img_3_332.jpg', 'MT1_CAH_img_3_333.jpg', 'MT1_CAH_img_3_334.jpg', 'MT1_CAH_img_3_335.jpg', 'MT1_CAH_img_3_336.jpg', 'MT1_CAH_img_3_337.jpg', 'MT1_CAH_img_3_338.jpg', 'MT1_CAH_img_3_339.jpg', 'MT1_CAH_img_3_340.jpg', 'MT1_CAH_img_3_341.jpg', 'MT1_CAH_img_3_342.jpg', 'MT1_CAH_img_3_343.jpg', 'MT1_CAH_img_3_344.jpg', 'MT1_CAH_img_3_345.jpg', 'MT1_CAH_img_3_346.jpg', 'MT1_CAH_img_3_347.jpg', 'MT1_CAH_img_3_348.jpg', 'MT1_CAH_img_3_349.jpg', 'MT1_CAH_img_3_350.jpg', 'MT1_CAH_img_3_351.jpg', 'MT1_CAH_img_3_352.jpg', 'MT1_CAH_img_3_353.jpg', 'MT1_CAH_img_3_354.jpg', 'MT1_CAH_img_3_355.jpg', 'MT1_CAH_img_3_356.jpg', 'MT1_CAH_img_3_357.jpg', 'MT1_CAH_img_3_358.jpg', 'MT1_CAH_img_3_359.jpg', 'MT1_CAH_img_3_360.jpg', 'MT1_CAH_img_3_361.jpg', 'MT1_CAH_img_3_362.jpg', 'MT1_CAH_img_3_363.jpg', 'MT1_CAH_img_3_364.jpg', 'MT1_CAH_img_3_365.jpg', 'MT1_CAH_img_3_366.jpg', 'MT1_CAH_img_3_367.jpg', 'MT1_CAH_img_3_368.jpg', 'MT1_CAH_img_3_369.jpg', 'MT1_CAH_img_3_370.jpg', 'MT1_CAH_img_3_371.jpg', 'MT1_CAH_img_3_372.jpg', 'MT1_CAH_img_3_373.jpg', 'MT1_CAH_img_3_374.jpg', 'MT1_CAH_img_3_375.jpg', 'MT1_CAH_img_3_376.jpg', 'MT1_CAH_img_3_377.jpg', 'MT1_CAH_img_3_378.jpg', 'MT1_CAH_img_3_379.jpg', 'MT1_CAH_img_3_380.jpg', 'MT1_CAH_img_3_381.jpg', 'MT1_CAH_img_3_382.jpg', 'MT1_CAH_img_3_383.jpg', 'MT1_CAH_img_3_384.jpg', 'MT1_CAH_img_3_385.jpg', 'MT1_CAH_img_3_386.jpg', 'MT1_CAH_img_3_387.jpg', 'MT1_CAH_img_3_388.jpg', 'MT1_CAH_img_3_389.jpg', 'MT1_CAH_img_3_390.jpg', 'MT1_CAH_img_3_391.jpg', 'MT1_CAH_img_3_392.jpg', 'MT1_CAH_img_3_393.jpg', 'MT1_CAH_img_3_394.jpg', 'MT1_CAH_img_3_395.jpg', 'MT1_CAH_img_3_396.jpg', 'MT1_CAH_img_3_397.jpg', 'MT1_CAH_img_3_398.jpg', 'MT1_CAH_img_3_399.jpg', 'MT1_CAH_img_3_400.jpg', 'MT1_CAH_img_3_401.jpg', 'MT1_CAH_img_3_402.jpg', 'MT1_CAH_img_3_403.jpg', 'MT1_CAH_img_3_404.jpg', 'MT1_CAH_img_3_405.jpg', 'MT1_CAH_img_7_30.jpg', 'MT1_CAH_img_7_31.jpg', 'MT1_CAH_img_7_32.jpg', 'MT1_CAH_img_7_33.jpg', 'MT1_CAH_img_7_34.jpg', 'MT1_CAH_img_7_35.jpg', 'MT1_CAH_img_7_36.jpg', 'MT1_CAH_img_7_37.jpg', 'MT1_CAH_img_7_38.jpg', 'MT1_CAH_img_7_39.jpg', 'MT1_CAH_img_7_40.jpg', 'MT1_CAH_img_7_41.jpg', 'MT1_CAH_img_7_42.jpg', 'MT1_CAH_img_7_43.jpg', 'MT1_CAH_img_7_44.jpg', 'MT1_CAH_img_7_45.jpg', 'MT1_CAH_img_7_46.jpg', 'MT1_CAH_img_7_47.jpg', 'MT1_CAH_img_7_48.jpg', 'MT1_CAH_img_7_49.jpg', 'MT1_CAH_img_7_50.jpg', 'MT1_CAH_img_7_51.jpg', 'MT1_CAH_img_7_52.jpg', 'MT1_CAH_img_7_53.jpg', 'MT1_CAH_img_7_54.jpg', 'MT1_CAH_img_7_55.jpg', 'MT1_CAH_img_7_56.jpg', 'MT1_CAH_img_7_57.jpg', 'MT1_CAH_img_7_58.jpg', 'MT1_CAH_img_7_59.jpg', 'MT1_CAH_img_7_60.jpg', 'MT1_CAH_img_7_61.jpg', 'MT1_CAH_img_7_62.jpg', 'MT1_CAH_img_7_63.jpg', 'MT1_CAH_img_7_64.jpg', 'MT1_CAH_img_7_65.jpg', 'MT1_CAH_img_7_66.jpg', 'MT1_CAH_img_7_67.jpg', 'MT1_CAH_img_7_68.jpg', 'MT1_CAH_img_7_69.jpg', 'MT1_CAH_img_7_70.jpg', 'MT1_CAH_img_7_71.jpg', 'MT1_CAH_img_7_72.jpg', 'MT1_CAH_img_7_73.jpg', 'MT1_CAH_img_7_74.jpg', 'MT1_CAH_img_7_75.jpg', 'MT1_CAH_img_7_76.jpg', 'MT1_CAH_img_7_77.jpg', 'MT1_CAH_img_7_78.jpg', 'MT1_CAH_img_7_79.jpg', 'MT1_CAH_img_7_80.jpg', 'MT1_CAH_img_7_81.jpg', 'MT1_CAH_img_7_82.jpg', 'MT1_CAH_img_7_83.jpg', 'MT1_CAH_img_7_84.jpg', 'MT1_CAH_img_7_85.jpg', 'MT1_CAH_img_7_86.jpg', 'MT1_CAH_img_7_87.jpg', 'MT1_CAH_img_7_88.jpg', 'MT1_CAH_img_7_89.jpg', 'MT2_CAH_img_3_120.jpg', 'MT2_CAH_img_3_121.jpg', 'MT2_CAH_img_3_122.jpg', 'MT2_CAH_img_3_123.jpg', 'MT2_CAH_img_3_124.jpg', 'MT2_CAH_img_3_125.jpg', 'MT2_CAH_img_3_126.jpg', 'MT2_CAH_img_3_127.jpg', 'MT2_CAH_img_3_128.jpg', 'MT2_CAH_img_3_129.jpg', 'MT2_CAH_img_3_130.jpg', 'MT2_CAH_img_3_131.jpg', 'MT2_CAH_img_3_132.jpg', 'MT2_CAH_img_3_133.jpg', 'MT2_CAH_img_3_134.jpg', 'MT2_CAH_img_3_135.jpg', 'MT2_CAH_img_3_136.jpg', 'MT2_CAH_img_3_137.jpg', 'MT2_CAH_img_3_138.jpg', 'MT2_CAH_img_3_139.jpg', 'MT2_CAH_img_3_140.jpg', 'MT2_CAH_img_3_141.jpg', 'MT2_CAH_img_3_142.jpg', 'MT2_CAH_img_3_143.jpg', 'MT2_CAH_img_3_144.jpg', 'MT2_CAH_img_3_145.jpg', 'MT2_CAH_img_3_146.jpg', 'MT2_CAH_img_3_147.jpg', 'MT2_CAH_img_3_148.jpg', 'MT2_CAH_img_3_149.jpg', 'MT2_CAH_img_3_150.jpg', 'MT2_CAH_img_3_151.jpg', 'MT2_CAH_img_3_152.jpg', 'MT2_CAH_img_3_153.jpg', 'MT2_CAH_img_3_154.jpg', 'MT2_CAH_img_3_155.jpg', 'MT2_CAH_img_3_156.jpg', 'MT2_CAH_img_3_157.jpg', 'MT2_CAH_img_3_158.jpg', 'MT2_CAH_img_3_159.jpg', 'MT2_CAH_img_3_160.jpg', 'MT2_CAH_img_3_161.jpg', 'MT2_CAH_img_3_162.jpg', 'MT2_CAH_img_3_163.jpg', 'MT2_CAH_img_3_164.jpg', 'MT2_CAH_img_3_165.jpg', 'MT2_CAH_img_3_166.jpg', 'MT2_CAH_img_3_167.jpg', 'MT2_CAH_img_3_168.jpg', 'MT2_CAH_img_3_169.jpg', 'MT2_CAH_img_3_170.jpg', 'MT2_CAH_img_3_171.jpg', 'MT2_CAH_img_3_172.jpg', 'MT2_CAH_img_3_173.jpg', 'MT2_CAH_img_3_174.jpg', 'MT2_CAH_img_3_175.jpg', 'MT2_CAH_img_3_176.jpg', 'MT2_CAH_img_3_177.jpg', 'MT2_CAH_img_3_178.jpg', 'MT2_CAH_img_3_179.jpg', 'MT2_CAH_img_3_180.jpg', 'MT2_CAH_img_3_181.jpg', 'MT2_CAH_img_3_182.jpg', 'MT2_CAH_img_3_183.jpg', 'MT2_CAH_img_3_184.jpg', 'MT2_CAH_img_3_185.jpg', 'MT2_CAH_img_3_186.jpg', 'MT2_CAH_img_3_187.jpg', 'MT2_CAH_img_3_188.jpg', 'MT2_CAH_img_3_189.jpg', 'MT2_CAH_img_3_190.jpg', 'MT2_CAH_img_3_191.jpg', 'MT2_CAH_img_3_192.jpg', 'MT2_CAH_img_3_193.jpg', 'MT2_CAH_img_3_194.jpg', 'MT2_CAH_img_3_195.jpg', 'MT2_CAH_img_3_196.jpg', 'MT2_CAH_img_3_197.jpg', 'MT2_CAH_img_3_198.jpg', 'MT2_CAH_img_3_199.jpg', 'MT2_CAH_img_3_200.jpg', 'MT2_CAH_img_3_201.jpg', 'MT2_CAH_img_3_202.jpg', 'MT2_CAH_img_3_203.jpg', 'MT2_CAH_img_3_204.jpg', 'MT2_CAH_img_3_205.jpg', 'MT2_CAH_img_3_206.jpg', 'MT2_CAH_img_3_207.jpg', 'MT2_CAH_img_3_208.jpg', 'MT2_CAH_img_3_209.jpg', 'MT2_CAH_img_3_210.jpg', 'MT2_CAH_img_3_211.jpg', 'MT2_CAH_img_3_212.jpg', 'MT2_CAH_img_3_213.jpg', 'MT2_CAH_img_3_214.jpg', 'MT2_CAH_img_3_215.jpg', 'MT2_CAH_img_3_216.jpg', 'MT2_CAH_img_3_217.jpg', 'MT2_CAH_img_3_218.jpg', 'MT2_CAH_img_3_219.jpg', 'MT2_CAH_img_3_220.jpg', 'MT2_CAH_img_3_221.jpg', 'MT2_CAH_img_3_222.jpg', 'MT2_CAH_img_3_223.jpg', 'MT2_CAH_img_3_224.jpg', 'MT2_CAH_img_3_225.jpg', 'MT2_CAH_img_3_226.jpg', 'MT2_CAH_img_3_227.jpg', 'MT2_CAH_img_3_228.jpg', 'MT2_CAH_img_3_229.jpg', 'MT2_CAH_img_3_230.jpg', 'MT2_CAH_img_3_231.jpg', 'MT2_CAH_img_3_232.jpg', 'MT2_CAH_img_3_233.jpg', 'MT2_CAH_img_3_234.jpg', 'MT2_CAH_img_3_235.jpg', 'MT2_CAH_img_3_236.jpg', 'MT2_CAH_img_3_237.jpg', 'MT2_CAH_img_3_238.jpg', 'MT2_CAH_img_3_239.jpg', 'MT2_CAH_img_3_240.jpg', 'MT2_CAH_img_3_241.jpg', 'MT2_CAH_img_3_242.jpg', 'MT2_CAH_img_3_243.jpg', 'MT2_CAH_img_3_244.jpg', 'MT2_CAH_img_3_245.jpg', 'MT2_CAH_img_3_246.jpg', 'MT2_CAH_img_3_247.jpg', 'MT2_CAH_img_3_248.jpg', 'MT2_CAH_img_3_249.jpg', 'MT2_CAH_img_3_250.jpg', 'MT2_CAH_img_3_251.jpg', 'MT2_CAH_img_3_252.jpg', 'MT2_CAH_img_3_253.jpg', 'MT2_CAH_img_3_254.jpg', 'MT2_CAH_img_3_255.jpg', 'MT2_CAH_img_3_256.jpg', 'MT2_CAH_img_3_257.jpg', 'MT2_CAH_img_3_258.jpg', 'MT2_CAH_img_3_259.jpg', 'MT2_CAH_img_3_260.jpg', 'MT2_CAH_img_3_261.jpg', 'MT2_CAH_img_3_262.jpg', 'MT2_CAH_img_3_263.jpg', 'MT2_CAH_img_3_264.jpg', 'MT2_CAH_img_3_265.jpg', 'MT2_CAH_img_3_266.jpg', 'MT2_CAH_img_3_267.jpg', 'MT2_CAH_img_3_268.jpg', 'MT2_CAH_img_3_269.jpg', 'MT2_CAH_img_3_270.jpg', 'MT2_CAH_img_3_271.jpg', 'MT2_CAH_img_3_272.jpg', 'MT2_CAH_img_3_273.jpg', 'MT2_CAH_img_3_274.jpg', 'MT2_CAH_img_3_275.jpg', 'MT2_CAH_img_3_276.jpg', 'MT2_CAH_img_3_277.jpg', 'MT2_CAH_img_3_278.jpg', 'MT2_CAH_img_3_279.jpg', 'MT2_CAH_img_3_280.jpg', 'MT2_CAH_img_3_281.jpg', 'MT2_CAH_img_3_282.jpg', 'MT2_CAH_img_3_283.jpg', 'MT2_CAH_img_3_284.jpg', 'MT2_CAH_img_3_285.jpg', 'MT2_CAH_img_3_286.jpg', 'MT2_CAH_img_3_287.jpg', 'MT2_CAH_img_3_288.jpg', 'MT2_CAH_img_3_289.jpg', 'MT2_CAH_img_3_290.jpg', 'MT2_CAH_img_3_291.jpg', 'MT2_CAH_img_3_292.jpg', 'MT2_CAH_img_3_293.jpg', 'MT2_CAH_img_3_294.jpg', 'MT2_CAH_img_3_295.jpg', 'MT2_CAH_img_3_296.jpg', 'MT2_CAH_img_3_297.jpg', 'MT2_CAH_img_3_298.jpg', 'MT2_CAH_img_3_299.jpg', 'MT2_CAH_img_3_300.jpg', 'MT2_CAH_img_3_301.jpg', 'MT2_CAH_img_3_302.jpg', 'MT2_CAH_img_3_303.jpg', 'MT2_CAH_img_3_304.jpg', 'MT2_CAH_img_3_305.jpg', 'MT2_CAH_img_3_306.jpg', 'MT2_CAH_img_3_307.jpg', 'MT2_CAH_img_3_308.jpg', 'MT2_CAH_img_3_309.jpg', 'MT2_CAH_img_3_310.jpg', 'MT2_CAH_img_3_311.jpg', 'MT2_CAH_img_3_312.jpg', 'MT2_CAH_img_3_313.jpg', 'MT2_CAH_img_3_314.jpg', 'MT2_CAH_img_3_315.jpg', 'MT2_CAH_img_3_316.jpg', 'MT2_CAH_img_3_317.jpg', 'MT2_CAH_img_3_318.jpg', 'MT2_CAH_img_3_319.jpg', 'MT2_CAH_img_3_320.jpg', 'MT2_CAH_img_3_321.jpg', 'MT2_CAH_img_3_322.jpg', 'MT2_CAH_img_3_323.jpg', 'MT2_CAH_img_3_324.jpg', 'MT2_CAH_img_3_325.jpg', 'MT2_CAH_img_3_326.jpg', 'MT2_CAH_img_3_327.jpg', 'MT2_CAH_img_3_328.jpg', 'MT2_CAH_img_3_329.jpg', 'MT2_CAH_img_3_330.jpg', 'MT2_CAH_img_3_331.jpg', 'MT2_CAH_img_3_332.jpg', 'MT2_CAH_img_3_333.jpg', 'MT2_CAH_img_3_334.jpg', 'MT2_CAH_img_3_335.jpg', 'MT2_CAH_img_3_336.jpg', 'MT2_CAH_img_3_337.jpg', 'MT2_CAH_img_3_338.jpg', 'MT2_CAH_img_3_339.jpg', 'MT2_CAH_img_3_340.jpg', 'MT2_CAH_img_3_341.jpg', 'MT2_CAH_img_3_342.jpg', 'MT2_CAH_img_3_343.jpg', 'MT2_CAH_img_3_344.jpg', 'MT2_CAH_img_3_345.jpg', 'MT2_CAH_img_3_346.jpg', 'MT2_CAH_img_3_347.jpg', 'MT2_CAH_img_3_348.jpg', 'MT2_CAH_img_3_349.jpg', 'MT2_CAH_img_3_350.jpg', 'MT2_CAH_img_3_351.jpg', 'MT2_CAH_img_3_352.jpg', 'MT2_CAH_img_3_353.jpg', 'MT2_CAH_img_3_354.jpg', 'MT2_CAH_img_3_355.jpg', 'MT2_CAH_img_3_356.jpg', 'MT2_CAH_img_3_357.jpg', 'MT2_CAH_img_3_358.jpg', 'MT2_CAH_img_3_359.jpg', 'MT2_CAH_img_3_360.jpg', 'MT2_CAH_img_3_361.jpg', 'MT2_CAH_img_3_362.jpg', 'MT2_CAH_img_3_363.jpg', 'MT2_CAH_img_3_364.jpg', 'MT2_CAH_img_3_365.jpg', 'MT2_CAH_img_3_366.jpg', 'MT2_CAH_img_3_367.jpg', 'MT2_CAH_img_3_368.jpg', 'MT2_CAH_img_3_369.jpg', 'MT2_CAH_img_3_370.jpg', 'MT2_CAH_img_3_371.jpg', 'MT2_CAH_img_3_372.jpg', 'MT2_CAH_img_3_373.jpg', 'MT2_CAH_img_3_374.jpg', 'MT2_CAH_img_3_375.jpg', 'MT2_CAH_img_3_376.jpg', 'MT2_CAH_img_3_377.jpg', 'MT2_CAH_img_3_378.jpg', 'MT2_CAH_img_3_379.jpg', 'MT2_CAH_img_3_380.jpg', 'MT2_CAH_img_3_381.jpg', 'MT2_CAH_img_3_382.jpg', 'MT2_CAH_img_3_383.jpg', 'MT2_CAH_img_3_384.jpg', 'MT2_CAH_img_3_385.jpg', 'MT2_CAH_img_3_386.jpg', 'MT2_CAH_img_3_387.jpg', 'MT2_CAH_img_3_388.jpg', 'MT2_CAH_img_3_389.jpg', 'MT2_CAH_img_3_390.jpg', 'MT2_CAH_img_3_391.jpg', 'MT2_CAH_img_3_392.jpg', 'MT2_CAH_img_3_393.jpg', 'MT2_CAH_img_3_394.jpg', 'MT2_CAH_img_3_395.jpg', 'MT2_CAH_img_3_396.jpg', 'MT2_CAH_img_3_397.jpg', 'MT2_CAH_img_3_398.jpg', 'MT2_CAH_img_3_399.jpg', 'MT2_CAH_img_3_400.jpg', 'MT2_CAH_img_3_401.jpg', 'MT2_CAH_img_3_402.jpg', 'MT2_CAH_img_3_403.jpg', 'MT2_CAH_img_3_404.jpg', 'MT2_CAH_img_3_405.jpg', 'TL_CAH_img_3_120.jpg', 'TL_CAH_img_3_121.jpg', 'TL_CAH_img_3_122.jpg', 'TL_CAH_img_3_123.jpg', 'TL_CAH_img_3_124.jpg', 'TL_CAH_img_3_125.jpg', 'TL_CAH_img_3_126.jpg', 'TL_CAH_img_3_127.jpg', 'TL_CAH_img_3_128.jpg', 'TL_CAH_img_3_129.jpg', 'TL_CAH_img_3_130.jpg', 'TL_CAH_img_3_131.jpg', 'TL_CAH_img_3_132.jpg', 'TL_CAH_img_3_133.jpg', 'TL_CAH_img_3_134.jpg', 'TL_CAH_img_3_135.jpg', 'TL_CAH_img_3_136.jpg', 'TL_CAH_img_3_137.jpg', 'TL_CAH_img_3_138.jpg', 'TL_CAH_img_3_139.jpg', 'TL_CAH_img_3_140.jpg', 'TL_CAH_img_3_141.jpg', 'TL_CAH_img_3_142.jpg', 'TL_CAH_img_3_143.jpg', 'TL_CAH_img_3_144.jpg', 'TL_CAH_img_3_145.jpg', 'TL_CAH_img_3_146.jpg', 'TL_CAH_img_3_147.jpg', 'TL_CAH_img_3_148.jpg', 'TL_CAH_img_3_149.jpg', 'TL_CAH_img_3_150.jpg', 'TL_CAH_img_3_151.jpg', 'TL_CAH_img_3_152.jpg', 'TL_CAH_img_3_153.jpg', 'TL_CAH_img_3_154.jpg', 'TL_CAH_img_3_155.jpg', 'TL_CAH_img_3_156.jpg', 'TL_CAH_img_3_157.jpg', 'TL_CAH_img_3_158.jpg', 'TL_CAH_img_3_159.jpg', 'TL_CAH_img_3_160.jpg', 'TL_CAH_img_3_161.jpg', 'TL_CAH_img_3_162.jpg', 'TL_CAH_img_3_163.jpg', 'TL_CAH_img_3_164.jpg', 'TL_CAH_img_3_165.jpg', 'TL_CAH_img_3_166.jpg', 'TL_CAH_img_3_167.jpg', 'TL_CAH_img_3_168.jpg', 'TL_CAH_img_3_169.jpg', 'TL_CAH_img_3_170.jpg', 'TL_CAH_img_3_171.jpg', 'TL_CAH_img_3_172.jpg', 'TL_CAH_img_3_173.jpg', 'TL_CAH_img_3_174.jpg', 'TL_CAH_img_3_175.jpg', 'TL_CAH_img_3_176.jpg', 'TL_CAH_img_3_177.jpg', 'TL_CAH_img_3_178.jpg', 'TL_CAH_img_3_179.jpg', 'TL_CAH_img_3_180.jpg', 'TL_CAH_img_3_181.jpg', 'TL_CAH_img_3_182.jpg', 'TL_CAH_img_3_183.jpg', 'TL_CAH_img_3_184.jpg', 'TL_CAH_img_3_185.jpg', 'TL_CAH_img_3_186.jpg', 'TL_CAH_img_3_187.jpg', 'TL_CAH_img_3_188.jpg', 'TL_CAH_img_3_189.jpg', 'TL_CAH_img_3_190.jpg', 'TL_CAH_img_3_191.jpg', 'TL_CAH_img_3_192.jpg', 'TL_CAH_img_3_193.jpg', 'TL_CAH_img_3_194.jpg', 'TL_CAH_img_3_195.jpg', 'TL_CAH_img_3_196.jpg', 'TL_CAH_img_3_197.jpg', 'TL_CAH_img_3_198.jpg', 'TL_CAH_img_3_199.jpg', 'TL_CAH_img_3_200.jpg', 'TL_CAH_img_3_201.jpg', 'TL_CAH_img_3_202.jpg', 'TL_CAH_img_3_203.jpg', 'TL_CAH_img_3_204.jpg', 'TL_CAH_img_3_205.jpg', 'TL_CAH_img_3_206.jpg', 'TL_CAH_img_3_207.jpg', 'TL_CAH_img_3_208.jpg', 'TL_CAH_img_3_209.jpg', 'TL_CAH_img_3_210.jpg', 'TL_CAH_img_3_211.jpg', 'TL_CAH_img_3_212.jpg', 'TL_CAH_img_3_213.jpg', 'TL_CAH_img_3_214.jpg', 'TL_CAH_img_3_215.jpg', 'TL_CAH_img_3_216.jpg', 'TL_CAH_img_3_217.jpg', 'TL_CAH_img_3_218.jpg', 'TL_CAH_img_3_219.jpg', 'TL_CAH_img_3_220.jpg', 'TL_CAH_img_3_221.jpg', 'TL_CAH_img_3_222.jpg', 'TL_CAH_img_3_223.jpg', 'TL_CAH_img_3_224.jpg', 'TL_CAH_img_3_225.jpg', 'TL_CAH_img_3_226.jpg', 'TL_CAH_img_3_227.jpg', 'TL_CAH_img_3_228.jpg', 'TL_CAH_img_3_229.jpg', 'TL_CAH_img_3_230.jpg', 'TL_CAH_img_3_231.jpg', 'TL_CAH_img_3_232.jpg', 'TL_CAH_img_3_233.jpg', 'TL_CAH_img_3_234.jpg', 'TL_CAH_img_3_235.jpg', 'TL_CAH_img_3_236.jpg', 'TL_CAH_img_3_237.jpg', 'TL_CAH_img_3_238.jpg', 'TL_CAH_img_3_239.jpg', 'TL_CAH_img_3_240.jpg', 'TL_CAH_img_3_241.jpg', 'TL_CAH_img_3_242.jpg', 'TL_CAH_img_3_243.jpg', 'TL_CAH_img_3_244.jpg', 'TL_CAH_img_3_245.jpg', 'TL_CAH_img_3_246.jpg', 'TL_CAH_img_3_247.jpg', 'TL_CAH_img_3_248.jpg', 'TL_CAH_img_3_249.jpg', 'TL_CAH_img_3_250.jpg', 'TL_CAH_img_3_251.jpg', 'TL_CAH_img_3_252.jpg', 'TL_CAH_img_3_253.jpg', 'TL_CAH_img_3_254.jpg', 'TL_CAH_img_3_255.jpg', 'TL_CAH_img_3_256.jpg', 'TL_CAH_img_3_257.jpg', 'TL_CAH_img_3_258.jpg', 'TL_CAH_img_3_259.jpg', 'TL_CAH_img_3_260.jpg', 'TL_CAH_img_3_261.jpg', 'TL_CAH_img_3_262.jpg', 'TL_CAH_img_3_263.jpg', 'TL_CAH_img_3_264.jpg', 'TL_CAH_img_3_265.jpg', 'TL_CAH_img_3_266.jpg', 'TL_CAH_img_3_267.jpg', 'TL_CAH_img_3_268.jpg', 'TL_CAH_img_3_269.jpg', 'TL_CAH_img_3_270.jpg', 'TL_CAH_img_3_271.jpg', 'TL_CAH_img_3_272.jpg', 'TL_CAH_img_3_273.jpg', 'TL_CAH_img_3_274.jpg', 'TL_CAH_img_3_275.jpg', 'TL_CAH_img_3_276.jpg', 'TL_CAH_img_3_277.jpg', 'TL_CAH_img_3_278.jpg', 'TL_CAH_img_3_279.jpg', 'TL_CAH_img_3_280.jpg', 'TL_CAH_img_3_281.jpg', 'TL_CAH_img_3_282.jpg', 'TL_CAH_img_3_283.jpg', 'TL_CAH_img_3_284.jpg', 'TL_CAH_img_3_285.jpg', 'TL_CAH_img_3_286.jpg', 'TL_CAH_img_3_287.jpg', 'TL_CAH_img_3_288.jpg', 'TL_CAH_img_3_289.jpg', 'TL_CAH_img_3_290.jpg', 'TL_CAH_img_3_291.jpg', 'TL_CAH_img_3_292.jpg', 'TL_CAH_img_3_293.jpg', 'TL_CAH_img_3_294.jpg', 'TL_CAH_img_3_295.jpg', 'TL_CAH_img_3_296.jpg', 'TL_CAH_img_3_297.jpg', 'TL_CAH_img_3_298.jpg', 'TL_CAH_img_3_299.jpg', 'TL_CAH_img_3_300.jpg', 'TL_CAH_img_3_301.jpg', 'TL_CAH_img_3_302.jpg', 'TL_CAH_img_3_303.jpg', 'TL_CAH_img_3_304.jpg', 'TL_CAH_img_3_305.jpg', 'TL_CAH_img_3_306.jpg', 'TL_CAH_img_3_307.jpg', 'TL_CAH_img_3_308.jpg', 'TL_CAH_img_3_309.jpg', 'TL_CAH_img_3_310.jpg', 'TL_CAH_img_3_311.jpg', 'TL_CAH_img_3_312.jpg', 'TL_CAH_img_3_313.jpg', 'TL_CAH_img_3_314.jpg', 'TL_CAH_img_3_315.jpg', 'TL_CAH_img_3_316.jpg', 'TL_CAH_img_3_317.jpg', 'TL_CAH_img_3_318.jpg', 'TL_CAH_img_3_319.jpg', 'TL_CAH_img_3_320.jpg', 'TL_CAH_img_3_321.jpg', 'TL_CAH_img_3_322.jpg', 'TL_CAH_img_3_323.jpg', 'TL_CAH_img_3_324.jpg', 'TL_CAH_img_3_325.jpg', 'TL_CAH_img_3_326.jpg', 'TL_CAH_img_3_327.jpg', 'TL_CAH_img_3_328.jpg', 'TL_CAH_img_3_329.jpg', 'TL_CAH_img_3_330.jpg', 'TL_CAH_img_3_331.jpg', 'TL_CAH_img_3_332.jpg', 'TL_CAH_img_3_333.jpg', 'TL_CAH_img_3_334.jpg', 'TL_CAH_img_3_335.jpg', 'TL_CAH_img_3_336.jpg', 'TL_CAH_img_3_337.jpg', 'TL_CAH_img_3_338.jpg', 'TL_CAH_img_3_339.jpg', 'TL_CAH_img_3_340.jpg', 'TL_CAH_img_3_341.jpg', 'TL_CAH_img_3_342.jpg', 'TL_CAH_img_3_343.jpg', 'TL_CAH_img_3_344.jpg', 'TL_CAH_img_3_345.jpg', 'TL_CAH_img_3_346.jpg', 'TL_CAH_img_3_347.jpg', 'TL_CAH_img_3_348.jpg', 'TL_CAH_img_3_349.jpg', 'TL_CAH_img_3_350.jpg', 'TL_CAH_img_3_351.jpg', 'TL_CAH_img_3_352.jpg', 'TL_CAH_img_3_353.jpg', 'TL_CAH_img_3_354.jpg', 'TL_CAH_img_3_355.jpg', 'TL_CAH_img_3_356.jpg', 'TL_CAH_img_3_357.jpg', 'TL_CAH_img_3_358.jpg', 'TL_CAH_img_3_359.jpg', 'TL_CAH_img_3_360.jpg', 'TL_CAH_img_3_361.jpg', 'TL_CAH_img_3_362.jpg', 'TL_CAH_img_3_363.jpg', 'TL_CAH_img_3_364.jpg', 'TL_CAH_img_3_365.jpg', 'TL_CAH_img_3_366.jpg', 'TL_CAH_img_3_367.jpg', 'TL_CAH_img_3_368.jpg', 'TL_CAH_img_3_369.jpg', 'TL_CAH_img_3_370.jpg', 'TL_CAH_img_3_371.jpg', 'TL_CAH_img_3_372.jpg', 'TL_CAH_img_3_373.jpg', 'TL_CAH_img_3_374.jpg', 'TL_CAH_img_3_375.jpg', 'TL_CAH_img_3_376.jpg', 'TL_CAH_img_3_377.jpg', 'TL_CAH_img_3_378.jpg', 'TL_CAH_img_3_379.jpg', 'TL_CAH_img_3_380.jpg', 'TL_CAH_img_3_381.jpg', 'TL_CAH_img_3_382.jpg', 'TL_CAH_img_3_383.jpg', 'TL_CAH_img_3_384.jpg', 'TL_CAH_img_3_385.jpg', 'TL_CAH_img_3_386.jpg', 'TL_CAH_img_3_387.jpg', 'TL_CAH_img_3_388.jpg', 'TL_CAH_img_3_389.jpg', 'TL_CAH_img_3_390.jpg', 'TL_CAH_img_3_391.jpg', 'TL_CAH_img_3_392.jpg', 'TL_CAH_img_3_393.jpg', 'TL_CAH_img_3_394.jpg', 'TL_CAH_img_3_395.jpg', 'TL_CAH_img_3_396.jpg', 'TL_CAH_img_3_397.jpg', 'TL_CAH_img_3_398.jpg', 'TL_CAH_img_3_399.jpg', 'TL_CAH_img_3_400.jpg', 'TL_CAH_img_3_401.jpg', 'TL_CAH_img_3_402.jpg', 'TL_CAH_img_3_403.jpg', 'TL_CAH_img_3_404.jpg', 'TL_CAH_img_3_405.jpg', 'TL_CAH_img_7_30.jpg', 'TL_CAH_img_7_31.jpg', 'TL_CAH_img_7_32.jpg', 'TL_CAH_img_7_33.jpg', 'TL_CAH_img_7_34.jpg', 'TL_CAH_img_7_35.jpg', 'TL_CAH_img_7_36.jpg', 'TL_CAH_img_7_37.jpg', 'TL_CAH_img_7_38.jpg', 'TL_CAH_img_7_39.jpg', 'TL_CAH_img_7_40.jpg', 'TL_CAH_img_7_41.jpg', 'TL_CAH_img_7_42.jpg', 'TL_CAH_img_7_43.jpg', 'TL_CAH_img_7_44.jpg', 'TL_CAH_img_7_45.jpg', 'TL_CAH_img_7_46.jpg', 'TL_CAH_img_7_47.jpg', 'TL_CAH_img_7_48.jpg', 'TL_CAH_img_7_49.jpg', 'TL_CAH_img_7_50.jpg', 'TL_CAH_img_7_51.jpg', 'TL_CAH_img_7_52.jpg', 'TL_CAH_img_7_53.jpg', 'TL_CAH_img_7_54.jpg', 'TL_CAH_img_7_55.jpg', 'TL_CAH_img_7_56.jpg', 'TL_CAH_img_7_57.jpg', 'TL_CAH_img_7_58.jpg', 'TL_CAH_img_7_59.jpg', 'TL_CAH_img_7_60.jpg', 'TL_CAH_img_7_61.jpg', 'TL_CAH_img_7_62.jpg', 'TL_CAH_img_7_63.jpg', 'TL_CAH_img_7_64.jpg', 'TL_CAH_img_7_65.jpg', 'TL_CAH_img_7_66.jpg', 'TL_CAH_img_7_67.jpg', 'TL_CAH_img_7_68.jpg', 'TL_CAH_img_7_69.jpg', 'TL_CAH_img_7_70.jpg', 'TL_CAH_img_7_71.jpg', 'TL_CAH_img_7_72.jpg', 'TL_CAH_img_7_73.jpg', 'TL_CAH_img_7_74.jpg', 'TL_CAH_img_7_75.jpg', 'TL_CAH_img_7_76.jpg', 'TL_CAH_img_7_77.jpg', 'TL_CAH_img_7_78.jpg', 'TL_CAH_img_7_79.jpg', 'TL_CAH_img_7_80.jpg', 'TL_CAH_img_7_81.jpg', 'TL_CAH_img_7_82.jpg', 'TL_CAH_img_7_83.jpg', 'TL_CAH_img_7_84.jpg', 'TL_CAH_img_7_85.jpg', 'TL_CAH_img_7_86.jpg', 'TL_CAH_img_7_87.jpg', 'TL_CAH_img_7_88.jpg', 'TL_CAH_img_7_89.jpg', 'TR_CAH_img_3_120.jpg', 'TR_CAH_img_3_121.jpg', 'CAH_GRP_5_90mm_647.jpg', 'CAH_GRP_5_90mm_648.jpg', 'CAH_GRP_5_90mm_649.jpg', 'CAH_GRP_5_90mm_650.jpg', 'CAH_GRP_5_90mm_651.jpg', 'CAH_GRP_5_90mm_652.jpg', 'CAH_GRP_5_90mm_653.jpg', 'CAH_GRP_5_90mm_654.jpg', 'CAH_GRP_5_90mm_655.jpg', 'CAH_GRP_5_90mm_656.jpg', 'CAH_GRP_5_90mm_657.jpg', 'CAH_GRP_5_90mm_658.jpg', 'CAH_GRP_5_90mm_659.jpg', 'CAH_GRP_5_90mm_660.jpg', 'CAH_GRP_5_90mm_661.jpg', 'CAH_GRP_5_90mm_662.jpg', 'CAH_GRP_5_90mm_663.jpg', 'CAH_GRP_5_90mm_664.jpg', 'CAH_GRP_5_90mm_665.jpg', 'CAH_GRP_5_90mm_666.jpg', 'CAH_GRP_5_90mm_667.jpg', 'CAH_GRP_5_90mm_668.jpg', 'CAH_GRP_5_90mm_669.jpg', 'CAH_GRP_5_90mm_670.jpg', 'CAH_GRP_5_90mm_671.jpg', 'CAH_GRP_5_90mm_672.jpg', 'CAH_GRP_5_90mm_673.jpg', 'CAH_GRP_5_90mm_674.jpg', 'CAH_GRP_5_90mm_675.jpg', 'CAH_GRP_5_90mm_676.jpg', 'CAH_GRP_5_90mm_677.jpg', 'CAH_GRP_5_90mm_678.jpg', 'CAH_GRP_5_90mm_679.jpg', 'CAH_GRP_5_90mm_680.jpg', 'CAH_GRP_5_90mm_681.jpg', 'CAH_GRP_5_90mm_682.jpg', 'CAH_GRP_5_90mm_683.jpg', 'CAH_GRP_5_90mm_684.jpg', 'CAH_GRP_5_90mm_685.jpg', 'CAH_GRP_5_90mm_686.jpg', 'CAH_GRP_5_90mm_687.jpg', 'CAH_GRP_5_90mm_688.jpg', 'CAH_GRP_5_90mm_689.jpg', 'CAH_GRP_5_90mm_690.jpg', 'CAH_GRP_5_90mm_691.jpg', 'CAH_GRP_5_90mm_692.jpg', 'CAH_GRP_5_90mm_693.jpg', 'CAH_GRP_5_90mm_694.jpg', 'CAH_GRP_5_90mm_695.jpg', 'CAH_GRP_5_90mm_696.jpg', 'CAH_GRP_5_90mm_697.jpg', 'CAH_GRP_5_90mm_698.jpg', 'CAH_GRP_5_90mm_699.jpg', 'CAH_GRP_5_90mm_700.jpg', 'CAH_GRP_5_90mm_701.jpg', 'CAH_GRP_5_90mm_702.jpg', 'CAH_GRP_5_90mm_703.jpg', 'CAH_GRP_5_90mm_704.jpg', 'CAH_GRP_5_90mm_705.jpg', 'CAH_GRP_5_90mm_706.jpg', 'CAH_GRP_5_90mm_707.jpg', 'CAH_GRP_5_90mm_708.jpg', 'CAH_GRP_5_90mm_709.jpg', 'CAH_GRP_5_90mm_710.jpg', 'CAH_GRP_5_90mm_711.jpg', 'CAH_GRP_5_90mm_712.jpg', 'CAH_GRP_5_90mm_713.jpg', 'CAH_GRP_5_90mm_714.jpg', 'CAH_GRP_5_90mm_715.jpg', 'CAH_GRP_5_90mm_716.jpg', 'CAH_GRP_5_90mm_717.jpg', 'CAH_GRP_5_90mm_718.jpg', 'CAH_GRP_5_90mm_719.jpg', 'CAH_GRP_5_90mm_720.jpg', 'CAH_GRP_5_90mm_721.jpg', 'CAH_GRP_5_90mm_722.jpg', 'CAH_GRP_5_90mm_723.jpg', 'CAH_GRP_5_90mm_724.jpg', 'CAH_GRP_5_90mm_725.jpg', 'CAH_GRP_5_90mm_726.jpg', 'CAH_GRP_5_90mm_727.jpg', 'CAH_GRP_5_90mm_728.jpg', 'CAH_GRP_5_90mm_729.jpg', 'CAH_GRP_5_90mm_730.jpg', 'CAH_GRP_5_90mm_731.jpg', 'CAH_GRP_5_90mm_732.jpg', 'CAH_GRP_5_90mm_733.jpg', 'CAH_GRP_5_90mm_734.jpg', 'CAH_GRP_5_90mm_735.jpg', 'CAH_GRP_5_90mm_736.jpg', 'CAH_GRP_5_90mm_737.jpg', 'CAH_GRP_5_90mm_738.jpg', 'CAH_GRP_5_90mm_739.jpg', 'CAH_GRP_5_90mm_740.jpg', 'CAH_GRP_5_90mm_741.jpg', 'CAH_GRP_5_90mm_742.jpg', 'CAH_GRP_5_90mm_743.jpg', 'CAH_GRP_5_90mm_744.jpg', 'CAH_GRP_5_90mm_745.jpg', 'CAH_GRP_5_90mm_746.jpg', 'CAH_GRP_5_90mm_747.jpg', 'CAH_GRP_5_90mm_748.jpg', 'CAH_GRP_5_90mm_749.jpg', 'CAH_GRP_5_90mm_750.jpg', 'CAH_GRP_5_90mm_751.jpg', 'CAH_GRP_5_90mm_752.jpg', 'CAH_GRP_5_90mm_753.jpg', 'CAH_GRP_5_90mm_754.jpg', 'CAH_GRP_5_90mm_755.jpg', 'CAH_GRP_5_90mm_756.jpg', 'CAH_GRP_5_90mm_757.jpg', 'CAH_GRP_5_90mm_758.jpg', 'CAH_GRP_5_90mm_759.jpg', 'CAH_GRP_5_90mm_760.jpg', 'CAH_GRP_5_90mm_761.jpg', 'CAH_GRP_5_90mm_762.jpg', 'CAH_GRP_5_90mm_763.jpg', 'CAH_GRP_5_90mm_764.jpg', 'CAH_GRP_5_90mm_765.jpg', 'CAH_GRP_5_90mm_766.jpg', 'CAH_GRP_5_90mm_767.jpg', 'CAH_GRP_5_90mm_768.jpg', 'CAH_GRP_5_90mm_769.jpg', 'CAH_GRP_5_90mm_770.jpg', 'CAH_GRP_5_90mm_771.jpg', 'CAH_GRP_5_90mm_772.jpg', 'CAH_GRP_5_90mm_773.jpg', 'CAH_GRP_5_90mm_774.jpg', 'CAH_GRP_5_90mm_775.jpg', 'CAH_GRP_5_90mm_776.jpg', 'CAH_GRP_5_90mm_777.jpg', 'CAH_GRP_5_90mm_778.jpg', 'CAH_GRP_5_90mm_779.jpg', 'CAH_GRP_5_90mm_780.jpg', 'CAH_GRP_5_90mm_781.jpg', 'CAH_GRP_5_90mm_782.jpg', 'CAH_GRP_5_90mm_783.jpg', 'CAH_GRP_5_90mm_784.jpg', 'CAH_GRP_5_90mm_785.jpg', 'CAH_GRP_5_90mm_786.jpg', 'CAH_GRP_5_90mm_787.jpg', 'CAH_GRP_5_90mm_788.jpg', 'CAH_GRP_5_90mm_789.jpg', 'CAH_GRP_5_90mm_790.jpg', 'CAH_GRP_5_90mm_791.jpg', 'CAH_GRP_5_90mm_792.jpg', 'CAH_GRP_5_90mm_793.jpg', 'CAH_GRP_5_90mm_794.jpg', 'CAH_GRP_5_90mm_795.jpg', 'CAH_GRP_5_90mm_796.jpg', 'CAH_GRP_5_90mm_797.jpg', 'CAH_GRP_5_90mm_798.jpg', 'CAH_GRP_5_90mm_799.jpg', 'CAH_GRP_5_90mm_800.jpg', 'CAH_GRP_5_90mm_801.jpg', 'CAH_GRP_5_90mm_802.jpg', 'CAH_GRP_5_90mm_803.jpg', 'CAH_GRP_5_90mm_804.jpg', 'CAH_GRP_5_90mm_805.jpg', 'CAH_GRP_5_90mm_806.jpg', 'CAH_GRP_5_90mm_807.jpg', 'CAH_GRP_5_90mm_808.jpg', 'CAH_GRP_5_90mm_809.jpg', 'CAH_GRP_5_90mm_810.jpg', 'CAH_GRP_5_90mm_811.jpg', 'CAH_GRP_5_90mm_812.jpg', 'CAH_GRP_5_90mm_813.jpg', 'CAH_GRP_5_90mm_814.jpg', 'CAH_GRP_5_90mm_815.jpg', 'CAH_GRP_5_90mm_816.jpg', 'CAH_GRP_5_90mm_817.jpg', 'CAH_GRP_5_90mm_818.jpg', 'CAH_GRP_5_90mm_819.jpg', 'CAH_GRP_5_90mm_820.jpg', 'CAH_GRP_5_90mm_821.jpg', 'CAH_GRP_5_90mm_822.jpg', 'CAH_GRP_5_90mm_823.jpg', 'CAH_GRP_5_90mm_824.jpg', 'CAH_GRP_5_90mm_825.jpg', 'CAH_GRP_5_90mm_826.jpg', 'CAH_GRP_5_90mm_827.jpg', 'CAH_GRP_5_90mm_828.jpg', 'CAH_GRP_5_90mm_829.jpg', 'CAH_GRP_5_90mm_830.jpg', 'CAH_GRP_5_90mm_831.jpg', 'CAH_GRP_5_90mm_832.jpg', 'CAH_GRP_5_90mm_833.jpg', 'CAH_GRP_5_90mm_834.jpg', 'CAH_GRP_5_90mm_835.jpg', 'CAH_GRP_5_90mm_836.jpg', 'CAH_GRP_5_90mm_837.jpg', 'CAH_GRP_5_90mm_838.jpg', 'CAH_GRP_5_90mm_839.jpg', 'CAH_GRP_5_90mm_840.jpg', 'CAH_GRP_5_90mm_841.jpg', 'CAH_GRP_5_90mm_842.jpg', 'CAH_GRP_5_90mm_843.jpg', 'CAH_GRP_5_90mm_844.jpg', 'CAH_GRP_5_90mm_845.jpg', 'CAH_GRP_5_90mm_846.jpg', 'CAH_GRP_5_90mm_847.jpg', 'CAH_GRP_5_90mm_848.jpg', 'CAH_GRP_5_90mm_849.jpg', 'CAH_GRP_5_90mm_850.jpg', 'CAH_GRP_5_90mm_851.jpg', 'CAH_GRP_5_90mm_852.jpg', 'CAH_GRP_5_90mm_853.jpg', 'CAH_GRP_5_90mm_854.jpg', 'CAH_GRP_5_90mm_855.jpg', 'CAH_GRP_5_90mm_856.jpg', 'CAH_GRP_5_90mm_857.jpg', 'CAH_GRP_5_90mm_858.jpg', 'CAH_GRP_5_90mm_859.jpg', 'CAH_GRP_5_90mm_860.jpg', 'CAH_GRP_5_90mm_861.jpg', 'CAH_GRP_5_90mm_862.jpg', 'CAH_GRP_5_90mm_863.jpg', 'CAH_GRP_5_90mm_864.jpg', 'CAH_GRP_5_90mm_865.jpg', 'CAH_GRP_5_90mm_866.jpg', 'CAH_GRP_5_90mm_867.jpg', 'CAH_GRP_5_90mm_868.jpg', 'CAH_GRP_5_90mm_869.jpg', 'CAH_GRP_5_90mm_870.jpg', 'CAH_GRP_5_90mm_871.jpg', 'CAH_GRP_5_90mm_872.jpg', 'CAH_GRP_5_90mm_873.jpg', 'CAH_GRP_5_90mm_874.jpg', 'CAH_GRP_5_90mm_875.jpg', 'CAH_GRP_5_90mm_876.jpg', 'CAH_GRP_5_90mm_877.jpg', 'CAH_GRP_5_90mm_878.jpg', 'CAH_GRP_5_90mm_879.jpg', 'CAH_GRP_5_90mm_880.jpg', 'CAH_GRP_5_90mm_881.jpg', 'CAH_GRP_5_90mm_882.jpg', 'CAH_GRP_5_90mm_883.jpg', 'CAH_GRP_5_90mm_884.jpg', 'CAH_GRP_5_90mm_885.jpg', 'CAH_GRP_5_90mm_886.jpg', 'CAH_GRP_5_90mm_887.jpg', 'CAH_GRP_5_90mm_888.jpg', 'CAH_GRP_5_90mm_889.jpg', 'CAH_GRP_5_90mm_890.jpg', 'CAH_GRP_5_90mm_891.jpg', 'CAH_GRP_5_90mm_892.jpg', 'CAH_GRP_5_90mm_893.jpg', 'CAH_GRP_5_90mm_894.jpg', 'CAH_GRP_5_90mm_895.jpg', 'CAH_GRP_5_90mm_896.jpg', 'CAH_GRP_5_90mm_897.jpg', 'CAH_GRP_5_90mm_898.jpg', 'CAH_GRP_5_90mm_899.jpg', 'CAH_GRP_5_90mm_900.jpg', 'CAH_GRP_5_90mm_901.jpg', 'CAH_GRP_5_90mm_902.jpg', 'CAH_GRP_5_90mm_903.jpg', 'CAH_GRP_5_90mm_904.jpg', 'CAH_GRP_5_90mm_905.jpg', 'CAH_GRP_5_90mm_906.jpg', 'CAH_GRP_5_90mm_907.jpg', 'CAH_GRP_5_90mm_908.jpg', 'CAH_GRP_5_90mm_909.jpg', 'CAH_GRP_5_90mm_910.jpg', 'CAH_GRP_5_90mm_911.jpg', 'CAH_GRP_5_90mm_912.jpg', 'CAH_GRP_5_90mm_913.jpg', 'CAH_GRP_5_90mm_914.jpg', 'CAH_GRP_5_90mm_915.jpg', 'CAH_GRP_5_90mm_916.jpg', 'CAH_GRP_5_90mm_917.jpg', 'CAH_GRP_5_90mm_918.jpg', 'CAH_GRP_5_90mm_919.jpg', 'CAH_GRP_5_90mm_920.jpg', 'CAH_GRP_5_90mm_921.jpg', 'CAH_GRP_5_90mm_922.jpg', 'CAH_GRP_5_90mm_923.jpg', 'CAH_GRP_5_90mm_924.jpg', 'CAH_GRP_5_90mm_925.jpg', 'CAH_GRP_5_90mm_926.jpg', 'CAH_GRP_5_90mm_927.jpg', 'CAH_GRP_5_90mm_928.jpg', 'CAH_GRP_5_90mm_929.jpg', 'CAH_GRP_5_90mm_930.jpg', 'CAH_GRP_5_90mm_931.jpg', 'CAH_GRP_5_90mm_932.jpg', 'CAH_GRP_5_90mm_933.jpg', 'CAH_GRP_5_90mm_934.jpg', 'CAH_GRP_5_90mm_935.jpg', 'CAH_GRP_5_90mm_936.jpg', 'CAH_GRP_5_90mm_937.jpg', 'CAH_GRP_5_90mm_938.jpg', 'CAH_GRP_5_90mm_939.jpg', 'CAH_GRP_5_90mm_940.jpg', 'CAH_GRP_5_90mm_941.jpg', 'CAH_GRP_5_90mm_942.jpg', 'CAH_GRP_5_90mm_943.jpg', 'CAH_GRP_5_90mm_944.jpg', 'CAH_GRP_5_90mm_945.jpg', 'CAH_GRP_5_90mm_946.jpg', 'CAH_GRP_5_90mm_947.jpg', 'CAH_GRP_5_90mm_948.jpg', 'CAH_GRP_5_90mm_949.jpg', 'CAH_GRP_5_90mm_950.jpg', 'CAH_GRP_5_90mm_951.jpg', 'CAH_GRP_5_90mm_952.jpg', 'CAH_GRP_5_90mm_953.jpg', 'CAH_GRP_5_90mm_954.jpg', 'CAH_GRP_5_90mm_955.jpg', 'CAH_GRP_5_90mm_956.jpg', 'CAH_GRP_5_90mm_957.jpg', 'CAH_GRP_5_90mm_958.jpg', 'CAH_GRP_5_90mm_959.jpg', 'CAH_GRP_5_90mm_960.jpg', 'CAH_GRP_5_90mm_961.jpg', 'CAH_GRP_5_90mm_962.jpg', 'CAH_GRP_5_90mm_963.jpg', 'CAH_GRP_5_90mm_964.jpg', 'CAH_GRP_5_90mm_965.jpg', 'CAH_GRP_5_90mm_966.jpg', 'CAH_GRP_5_90mm_967.jpg', 'CAH_GRP_5_90mm_968.jpg', 'CAH_GRP_5_90mm_969.jpg', 'CAH_GRP_5_90mm_970.jpg', 'CAH_GRP_5_90mm_971.jpg', 'CAH_GRP_5_90mm_972.jpg', 'CAH_GRP_5_90mm_973.jpg', 'CAH_GRP_5_90mm_974.jpg', 'MB1_CAH_img_3_120.jpg', 'MB1_CAH_img_3_121.jpg', 'MB1_CAH_img_3_122.jpg', 'MB1_CAH_img_3_123.jpg', 'MB1_CAH_img_3_124.jpg', 'MB1_CAH_img_3_125.jpg', 'MB1_CAH_img_3_126.jpg', 'MB1_CAH_img_3_127.jpg', 'MB1_CAH_img_3_128.jpg', 'MB1_CAH_img_3_129.jpg', 'MB1_CAH_img_3_130.jpg', 'MB1_CAH_img_3_131.jpg', 'MB1_CAH_img_3_132.jpg', 'MB1_CAH_img_3_133.jpg', 'MB1_CAH_img_3_134.jpg', 'MB1_CAH_img_3_135.jpg', 'MB1_CAH_img_3_136.jpg', 'MB1_CAH_img_3_137.jpg', 'MB1_CAH_img_3_138.jpg', 'MB1_CAH_img_3_139.jpg', 'MB1_CAH_img_3_140.jpg', 'MB1_CAH_img_3_141.jpg', 'MB1_CAH_img_3_142.jpg', 'MB1_CAH_img_3_143.jpg', 'MB1_CAH_img_3_144.jpg', 'MB1_CAH_img_3_145.jpg', 'MB1_CAH_img_3_146.jpg', 'MB1_CAH_img_3_147.jpg', 'MB1_CAH_img_3_148.jpg', 'MB1_CAH_img_3_149.jpg', 'MB1_CAH_img_3_150.jpg', 'MB1_CAH_img_3_151.jpg', 'MB1_CAH_img_3_152.jpg', 'MB1_CAH_img_3_153.jpg', 'MB1_CAH_img_3_154.jpg', 'MB1_CAH_img_3_155.jpg', 'MB1_CAH_img_3_156.jpg', 'MB1_CAH_img_3_157.jpg', 'MB1_CAH_img_3_158.jpg', 'MB1_CAH_img_3_159.jpg', 'MB1_CAH_img_3_160.jpg', 'MB1_CAH_img_3_161.jpg', 'MB1_CAH_img_3_162.jpg', 'MB1_CAH_img_3_163.jpg', 'MB1_CAH_img_3_164.jpg', 'MB1_CAH_img_3_165.jpg', 'MB1_CAH_img_3_166.jpg', 'MB1_CAH_img_3_167.jpg', 'MB1_CAH_img_3_168.jpg', 'MB1_CAH_img_3_169.jpg', 'MB1_CAH_img_3_170.jpg', 'MB1_CAH_img_3_171.jpg', 'MB1_CAH_img_3_172.jpg', 'MB1_CAH_img_3_173.jpg', 'MB1_CAH_img_3_174.jpg', 'MB1_CAH_img_3_175.jpg', 'MB1_CAH_img_3_176.jpg', 'MB1_CAH_img_3_177.jpg', 'MB1_CAH_img_3_178.jpg', 'MB1_CAH_img_3_179.jpg', 'MB1_CAH_img_3_180.jpg', 'MB1_CAH_img_3_181.jpg', 'MB1_CAH_img_3_182.jpg', 'MB1_CAH_img_3_183.jpg', 'MB1_CAH_img_3_184.jpg', 'MB1_CAH_img_3_185.jpg', 'MB1_CAH_img_3_186.jpg', 'MB1_CAH_img_3_187.jpg', 'MB1_CAH_img_3_188.jpg', 'MB1_CAH_img_3_189.jpg', 'MB1_CAH_img_3_190.jpg', 'MB1_CAH_img_3_191.jpg', 'MB1_CAH_img_3_192.jpg', 'MB1_CAH_img_3_193.jpg', 'MB1_CAH_img_3_194.jpg', 'MB1_CAH_img_3_195.jpg', 'MB1_CAH_img_3_196.jpg', 'MB1_CAH_img_3_197.jpg', 'MB1_CAH_img_3_198.jpg', 'MB1_CAH_img_3_199.jpg', 'MB1_CAH_img_3_200.jpg', 'MB1_CAH_img_3_201.jpg', 'MB1_CAH_img_3_202.jpg', 'MB1_CAH_img_3_203.jpg', 'MB1_CAH_img_3_204.jpg', 'MB1_CAH_img_3_205.jpg', 'MB1_CAH_img_3_206.jpg', 'MB1_CAH_img_3_207.jpg', 'MB1_CAH_img_3_208.jpg', 'MB1_CAH_img_3_209.jpg', 'MB1_CAH_img_3_210.jpg', 'MB1_CAH_img_3_211.jpg', 'MB1_CAH_img_3_212.jpg', 'MB1_CAH_img_3_213.jpg', 'MB1_CAH_img_3_214.jpg', 'MB1_CAH_img_3_215.jpg', 'MB1_CAH_img_3_216.jpg', 'MB1_CAH_img_3_217.jpg', 'MB1_CAH_img_3_218.jpg', 'MB1_CAH_img_3_219.jpg', 'MB1_CAH_img_3_220.jpg', 'MB1_CAH_img_3_221.jpg', 'MB1_CAH_img_3_222.jpg', 'MB1_CAH_img_3_223.jpg', 'MB1_CAH_img_3_224.jpg', 'MB1_CAH_img_3_225.jpg', 'MB1_CAH_img_3_226.jpg', 'MB1_CAH_img_3_227.jpg', 'MB1_CAH_img_3_228.jpg', 'MB1_CAH_img_3_229.jpg', 'MB1_CAH_img_3_230.jpg', 'MB1_CAH_img_3_231.jpg', 'MB1_CAH_img_3_232.jpg', 'MB1_CAH_img_3_233.jpg', 'MB1_CAH_img_3_234.jpg', 'MB1_CAH_img_3_235.jpg', 'MB1_CAH_img_3_236.jpg', 'MB1_CAH_img_3_237.jpg', 'MB1_CAH_img_3_238.jpg', 'MB1_CAH_img_3_239.jpg', 'MB1_CAH_img_3_240.jpg', 'MB1_CAH_img_3_241.jpg', 'MB1_CAH_img_3_242.jpg', 'MB1_CAH_img_3_243.jpg', 'MB1_CAH_img_3_244.jpg', 'MB1_CAH_img_3_245.jpg', 'MB1_CAH_img_3_246.jpg', 'MB1_CAH_img_3_247.jpg', 'MB1_CAH_img_3_248.jpg', 'MB1_CAH_img_3_249.jpg', 'MB1_CAH_img_3_250.jpg', 'MB1_CAH_img_3_251.jpg', 'MB1_CAH_img_3_252.jpg', 'MB1_CAH_img_3_253.jpg', 'MB1_CAH_img_3_254.jpg', 'MB1_CAH_img_3_255.jpg', 'MB1_CAH_img_3_256.jpg', 'MB1_CAH_img_3_257.jpg', 'MB1_CAH_img_3_258.jpg', 'MB1_CAH_img_3_259.jpg', 'MB1_CAH_img_3_260.jpg', 'MB1_CAH_img_3_261.jpg', 'MB1_CAH_img_3_262.jpg', 'MB1_CAH_img_3_263.jpg', 'MB1_CAH_img_3_264.jpg', 'MB1_CAH_img_3_265.jpg', 'MB1_CAH_img_3_266.jpg', 'MB1_CAH_img_3_267.jpg', 'MB1_CAH_img_3_268.jpg', 'MB1_CAH_img_3_269.jpg', 'MB1_CAH_img_3_270.jpg', 'MB1_CAH_img_3_271.jpg', 'MB1_CAH_img_3_272.jpg', 'MB1_CAH_img_3_273.jpg', 'MB1_CAH_img_3_274.jpg', 'MB1_CAH_img_3_275.jpg', 'MB1_CAH_img_3_276.jpg', 'MB1_CAH_img_3_277.jpg', 'MB1_CAH_img_3_278.jpg', 'MB1_CAH_img_3_279.jpg', 'MB1_CAH_img_3_280.jpg', 'MB1_CAH_img_3_281.jpg', 'MB1_CAH_img_3_282.jpg', 'MB1_CAH_img_3_283.jpg', 'MB1_CAH_img_3_284.jpg', 'MB1_CAH_img_3_285.jpg', 'MB1_CAH_img_3_286.jpg', 'MB1_CAH_img_3_287.jpg', 'MB1_CAH_img_3_288.jpg', 'MB1_CAH_img_3_289.jpg', 'MB1_CAH_img_3_290.jpg', 'MB1_CAH_img_3_291.jpg', 'MB1_CAH_img_3_292.jpg', 'MB1_CAH_img_3_293.jpg', 'MB1_CAH_img_3_294.jpg', 'MB1_CAH_img_3_295.jpg', 'MB1_CAH_img_3_296.jpg', 'MB1_CAH_img_3_297.jpg', 'MB1_CAH_img_3_298.jpg', 'MB1_CAH_img_3_299.jpg', 'MB1_CAH_img_3_300.jpg', 'MB1_CAH_img_3_301.jpg', 'MB1_CAH_img_3_302.jpg', 'MB1_CAH_img_3_303.jpg', 'MB1_CAH_img_3_304.jpg', 'MB1_CAH_img_3_305.jpg', 'MB1_CAH_img_3_306.jpg', 'MB1_CAH_img_3_307.jpg', 'MB1_CAH_img_3_308.jpg', 'MB1_CAH_img_3_309.jpg', 'MB1_CAH_img_3_310.jpg', 'MB1_CAH_img_3_311.jpg', 'MB1_CAH_img_3_312.jpg', 'MB1_CAH_img_3_313.jpg', 'MB1_CAH_img_3_314.jpg', 'MB1_CAH_img_3_315.jpg', 'MB1_CAH_img_3_316.jpg', 'MB1_CAH_img_3_317.jpg', 'MB1_CAH_img_3_318.jpg', 'MB1_CAH_img_3_319.jpg', 'MB1_CAH_img_3_320.jpg', 'MB1_CAH_img_3_321.jpg', 'MB1_CAH_img_3_322.jpg', 'MB1_CAH_img_3_323.jpg', 'MB1_CAH_img_3_324.jpg', 'MB1_CAH_img_3_325.jpg', 'MB1_CAH_img_3_326.jpg', 'MB1_CAH_img_3_327.jpg', 'MB1_CAH_img_3_328.jpg', 'MB1_CAH_img_3_329.jpg', 'MB1_CAH_img_3_330.jpg', 'MB1_CAH_img_3_331.jpg', 'MB1_CAH_img_3_332.jpg', 'MB1_CAH_img_3_333.jpg', 'MB1_CAH_img_3_334.jpg', 'MB1_CAH_img_3_335.jpg', 'MB1_CAH_img_3_336.jpg', 'MB1_CAH_img_3_337.jpg', 'MB1_CAH_img_3_338.jpg', 'MB1_CAH_img_3_339.jpg', 'MB1_CAH_img_3_340.jpg', 'MB1_CAH_img_3_341.jpg', 'MB1_CAH_img_3_342.jpg', 'MB1_CAH_img_3_343.jpg', 'MB1_CAH_img_3_344.jpg', 'MB1_CAH_img_3_345.jpg', 'MB1_CAH_img_3_346.jpg', 'MB1_CAH_img_3_347.jpg', 'MB1_CAH_img_3_348.jpg', 'MB1_CAH_img_3_349.jpg', 'MB1_CAH_img_3_350.jpg', 'MB1_CAH_img_3_351.jpg', 'MB1_CAH_img_3_352.jpg', 'MB1_CAH_img_3_353.jpg', 'MB1_CAH_img_3_354.jpg', 'MB1_CAH_img_3_355.jpg', 'MB1_CAH_img_3_356.jpg', 'MB1_CAH_img_3_357.jpg', 'MB1_CAH_img_3_358.jpg', 'MB1_CAH_img_3_359.jpg', 'MB1_CAH_img_3_360.jpg', 'MB1_CAH_img_3_361.jpg', 'MB1_CAH_img_3_362.jpg', 'MB1_CAH_img_3_363.jpg', 'MB1_CAH_img_3_364.jpg', 'MB1_CAH_img_3_365.jpg', 'MB1_CAH_img_3_366.jpg', 'MB1_CAH_img_3_367.jpg', 'MB1_CAH_img_3_368.jpg', 'MB1_CAH_img_3_369.jpg', 'MB1_CAH_img_3_370.jpg', 'MB1_CAH_img_3_371.jpg', 'MB1_CAH_img_3_372.jpg', 'MB1_CAH_img_3_373.jpg', 'MB1_CAH_img_3_374.jpg', 'MB1_CAH_img_3_375.jpg', 'MB1_CAH_img_3_376.jpg', 'MB1_CAH_img_3_377.jpg', 'MB1_CAH_img_3_378.jpg', 'MB1_CAH_img_3_379.jpg', 'MB1_CAH_img_3_380.jpg', 'MB1_CAH_img_3_381.jpg', 'MB1_CAH_img_3_382.jpg', 'MB1_CAH_img_3_383.jpg', 'MB1_CAH_img_3_384.jpg', 'MB1_CAH_img_3_385.jpg', 'MB1_CAH_img_3_386.jpg', 'MB1_CAH_img_3_387.jpg', 'MB1_CAH_img_3_388.jpg', 'MB1_CAH_img_3_389.jpg', 'MB1_CAH_img_3_390.jpg', 'MB1_CAH_img_3_391.jpg', 'MB1_CAH_img_3_392.jpg', 'MB1_CAH_img_3_393.jpg', 'MB1_CAH_img_3_394.jpg', 'MB1_CAH_img_3_395.jpg', 'MB1_CAH_img_3_396.jpg', 'MB1_CAH_img_3_397.jpg', 'MB1_CAH_img_3_398.jpg', 'MB1_CAH_img_3_399.jpg', 'MB1_CAH_img_3_400.jpg', 'MB1_CAH_img_3_401.jpg', 'MB1_CAH_img_3_402.jpg', 'MB1_CAH_img_3_403.jpg', 'MB1_CAH_img_3_404.jpg', 'MB1_CAH_img_3_405.jpg', 'MB1_CAH_img_7_30.jpg', 'MB1_CAH_img_7_31.jpg', 'MB1_CAH_img_7_32.jpg', 'MB1_CAH_img_7_33.jpg', 'MB1_CAH_img_7_34.jpg', 'MB1_CAH_img_7_35.jpg', 'MB1_CAH_img_7_36.jpg', 'MB1_CAH_img_7_37.jpg', 'MB1_CAH_img_7_38.jpg', 'MB1_CAH_img_7_39.jpg', 'MB1_CAH_img_7_40.jpg', 'MB1_CAH_img_7_41.jpg', 'MB1_CAH_img_7_42.jpg', 'MB1_CAH_img_7_43.jpg', 'MB1_CAH_img_7_44.jpg', 'MB1_CAH_img_7_45.jpg', 'MB1_CAH_img_7_46.jpg', 'MB1_CAH_img_7_47.jpg', 'MB1_CAH_img_7_48.jpg', 'MB1_CAH_img_7_49.jpg', 'MB1_CAH_img_7_50.jpg', 'MB1_CAH_img_7_51.jpg', 'MB1_CAH_img_7_52.jpg', 'MB1_CAH_img_7_53.jpg', 'MB1_CAH_img_7_54.jpg', 'MB1_CAH_img_7_55.jpg', 'MB1_CAH_img_7_56.jpg', 'MB1_CAH_img_7_57.jpg', 'MB1_CAH_img_7_58.jpg', 'MB1_CAH_img_7_59.jpg', 'MB1_CAH_img_7_60.jpg', 'MB1_CAH_img_7_61.jpg', 'MB1_CAH_img_7_62.jpg', 'MB1_CAH_img_7_63.jpg', 'MB1_CAH_img_7_64.jpg', 'MB1_CAH_img_7_65.jpg', 'MB1_CAH_img_7_66.jpg', 'MB1_CAH_img_7_67.jpg', 'MB1_CAH_img_7_68.jpg', 'MB1_CAH_img_7_69.jpg', 'MB1_CAH_img_7_70.jpg', 'MB1_CAH_img_7_71.jpg', 'MB1_CAH_img_7_72.jpg', 'MB1_CAH_img_7_73.jpg', 'MB1_CAH_img_7_74.jpg', 'MB1_CAH_img_7_75.jpg', 'MB1_CAH_img_7_76.jpg', 'MB1_CAH_img_7_77.jpg', 'MB1_CAH_img_7_78.jpg', 'MB1_CAH_img_7_79.jpg', 'MB1_CAH_img_7_80.jpg', 'MB1_CAH_img_7_81.jpg', 'MB1_CAH_img_7_82.jpg', 'MB1_CAH_img_7_83.jpg', 'MB1_CAH_img_7_84.jpg', 'MB1_CAH_img_7_85.jpg', 'MB1_CAH_img_7_86.jpg', 'MB1_CAH_img_7_87.jpg', 'MB1_CAH_img_7_88.jpg', 'MB1_CAH_img_7_89.jpg', 'MB2_CAH_img_3_120.jpg', 'MB2_CAH_img_3_121.jpg', 'MB2_CAH_img_3_122.jpg', 'MB2_CAH_img_3_123.jpg', 'MB2_CAH_img_3_124.jpg', 'MB2_CAH_img_3_125.jpg', 'MB2_CAH_img_3_126.jpg', 'MB2_CAH_img_3_127.jpg', 'MB2_CAH_img_3_128.jpg', 'MB2_CAH_img_3_129.jpg', 'MB2_CAH_img_3_130.jpg', 'MB2_CAH_img_3_131.jpg', 'MB2_CAH_img_3_132.jpg', 'MB2_CAH_img_3_133.jpg', 'MB2_CAH_img_3_134.jpg', 'MB2_CAH_img_3_135.jpg', 'MB2_CAH_img_3_136.jpg', 'MB2_CAH_img_3_137.jpg', 'MB2_CAH_img_3_138.jpg', 'MB2_CAH_img_3_139.jpg', 'MB2_CAH_img_3_140.jpg', 'MB2_CAH_img_3_141.jpg', 'MB2_CAH_img_3_142.jpg', 'MB2_CAH_img_3_143.jpg', 'MB2_CAH_img_3_144.jpg', 'MB2_CAH_img_3_145.jpg', 'MB2_CAH_img_3_146.jpg', 'MB2_CAH_img_3_147.jpg', 'MB2_CAH_img_3_148.jpg', 'MB2_CAH_img_3_149.jpg', 'MB2_CAH_img_3_150.jpg', 'MB2_CAH_img_3_151.jpg', 'MB2_CAH_img_3_152.jpg', 'MB2_CAH_img_3_153.jpg', 'MB2_CAH_img_3_154.jpg', 'MB2_CAH_img_3_155.jpg', 'MB2_CAH_img_3_156.jpg', 'MB2_CAH_img_3_157.jpg', 'MB2_CAH_img_3_158.jpg', 'MB2_CAH_img_3_159.jpg', 'MB2_CAH_img_3_160.jpg', 'MB2_CAH_img_3_161.jpg', 'MB2_CAH_img_3_162.jpg', 'MB2_CAH_img_3_163.jpg', 'MB2_CAH_img_3_164.jpg', 'MB2_CAH_img_3_165.jpg', 'MB2_CAH_img_3_166.jpg', 'MB2_CAH_img_3_167.jpg', 'MB2_CAH_img_3_168.jpg', 'MB2_CAH_img_3_169.jpg', 'MB2_CAH_img_3_170.jpg', 'MB2_CAH_img_3_171.jpg', 'MB2_CAH_img_3_172.jpg', 'MB2_CAH_img_3_173.jpg', 'MB2_CAH_img_3_174.jpg', 'MB2_CAH_img_3_175.jpg', 'MB2_CAH_img_3_176.jpg', 'MB2_CAH_img_3_177.jpg', 'MB2_CAH_img_3_178.jpg', 'MB2_CAH_img_3_179.jpg', 'MB2_CAH_img_3_180.jpg', 'MB2_CAH_img_3_181.jpg', 'MB2_CAH_img_3_182.jpg', 'MB2_CAH_img_3_183.jpg', 'MB2_CAH_img_3_184.jpg', 'MB2_CAH_img_3_185.jpg', 'MB2_CAH_img_3_186.jpg', 'MB2_CAH_img_3_187.jpg', 'MB2_CAH_img_3_188.jpg', 'MB2_CAH_img_3_189.jpg', 'MB2_CAH_img_3_190.jpg', 'MB2_CAH_img_3_191.jpg', 'MB2_CAH_img_3_192.jpg', 'MB2_CAH_img_3_193.jpg', 'MB2_CAH_img_3_194.jpg', 'MB2_CAH_img_3_195.jpg', 'MB2_CAH_img_3_196.jpg', 'MB2_CAH_img_3_197.jpg', 'MB2_CAH_img_3_198.jpg', 'MB2_CAH_img_3_199.jpg', 'MB2_CAH_img_3_200.jpg', 'MB2_CAH_img_3_201.jpg', 'MB2_CAH_img_3_202.jpg', 'MB2_CAH_img_3_203.jpg', 'MB2_CAH_img_3_204.jpg', 'MB2_CAH_img_3_205.jpg', 'MB2_CAH_img_3_206.jpg', 'MB2_CAH_img_3_207.jpg', 'MB2_CAH_img_3_208.jpg', 'MB2_CAH_img_3_209.jpg', 'MB2_CAH_img_3_210.jpg', 'MB2_CAH_img_3_211.jpg', 'MB2_CAH_img_3_212.jpg', 'MB2_CAH_img_3_213.jpg', 'MB2_CAH_img_3_214.jpg', 'MB2_CAH_img_3_215.jpg', 'MB2_CAH_img_3_216.jpg', 'MB2_CAH_img_3_217.jpg', 'MB2_CAH_img_3_218.jpg', 'MB2_CAH_img_3_219.jpg', 'MB2_CAH_img_3_220.jpg', 'MB2_CAH_img_3_221.jpg', 'MB2_CAH_img_3_222.jpg', 'MB2_CAH_img_3_223.jpg', 'MB2_CAH_img_3_224.jpg', 'MB2_CAH_img_3_225.jpg', 'MB2_CAH_img_3_226.jpg', 'MB2_CAH_img_3_227.jpg', 'MB2_CAH_img_3_228.jpg', 'MB2_CAH_img_3_229.jpg', 'MB2_CAH_img_3_230.jpg', 'MB2_CAH_img_3_231.jpg', 'MB2_CAH_img_3_232.jpg', 'MB2_CAH_img_3_233.jpg', 'MB2_CAH_img_3_234.jpg', 'MB2_CAH_img_3_235.jpg', 'MB2_CAH_img_3_236.jpg', 'MB2_CAH_img_3_237.jpg', 'MB2_CAH_img_3_238.jpg', 'MB2_CAH_img_3_239.jpg', 'MB2_CAH_img_3_240.jpg', 'MB2_CAH_img_3_241.jpg', 'MB2_CAH_img_3_242.jpg', 'MB2_CAH_img_3_243.jpg', 'MB2_CAH_img_3_244.jpg', 'MB2_CAH_img_3_245.jpg', 'MB2_CAH_img_3_246.jpg', 'MB2_CAH_img_3_247.jpg', 'MB2_CAH_img_3_248.jpg', 'MB2_CAH_img_3_249.jpg', 'MB2_CAH_img_3_250.jpg', 'MB2_CAH_img_3_251.jpg', 'MB2_CAH_img_3_252.jpg', 'MB2_CAH_img_3_253.jpg', 'MB2_CAH_img_3_254.jpg', 'MB2_CAH_img_3_255.jpg', 'MB2_CAH_img_3_256.jpg', 'MB2_CAH_img_3_257.jpg', 'MB2_CAH_img_3_258.jpg', 'MB2_CAH_img_3_259.jpg', 'MB2_CAH_img_3_260.jpg', 'MB2_CAH_img_3_261.jpg', 'MB2_CAH_img_3_262.jpg', 'MB2_CAH_img_3_263.jpg', 'MB2_CAH_img_3_264.jpg', 'MB2_CAH_img_3_265.jpg', 'MB2_CAH_img_3_266.jpg', 'MB2_CAH_img_3_267.jpg', 'MB2_CAH_img_3_268.jpg', 'MB2_CAH_img_3_269.jpg', 'MB2_CAH_img_3_270.jpg', 'MB2_CAH_img_3_271.jpg', 'MB2_CAH_img_3_272.jpg', 'MB2_CAH_img_3_273.jpg', 'MB2_CAH_img_3_274.jpg', 'MB2_CAH_img_3_275.jpg', 'MB2_CAH_img_3_276.jpg', 'MB2_CAH_img_3_277.jpg', 'MB2_CAH_img_3_278.jpg', 'MB2_CAH_img_3_279.jpg', 'MB2_CAH_img_3_280.jpg', 'MB2_CAH_img_3_281.jpg', 'MB2_CAH_img_3_282.jpg', 'MB2_CAH_img_3_283.jpg', 'MB2_CAH_img_3_284.jpg', 'MB2_CAH_img_3_285.jpg', 'MB2_CAH_img_3_286.jpg', 'MB2_CAH_img_3_287.jpg', 'MB2_CAH_img_3_288.jpg', 'MB2_CAH_img_3_289.jpg', 'MB2_CAH_img_3_290.jpg', 'MB2_CAH_img_3_291.jpg', 'MB2_CAH_img_3_292.jpg', 'MB2_CAH_img_3_293.jpg', 'MB2_CAH_img_3_294.jpg', 'MB2_CAH_img_3_295.jpg', 'MB2_CAH_img_3_296.jpg', 'MB2_CAH_img_3_297.jpg', 'MB2_CAH_img_3_298.jpg', 'MB2_CAH_img_3_299.jpg', 'MB2_CAH_img_3_300.jpg', 'MB2_CAH_img_3_301.jpg', 'MB2_CAH_img_3_302.jpg', 'MB2_CAH_img_3_303.jpg', 'MB2_CAH_img_3_304.jpg', 'MB2_CAH_img_3_305.jpg', 'MB2_CAH_img_3_306.jpg', 'MB2_CAH_img_3_307.jpg', 'MB2_CAH_img_3_308.jpg', 'MB2_CAH_img_3_309.jpg', 'MB2_CAH_img_3_310.jpg', 'MB2_CAH_img_3_311.jpg', 'MB2_CAH_img_3_312.jpg', 'MB2_CAH_img_3_313.jpg', 'MB2_CAH_img_3_314.jpg', 'MB2_CAH_img_3_315.jpg', 'MB2_CAH_img_3_316.jpg', 'MB2_CAH_img_3_317.jpg', 'MB2_CAH_img_3_318.jpg', 'MB2_CAH_img_3_319.jpg', 'MB2_CAH_img_3_320.jpg', 'MB2_CAH_img_3_321.jpg', 'MB2_CAH_img_3_322.jpg', 'MB2_CAH_img_3_323.jpg', 'MB2_CAH_img_3_324.jpg', 'MB2_CAH_img_3_325.jpg', 'MB2_CAH_img_3_326.jpg', 'MB2_CAH_img_3_327.jpg', 'MB2_CAH_img_3_328.jpg', 'MB2_CAH_img_3_329.jpg', 'MB2_CAH_img_3_330.jpg', 'MB2_CAH_img_3_331.jpg', 'MB2_CAH_img_3_332.jpg', 'MB2_CAH_img_3_333.jpg', 'MB2_CAH_img_3_334.jpg', 'MB2_CAH_img_3_335.jpg', 'MB2_CAH_img_3_336.jpg', 'MB2_CAH_img_3_337.jpg', 'MB2_CAH_img_3_338.jpg', 'MB2_CAH_img_3_339.jpg', 'MB2_CAH_img_3_340.jpg', 'MB2_CAH_img_3_341.jpg', 'MB2_CAH_img_3_342.jpg', 'MB2_CAH_img_3_343.jpg', 'MB2_CAH_img_3_344.jpg', 'MB2_CAH_img_3_345.jpg', 'MB2_CAH_img_3_346.jpg', 'MB2_CAH_img_3_347.jpg', 'MB2_CAH_img_3_348.jpg', 'MB2_CAH_img_3_349.jpg', 'MB2_CAH_img_3_350.jpg', 'MB2_CAH_img_3_351.jpg', 'MB2_CAH_img_3_352.jpg', 'MB2_CAH_img_3_353.jpg', 'MB2_CAH_img_3_354.jpg', 'MB2_CAH_img_3_355.jpg', 'MB2_CAH_img_3_356.jpg', 'MB2_CAH_img_3_357.jpg', 'MB2_CAH_img_3_358.jpg', 'MB2_CAH_img_3_359.jpg', 'MB2_CAH_img_3_360.jpg', 'MB2_CAH_img_3_361.jpg', 'MB2_CAH_img_3_362.jpg', 'MB2_CAH_img_3_363.jpg', 'MB2_CAH_img_3_364.jpg', 'MB2_CAH_img_3_365.jpg', 'MB2_CAH_img_3_366.jpg', 'MB2_CAH_img_3_367.jpg', 'MB2_CAH_img_3_368.jpg', 'MB2_CAH_img_3_369.jpg', 'MB2_CAH_img_3_370.jpg', 'MB2_CAH_img_3_371.jpg', 'MB2_CAH_img_3_372.jpg', 'MB2_CAH_img_3_373.jpg', 'MB2_CAH_img_3_374.jpg', 'MB2_CAH_img_3_375.jpg', 'MB2_CAH_img_3_376.jpg', 'MB2_CAH_img_3_377.jpg', 'MB2_CAH_img_3_378.jpg', 'MB2_CAH_img_3_379.jpg', 'MB2_CAH_img_3_380.jpg', 'MB2_CAH_img_3_381.jpg', 'MB2_CAH_img_3_382.jpg', 'MB2_CAH_img_3_383.jpg', 'MB2_CAH_img_3_384.jpg', 'MB2_CAH_img_3_385.jpg', 'MB2_CAH_img_3_386.jpg', 'MB2_CAH_img_3_387.jpg', 'MB2_CAH_img_3_388.jpg', 'MB2_CAH_img_3_389.jpg', 'MB2_CAH_img_3_390.jpg', 'MB2_CAH_img_3_391.jpg', 'MB2_CAH_img_3_392.jpg', 'MB2_CAH_img_3_393.jpg', 'MB2_CAH_img_3_394.jpg', 'MB2_CAH_img_3_395.jpg', 'MB2_CAH_img_3_396.jpg', 'MB2_CAH_img_3_397.jpg', 'MB2_CAH_img_3_398.jpg', 'MB2_CAH_img_3_399.jpg', 'MB2_CAH_img_3_400.jpg', 'MB2_CAH_img_3_401.jpg', 'MB2_CAH_img_3_402.jpg', 'MB2_CAH_img_3_403.jpg', 'MB2_CAH_img_3_404.jpg', 'MB2_CAH_img_3_405.jpg', 'MB2_CAH_img_7_30.jpg', 'MB2_CAH_img_7_31.jpg', 'MB2_CAH_img_7_32.jpg', 'MB2_CAH_img_7_33.jpg', 'MB2_CAH_img_7_34.jpg', 'MB2_CAH_img_7_35.jpg', 'MB2_CAH_img_7_36.jpg', 'MB2_CAH_img_7_37.jpg', 'MB2_CAH_img_7_38.jpg', 'MB2_CAH_img_7_39.jpg', 'MB2_CAH_img_7_40.jpg', 'MB2_CAH_img_7_41.jpg', 'MB2_CAH_img_7_42.jpg', 'MB2_CAH_img_7_43.jpg', 'MB2_CAH_img_7_44.jpg', 'MB2_CAH_img_7_45.jpg', 'MB2_CAH_img_7_46.jpg', 'MB2_CAH_img_7_47.jpg', 'MB2_CAH_img_7_48.jpg', 'MB2_CAH_img_7_49.jpg', 'MB2_CAH_img_7_50.jpg', 'MB2_CAH_img_7_51.jpg', 'MB2_CAH_img_7_52.jpg', 'MB2_CAH_img_7_53.jpg', 'MB2_CAH_img_7_54.jpg', 'MB2_CAH_img_7_55.jpg', 'MB2_CAH_img_7_56.jpg', 'MB2_CAH_img_7_57.jpg', 'MB2_CAH_img_7_58.jpg', 'MB2_CAH_img_7_59.jpg', 'MB2_CAH_img_7_60.jpg', 'MB2_CAH_img_7_61.jpg', 'MB2_CAH_img_7_62.jpg', 'MB2_CAH_img_7_63.jpg', 'MB2_CAH_img_7_64.jpg', 'MB2_CAH_img_7_65.jpg', 'MB2_CAH_img_7_66.jpg', 'MB2_CAH_img_7_67.jpg', 'MB2_CAH_img_7_68.jpg', 'MB2_CAH_img_7_69.jpg', 'CAH_GRP_1_315.jpg', 'CAH_GRP_1_316.jpg', 'CAH_GRP_1_317.jpg', 'CAH_GRP_1_318.jpg', 'CAH_GRP_1_319.jpg', 'CAH_GRP_1_320.jpg', 'CAH_GRP_1_321.jpg', 'CAH_GRP_1_322.jpg', 'CAH_GRP_1_323.jpg', 'CAH_GRP_1_324.jpg', 'CAH_GRP_1_325.jpg', 'CAH_GRP_1_326.jpg', 'CAH_GRP_1_327.jpg', 'CAH_GRP_1_328.jpg', 'CAH_GRP_1_329.jpg', 'CAH_GRP_1_330.jpg', 'CAH_GRP_1_331.jpg', 'CAH_GRP_1_332.jpg', 'CAH_GRP_1_333.jpg', 'CAH_GRP_1_334.jpg', 'CAH_GRP_1_335.jpg', 'CAH_GRP_1_336.jpg', 'CAH_GRP_1_337.jpg', 'CAH_GRP_1_338.jpg', 'CAH_GRP_1_339.jpg', 'CAH_GRP_1_340.jpg', 'CAH_GRP_1_341.jpg', 'CAH_GRP_1_342.jpg', 'CAH_GRP_1_343.jpg', 'CAH_GRP_1_344.jpg', 'CAH_GRP_1_345.jpg', 'CAH_GRP_1_346.jpg', 'CAH_GRP_1_347.jpg', 'CAH_GRP_1_348.jpg', 'CAH_GRP_1_349.jpg', 'CAH_GRP_1_350.jpg', 'CAH_GRP_1_351.jpg', 'CAH_GRP_1_352.jpg', 'CAH_GRP_1_353.jpg', 'CAH_GRP_1_354.jpg', 'CAH_GRP_1_355.jpg', 'CAH_GRP_1_356.jpg', 'CAH_GRP_1_357.jpg', 'CAH_GRP_1_358.jpg', 'CAH_GRP_1_359.jpg', 'CAH_GRP_1_360.jpg', 'CAH_GRP_1_361.jpg', 'CAH_GRP_1_362.jpg', 'CAH_GRP_1_363.jpg', 'CAH_GRP_1_364.jpg', 'CAH_GRP_1_365.jpg', 'CAH_GRP_1_366.jpg', 'CAH_GRP_1_367.jpg', 'CAH_GRP_1_368.jpg', 'CAH_GRP_1_369.jpg', 'CAH_GRP_1_370.jpg', 'CAH_GRP_1_371.jpg', 'CAH_GRP_1_372.jpg', 'CAH_GRP_1_373.jpg', 'CAH_GRP_1_374.jpg', 'CAH_GRP_1_375.jpg', 'CAH_GRP_1_376.jpg', 'CAH_GRP_1_377.jpg', 'CAH_GRP_1_378.jpg', 'CAH_GRP_1_379.jpg', 'CAH_GRP_1_380.jpg', 'CAH_GRP_1_381.jpg', 'CAH_GRP_1_382.jpg', 'CAH_GRP_1_383.jpg', 'CAH_GRP_1_384.jpg', 'CAH_GRP_1_385.jpg', 'CAH_GRP_1_386.jpg', 'CAH_GRP_1_387.jpg', 'CAH_GRP_1_388.jpg', 'CAH_GRP_1_389.jpg', 'CAH_GRP_1_390.jpg', 'CAH_GRP_1_391.jpg', 'CAH_GRP_1_392.jpg', 'CAH_GRP_1_393.jpg', 'CAH_GRP_1_394.jpg', 'CAH_GRP_1_395.jpg', 'CAH_GRP_1_396.jpg', 'CAH_GRP_1_397.jpg', 'CAH_GRP_1_398.jpg', 'CAH_GRP_1_399.jpg', 'CAH_GRP_1_400.jpg', 'CAH_GRP_1_401.jpg', 'CAH_GRP_1_402.jpg', 'CAH_GRP_1_403.jpg', 'CAH_GRP_1_404.jpg', 'CAH_GRP_1_405.jpg', 'CAH_GRP_1_406.jpg', 'CAH_GRP_1_407.jpg', 'CAH_GRP_1_408.jpg', 'CAH_GRP_1_409.jpg', 'CAH_GRP_1_410.jpg', 'CAH_GRP_1_411.jpg', 'CAH_GRP_1_412.jpg', 'CAH_GRP_1_413.jpg', 'CAH_GRP_1_414.jpg', 'CAH_GRP_1_415.jpg', 'CAH_GRP_1_416.jpg', 'CAH_GRP_1_417.jpg', 'CAH_GRP_1_418.jpg', 'CAH_GRP_1_419.jpg', 'CAH_GRP_1_420.jpg', 'CAH_GRP_1_421.jpg', 'CAH_GRP_1_422.jpg', 'CAH_GRP_1_423.jpg', 'CAH_GRP_1_424.jpg', 'CAH_GRP_1_425.jpg', 'CAH_GRP_1_426.jpg', 'CAH_GRP_1_427.jpg', 'CAH_GRP_1_428.jpg', 'CAH_GRP_1_429.jpg', 'CAH_GRP_1_430.jpg', 'CAH_GRP_1_431.jpg', 'CAH_GRP_1_432.jpg', 'CAH_GRP_1_433.jpg', 'CAH_GRP_1_434.jpg', 'CAH_GRP_1_435.jpg', 'CAH_GRP_1_436.jpg', 'CAH_GRP_1_437.jpg', 'CAH_GRP_1_438.jpg', 'CAH_GRP_1_439.jpg', 'CAH_GRP_1_440.jpg', 'CAH_GRP_1_441.jpg', 'CAH_GRP_1_442.jpg', 'CAH_GRP_1_443.jpg', 'CAH_GRP_1_444.jpg', 'CAH_GRP_1_445.jpg', 'CAH_GRP_1_446.jpg', 'CAH_GRP_1_447.jpg', 'CAH_GRP_1_448.jpg', 'CAH_GRP_1_449.jpg', 'CAH_GRP_1_450.jpg', 'CAH_GRP_1_451.jpg', 'CAH_GRP_1_452.jpg', 'CAH_GRP_1_453.jpg', 'CAH_GRP_1_454.jpg', 'CAH_GRP_1_455.jpg', 'CAH_GRP_1_456.jpg', 'CAH_GRP_1_457.jpg', 'CAH_GRP_1_458.jpg', 'CAH_GRP_1_459.jpg', 'CAH_GRP_1_460.jpg', 'CAH_GRP_1_461.jpg', 'CAH_GRP_1_462.jpg', 'CAH_GRP_1_463.jpg', 'CAH_GRP_1_464.jpg', 'CAH_GRP_1_465.jpg', 'CAH_GRP_1_466.jpg', 'CAH_GRP_1_467.jpg', 'CAH_GRP_1_468.jpg', 'CAH_GRP_1_469.jpg', 'CAH_GRP_1_470.jpg', 'CAH_GRP_1_471.jpg', 'CAH_GRP_1_472.jpg', 'CAH_GRP_1_473.jpg', 'CAH_GRP_1_474.jpg', 'CAH_GRP_1_475.jpg', 'CAH_GRP_1_476.jpg', 'CAH_GRP_1_477.jpg', 'CAH_GRP_1_478.jpg', 'CAH_GRP_1_479.jpg', 'CAH_GRP_1_480.jpg', 'CAH_GRP_1_481.jpg', 'CAH_GRP_1_482.jpg', 'CAH_GRP_1_483.jpg', 'CAH_GRP_1_484.jpg', 'CAH_GRP_1_485.jpg', 'CAH_GRP_1_486.jpg', 'CAH_GRP_1_487.jpg', 'CAH_GRP_1_488.jpg', 'CAH_GRP_1_489.jpg', 'CAH_GRP_1_490.jpg', 'CAH_GRP_1_491.jpg', 'CAH_GRP_1_492.jpg', 'CAH_GRP_1_493.jpg', 'CAH_GRP_1_494.jpg', 'CAH_GRP_1_495.jpg', 'CAH_GRP_1_496.jpg', 'CAH_GRP_1_497.jpg', 'CAH_GRP_1_498.jpg', 'CAH_GRP_1_499.jpg', 'CAH_GRP_1_500.jpg', 'CAH_GRP_1_501.jpg', 'CAH_GRP_1_502.jpg', 'CAH_GRP_1_503.jpg', 'CAH_GRP_1_504.jpg', 'CAH_GRP_1_505.jpg', 'CAH_GRP_1_506.jpg', 'CAH_GRP_1_507.jpg', 'CAH_GRP_1_508.jpg', 'CAH_GRP_1_509.jpg', 'CAH_GRP_1_510.jpg', 'CAH_GRP_1_511.jpg', 'CAH_GRP_1_512.jpg', 'CAH_GRP_1_513.jpg', 'CAH_GRP_1_514.jpg', 'CAH_GRP_1_515.jpg', 'CAH_GRP_1_516.jpg', 'CAH_GRP_1_517.jpg', 'CAH_GRP_1_518.jpg', 'CAH_GRP_1_519.jpg', 'CAH_GRP_1_520.jpg', 'CAH_GRP_1_521.jpg', 'CAH_GRP_1_522.jpg', 'CAH_GRP_1_523.jpg', 'CAH_GRP_1_524.jpg', 'CAH_GRP_1_525.jpg', 'CAH_GRP_1_526.jpg', 'CAH_GRP_1_527.jpg', 'CAH_GRP_1_528.jpg', 'CAH_GRP_1_529.jpg', 'CAH_GRP_1_530.jpg', 'CAH_GRP_1_531.jpg', 'CAH_GRP_1_532.jpg', 'CAH_GRP_1_533.jpg', 'CAH_GRP_1_534.jpg', 'CAH_GRP_1_535.jpg', 'CAH_GRP_1_536.jpg', 'CAH_GRP_1_537.jpg', 'CAH_GRP_1_538.jpg', 'CAH_GRP_1_539.jpg', 'CAH_GRP_1_540.jpg', 'CAH_GRP_1_541.jpg', 'CAH_GRP_1_542.jpg', 'CAH_GRP_1_543.jpg', 'CAH_GRP_1_544.jpg', 'CAH_GRP_1_545.jpg', 'CAH_GRP_1_546.jpg', 'CAH_GRP_1_547.jpg', 'CAH_GRP_1_548.jpg', 'CAH_GRP_1_549.jpg', 'CAH_GRP_1_550.jpg', 'CAH_GRP_1_551.jpg', 'CAH_GRP_1_552.jpg', 'CAH_GRP_1_553.jpg', 'CAH_GRP_1_554.jpg', 'CAH_GRP_1_555.jpg', 'CAH_GRP_1_556.jpg', 'CAH_GRP_1_557.jpg', 'CAH_GRP_1_558.jpg', 'CAH_GRP_1_559.jpg', 'CAH_GRP_1_560.jpg', 'CAH_GRP_1_561.jpg', 'CAH_GRP_1_562.jpg', 'CAH_GRP_1_563.jpg', 'CAH_GRP_1_564.jpg', 'CAH_GRP_1_565.jpg', 'CAH_GRP_1_566.jpg', 'CAH_GRP_1_567.jpg', 'CAH_GRP_1_568.jpg', 'CAH_GRP_1_569.jpg', 'CAH_GRP_1_570.jpg', 'CAH_GRP_1_571.jpg', 'CAH_GRP_1_572.jpg', 'CAH_GRP_1_573.jpg', 'CAH_GRP_1_574.jpg', 'CAH_GRP_1_575.jpg', 'CAH_GRP_1_576.jpg', 'CAH_GRP_1_577.jpg', 'CAH_GRP_1_578.jpg', 'CAH_GRP_1_579.jpg', 'CAH_GRP_1_580.jpg', 'CAH_GRP_1_581.jpg', 'CAH_GRP_1_582.jpg', 'CAH_GRP_1_583.jpg', 'CAH_GRP_1_584.jpg', 'CAH_GRP_1_585.jpg', 'CAH_GRP_1_586.jpg', 'CAH_GRP_1_587.jpg', 'CAH_GRP_1_588.jpg', 'CAH_GRP_1_589.jpg', 'CAH_GRP_1_590.jpg', 'CAH_GRP_1_591.jpg', 'CAH_GRP_1_592.jpg', 'CAH_GRP_1_593.jpg', 'CAH_GRP_1_594.jpg', 'CAH_GRP_1_595.jpg', 'CAH_GRP_1_596.jpg', 'CAH_GRP_1_597.jpg', 'CAH_GRP_1_598.jpg', 'CAH_GRP_1_599.jpg', 'CAH_GRP_1_600.jpg', 'CAH_GRP_1_601.jpg', 'CAH_GRP_1_602.jpg', 'CAH_GRP_1_603.jpg', 'CAH_GRP_1_604.jpg', 'CAH_GRP_1_605.jpg', 'CAH_GRP_1_606.jpg', 'CAH_GRP_1_607.jpg', 'CAH_GRP_1_608.jpg', 'CAH_GRP_1_609.jpg', 'CAH_GRP_1_610.jpg', 'CAH_GRP_1_611.jpg', 'CAH_GRP_1_612.jpg', 'CAH_GRP_1_613.jpg', 'CAH_GRP_1_614.jpg', 'CAH_GRP_1_615.jpg', 'CAH_GRP_1_616.jpg', 'CAH_GRP_1_617.jpg', 'CAH_GRP_1_618.jpg', 'CAH_GRP_1_619.jpg', 'CAH_GRP_1_620.jpg', 'CAH_GRP_1_621.jpg', 'CAH_GRP_1_622.jpg', 'CAH_GRP_1_623.jpg', 'CAH_GRP_1_624.jpg', 'CAH_GRP_1_625.jpg', 'CAH_GRP_1_626.jpg', 'CAH_GRP_1_627.jpg', 'CAH_GRP_1_628.jpg', 'CAH_GRP_1_629.jpg', 'CAH_GRP_1_630.jpg', 'CAH_GRP_1_631.jpg', 'CAH_GRP_1_632.jpg', 'CAH_GRP_1_633.jpg', 'CAH_GRP_1_634.jpg', 'CAH_GRP_1_635.jpg', 'CAH_GRP_1_636.jpg', 'CAH_GRP_1_637.jpg', 'CAH_GRP_1_638.jpg', 'CAH_GRP_1_639.jpg', 'CAH_GRP_1_640.jpg', 'CAH_GRP_1_641.jpg', 'CAH_GRP_1_642.jpg', 'CAH_GRP_1_643.jpg', 'CAH_GRP_1_644.jpg', 'CAH_GRP_1_645.jpg', 'CAH_GRP_1_646.jpg', 'CAH_GRP_1_647.jpg', 'CAH_GRP_1_648.jpg', 'CAH_GRP_1_649.jpg', 'CAH_GRP_1_650.jpg', 'CAH_GRP_1_651.jpg', 'CAH_GRP_1_652.jpg', 'CAH_GRP_1_653.jpg', 'CAH_GRP_1_654.jpg', 'CAH_GRP_1_655.jpg', 'CAH_GRP_1_656.jpg', 'CAH_GRP_1_657.jpg', 'CAH_GRP_1_658.jpg', 'CAH_GRP_1_659.jpg', 'CAH_GRP_1_660.jpg', 'CAH_GRP_1_661.jpg', 'CAH_GRP_1_662.jpg', 'CAH_GRP_1_663.jpg', 'CAH_GRP_1_664.jpg', 'CAH_GRP_1_665.jpg', 'CAH_GRP_1_666.jpg', 'CAH_GRP_1_667.jpg', 'CAH_GRP_1_668.jpg', 'CAH_GRP_1_669.jpg', 'CAH_GRP_1_670.jpg', 'CAH_GRP_1_671.jpg', 'CAH_GRP_1_672.jpg', 'CAH_GRP_1_673.jpg', 'CAH_GRP_1_674.jpg', 'CAH_GRP_1_675.jpg', 'CAH_GRP_1_676.jpg', 'CAH_GRP_1_677.jpg', 'CAH_GRP_1_678.jpg', 'CAH_GRP_1_679.jpg', 'CAH_GRP_1_680.jpg', 'CAH_GRP_1_681.jpg', 'CAH_GRP_1_682.jpg', 'CAH_GRP_1_683.jpg', 'CAH_GRP_1_684.jpg', 'CAH_GRP_1_685.jpg', 'CAH_GRP_1_686.jpg', 'CAH_GRP_1_687.jpg', 'CAH_GRP_1_688.jpg', 'CAH_GRP_1_689.jpg', 'CAH_GRP_1_690.jpg', 'CAH_GRP_1_691.jpg', 'CAH_GRP_1_692.jpg', 'CAH_GRP_1_693.jpg', 'CAH_GRP_1_694.jpg', 'CAH_GRP_1_695.jpg', 'CAH_GRP_1_696.jpg', 'CAH_GRP_1_697.jpg', 'CAH_GRP_1_698.jpg', 'CAH_GRP_1_699.jpg', 'CAH_GRP_1_700.jpg', 'CAH_GRP_1_701.jpg', 'CAH_GRP_1_702.jpg', 'CAH_GRP_1_703.jpg', 'CAH_GRP_1_704.jpg', 'CAH_GRP_1_705.jpg', 'CAH_GRP_1_706.jpg', 'CAH_GRP_1_707.jpg', 'CAH_GRP_1_708.jpg', 'CAH_GRP_1_709.jpg', 'CAH_GRP_1_710.jpg', 'CAH_GRP_1_711.jpg', 'CAH_GRP_1_712.jpg', 'CAH_GRP_1_713.jpg', 'CAH_GRP_1_714.jpg', 'CAH_GRP_1_715.jpg', 'CAH_GRP_1_716.jpg', 'CAH_GRP_1_717.jpg', 'CAH_GRP_1_718.jpg', 'CAH_GRP_1_719.jpg', 'CAH_GRP_1_720.jpg', 'CAH_GRP_1_721.jpg', 'CAH_GRP_1_722.jpg', 'CAH_GRP_1_723.jpg', 'CAH_GRP_1_724.jpg', 'CAH_GRP_1_725.jpg', 'CAH_GRP_1_726.jpg', 'CAH_GRP_1_727.jpg', 'CAH_GRP_1_728.jpg', 'CAH_GRP_1_729.jpg', 'CAH_GRP_1_730.jpg', 'CAH_GRP_1_731.jpg', 'CAH_GRP_1_732.jpg', 'CAH_GRP_1_733.jpg', 'CAH_GRP_1_734.jpg', 'CAH_GRP_1_735.jpg', 'CAH_GRP_1_736.jpg', 'CAH_GRP_1_737.jpg', 'CAH_GRP_1_738.jpg', 'CAH_GRP_1_739.jpg', 'CAH_GRP_1_740.jpg', 'CAH_GRP_1_741.jpg', 'CAH_GRP_1_742.jpg', 'CAH_GRP_1_743.jpg', 'CAH_GRP_1_744.jpg', 'CAH_GRP_1_745.jpg', 'CAH_GRP_1_746.jpg', 'CAH_GRP_1_747.jpg', 'CAH_GRP_1_748.jpg', 'CAH_GRP_1_749.jpg', 'CAH_GRP_1_750.jpg', 'CAH_GRP_1_751.jpg', 'CAH_GRP_1_752.jpg', 'CAH_GRP_1_753.jpg', 'CAH_GRP_1_754.jpg', 'CAH_GRP_1_755.jpg', 'CAH_GRP_1_756.jpg', 'CAH_GRP_1_757.jpg', 'CAH_GRP_1_758.jpg', 'CAH_GRP_1_759.jpg', 'CAH_GRP_1_760.jpg', 'CAH_GRP_1_761.jpg', 'CAH_GRP_1_762.jpg', 'CAH_GRP_1_763.jpg', 'CAH_GRP_1_764.jpg', 'CAH_GRP_1_765.jpg', 'CAH_GRP_1_766.jpg', 'CAH_GRP_1_767.jpg', 'CAH_GRP_1_768.jpg', 'CAH_GRP_1_769.jpg', 'CAH_GRP_1_770.jpg', 'CAH_GRP_1_771.jpg', 'CAH_GRP_1_772.jpg', 'CAH_GRP_1_773.jpg', 'CAH_GRP_1_774.jpg', 'CAH_GRP_1_775.jpg', 'CAH_GRP_1_776.jpg', 'CAH_GRP_1_777.jpg', 'CAH_GRP_1_778.jpg', 'CAH_GRP_1_779.jpg', 'CAH_GRP_1_780.jpg', 'CAH_GRP_1_781.jpg', 'CAH_GRP_1_782.jpg', 'CAH_GRP_1_783.jpg', 'CAH_GRP_1_784.jpg', 'CAH_GRP_1_785.jpg', 'CAH_GRP_1_786.jpg', 'CAH_GRP_1_787.jpg', 'CAH_GRP_1_788.jpg', 'CAH_GRP_1_789.jpg', 'CAH_GRP_1_790.jpg', 'CAH_GRP_1_791.jpg', 'CAH_GRP_1_792.jpg', 'CAH_GRP_1_793.jpg', 'CAH_GRP_1_794.jpg', 'CAH_GRP_1_795.jpg', 'CAH_GRP_1_796.jpg', 'CAH_GRP_1_797.jpg', 'CAH_GRP_1_798.jpg', 'CAH_GRP_1_799.jpg', 'CAH_GRP_1_800.jpg', 'CAH_GRP_1_801.jpg', 'CAH_GRP_1_802.jpg', 'CAH_GRP_1_803.jpg', 'CAH_GRP_1_804.jpg', 'CAH_GRP_1_805.jpg', 'CAH_GRP_1_806.jpg', 'CAH_GRP_1_807.jpg', 'CAH_GRP_1_808.jpg', 'CAH_GRP_1_809.jpg', 'CAH_GRP_1_810.jpg', 'CAH_GRP_1_811.jpg', 'CAH_GRP_1_812.jpg', 'CAH_GRP_1_813.jpg', 'CAH_GRP_1_814.jpg', 'CAH_GRP_1_815.jpg', 'CAH_GRP_1_816.jpg', 'CAH_GRP_1_817.jpg', 'CAH_GRP_1_818.jpg', 'CAH_GRP_1_819.jpg', 'CAH_GRP_1_820.jpg', 'CAH_GRP_1_821.jpg', 'CAH_GRP_1_822.jpg', 'CAH_GRP_1_823.jpg', 'CAH_GRP_1_824.jpg', 'CAH_GRP_1_825.jpg', 'CAH_GRP_1_826.jpg', 'CAH_GRP_1_827.jpg', 'CAH_GRP_1_828.jpg', 'CAH_GRP_1_829.jpg', 'CAH_GRP_1_830.jpg', 'CAH_GRP_1_831.jpg', 'CAH_GRP_1_832.jpg', 'CAH_GRP_1_833.jpg', 'CAH_GRP_1_834.jpg', 'CAH_GRP_1_835.jpg', 'CAH_GRP_1_836.jpg', 'CAH_GRP_1_837.jpg', 'CAH_GRP_1_838.jpg', 'CAH_GRP_1_839.jpg', 'CAH_GRP_1_840.jpg', 'CAH_GRP_1_841.jpg', 'CAH_GRP_1_842.jpg', 'CAH_GRP_1_843.jpg', 'CAH_GRP_1_844.jpg', 'CAH_GRP_1_845.jpg', 'CAH_GRP_1_846.jpg', 'CAH_GRP_1_847.jpg', 'CAH_GRP_1_848.jpg', 'CAH_GRP_1_849.jpg', 'CAH_GRP_1_850.jpg', 'CAH_GRP_1_851.jpg', 'CAH_GRP_1_852.jpg', 'CAH_GRP_1_853.jpg', 'CAH_GRP_1_854.jpg', 'CAH_GRP_1_855.jpg', 'CAH_GRP_1_856.jpg', 'CAH_GRP_1_857.jpg', 'CAH_GRP_1_858.jpg', 'CAH_GRP_1_859.jpg', 'CAH_GRP_1_860.jpg', 'CAH_GRP_1_861.jpg', 'CAH_GRP_1_862.jpg', 'CAH_GRP_1_863.jpg', 'CAH_GRP_1_864.jpg', 'CAH_GRP_1_865.jpg', 'CAH_GRP_1_866.jpg', 'CAH_GRP_1_867.jpg', 'CAH_GRP_1_868.jpg', 'CAH_GRP_1_869.jpg', 'CAH_GRP_1_870.jpg', 'CAH_GRP_1_871.jpg', 'CAH_GRP_1_872.jpg', 'CAH_GRP_1_873.jpg', 'CAH_GRP_1_874.jpg', 'CAH_GRP_1_875.jpg', 'CAH_GRP_1_876.jpg', 'CAH_GRP_1_877.jpg', 'CAH_GRP_1_878.jpg', 'CAH_GRP_1_879.jpg', 'CAH_GRP_1_880.jpg', 'CAH_GRP_1_881.jpg', 'CAH_GRP_1_882.jpg', 'CAH_GRP_1_883.jpg', 'CAH_GRP_1_884.jpg', 'CAH_GRP_1_885.jpg', 'CAH_GRP_1_886.jpg', 'CAH_GRP_1_887.jpg', 'CAH_GRP_1_888.jpg', 'CAH_GRP_1_889.jpg', 'CAH_GRP_1_890.jpg', 'CAH_GRP_1_891.jpg', 'CAH_GRP_1_892.jpg', 'CAH_GRP_1_893.jpg', 'CAH_GRP_1_894.jpg', 'CAH_GRP_1_895.jpg', 'CAH_GRP_1_896.jpg', 'CAH_GRP_1_897.jpg', 'CAH_GRP_1_898.jpg', 'CAH_GRP_1_899.jpg', 'CAH_GRP_1_900.jpg', 'CAH_GRP_1_901.jpg', 'CAH_GRP_1_902.jpg', 'CAH_GRP_1_903.jpg', 'CAH_GRP_1_904.jpg', 'CAH_GRP_1_905.jpg', 'CAH_GRP_1_906.jpg', 'CAH_GRP_1_907.jpg', 'CAH_GRP_1_908.jpg', 'CAH_GRP_1_909.jpg', 'CAH_GRP_1_910.jpg', 'CAH_GRP_1_911.jpg', 'CAH_GRP_1_912.jpg', 'CAH_GRP_1_913.jpg', 'CAH_GRP_1_914.jpg', 'CAH_GRP_1_915.jpg', 'CAH_GRP_1_916.jpg', 'CAH_GRP_1_917.jpg', 'CAH_GRP_1_918.jpg', 'CAH_GRP_1_919.jpg', 'CAH_GRP_1_920.jpg', 'CAH_GRP_1_921.jpg', 'CAH_GRP_1_922.jpg', 'CAH_GRP_1_923.jpg', 'CAH_GRP_1_924.jpg', 'CAH_GRP_1_925.jpg', 'CAH_GRP_1_926.jpg', 'CAH_GRP_1_927.jpg', 'CAH_GRP_5_90mm_260.jpg', 'CAH_GRP_5_90mm_261.jpg', 'CAH_GRP_5_90mm_262.jpg', 'CAH_GRP_5_90mm_263.jpg', 'CAH_GRP_5_90mm_264.jpg', 'CAH_GRP_5_90mm_265.jpg', 'CAH_GRP_5_90mm_266.jpg', 'CAH_GRP_5_90mm_267.jpg', 'CAH_GRP_5_90mm_268.jpg', 'CAH_GRP_5_90mm_269.jpg', 'CAH_GRP_5_90mm_270.jpg', 'CAH_GRP_5_90mm_271.jpg', 'CAH_GRP_5_90mm_272.jpg', 'CAH_GRP_5_90mm_273.jpg', 'CAH_GRP_5_90mm_274.jpg', 'CAH_GRP_5_90mm_275.jpg', 'CAH_GRP_5_90mm_276.jpg', 'CAH_GRP_5_90mm_277.jpg', 'CAH_GRP_5_90mm_278.jpg', 'CAH_GRP_5_90mm_279.jpg', 'CAH_GRP_5_90mm_280.jpg', 'CAH_GRP_5_90mm_281.jpg', 'CAH_GRP_5_90mm_282.jpg', 'CAH_GRP_5_90mm_283.jpg', 'CAH_GRP_5_90mm_284.jpg', 'CAH_GRP_5_90mm_285.jpg', 'CAH_GRP_5_90mm_286.jpg', 'CAH_GRP_5_90mm_287.jpg', 'CAH_GRP_5_90mm_288.jpg', 'CAH_GRP_5_90mm_289.jpg', 'CAH_GRP_5_90mm_290.jpg', 'CAH_GRP_5_90mm_291.jpg', 'CAH_GRP_5_90mm_292.jpg', 'CAH_GRP_5_90mm_293.jpg', 'CAH_GRP_5_90mm_294.jpg', 'CAH_GRP_5_90mm_295.jpg', 'CAH_GRP_5_90mm_296.jpg', 'CAH_GRP_5_90mm_297.jpg', 'CAH_GRP_5_90mm_298.jpg', 'CAH_GRP_5_90mm_299.jpg', 'CAH_GRP_5_90mm_300.jpg', 'CAH_GRP_5_90mm_301.jpg', 'CAH_GRP_5_90mm_302.jpg', 'CAH_GRP_5_90mm_303.jpg', 'CAH_GRP_5_90mm_304.jpg', 'CAH_GRP_5_90mm_305.jpg', 'CAH_GRP_5_90mm_306.jpg', 'CAH_GRP_5_90mm_307.jpg', 'CAH_GRP_5_90mm_308.jpg', 'CAH_GRP_5_90mm_309.jpg', 'CAH_GRP_5_90mm_310.jpg', 'CAH_GRP_5_90mm_311.jpg', 'CAH_GRP_5_90mm_312.jpg', 'CAH_GRP_5_90mm_313.jpg', 'CAH_GRP_5_90mm_314.jpg', 'CAH_GRP_5_90mm_315.jpg', 'CAH_GRP_5_90mm_316.jpg', 'CAH_GRP_5_90mm_317.jpg', 'CAH_GRP_5_90mm_318.jpg', 'CAH_GRP_5_90mm_319.jpg', 'CAH_GRP_5_90mm_320.jpg', 'CAH_GRP_5_90mm_321.jpg', 'CAH_GRP_5_90mm_322.jpg', 'CAH_GRP_5_90mm_323.jpg', 'CAH_GRP_5_90mm_324.jpg', 'CAH_GRP_5_90mm_325.jpg', 'CAH_GRP_5_90mm_326.jpg', 'CAH_GRP_5_90mm_327.jpg', 'CAH_GRP_5_90mm_328.jpg', 'CAH_GRP_5_90mm_329.jpg', 'CAH_GRP_5_90mm_330.jpg', 'CAH_GRP_5_90mm_331.jpg', 'CAH_GRP_5_90mm_332.jpg', 'CAH_GRP_5_90mm_333.jpg', 'CAH_GRP_5_90mm_334.jpg', 'CAH_GRP_5_90mm_335.jpg', 'CAH_GRP_5_90mm_336.jpg', 'CAH_GRP_5_90mm_337.jpg', 'CAH_GRP_5_90mm_338.jpg', 'CAH_GRP_5_90mm_339.jpg', 'CAH_GRP_5_90mm_340.jpg', 'CAH_GRP_5_90mm_341.jpg', 'CAH_GRP_5_90mm_342.jpg', 'CAH_GRP_5_90mm_343.jpg', 'CAH_GRP_5_90mm_344.jpg', 'CAH_GRP_5_90mm_345.jpg', 'CAH_GRP_5_90mm_346.jpg', 'CAH_GRP_5_90mm_347.jpg', 'CAH_GRP_5_90mm_348.jpg', 'CAH_GRP_5_90mm_349.jpg', 'CAH_GRP_5_90mm_350.jpg', 'CAH_GRP_5_90mm_351.jpg', 'CAH_GRP_5_90mm_352.jpg', 'CAH_GRP_5_90mm_353.jpg', 'CAH_GRP_5_90mm_354.jpg', 'CAH_GRP_5_90mm_355.jpg', 'CAH_GRP_5_90mm_356.jpg', 'CAH_GRP_5_90mm_357.jpg', 'CAH_GRP_5_90mm_358.jpg', 'CAH_GRP_5_90mm_359.jpg', 'CAH_GRP_5_90mm_360.jpg', 'CAH_GRP_5_90mm_361.jpg', 'CAH_GRP_5_90mm_362.jpg', 'CAH_GRP_5_90mm_363.jpg', 'CAH_GRP_5_90mm_364.jpg', 'CAH_GRP_5_90mm_365.jpg', 'CAH_GRP_5_90mm_366.jpg', 'CAH_GRP_5_90mm_367.jpg', 'CAH_GRP_5_90mm_368.jpg', 'CAH_GRP_5_90mm_369.jpg', 'CAH_GRP_5_90mm_370.jpg', 'CAH_GRP_5_90mm_371.jpg', 'CAH_GRP_5_90mm_372.jpg', 'CAH_GRP_5_90mm_373.jpg', 'CAH_GRP_5_90mm_374.jpg', 'CAH_GRP_5_90mm_375.jpg', 'CAH_GRP_5_90mm_376.jpg', 'CAH_GRP_5_90mm_377.jpg', 'CAH_GRP_5_90mm_378.jpg', 'CAH_GRP_5_90mm_379.jpg', 'CAH_GRP_5_90mm_380.jpg', 'CAH_GRP_5_90mm_381.jpg', 'CAH_GRP_5_90mm_382.jpg', 'CAH_GRP_5_90mm_383.jpg', 'CAH_GRP_5_90mm_384.jpg', 'CAH_GRP_5_90mm_385.jpg', 'CAH_GRP_5_90mm_386.jpg', 'CAH_GRP_5_90mm_387.jpg', 'CAH_GRP_5_90mm_388.jpg', 'CAH_GRP_5_90mm_389.jpg', 'CAH_GRP_5_90mm_390.jpg', 'CAH_GRP_5_90mm_391.jpg', 'CAH_GRP_5_90mm_392.jpg', 'CAH_GRP_5_90mm_393.jpg', 'CAH_GRP_5_90mm_394.jpg', 'CAH_GRP_5_90mm_395.jpg', 'CAH_GRP_5_90mm_396.jpg', 'CAH_GRP_5_90mm_397.jpg', 'CAH_GRP_5_90mm_398.jpg', 'CAH_GRP_5_90mm_399.jpg', 'CAH_GRP_5_90mm_400.jpg', 'CAH_GRP_5_90mm_401.jpg', 'CAH_GRP_5_90mm_402.jpg', 'CAH_GRP_5_90mm_403.jpg', 'CAH_GRP_5_90mm_404.jpg', 'CAH_GRP_5_90mm_405.jpg', 'CAH_GRP_5_90mm_406.jpg', 'CAH_GRP_5_90mm_407.jpg', 'CAH_GRP_5_90mm_408.jpg', 'CAH_GRP_5_90mm_409.jpg', 'CAH_GRP_5_90mm_410.jpg', 'CAH_GRP_5_90mm_411.jpg', 'CAH_GRP_5_90mm_412.jpg', 'CAH_GRP_5_90mm_413.jpg', 'CAH_GRP_5_90mm_414.jpg', 'CAH_GRP_5_90mm_415.jpg', 'CAH_GRP_5_90mm_416.jpg', 'CAH_GRP_5_90mm_417.jpg', 'CAH_GRP_5_90mm_418.jpg', 'CAH_GRP_5_90mm_419.jpg', 'CAH_GRP_5_90mm_420.jpg', 'CAH_GRP_5_90mm_421.jpg', 'CAH_GRP_5_90mm_422.jpg', 'CAH_GRP_5_90mm_423.jpg', 'CAH_GRP_5_90mm_424.jpg', 'CAH_GRP_5_90mm_425.jpg', 'CAH_GRP_5_90mm_426.jpg', 'CAH_GRP_5_90mm_427.jpg', 'CAH_GRP_5_90mm_428.jpg', 'CAH_GRP_5_90mm_429.jpg', 'CAH_GRP_5_90mm_430.jpg', 'CAH_GRP_5_90mm_431.jpg', 'CAH_GRP_5_90mm_432.jpg', 'CAH_GRP_5_90mm_433.jpg', 'CAH_GRP_5_90mm_434.jpg', 'CAH_GRP_5_90mm_435.jpg', 'CAH_GRP_5_90mm_436.jpg', 'CAH_GRP_5_90mm_437.jpg', 'CAH_GRP_5_90mm_438.jpg', 'CAH_GRP_5_90mm_439.jpg', 'CAH_GRP_5_90mm_440.jpg', 'CAH_GRP_5_90mm_441.jpg', 'CAH_GRP_5_90mm_442.jpg', 'CAH_GRP_5_90mm_443.jpg', 'CAH_GRP_5_90mm_444.jpg', 'CAH_GRP_5_90mm_445.jpg', 'CAH_GRP_5_90mm_446.jpg', 'CAH_GRP_5_90mm_447.jpg', 'CAH_GRP_5_90mm_448.jpg', 'CAH_GRP_5_90mm_449.jpg', 'CAH_GRP_5_90mm_450.jpg', 'CAH_GRP_5_90mm_451.jpg', 'CAH_GRP_5_90mm_452.jpg', 'CAH_GRP_5_90mm_453.jpg', 'CAH_GRP_5_90mm_454.jpg', 'CAH_GRP_5_90mm_455.jpg', 'CAH_GRP_5_90mm_456.jpg', 'CAH_GRP_5_90mm_457.jpg', 'CAH_GRP_5_90mm_458.jpg', 'CAH_GRP_5_90mm_459.jpg', 'CAH_GRP_5_90mm_460.jpg', 'CAH_GRP_5_90mm_461.jpg', 'CAH_GRP_5_90mm_462.jpg', 'CAH_GRP_5_90mm_463.jpg', 'CAH_GRP_5_90mm_464.jpg', 'CAH_GRP_5_90mm_465.jpg', 'CAH_GRP_5_90mm_466.jpg', 'CAH_GRP_5_90mm_467.jpg', 'CAH_GRP_5_90mm_468.jpg', 'CAH_GRP_5_90mm_469.jpg', 'CAH_GRP_5_90mm_470.jpg', 'CAH_GRP_5_90mm_471.jpg', 'CAH_GRP_5_90mm_472.jpg', 'CAH_GRP_5_90mm_473.jpg', 'CAH_GRP_5_90mm_474.jpg', 'CAH_GRP_5_90mm_475.jpg', 'CAH_GRP_5_90mm_476.jpg', 'CAH_GRP_5_90mm_477.jpg', 'CAH_GRP_5_90mm_478.jpg', 'CAH_GRP_5_90mm_479.jpg', 'CAH_GRP_5_90mm_480.jpg', 'CAH_GRP_5_90mm_481.jpg', 'CAH_GRP_5_90mm_482.jpg', 'CAH_GRP_5_90mm_483.jpg', 'CAH_GRP_5_90mm_484.jpg', 'CAH_GRP_5_90mm_485.jpg', 'CAH_GRP_5_90mm_486.jpg', 'CAH_GRP_5_90mm_487.jpg', 'CAH_GRP_5_90mm_488.jpg', 'CAH_GRP_5_90mm_489.jpg', 'CAH_GRP_5_90mm_490.jpg', 'CAH_GRP_5_90mm_491.jpg', 'CAH_GRP_5_90mm_492.jpg', 'CAH_GRP_5_90mm_493.jpg', 'CAH_GRP_5_90mm_494.jpg', 'CAH_GRP_5_90mm_495.jpg', 'CAH_GRP_5_90mm_496.jpg', 'CAH_GRP_5_90mm_497.jpg', 'CAH_GRP_5_90mm_498.jpg', 'CAH_GRP_5_90mm_499.jpg', 'CAH_GRP_5_90mm_500.jpg', 'CAH_GRP_5_90mm_501.jpg', 'CAH_GRP_5_90mm_502.jpg', 'CAH_GRP_5_90mm_503.jpg', 'CAH_GRP_5_90mm_504.jpg', 'CAH_GRP_5_90mm_505.jpg', 'CAH_GRP_5_90mm_506.jpg', 'CAH_GRP_5_90mm_507.jpg', 'CAH_GRP_5_90mm_508.jpg', 'CAH_GRP_5_90mm_509.jpg', 'CAH_GRP_5_90mm_510.jpg', 'CAH_GRP_5_90mm_511.jpg', 'CAH_GRP_5_90mm_512.jpg', 'CAH_GRP_5_90mm_513.jpg', 'CAH_GRP_5_90mm_514.jpg', 'CAH_GRP_5_90mm_515.jpg', 'CAH_GRP_5_90mm_516.jpg', 'CAH_GRP_5_90mm_517.jpg', 'CAH_GRP_5_90mm_518.jpg', 'CAH_GRP_5_90mm_519.jpg', 'CAH_GRP_5_90mm_520.jpg', 'CAH_GRP_5_90mm_521.jpg', 'CAH_GRP_5_90mm_522.jpg', 'CAH_GRP_5_90mm_523.jpg', 'CAH_GRP_5_90mm_524.jpg', 'CAH_GRP_5_90mm_525.jpg', 'CAH_GRP_5_90mm_526.jpg', 'CAH_GRP_5_90mm_527.jpg', 'CAH_GRP_5_90mm_528.jpg', 'CAH_GRP_5_90mm_529.jpg', 'CAH_GRP_5_90mm_530.jpg', 'CAH_GRP_5_90mm_531.jpg', 'CAH_GRP_5_90mm_532.jpg', 'CAH_GRP_5_90mm_533.jpg', 'CAH_GRP_5_90mm_534.jpg', 'CAH_GRP_5_90mm_535.jpg', 'CAH_GRP_5_90mm_536.jpg', 'CAH_GRP_5_90mm_537.jpg', 'CAH_GRP_5_90mm_538.jpg', 'CAH_GRP_5_90mm_539.jpg', 'CAH_GRP_5_90mm_540.jpg', 'CAH_GRP_5_90mm_541.jpg', 'CAH_GRP_5_90mm_542.jpg', 'CAH_GRP_5_90mm_543.jpg', 'CAH_GRP_5_90mm_544.jpg', 'CAH_GRP_5_90mm_545.jpg', 'CAH_GRP_5_90mm_546.jpg', 'CAH_GRP_5_90mm_547.jpg', 'CAH_GRP_5_90mm_548.jpg', 'CAH_GRP_5_90mm_549.jpg', 'CAH_GRP_5_90mm_550.jpg', 'CAH_GRP_5_90mm_551.jpg', 'CAH_GRP_5_90mm_552.jpg', 'CAH_GRP_5_90mm_553.jpg', 'CAH_GRP_5_90mm_554.jpg', 'CAH_GRP_5_90mm_555.jpg', 'CAH_GRP_5_90mm_556.jpg', 'CAH_GRP_5_90mm_557.jpg', 'CAH_GRP_5_90mm_558.jpg', 'CAH_GRP_5_90mm_559.jpg', 'CAH_GRP_5_90mm_560.jpg', 'CAH_GRP_5_90mm_561.jpg', 'CAH_GRP_5_90mm_562.jpg', 'CAH_GRP_5_90mm_563.jpg', 'CAH_GRP_5_90mm_564.jpg', 'CAH_GRP_5_90mm_565.jpg', 'CAH_GRP_5_90mm_566.jpg', 'CAH_GRP_5_90mm_567.jpg', 'CAH_GRP_5_90mm_568.jpg', 'CAH_GRP_5_90mm_569.jpg', 'CAH_GRP_5_90mm_570.jpg', 'CAH_GRP_5_90mm_571.jpg', 'CAH_GRP_5_90mm_572.jpg', 'CAH_GRP_5_90mm_573.jpg', 'CAH_GRP_5_90mm_574.jpg', 'CAH_GRP_5_90mm_575.jpg', 'CAH_GRP_5_90mm_576.jpg', 'CAH_GRP_5_90mm_577.jpg', 'CAH_GRP_5_90mm_578.jpg', 'CAH_GRP_5_90mm_579.jpg', 'CAH_GRP_5_90mm_580.jpg', 'CAH_GRP_5_90mm_581.jpg', 'CAH_GRP_5_90mm_582.jpg', 'CAH_GRP_5_90mm_583.jpg', 'CAH_GRP_5_90mm_584.jpg', 'CAH_GRP_5_90mm_585.jpg', 'CAH_GRP_5_90mm_586.jpg', 'CAH_GRP_5_90mm_587.jpg', 'CAH_GRP_5_90mm_588.jpg', 'CAH_GRP_5_90mm_589.jpg', 'CAH_GRP_5_90mm_590.jpg', 'CAH_GRP_5_90mm_591.jpg', 'CAH_GRP_5_90mm_592.jpg', 'CAH_GRP_5_90mm_593.jpg', 'CAH_GRP_5_90mm_594.jpg', 'CAH_GRP_5_90mm_595.jpg', 'CAH_GRP_5_90mm_596.jpg', 'CAH_GRP_5_90mm_597.jpg', 'CAH_GRP_5_90mm_598.jpg', 'CAH_GRP_5_90mm_599.jpg', 'CAH_GRP_5_90mm_600.jpg', 'CAH_GRP_5_90mm_601.jpg', 'CAH_GRP_5_90mm_602.jpg', 'CAH_GRP_5_90mm_603.jpg', 'CAH_GRP_5_90mm_604.jpg', 'CAH_GRP_5_90mm_605.jpg', 'CAH_GRP_5_90mm_606.jpg', 'CAH_GRP_5_90mm_607.jpg', 'CAH_GRP_5_90mm_608.jpg', 'CAH_GRP_5_90mm_609.jpg', 'CAH_GRP_5_90mm_610.jpg', 'CAH_GRP_5_90mm_611.jpg', 'CAH_GRP_5_90mm_612.jpg', 'CAH_GRP_5_90mm_613.jpg', 'CAH_GRP_5_90mm_614.jpg', 'CAH_GRP_5_90mm_615.jpg', 'CAH_GRP_5_90mm_616.jpg', 'CAH_GRP_5_90mm_617.jpg', 'CAH_GRP_5_90mm_618.jpg', 'CAH_GRP_5_90mm_619.jpg', 'CAH_GRP_5_90mm_620.jpg', 'CAH_GRP_5_90mm_621.jpg', 'CAH_GRP_5_90mm_622.jpg', 'CAH_GRP_5_90mm_623.jpg', 'CAH_GRP_5_90mm_624.jpg', 'CAH_GRP_5_90mm_625.jpg', 'CAH_GRP_5_90mm_626.jpg', 'CAH_GRP_5_90mm_627.jpg', 'CAH_GRP_5_90mm_628.jpg', 'CAH_GRP_5_90mm_629.jpg', 'CAH_GRP_5_90mm_630.jpg', 'CAH_GRP_5_90mm_631.jpg', 'CAH_GRP_5_90mm_632.jpg', 'CAH_GRP_5_90mm_633.jpg', 'CAH_GRP_5_90mm_634.jpg', 'CAH_GRP_5_90mm_635.jpg', 'CAH_GRP_5_90mm_636.jpg', 'CAH_GRP_5_90mm_637.jpg', 'CAH_GRP_5_90mm_638.jpg', 'CAH_GRP_5_90mm_639.jpg', 'CAH_GRP_5_90mm_640.jpg', 'CAH_GRP_5_90mm_641.jpg', 'CAH_GRP_5_90mm_642.jpg', 'CAH_GRP_5_90mm_643.jpg', 'CAH_GRP_5_90mm_644.jpg', 'CAH_GRP_5_90mm_645.jpg', 'CAH_GRP_5_90mm_646.jpg', 'MT2_CAH_img_7_30.jpg', 'MT2_CAH_img_7_31.jpg', 'MT2_CAH_img_7_32.jpg', 'MT2_CAH_img_7_33.jpg', 'MT2_CAH_img_7_34.jpg', 'MT2_CAH_img_7_35.jpg', 'MT2_CAH_img_7_36.jpg', 'MT2_CAH_img_7_37.jpg', 'MT2_CAH_img_7_38.jpg', 'MT2_CAH_img_7_39.jpg', 'MT2_CAH_img_7_40.jpg', 'MT2_CAH_img_7_41.jpg', 'MT2_CAH_img_7_42.jpg', 'MT2_CAH_img_7_43.jpg', 'MT2_CAH_img_7_44.jpg', 'MT2_CAH_img_7_45.jpg', 'MT2_CAH_img_7_46.jpg', 'MT2_CAH_img_7_47.jpg', 'MT2_CAH_img_7_48.jpg', 'MT2_CAH_img_7_49.jpg', 'MT2_CAH_img_7_50.jpg', 'MT2_CAH_img_7_51.jpg', 'MT2_CAH_img_7_52.jpg', 'MT2_CAH_img_7_53.jpg', 'MT2_CAH_img_7_54.jpg', 'MT2_CAH_img_7_55.jpg', 'MT2_CAH_img_7_56.jpg', 'MT2_CAH_img_7_57.jpg', 'MT2_CAH_img_7_58.jpg', 'MT2_CAH_img_7_59.jpg', 'MT2_CAH_img_7_60.jpg', 'MT2_CAH_img_7_61.jpg', 'MT2_CAH_img_7_62.jpg', 'MT2_CAH_img_7_63.jpg', 'MT2_CAH_img_7_64.jpg', 'MT2_CAH_img_7_65.jpg', 'MT2_CAH_img_7_66.jpg', 'MT2_CAH_img_7_67.jpg', 'MT2_CAH_img_7_68.jpg', 'MT2_CAH_img_7_69.jpg', 'MT2_CAH_img_7_70.jpg', 'MT2_CAH_img_7_71.jpg', 'MT2_CAH_img_7_72.jpg', 'MT2_CAH_img_7_73.jpg', 'MT2_CAH_img_7_74.jpg', 'MT2_CAH_img_7_75.jpg', 'MT2_CAH_img_7_76.jpg', 'MT2_CAH_img_7_77.jpg', 'MT2_CAH_img_7_78.jpg', 'MT2_CAH_img_7_79.jpg', 'MT2_CAH_img_7_80.jpg', 'MT2_CAH_img_7_81.jpg', 'MT2_CAH_img_7_82.jpg', 'MT2_CAH_img_7_83.jpg', 'MT2_CAH_img_7_84.jpg', 'MT2_CAH_img_7_85.jpg', 'MT2_CAH_img_7_86.jpg', 'MT2_CAH_img_7_87.jpg', 'MT2_CAH_img_7_88.jpg', 'MT2_CAH_img_7_89.jpg', 'BL_CAH_img_7_30.jpg', 'BL_CAH_img_7_31.jpg', 'BL_CAH_img_7_32.jpg', 'BL_CAH_img_7_33.jpg', 'BL_CAH_img_7_34.jpg', 'BL_CAH_img_7_35.jpg', 'BL_CAH_img_7_36.jpg', 'BL_CAH_img_7_37.jpg', 'BL_CAH_img_7_38.jpg', 'BL_CAH_img_7_39.jpg', 'BL_CAH_img_7_40.jpg', 'BL_CAH_img_7_41.jpg', 'BL_CAH_img_7_42.jpg', 'BL_CAH_img_7_43.jpg', 'BL_CAH_img_7_44.jpg', 'BL_CAH_img_7_45.jpg', 'BL_CAH_img_7_46.jpg', 'BL_CAH_img_7_47.jpg', 'BL_CAH_img_7_48.jpg', 'BL_CAH_img_7_49.jpg', 'BL_CAH_img_7_50.jpg', 'BL_CAH_img_7_51.jpg', 'BL_CAH_img_7_52.jpg', 'BL_CAH_img_7_53.jpg', 'BL_CAH_img_7_54.jpg', 'BL_CAH_img_7_55.jpg', 'BL_CAH_img_7_56.jpg', 'BL_CAH_img_7_57.jpg', 'BL_CAH_img_7_58.jpg', 'BL_CAH_img_7_59.jpg', 'BL_CAH_img_7_60.jpg', 'BL_CAH_img_7_61.jpg', 'BL_CAH_img_7_62.jpg', 'BL_CAH_img_7_63.jpg', 'BL_CAH_img_7_64.jpg', 'BL_CAH_img_7_65.jpg', 'BL_CAH_img_7_66.jpg', 'BL_CAH_img_7_67.jpg', 'BL_CAH_img_7_68.jpg', 'BL_CAH_img_7_69.jpg', 'BL_CAH_img_7_70.jpg', 'BL_CAH_img_7_71.jpg', 'BL_CAH_img_7_72.jpg', 'BL_CAH_img_7_73.jpg', 'BL_CAH_img_7_74.jpg', 'BL_CAH_img_7_75.jpg', 'BL_CAH_img_7_76.jpg', 'BL_CAH_img_7_77.jpg', 'BL_CAH_img_7_78.jpg', 'BL_CAH_img_7_79.jpg', 'BL_CAH_img_7_80.jpg', 'BL_CAH_img_7_81.jpg', 'BL_CAH_img_7_82.jpg', 'BL_CAH_img_7_83.jpg', 'BL_CAH_img_7_84.jpg', 'BL_CAH_img_7_85.jpg', 'BL_CAH_img_7_86.jpg', 'BL_CAH_img_7_87.jpg', 'BL_CAH_img_7_88.jpg', 'BL_CAH_img_7_89.jpg', 'TR_CAH_img_7_30.jpg', 'TR_CAH_img_7_31.jpg', 'TR_CAH_img_7_32.jpg', 'TR_CAH_img_7_33.jpg', 'TR_CAH_img_7_34.jpg', 'TR_CAH_img_7_35.jpg', 'TR_CAH_img_7_36.jpg', 'TR_CAH_img_7_37.jpg', 'TR_CAH_img_7_38.jpg', 'TR_CAH_img_7_39.jpg', 'TR_CAH_img_7_40.jpg', 'TR_CAH_img_7_41.jpg', 'TR_CAH_img_7_42.jpg', 'TR_CAH_img_7_43.jpg', 'TR_CAH_img_7_44.jpg', 'TR_CAH_img_7_45.jpg', 'TR_CAH_img_7_46.jpg', 'TR_CAH_img_7_47.jpg', 'TR_CAH_img_7_48.jpg', 'TR_CAH_img_7_49.jpg', 'TR_CAH_img_7_50.jpg', 'TR_CAH_img_7_51.jpg', 'TR_CAH_img_7_52.jpg', 'TR_CAH_img_7_53.jpg', 'TR_CAH_img_7_54.jpg', 'TR_CAH_img_7_55.jpg', 'TR_CAH_img_7_56.jpg', 'TR_CAH_img_7_57.jpg', 'TR_CAH_img_7_58.jpg', 'TR_CAH_img_7_59.jpg', 'TR_CAH_img_7_60.jpg', 'TR_CAH_img_7_61.jpg', 'TR_CAH_img_7_62.jpg', 'TR_CAH_img_7_63.jpg', 'TR_CAH_img_7_64.jpg', 'TR_CAH_img_7_65.jpg', 'TR_CAH_img_7_66.jpg', 'TR_CAH_img_7_67.jpg', 'TR_CAH_img_7_68.jpg', 'TR_CAH_img_7_69.jpg', 'TR_CAH_img_7_70.jpg', 'TR_CAH_img_7_71.jpg', 'TR_CAH_img_7_72.jpg', 'TR_CAH_img_7_73.jpg', 'TR_CAH_img_7_74.jpg', 'TR_CAH_img_7_75.jpg', 'TR_CAH_img_7_76.jpg', 'TR_CAH_img_7_77.jpg', 'TR_CAH_img_7_78.jpg', 'TR_CAH_img_7_79.jpg', 'TR_CAH_img_7_80.jpg', 'TR_CAH_img_7_81.jpg', 'TR_CAH_img_7_82.jpg', 'TR_CAH_img_7_83.jpg', 'TR_CAH_img_7_84.jpg', 'TR_CAH_img_7_85.jpg', 'TR_CAH_img_7_86.jpg', 'TR_CAH_img_7_87.jpg', 'TR_CAH_img_7_88.jpg', 'TR_CAH_img_7_89.jpg', 'BL_CAH_img_3_120.jpg', 'BL_CAH_img_3_121.jpg', 'BL_CAH_img_3_122.jpg', 'BL_CAH_img_3_123.jpg', 'BL_CAH_img_3_124.jpg', 'BL_CAH_img_3_125.jpg', 'BL_CAH_img_3_126.jpg', 'BL_CAH_img_3_127.jpg', 'BL_CAH_img_3_128.jpg', 'BL_CAH_img_3_129.jpg', 'BL_CAH_img_3_130.jpg', 'BL_CAH_img_3_131.jpg', 'BL_CAH_img_3_132.jpg', 'BL_CAH_img_3_133.jpg', 'BL_CAH_img_3_134.jpg', 'BL_CAH_img_3_135.jpg', 'BL_CAH_img_3_136.jpg', 'BL_CAH_img_3_137.jpg', 'BL_CAH_img_3_138.jpg', 'BL_CAH_img_3_139.jpg', 'BL_CAH_img_3_140.jpg', 'BL_CAH_img_3_141.jpg', 'BL_CAH_img_3_142.jpg', 'BL_CAH_img_3_143.jpg', 'BL_CAH_img_3_144.jpg', 'BL_CAH_img_3_145.jpg', 'BL_CAH_img_3_146.jpg', 'BL_CAH_img_3_147.jpg', 'BL_CAH_img_3_148.jpg', 'BL_CAH_img_3_149.jpg', 'BL_CAH_img_3_150.jpg', 'BL_CAH_img_3_151.jpg', 'BL_CAH_img_3_152.jpg', 'BL_CAH_img_3_153.jpg', 'BL_CAH_img_3_154.jpg', 'BL_CAH_img_3_155.jpg', 'BL_CAH_img_3_156.jpg', 'BL_CAH_img_3_157.jpg', 'BL_CAH_img_3_158.jpg', 'BL_CAH_img_3_159.jpg', 'BL_CAH_img_3_160.jpg', 'BL_CAH_img_3_161.jpg', 'BL_CAH_img_3_162.jpg', 'BL_CAH_img_3_163.jpg', 'BL_CAH_img_3_164.jpg', 'BL_CAH_img_3_165.jpg', 'BL_CAH_img_3_166.jpg', 'BL_CAH_img_3_167.jpg', 'BL_CAH_img_3_168.jpg', 'BL_CAH_img_3_169.jpg', 'BL_CAH_img_3_170.jpg', 'BL_CAH_img_3_171.jpg', 'BL_CAH_img_3_172.jpg', 'BL_CAH_img_3_173.jpg', 'BL_CAH_img_3_174.jpg', 'BL_CAH_img_3_175.jpg', 'BL_CAH_img_3_176.jpg', 'BL_CAH_img_3_177.jpg', 'BL_CAH_img_3_178.jpg', 'BL_CAH_img_3_179.jpg', 'BL_CAH_img_3_180.jpg', 'BL_CAH_img_3_181.jpg', 'BL_CAH_img_3_182.jpg', 'BL_CAH_img_3_183.jpg', 'BL_CAH_img_3_184.jpg', 'BL_CAH_img_3_185.jpg', 'BL_CAH_img_3_186.jpg', 'BL_CAH_img_3_187.jpg', 'BL_CAH_img_3_188.jpg', 'BL_CAH_img_3_189.jpg', 'BL_CAH_img_3_190.jpg', 'BL_CAH_img_3_191.jpg', 'BL_CAH_img_3_192.jpg', 'BL_CAH_img_3_193.jpg', 'BL_CAH_img_3_194.jpg', 'BL_CAH_img_3_195.jpg', 'BL_CAH_img_3_196.jpg', 'BL_CAH_img_3_197.jpg', 'BL_CAH_img_3_198.jpg', 'BL_CAH_img_3_199.jpg', 'BL_CAH_img_3_200.jpg', 'BL_CAH_img_3_201.jpg', 'BL_CAH_img_3_202.jpg', 'BL_CAH_img_3_203.jpg', 'BL_CAH_img_3_204.jpg', 'BL_CAH_img_3_205.jpg', 'BL_CAH_img_3_206.jpg', 'BL_CAH_img_3_207.jpg', 'BL_CAH_img_3_208.jpg', 'BL_CAH_img_3_209.jpg', 'BL_CAH_img_3_210.jpg', 'BL_CAH_img_3_211.jpg', 'BL_CAH_img_3_212.jpg', 'BL_CAH_img_3_213.jpg', 'BL_CAH_img_3_214.jpg', 'BL_CAH_img_3_215.jpg', 'BL_CAH_img_3_216.jpg', 'BL_CAH_img_3_217.jpg', 'BL_CAH_img_3_218.jpg', 'BL_CAH_img_3_219.jpg', 'BL_CAH_img_3_220.jpg', 'BL_CAH_img_3_221.jpg', 'BL_CAH_img_3_222.jpg', 'BL_CAH_img_3_223.jpg', 'BL_CAH_img_3_224.jpg', 'BL_CAH_img_3_225.jpg', 'BL_CAH_img_3_226.jpg', 'BL_CAH_img_3_227.jpg', 'BL_CAH_img_3_228.jpg', 'BL_CAH_img_3_229.jpg', 'BL_CAH_img_3_230.jpg', 'BL_CAH_img_3_231.jpg', 'BL_CAH_img_3_232.jpg', 'BL_CAH_img_3_233.jpg', 'BL_CAH_img_3_234.jpg', 'BL_CAH_img_3_235.jpg', 'BL_CAH_img_3_236.jpg', 'BL_CAH_img_3_237.jpg', 'BL_CAH_img_3_238.jpg', 'BL_CAH_img_3_239.jpg', 'BL_CAH_img_3_240.jpg', 'BL_CAH_img_3_241.jpg', 'BL_CAH_img_3_242.jpg', 'BL_CAH_img_3_243.jpg', 'BL_CAH_img_3_244.jpg', 'BL_CAH_img_3_245.jpg', 'BL_CAH_img_3_246.jpg', 'BL_CAH_img_3_247.jpg', 'BL_CAH_img_3_248.jpg', 'BL_CAH_img_3_249.jpg', 'BL_CAH_img_3_250.jpg', 'BL_CAH_img_3_251.jpg', 'BL_CAH_img_3_252.jpg', 'BL_CAH_img_3_253.jpg', 'BL_CAH_img_3_254.jpg', 'BL_CAH_img_3_255.jpg', 'BL_CAH_img_3_256.jpg', 'BL_CAH_img_3_257.jpg', 'BL_CAH_img_3_258.jpg', 'BL_CAH_img_3_259.jpg', 'BL_CAH_img_3_260.jpg', 'BL_CAH_img_3_261.jpg', 'BL_CAH_img_3_262.jpg', 'BL_CAH_img_3_263.jpg', 'BL_CAH_img_3_264.jpg', 'BL_CAH_img_3_265.jpg', 'BL_CAH_img_3_266.jpg', 'BL_CAH_img_3_267.jpg', 'BL_CAH_img_3_268.jpg', 'BL_CAH_img_3_269.jpg', 'BL_CAH_img_3_270.jpg', 'BL_CAH_img_3_271.jpg', 'BL_CAH_img_3_272.jpg', 'BL_CAH_img_3_273.jpg', 'BL_CAH_img_3_274.jpg', 'BL_CAH_img_3_275.jpg', 'BL_CAH_img_3_276.jpg', 'BL_CAH_img_3_277.jpg', 'BL_CAH_img_3_278.jpg', 'BL_CAH_img_3_279.jpg', 'BL_CAH_img_3_280.jpg', 'BL_CAH_img_3_281.jpg', 'BL_CAH_img_3_282.jpg', 'BL_CAH_img_3_283.jpg', 'BL_CAH_img_3_284.jpg', 'BL_CAH_img_3_285.jpg', 'BL_CAH_img_3_286.jpg', 'BL_CAH_img_3_287.jpg', 'BL_CAH_img_3_288.jpg', 'BL_CAH_img_3_289.jpg', 'BL_CAH_img_3_290.jpg', 'BL_CAH_img_3_291.jpg', 'BL_CAH_img_3_292.jpg', 'BL_CAH_img_3_293.jpg', 'BL_CAH_img_3_294.jpg', 'BL_CAH_img_3_295.jpg', 'BL_CAH_img_3_296.jpg', 'BL_CAH_img_3_297.jpg', 'BL_CAH_img_3_298.jpg', 'BL_CAH_img_3_299.jpg', 'BL_CAH_img_3_300.jpg', 'BL_CAH_img_3_301.jpg', 'BL_CAH_img_3_302.jpg', 'BL_CAH_img_3_303.jpg', 'BL_CAH_img_3_304.jpg', 'BL_CAH_img_3_305.jpg', 'BL_CAH_img_3_306.jpg', 'BL_CAH_img_3_307.jpg', 'BL_CAH_img_3_308.jpg', 'BL_CAH_img_3_309.jpg', 'BL_CAH_img_3_310.jpg', 'BL_CAH_img_3_311.jpg', 'BL_CAH_img_3_312.jpg', 'BL_CAH_img_3_313.jpg', 'BL_CAH_img_3_314.jpg', 'BL_CAH_img_3_315.jpg', 'BL_CAH_img_3_316.jpg', 'BL_CAH_img_3_317.jpg', 'BL_CAH_img_3_318.jpg', 'BL_CAH_img_3_319.jpg', 'BL_CAH_img_3_320.jpg', 'BL_CAH_img_3_321.jpg', 'BL_CAH_img_3_322.jpg', 'BL_CAH_img_3_323.jpg', 'BL_CAH_img_3_324.jpg', 'BL_CAH_img_3_325.jpg', 'BL_CAH_img_3_326.jpg', 'BL_CAH_img_3_327.jpg', 'BL_CAH_img_3_328.jpg', 'BL_CAH_img_3_329.jpg', 'BL_CAH_img_3_330.jpg', 'BL_CAH_img_3_331.jpg', 'BL_CAH_img_3_332.jpg', 'BL_CAH_img_3_333.jpg', 'BL_CAH_img_3_334.jpg', 'BL_CAH_img_3_335.jpg', 'BL_CAH_img_3_336.jpg', 'BL_CAH_img_3_337.jpg', 'BL_CAH_img_3_338.jpg', 'BL_CAH_img_3_339.jpg', 'BL_CAH_img_3_340.jpg', 'BL_CAH_img_3_341.jpg', 'BL_CAH_img_3_342.jpg', 'BL_CAH_img_3_343.jpg', 'BL_CAH_img_3_344.jpg', 'BL_CAH_img_3_345.jpg', 'BL_CAH_img_3_346.jpg', 'BL_CAH_img_3_347.jpg', 'BL_CAH_img_3_348.jpg', 'BL_CAH_img_3_349.jpg', 'BL_CAH_img_3_350.jpg', 'BL_CAH_img_3_351.jpg', 'BL_CAH_img_3_352.jpg', 'BL_CAH_img_3_353.jpg', 'BL_CAH_img_3_354.jpg', 'BL_CAH_img_3_355.jpg', 'BL_CAH_img_3_356.jpg', 'BL_CAH_img_3_357.jpg', 'BL_CAH_img_3_358.jpg', 'BL_CAH_img_3_359.jpg', 'BL_CAH_img_3_360.jpg', 'BL_CAH_img_3_361.jpg', 'BL_CAH_img_3_362.jpg', 'BL_CAH_img_3_363.jpg', 'BL_CAH_img_3_364.jpg', 'BL_CAH_img_3_365.jpg', 'BL_CAH_img_3_366.jpg', 'BL_CAH_img_3_367.jpg', 'BL_CAH_img_3_368.jpg', 'BL_CAH_img_3_369.jpg', 'BL_CAH_img_3_370.jpg', 'BL_CAH_img_3_371.jpg', 'BL_CAH_img_3_372.jpg', 'BL_CAH_img_3_373.jpg', 'BL_CAH_img_3_374.jpg', 'BL_CAH_img_3_375.jpg', 'BL_CAH_img_3_376.jpg', 'BL_CAH_img_3_377.jpg', 'BL_CAH_img_3_378.jpg', 'BL_CAH_img_3_379.jpg', 'BL_CAH_img_3_380.jpg', 'BL_CAH_img_3_381.jpg', 'BL_CAH_img_3_382.jpg', 'BL_CAH_img_3_383.jpg', 'BL_CAH_img_3_384.jpg', 'BL_CAH_img_3_385.jpg', 'BL_CAH_img_3_386.jpg', 'BL_CAH_img_3_387.jpg', 'BL_CAH_img_3_388.jpg', 'BL_CAH_img_3_389.jpg', 'BL_CAH_img_3_390.jpg', 'BL_CAH_img_3_391.jpg', 'BL_CAH_img_3_392.jpg', 'BL_CAH_img_3_393.jpg', 'BL_CAH_img_3_394.jpg', 'BL_CAH_img_3_395.jpg', 'BL_CAH_img_3_396.jpg', 'BL_CAH_img_3_397.jpg', 'BL_CAH_img_3_398.jpg', 'BL_CAH_img_3_399.jpg', 'BL_CAH_img_3_400.jpg', 'BL_CAH_img_3_401.jpg', 'BL_CAH_img_3_402.jpg', 'BL_CAH_img_3_403.jpg', 'BL_CAH_img_3_404.jpg', 'BL_CAH_img_3_405.jpg', 'BR_CAH_img_3_120.jpg', 'BR_CAH_img_3_121.jpg', 'BR_CAH_img_3_122.jpg', 'BR_CAH_img_3_123.jpg', 'BR_CAH_img_3_124.jpg', 'BR_CAH_img_3_125.jpg', 'BR_CAH_img_3_126.jpg', 'BR_CAH_img_3_127.jpg', 'BR_CAH_img_3_128.jpg', 'BR_CAH_img_3_129.jpg', 'BR_CAH_img_3_130.jpg', 'BR_CAH_img_3_131.jpg', 'BR_CAH_img_3_132.jpg', 'BR_CAH_img_3_133.jpg', 'BR_CAH_img_3_134.jpg', 'BR_CAH_img_3_135.jpg', 'BR_CAH_img_3_136.jpg', 'BR_CAH_img_3_137.jpg', 'BR_CAH_img_3_138.jpg', 'BR_CAH_img_3_139.jpg', 'BR_CAH_img_3_140.jpg', 'BR_CAH_img_3_141.jpg', 'BR_CAH_img_3_142.jpg', 'BR_CAH_img_3_143.jpg', 'BR_CAH_img_3_144.jpg', 'BR_CAH_img_3_145.jpg', 'BR_CAH_img_3_146.jpg', 'BR_CAH_img_3_147.jpg', 'BR_CAH_img_3_148.jpg', 'BR_CAH_img_3_149.jpg', 'BR_CAH_img_3_150.jpg', 'BR_CAH_img_3_151.jpg', 'BR_CAH_img_3_152.jpg', 'BR_CAH_img_3_153.jpg', 'BR_CAH_img_3_154.jpg', 'BR_CAH_img_3_155.jpg', 'BR_CAH_img_3_156.jpg', 'BR_CAH_img_3_157.jpg', 'BR_CAH_img_3_158.jpg', 'BR_CAH_img_3_159.jpg', 'BR_CAH_img_3_160.jpg', 'BR_CAH_img_3_161.jpg', 'BR_CAH_img_3_162.jpg', 'BR_CAH_img_3_163.jpg', 'BR_CAH_img_3_164.jpg', 'BR_CAH_img_3_165.jpg', 'BR_CAH_img_3_166.jpg', 'BR_CAH_img_3_167.jpg', 'BR_CAH_img_3_168.jpg', 'BR_CAH_img_3_169.jpg', 'BR_CAH_img_3_170.jpg', 'BR_CAH_img_3_171.jpg', 'BR_CAH_img_3_172.jpg', 'BR_CAH_img_3_173.jpg', 'BR_CAH_img_3_174.jpg', 'BR_CAH_img_3_175.jpg', 'BR_CAH_img_3_176.jpg', 'BR_CAH_img_3_177.jpg', 'BR_CAH_img_3_178.jpg', 'BR_CAH_img_3_179.jpg', 'BR_CAH_img_3_180.jpg', 'BR_CAH_img_3_181.jpg', 'BR_CAH_img_3_182.jpg', 'BR_CAH_img_3_183.jpg', 'BR_CAH_img_3_184.jpg', 'BR_CAH_img_3_185.jpg', 'BR_CAH_img_3_186.jpg', 'BR_CAH_img_3_187.jpg', 'BR_CAH_img_3_188.jpg', 'BR_CAH_img_3_189.jpg', 'BR_CAH_img_3_190.jpg', 'BR_CAH_img_3_191.jpg', 'BR_CAH_img_3_192.jpg', 'BR_CAH_img_3_193.jpg', 'BR_CAH_img_3_194.jpg', 'BR_CAH_img_3_195.jpg', 'BR_CAH_img_3_196.jpg', 'BR_CAH_img_3_197.jpg', 'BR_CAH_img_3_198.jpg', 'BR_CAH_img_3_199.jpg', 'BR_CAH_img_3_200.jpg', 'BR_CAH_img_3_201.jpg', 'BR_CAH_img_3_202.jpg', 'BR_CAH_img_3_203.jpg', 'BR_CAH_img_3_204.jpg', 'BR_CAH_img_3_205.jpg', 'BR_CAH_img_3_206.jpg', 'BR_CAH_img_3_207.jpg', 'BR_CAH_img_3_208.jpg', 'BR_CAH_img_3_209.jpg', 'BR_CAH_img_3_210.jpg', 'BR_CAH_img_3_211.jpg', 'BR_CAH_img_3_212.jpg', 'BR_CAH_img_3_213.jpg', 'BR_CAH_img_3_214.jpg', 'BR_CAH_img_3_215.jpg', 'BR_CAH_img_3_216.jpg', 'BR_CAH_img_3_217.jpg', 'BR_CAH_img_3_218.jpg', 'BR_CAH_img_3_219.jpg', 'BR_CAH_img_3_220.jpg', 'BR_CAH_img_3_221.jpg', 'BR_CAH_img_3_222.jpg', 'BR_CAH_img_3_223.jpg', 'BR_CAH_img_3_224.jpg', 'BR_CAH_img_3_225.jpg', 'BR_CAH_img_3_226.jpg', 'BR_CAH_img_3_227.jpg', 'BR_CAH_img_3_228.jpg', 'BR_CAH_img_3_229.jpg', 'BR_CAH_img_3_230.jpg', 'BR_CAH_img_3_231.jpg', 'BR_CAH_img_3_232.jpg', 'BR_CAH_img_3_233.jpg', 'BR_CAH_img_3_234.jpg', 'BR_CAH_img_3_235.jpg', 'BR_CAH_img_3_236.jpg', 'BR_CAH_img_3_237.jpg', 'BR_CAH_img_3_238.jpg', 'BR_CAH_img_3_239.jpg', 'BR_CAH_img_3_240.jpg', 'BR_CAH_img_3_241.jpg', 'BR_CAH_img_3_242.jpg', 'BR_CAH_img_3_243.jpg', 'BR_CAH_img_3_244.jpg', 'BR_CAH_img_3_245.jpg', 'BR_CAH_img_3_246.jpg', 'BR_CAH_img_3_247.jpg', 'BR_CAH_img_3_248.jpg', 'BR_CAH_img_3_249.jpg', 'BR_CAH_img_3_250.jpg', 'BR_CAH_img_3_251.jpg', 'BR_CAH_img_3_252.jpg', 'BR_CAH_img_3_253.jpg', 'BR_CAH_img_3_254.jpg', 'BR_CAH_img_3_255.jpg', 'BR_CAH_img_3_256.jpg', 'BR_CAH_img_3_257.jpg', 'BR_CAH_img_3_258.jpg', 'BR_CAH_img_3_259.jpg', 'BR_CAH_img_3_260.jpg', 'BR_CAH_img_3_261.jpg', 'BR_CAH_img_3_262.jpg', 'BR_CAH_img_3_263.jpg', 'BR_CAH_img_3_264.jpg', 'BR_CAH_img_3_265.jpg', 'BR_CAH_img_3_266.jpg', 'BR_CAH_img_3_267.jpg', 'BR_CAH_img_3_268.jpg', 'BR_CAH_img_3_269.jpg', 'BR_CAH_img_3_270.jpg', 'BR_CAH_img_3_271.jpg', 'BR_CAH_img_3_272.jpg', 'BR_CAH_img_3_273.jpg', 'BR_CAH_img_3_274.jpg', 'BR_CAH_img_3_275.jpg', 'BR_CAH_img_3_276.jpg', 'BR_CAH_img_3_277.jpg', 'BR_CAH_img_3_278.jpg', 'BR_CAH_img_3_279.jpg', 'BR_CAH_img_3_280.jpg', 'BR_CAH_img_3_281.jpg', 'BR_CAH_img_3_282.jpg', 'BR_CAH_img_3_283.jpg', 'BR_CAH_img_3_284.jpg', 'BR_CAH_img_3_285.jpg', 'BR_CAH_img_3_286.jpg', 'BR_CAH_img_3_287.jpg', 'BR_CAH_img_3_288.jpg', 'BR_CAH_img_3_289.jpg', 'BR_CAH_img_3_290.jpg', 'BR_CAH_img_3_291.jpg', 'BR_CAH_img_3_292.jpg', 'BR_CAH_img_3_293.jpg', 'BR_CAH_img_3_294.jpg', 'BR_CAH_img_3_295.jpg', 'BR_CAH_img_3_296.jpg', 'BR_CAH_img_3_297.jpg', 'BR_CAH_img_3_298.jpg', 'BR_CAH_img_3_299.jpg', 'BR_CAH_img_3_300.jpg', 'BR_CAH_img_3_301.jpg', 'BR_CAH_img_3_302.jpg', 'BR_CAH_img_3_303.jpg', 'BR_CAH_img_3_304.jpg', 'BR_CAH_img_3_305.jpg', 'BR_CAH_img_3_306.jpg', 'BR_CAH_img_3_307.jpg', 'BR_CAH_img_3_308.jpg', 'BR_CAH_img_3_309.jpg', 'BR_CAH_img_3_310.jpg', 'BR_CAH_img_3_311.jpg', 'BR_CAH_img_3_312.jpg', 'BR_CAH_img_3_313.jpg', 'BR_CAH_img_3_314.jpg', 'BR_CAH_img_3_315.jpg', 'BR_CAH_img_3_316.jpg', 'BR_CAH_img_3_317.jpg', 'BR_CAH_img_3_318.jpg', 'BR_CAH_img_3_319.jpg', 'BR_CAH_img_3_320.jpg', 'BR_CAH_img_3_321.jpg', 'BR_CAH_img_3_322.jpg', 'BR_CAH_img_3_323.jpg', 'BR_CAH_img_3_324.jpg', 'BR_CAH_img_3_325.jpg', 'BR_CAH_img_3_326.jpg', 'BR_CAH_img_3_327.jpg', 'BR_CAH_img_3_328.jpg', 'BR_CAH_img_3_329.jpg', 'BR_CAH_img_3_330.jpg', 'BR_CAH_img_3_331.jpg', 'BR_CAH_img_3_332.jpg', 'BR_CAH_img_3_333.jpg', 'BR_CAH_img_3_334.jpg', 'BR_CAH_img_3_335.jpg', 'BR_CAH_img_3_336.jpg', 'BR_CAH_img_3_337.jpg', 'BR_CAH_img_3_338.jpg', 'BR_CAH_img_3_339.jpg', 'BR_CAH_img_3_340.jpg', 'BR_CAH_img_3_341.jpg', 'BR_CAH_img_3_342.jpg', 'BR_CAH_img_3_343.jpg', 'BR_CAH_img_3_344.jpg', 'BR_CAH_img_3_345.jpg', 'BR_CAH_img_3_346.jpg', 'BR_CAH_img_3_347.jpg', 'BR_CAH_img_3_348.jpg', 'BR_CAH_img_3_349.jpg', 'BR_CAH_img_3_350.jpg', 'BR_CAH_img_3_351.jpg', 'BR_CAH_img_3_352.jpg', 'BR_CAH_img_3_353.jpg', 'BR_CAH_img_3_354.jpg', 'BR_CAH_img_3_355.jpg', 'BR_CAH_img_3_356.jpg', 'BR_CAH_img_3_357.jpg', 'BR_CAH_img_3_358.jpg', 'BR_CAH_img_3_359.jpg', 'BR_CAH_img_3_360.jpg', 'BR_CAH_img_3_361.jpg', 'BR_CAH_img_3_362.jpg', 'BR_CAH_img_3_363.jpg', 'BR_CAH_img_3_364.jpg', 'BR_CAH_img_3_365.jpg', 'BR_CAH_img_3_366.jpg', 'BR_CAH_img_3_367.jpg', 'BR_CAH_img_3_368.jpg', 'BR_CAH_img_3_369.jpg', 'BR_CAH_img_3_370.jpg', 'BR_CAH_img_3_371.jpg', 'BR_CAH_img_3_372.jpg', 'BR_CAH_img_3_373.jpg', 'BR_CAH_img_3_374.jpg', 'BR_CAH_img_3_375.jpg', 'BR_CAH_img_3_376.jpg', 'BR_CAH_img_3_377.jpg', 'BR_CAH_img_3_378.jpg', 'BR_CAH_img_3_379.jpg', 'BR_CAH_img_3_380.jpg', 'BR_CAH_img_3_381.jpg', 'BR_CAH_img_3_382.jpg', 'BR_CAH_img_3_383.jpg', 'BR_CAH_img_3_384.jpg', 'BR_CAH_img_3_385.jpg', 'BR_CAH_img_3_386.jpg', 'BR_CAH_img_3_387.jpg', 'BR_CAH_img_3_388.jpg', 'BR_CAH_img_3_389.jpg', 'BR_CAH_img_3_390.jpg', 'BR_CAH_img_3_391.jpg', 'BR_CAH_img_3_392.jpg', 'BR_CAH_img_3_393.jpg', 'BR_CAH_img_3_394.jpg', 'BR_CAH_img_3_395.jpg', 'BR_CAH_img_3_396.jpg', 'BR_CAH_img_3_397.jpg', 'BR_CAH_img_3_398.jpg', 'BR_CAH_img_3_399.jpg', 'BR_CAH_img_3_400.jpg', 'BR_CAH_img_3_401.jpg', 'BR_CAH_img_3_402.jpg', 'BR_CAH_img_3_403.jpg', 'BR_CAH_img_3_404.jpg', 'BR_CAH_img_3_405.jpg', 'BR_CAH_img_7_30.jpg', 'BR_CAH_img_7_31.jpg', 'BR_CAH_img_7_32.jpg', 'BR_CAH_img_7_33.jpg', 'BR_CAH_img_7_34.jpg', 'BR_CAH_img_7_35.jpg', 'BR_CAH_img_7_36.jpg', 'BR_CAH_img_7_37.jpg', 'BR_CAH_img_7_38.jpg', 'BR_CAH_img_7_39.jpg', 'BR_CAH_img_7_40.jpg', 'BR_CAH_img_7_41.jpg', 'BR_CAH_img_7_42.jpg', 'BR_CAH_img_7_43.jpg', 'BR_CAH_img_7_44.jpg', 'BR_CAH_img_7_45.jpg', 'BR_CAH_img_7_46.jpg', 'BR_CAH_img_7_47.jpg', 'BR_CAH_img_7_48.jpg', 'BR_CAH_img_7_49.jpg', 'BR_CAH_img_7_50.jpg', 'BR_CAH_img_7_51.jpg', 'BR_CAH_img_7_52.jpg', 'BR_CAH_img_7_53.jpg', 'BR_CAH_img_7_54.jpg', 'BR_CAH_img_7_55.jpg', 'BR_CAH_img_7_56.jpg', 'BR_CAH_img_7_57.jpg', 'BR_CAH_img_7_58.jpg', 'BR_CAH_img_7_59.jpg', 'BR_CAH_img_7_60.jpg', 'BR_CAH_img_7_61.jpg', 'BR_CAH_img_7_62.jpg', 'BR_CAH_img_7_63.jpg', 'BR_CAH_img_7_64.jpg', 'BR_CAH_img_7_65.jpg', 'BR_CAH_img_7_66.jpg', 'BR_CAH_img_7_67.jpg', 'BR_CAH_img_7_68.jpg', 'BR_CAH_img_7_69.jpg', 'BR_CAH_img_7_70.jpg', 'BR_CAH_img_7_71.jpg', 'BR_CAH_img_7_72.jpg', 'BR_CAH_img_7_73.jpg', 'BR_CAH_img_7_74.jpg', 'BR_CAH_img_7_75.jpg', 'BR_CAH_img_7_76.jpg', 'BR_CAH_img_7_77.jpg', 'BR_CAH_img_7_78.jpg', 'BR_CAH_img_7_79.jpg', 'BR_CAH_img_7_80.jpg', 'BR_CAH_img_7_81.jpg', 'BR_CAH_img_7_82.jpg', 'BR_CAH_img_7_83.jpg', 'BR_CAH_img_7_84.jpg', 'BR_CAH_img_7_85.jpg', 'BR_CAH_img_7_86.jpg', 'BR_CAH_img_7_87.jpg', 'BR_CAH_img_7_88.jpg', 'BR_CAH_img_7_89.jpg', 'CAH_GRP_1_255.jpg', 'CAH_GRP_1_256.jpg', 'CAH_GRP_1_257.jpg', 'CAH_GRP_1_258.jpg', 'CAH_GRP_1_259.jpg', 'CAH_GRP_1_260.jpg', 'CAH_GRP_1_261.jpg', 'CAH_GRP_1_262.jpg', 'CAH_GRP_1_263.jpg', 'CAH_GRP_1_264.jpg', 'CAH_GRP_1_265.jpg', 'CAH_GRP_1_266.jpg', 'CAH_GRP_1_267.jpg', 'CAH_GRP_1_268.jpg', 'CAH_GRP_1_269.jpg', 'CAH_GRP_1_270.jpg', 'CAH_GRP_1_271.jpg', 'CAH_GRP_1_272.jpg', 'CAH_GRP_1_273.jpg', 'CAH_GRP_1_274.jpg', 'CAH_GRP_1_275.jpg', 'CAH_GRP_1_276.jpg', 'CAH_GRP_1_277.jpg', 'CAH_GRP_1_278.jpg', 'CAH_GRP_1_279.jpg', 'CAH_GRP_1_280.jpg', 'CAH_GRP_1_281.jpg', 'CAH_GRP_1_282.jpg', 'CAH_GRP_1_283.jpg', 'CAH_GRP_1_284.jpg', 'CAH_GRP_1_285.jpg', 'CAH_GRP_1_286.jpg', 'CAH_GRP_1_287.jpg', 'CAH_GRP_1_288.jpg', 'CAH_GRP_1_289.jpg', 'CAH_GRP_1_290.jpg', 'CAH_GRP_1_291.jpg', 'CAH_GRP_1_292.jpg', 'CAH_GRP_1_293.jpg', 'CAH_GRP_1_294.jpg', 'CAH_GRP_1_295.jpg', 'CAH_GRP_1_296.jpg', 'CAH_GRP_1_297.jpg', 'CAH_GRP_1_298.jpg', 'CAH_GRP_1_299.jpg', 'CAH_GRP_1_300.jpg', 'CAH_GRP_1_301.jpg', 'CAH_GRP_1_302.jpg', 'CAH_GRP_1_303.jpg', 'CAH_GRP_1_304.jpg', 'CAH_GRP_1_305.jpg', 'CAH_GRP_1_306.jpg', 'CAH_GRP_1_307.jpg', 'CAH_GRP_1_308.jpg', 'CAH_GRP_1_309.jpg', 'CAH_GRP_1_310.jpg', 'CAH_GRP_1_311.jpg', 'CAH_GRP_1_312.jpg', 'CAH_GRP_1_313.jpg', 'CAH_GRP_1_314.jpg']\n"
          ]
        }
      ]
    },
    {
      "cell_type": "code",
      "source": [
        "!gdown link_id -O /content/drive/MyDrive/GT/gt_empty.csv.zip\n",
        "!gdown link_id -O /content/non_empty.zip\n",
        "!unzip /content/empty.zip"
      ],
      "metadata": {
        "id": "uXego-W0l4D6"
      },
      "execution_count": null,
      "outputs": []
    },
    {
      "cell_type": "code",
      "source": [
        "output_csv_path='/content/drive/MyDrive/GT/gt_empty.csv'\n",
        "df_output.to_csv(output_csv_path, index=False)"
      ],
      "metadata": {
        "id": "C--WLFA3LcZT"
      },
      "execution_count": 35,
      "outputs": []
    },
    {
      "cell_type": "code",
      "source": [
        "from google.colab import drive\n",
        "drive.mount('/content/drive')"
      ],
      "metadata": {
        "colab": {
          "base_uri": "https://localhost:8080/"
        },
        "id": "eufQ6-TMYkQ_",
        "outputId": "c0d9664b-3ae5-4d4a-e8be-9d2da8a2d119"
      },
      "execution_count": 1,
      "outputs": [
        {
          "output_type": "stream",
          "name": "stdout",
          "text": [
            "Mounted at /content/drive\n"
          ]
        }
      ]
    },
    {
      "cell_type": "code",
      "source": [
        "# Create validation patches\n",
        "mkdir('/content/drive/MyDrive/val_patches')\n",
        "# mkdir('/content/val_patches')\n",
        "!python /content/HerdNet/tools/patcher.py /content/drive/MyDrive/ValCAH/ 512 512 256 /content/drive/MyDrive/val_patches -csv /content/drive/MyDrive/ValCAH/VAL_CAH_6A_SE2.csv -min 0.0 -all True"
      ],
      "metadata": {
        "colab": {
          "base_uri": "https://localhost:8080/",
          "height": 262
        },
        "id": "7U10iDQ4VVxh",
        "outputId": "c53cf4d9-d90c-42d7-fd8e-e0f14e039de2"
      },
      "execution_count": null,
      "outputs": [
        {
          "output_type": "error",
          "ename": "NameError",
          "evalue": "ignored",
          "traceback": [
            "\u001b[0;31m---------------------------------------------------------------------------\u001b[0m",
            "\u001b[0;31mNameError\u001b[0m                                 Traceback (most recent call last)",
            "\u001b[0;32m<ipython-input-9-727f6cb258d7>\u001b[0m in \u001b[0;36m<cell line: 2>\u001b[0;34m()\u001b[0m\n\u001b[1;32m      1\u001b[0m \u001b[0;31m# Create validation patches\u001b[0m\u001b[0;34m\u001b[0m\u001b[0;34m\u001b[0m\u001b[0m\n\u001b[0;32m----> 2\u001b[0;31m \u001b[0mmkdir\u001b[0m\u001b[0;34m(\u001b[0m\u001b[0;34m'/content/drive/MyDrive/val_patches'\u001b[0m\u001b[0;34m)\u001b[0m\u001b[0;34m\u001b[0m\u001b[0;34m\u001b[0m\u001b[0m\n\u001b[0m\u001b[1;32m      3\u001b[0m \u001b[0;31m# mkdir('/content/val_patches')\u001b[0m\u001b[0;34m\u001b[0m\u001b[0;34m\u001b[0m\u001b[0m\n\u001b[1;32m      4\u001b[0m \u001b[0mget_ipython\u001b[0m\u001b[0;34m(\u001b[0m\u001b[0;34m)\u001b[0m\u001b[0;34m.\u001b[0m\u001b[0msystem\u001b[0m\u001b[0;34m(\u001b[0m\u001b[0;34m'python /content/HerdNet/tools/patcher.py /content/drive/MyDrive/ValCAH/ 512 512 256 /content/drive/MyDrive/val_patches -csv /content/drive/MyDrive/ValCAH/VAL_CAH_6A_SE2.csv -min 0.0 -all True'\u001b[0m\u001b[0;34m)\u001b[0m\u001b[0;34m\u001b[0m\u001b[0;34m\u001b[0m\u001b[0m\n",
            "\u001b[0;31mNameError\u001b[0m: name 'mkdir' is not defined"
          ]
        }
      ]
    },
    {
      "cell_type": "code",
      "source": [
        "#Create test patches\n",
        "from animaloc.utils.useful_funcs import mkdir\n",
        "import pandas as pd\n",
        "mkdir('/content/drive/MyDrive/test_patches')\n",
        "# mkdir('/content/test_patches')\n",
        "!python /content/HerdNet/tools/patcher.py /content/drive/MyDrive/TestCAH 512 512 256 /content/drive/MyDrive/test_patches -csv /content/drive/MyDrive/TestCAH/Test_FCH_gr7_00.csv -min 0.0 -all True"
      ],
      "metadata": {
        "colab": {
          "base_uri": "https://localhost:8080/"
        },
        "id": "D75zj-26VV8Z",
        "outputId": "31dc4783-1d58-4299-f993-f8f2e8964e6c"
      },
      "execution_count": null,
      "outputs": [
        {
          "output_type": "stream",
          "name": "stdout",
          "text": [
            "Creating the buffer: 100% 2/2 [00:05<00:00,  2.84s/it]\n",
            "Exporting patches: 100% 2/2 [00:43<00:00, 21.86s/it]\n"
          ]
        }
      ]
    },
    {
      "cell_type": "code",
      "execution_count": 10,
      "metadata": {
        "id": "Bwp4XPR8YNMR"
      },
      "outputs": [],
      "source": [
        "# Training, validation and test datasets\n",
        "import albumentations as A\n",
        "\n",
        "from animaloc.datasets import FolderDataset\n",
        "from animaloc.data.transforms import MultiTransformsWrapper, DownSample, PointsToMask, FIDT, AnimalDensity\n",
        "\n",
        "patch_size = 512\n",
        "num_classes = 2\n",
        "down_ratio = 2\n",
        "binary= False\n",
        "\n",
        "dataset = FolderDataset(\n",
        "    csv_file = '/content/drive/MyDrive/Train_patches/gt.csv',\n",
        "    root_dir = '/content/drive/MyDrive/Train_patches',\n",
        "    albu_transforms = [\n",
        "        # A.VerticalFlip(p=0.5),\n",
        "        # A.HorizontalFlip(p=0.5),\n",
        "        # A.RandomRotate90(p=0.5),\n",
        "        # A.RandomBrightnessContrast(brightness_limit=0.2, contrast_limit=0.2, p=0.2),\n",
        "        # A.Blur(blur_limit=15, p=0.2),\n",
        "        # A.Normalize(p=1.0)\n",
        "        ],\n",
        "    end_transforms = [MultiTransformsWrapper([\n",
        "        AnimalDensity(),\n",
        "        ])]\n",
        "    )\n",
        "\n",
        "# val_dataset = FolderDataset(\n",
        "#     csv_file = '/content/drive/MyDrive/val_patches/gt.csv',\n",
        "#     root_dir = '/content/drive/MyDrive/val_patches',\n",
        "#     end_transforms = [MultiTransformsWrapper([\n",
        "#         AnimalDensity(),\n",
        "#         ])]\n",
        "#      )\n",
        "\n",
        "# test_dataset = FolderDataset(\n",
        "#     csv_file = '/content/drive/MyDrive/test_patches/gt.csv',\n",
        "#     root_dir = '/content/drive/MyDrive/test_patches',\n",
        "#     albu_transforms = [\n",
        "#         # A.VerticalFlip(p=0.5),\n",
        "#         # A.HorizontalFlip(p=0.5),\n",
        "#         # A.RandomRotate90(p=0.5),\n",
        "#         # A.RandomBrightnessContrast(brightness_limit=0.2, contrast_limit=0.2, p=0.2),\n",
        "#         # A.Blur(blur_limit=15, p=0.2),\n",
        "#         # A.Normalize(p=1.0)\n",
        "#         ],\n",
        "#     end_transforms = [MultiTransformsWrapper([\n",
        "#         AnimalDensity(),\n",
        "#         ])]\n",
        "#     )"
      ]
    },
    {
      "cell_type": "code",
      "execution_count": null,
      "metadata": {
        "id": "lR1W5NVFYhiZ",
        "colab": {
          "base_uri": "https://localhost:8080/"
        },
        "outputId": "14f0bbcc-caf1-4d10-e988-19c6a32919c8"
      },
      "outputs": [
        {
          "output_type": "stream",
          "name": "stdout",
          "text": [
            "14738\n"
          ]
        }
      ],
      "source": [
        "import torch\n",
        "from torch.utils.data import random_split\n",
        "\n",
        "# Assuming 'dataset' is your dataset\n",
        "\n",
        "# Compute the lengths of the splits\n",
        "lengths = [int(len(dataset)*0.9), len(dataset) - int(len(dataset)*0.9)]\n",
        "\n",
        "# Use random_split to get the datasets\n",
        "train_dataset, val_dataset = random_split(dataset, lengths) # not optimal here, does not take into account inbalancing\n",
        "\n",
        "print(len(train_dataset))"
      ]
    },
    {
      "cell_type": "markdown",
      "source": [
        "Stratified  split (not sure it's the best way)\n",
        "\n",
        "```\n",
        "from sklearn.model_selection import StratifiedShuffleSplit\n",
        "import numpy as np\n",
        "import torch\n",
        "\n",
        "targets = [dataset.data[dataset.data['images']==dataset._ordered_img_names[0]]['from_folder'].values[0] for img in dataset._ordered_img_names]\n",
        "\n",
        "from collections import Counter\n",
        "Counter(targets)\n",
        "\n",
        "sss = StratifiedShuffleSplit(n_splits=1, test_size=0.1, random_state=0)\n",
        "\n",
        "for train_index, val_index in sss.split(np.zeros(len(targets)), targets):\n",
        "  train_dataset= torch.utils.data.Subset(dataset, train_index)\n",
        "  val_dataset= torch.utils.data.Subset(dataset, val_index)\n",
        "```\n",
        "\n"
      ],
      "metadata": {
        "id": "g47UIeoJFDHV"
      }
    },
    {
      "cell_type": "markdown",
      "source": [
        "Class distribution (0= empty, 1=non-empty)"
      ],
      "metadata": {
        "id": "rkXJ1vPqgk8x"
      }
    },
    {
      "cell_type": "code",
      "source": [
        "dataset.data['from_folder'].value_counts(0)"
      ],
      "metadata": {
        "id": "UnzwJqJbXLcV"
      },
      "execution_count": null,
      "outputs": []
    },
    {
      "cell_type": "code",
      "source": [
        "\n",
        "# Dataloaders\n",
        "from torch.utils.data import DataLoader\n",
        "BATCH_SIZE= 32\n",
        "train_dataloader = DataLoader(dataset = train_dataset, batch_size = BATCH_SIZE, num_workers= 2, shuffle= True)\n",
        "\n",
        "val_dataloader = DataLoader(dataset = val_dataset, batch_size = BATCH_SIZE, num_workers= 2, shuffle= False)\n",
        "\n",
        "test_dataloader = DataLoader(dataset = test_dataset, batch_size = BATCH_SIZE, num_workers= 2, shuffle= False)"
      ],
      "metadata": {
        "id": "b4UYe3_6kMN2"
      },
      "execution_count": null,
      "outputs": []
    },
    {
      "cell_type": "markdown",
      "source": [
        "## Visualisation des batch"
      ],
      "metadata": {
        "id": "l-foe44L5axO"
      }
    },
    {
      "cell_type": "code",
      "source": [
        "%matplotlib inline\n",
        "# Showing some samples of patches and the annotations\n",
        "import matplotlib.pyplot as plt\n",
        "from animaloc.datasets import CSVDataset\n",
        "from animaloc.data.batch_utils import show_batch, collate_fn\n",
        "from torch.utils.data import DataLoader\n",
        "import torch\n",
        "import albumentations as A\n",
        "batch_size = 8\n",
        "csv_path = '/content/drive/MyDrive/Train_patches/gt.csv'\n",
        "image_path = '/content/drive/MyDrive/Train_patches'\n",
        "dataset_all = FolderDataset(csv_path, image_path, [A.Normalize()])\n",
        "dataloader = DataLoader(dataset_all, batch_size=batch_size, collate_fn=collate_fn, shuffle=True)\n",
        "\n",
        "sample_batch = next(iter(dataloader))\n",
        "for i in range(len(sample_batch[1])):\n",
        "  points = sample_batch[1][i]['points'].numpy()\n",
        "  print(len(sample_batch[1][i]['labels']))\n",
        "  bbox= []\n",
        "  for pt in points:\n",
        "      bbox.append([pt[0]-2,pt[1]-2,pt[0]+2,pt[1]+2])\n",
        "  #print(len(sample_batch[1][i]['labels']))\n",
        "  sample_batch[1][i]['annotations']=torch.tensor(bbox)\n",
        "plt.figure(figsize=(16,2))\n",
        "show_batch(sample_batch)"
      ],
      "metadata": {
        "id": "F1X-1Tpf1fTT",
        "colab": {
          "base_uri": "https://localhost:8080/",
          "height": 278
        },
        "outputId": "dbe9d810-d14e-4106-dcfb-32f1342d24d5"
      },
      "execution_count": null,
      "outputs": [
        {
          "output_type": "stream",
          "name": "stdout",
          "text": [
            "0\n",
            "0\n",
            "0\n",
            "62\n",
            "2\n",
            "0\n",
            "45\n",
            "24\n"
          ]
        },
        {
          "output_type": "display_data",
          "data": {
            "text/plain": [
              "<Figure size 1600x200 with 1 Axes>"
            ],
            "image/png": "[encoded data removed]"
          },
          "metadata": {}
        }
      ]
    },
    {
      "cell_type": "code",
      "source": [
        "sample_batch[1][0]['labels']"
      ],
      "metadata": {
        "colab": {
          "base_uri": "https://localhost:8080/"
        },
        "id": "d8mAJMR1WPNH",
        "outputId": "8100de51-4e6a-4093-ed67-36207dfdfa83"
      },
      "execution_count": null,
      "outputs": [
        {
          "output_type": "execute_result",
          "data": {
            "text/plain": [
              "tensor([], dtype=torch.int64)"
            ]
          },
          "metadata": {},
          "execution_count": 13
        }
      ]
    },
    {
      "cell_type": "markdown",
      "metadata": {
        "id": "emWQUMq2Vwpj"
      },
      "source": [
        "## Define HerdNet for training"
      ]
    },
    {
      "cell_type": "code",
      "execution_count": null,
      "metadata": {
        "id": "JIBKygFlV0V1",
        "colab": {
          "base_uri": "https://localhost:8080/"
        },
        "outputId": "3aa63bf8-a61a-4eb8-c2ef-f42a62dc88fe"
      },
      "outputs": [
        {
          "output_type": "stream",
          "name": "stderr",
          "text": [
            "Downloading: \"http://dl.yf.io/dla/models/imagenet/dla34-ba72cf86.pth\" to /root/.cache/torch/hub/checkpoints/dla34-ba72cf86.pth\n",
            "100%|██████████| 60.3M/60.3M [00:05<00:00, 10.8MB/s]\n"
          ]
        },
        {
          "output_type": "stream",
          "name": "stdout",
          "text": [
            "(15653994496, 15835398144)\n"
          ]
        }
      ],
      "source": [
        "from animaloc.models import DLAEncoder\n",
        "from torch import Tensor\n",
        "from animaloc.models import LossWrapper\n",
        "from animaloc.train.losses import FocalLoss\n",
        "from torch.nn import CrossEntropyLoss, BCEWithLogitsLoss, L1Loss\n",
        "\n",
        "num_classes=2\n",
        "dla_encoder = DLAEncoder(num_classes=num_classes).cuda()\n",
        "\n",
        "image= torch.ones([1,3,512,512]).cuda()\n",
        "print(torch.cuda.mem_get_info())\n",
        "\n",
        "cls= dla_encoder(image)\n",
        "weight = Tensor([0.1, 1.0, 2.0, 1.0, 6.0, 12.0, 1.0]).cuda()\n",
        "if binary:\n",
        "  losses = [\n",
        "      {'loss': BCEWithLogitsLoss(reduction='mean'), 'idx': 0, 'idy': 0, 'lambda': 1.0, 'name': 'bce_loss'},\n",
        "      ]\n",
        "else:\n",
        "  losses = [\n",
        "      {'loss': L1Loss(reduction='mean'), 'idx': 0, 'idy': 0, 'lambda': 1.0, 'name': 'bce_loss'},\n",
        "      ]\n",
        "dla_encoder = LossWrapper(dla_encoder, losses=losses)"
      ]
    },
    {
      "cell_type": "markdown",
      "metadata": {
        "id": "Nm5u6yg4V78C"
      },
      "source": [
        "## Create the Trainer"
      ]
    },
    {
      "cell_type": "code",
      "execution_count": null,
      "metadata": {
        "id": "MSBimwtzWDZp"
      },
      "outputs": [],
      "source": [
        "from torch.optim import Adam\n",
        "\n",
        "from animaloc.train import Trainer\n",
        "from animaloc.eval import ImageLevelMetrics, HerdNetStitcher, HerdNetEvaluator, TileEvaluator\n",
        "from animaloc.utils.useful_funcs import mkdir\n",
        "\n",
        "work_dir = '/content/output'\n",
        "mkdir(work_dir)\n",
        "\n",
        "lr = 1e-4\n",
        "weight_decay = 1e-3\n",
        "epochs =20\n",
        "\n",
        "optimizer = Adam(params=dla_encoder.parameters(), lr=lr, weight_decay=weight_decay)\n",
        "\n",
        "metrics = ImageLevelMetrics(num_classes=num_classes)\n",
        "\n",
        "evaluator = TileEvaluator(\n",
        "    model=dla_encoder,\n",
        "    dataloader=val_dataloader,\n",
        "    metrics=metrics,\n",
        "    stitcher=None,\n",
        "    work_dir=work_dir,\n",
        "    header='validation',\n",
        "    )\n",
        "\n",
        "trainer = Trainer(\n",
        "    model=dla_encoder,\n",
        "    train_dataloader=train_dataloader,\n",
        "    optimizer=optimizer,\n",
        "    num_epochs=epochs,\n",
        "    evaluator=evaluator,             # metric evaluation\n",
        "    #val_dataloader= val_dataloader, # loss evaluation\n",
        "    work_dir=work_dir\n",
        "    )"
      ]
    },
    {
      "cell_type": "markdown",
      "metadata": {
        "id": "axsTtq4WV0ot"
      },
      "source": [
        "## Start training"
      ]
    },
    {
      "cell_type": "code",
      "source": [
        "!wandb login"
      ],
      "metadata": {
        "id": "E526zb0vxTyn",
        "colab": {
          "base_uri": "https://localhost:8080/"
        },
        "outputId": "2dde5cfe-8528-47f5-b3b7-e1368b760fea"
      },
      "execution_count": null,
      "outputs": [
        {
          "output_type": "stream",
          "name": "stdout",
          "text": [
            "\u001b[34m\u001b[1mwandb\u001b[0m: Logging into wandb.ai. (Learn how to deploy a W&B server locally: https://wandb.me/wandb-server)\n",
            "\u001b[34m\u001b[1mwandb\u001b[0m: You can find your API key in your browser here: https://wandb.ai/authorize\n",
            "\u001b[34m\u001b[1mwandb\u001b[0m: Paste an API key from your profile and hit enter, or press ctrl+c to quit: \n",
            "\u001b[34m\u001b[1mwandb\u001b[0m: Appending key for api.wandb.ai to your netrc file: /root/.netrc\n"
          ]
        }
      ]
    },
    {
      "cell_type": "code",
      "source": [
        "import wandb\n",
        "if wandb.run is not None:\n",
        "  wandb.finish()\n",
        "wandb.init(project=\"herdnet\")"
      ],
      "metadata": {
        "id": "sDHKCx7XxALJ",
        "colab": {
          "base_uri": "https://localhost:8080/",
          "height": 163
        },
        "outputId": "79b480da-d989-4024-feb2-46349cbfc473"
      },
      "execution_count": null,
      "outputs": [
        {
          "output_type": "stream",
          "name": "stderr",
          "text": [
            "\u001b[34m\u001b[1mwandb\u001b[0m: Currently logged in as: \u001b[33mghazaleh-serati\u001b[0m (\u001b[33mwildlife-monitoring\u001b[0m). Use \u001b[1m`wandb login --relogin`\u001b[0m to force relogin\n"
          ]
        },
        {
          "output_type": "display_data",
          "data": {
            "text/plain": [
              "<IPython.core.display.HTML object>"
            ],
            "text/html": [
              "Tracking run with wandb version 0.15.8"
            ]
          },
          "metadata": {}
        },
        {
          "output_type": "display_data",
          "data": {
            "text/plain": [
              "<IPython.core.display.HTML object>"
            ],
            "text/html": [
              "Run data is saved locally in <code>/content/wandb/run-20230807_151837-uydv9kcb</code>"
            ]
          },
          "metadata": {}
        },
        {
          "output_type": "display_data",
          "data": {
            "text/plain": [
              "<IPython.core.display.HTML object>"
            ],
            "text/html": [
              "Syncing run <strong><a href='https://wandb.ai/wildlife-monitoring/herdnet/runs/uydv9kcb' target=\"_blank\">daily-wood-32</a></strong> to <a href='https://wandb.ai/wildlife-monitoring/herdnet' target=\"_blank\">Weights & Biases</a> (<a href='https://wandb.me/run' target=\"_blank\">docs</a>)<br/>"
            ]
          },
          "metadata": {}
        },
        {
          "output_type": "display_data",
          "data": {
            "text/plain": [
              "<IPython.core.display.HTML object>"
            ],
            "text/html": [
              " View project at <a href='https://wandb.ai/wildlife-monitoring/herdnet' target=\"_blank\">https://wandb.ai/wildlife-monitoring/herdnet</a>"
            ]
          },
          "metadata": {}
        },
        {
          "output_type": "display_data",
          "data": {
            "text/plain": [
              "<IPython.core.display.HTML object>"
            ],
            "text/html": [
              " View run at <a href='https://wandb.ai/wildlife-monitoring/herdnet/runs/uydv9kcb' target=\"_blank\">https://wandb.ai/wildlife-monitoring/herdnet/runs/uydv9kcb</a>"
            ]
          },
          "metadata": {}
        },
        {
          "output_type": "execute_result",
          "data": {
            "text/html": [
              "<button onClick=\"this.nextSibling.style.display='block';this.style.display='none';\">Display W&B run</button><iframe src='https://wandb.ai/wildlife-monitoring/herdnet/runs/uydv9kcb?jupyter=true' style='border:none;width:100%;height:420px;display:none;'></iframe>"
            ],
            "text/plain": [
              "<wandb.sdk.wandb_run.Run at 0x7ad200e08220>"
            ]
          },
          "metadata": {},
          "execution_count": 17
        }
      ]
    },
    {
      "cell_type": "code",
      "execution_count": null,
      "metadata": {
        "id": "malFT6r5V4rC",
        "colab": {
          "base_uri": "https://localhost:8080/",
          "height": 1000
        },
        "outputId": "99ac0e6d-d121-42af-fa27-c60680abd8f9"
      },
      "outputs": [
        {
          "output_type": "stream",
          "name": "stderr",
          "text": [
            "INFO:20230807_training:[TRAINING] - Epoch: [1] [  1/461] eta: 2:10:54 lr: 0.000002 loss: 0.2497 (0.2497) bce_loss: 0.2497 (0.2497) time: 17.0387 data: 15.4526 max mem: 8086\n"
          ]
        },
        {
          "output_type": "stream",
          "name": "stdout",
          "text": [
            "[TRAINING] - Epoch: [1] [  1/461] eta: 2:10:54 lr: 0.000002 loss: 0.2497 (0.2497) bce_loss: 0.2497 (0.2497) time: 17.0387 data: 15.4526 max mem: 8086\n"
          ]
        },
        {
          "output_type": "stream",
          "name": "stderr",
          "text": [
            "INFO:20230807_training:[TRAINING] - Epoch: [1] [ 51/461] eta: 0:48:08 lr: 0.000051 loss: 0.1121 (0.1416) bce_loss: 0.1121 (0.1416) time: 6.7583 data: 5.8334 max mem: 8206\n"
          ]
        },
        {
          "output_type": "stream",
          "name": "stdout",
          "text": [
            "[TRAINING] - Epoch: [1] [ 51/461] eta: 0:48:08 lr: 0.000051 loss: 0.1121 (0.1416) bce_loss: 0.1121 (0.1416) time: 6.7583 data: 5.8334 max mem: 8206\n"
          ]
        },
        {
          "output_type": "stream",
          "name": "stderr",
          "text": [
            "INFO:20230807_training:[TRAINING] - Epoch: [1] [101/461] eta: 0:41:57 lr: 0.000100 loss: 0.1081 (0.1237) bce_loss: 0.1081 (0.1237) time: 7.0049 data: 6.0627 max mem: 8206\n"
          ]
        },
        {
          "output_type": "stream",
          "name": "stdout",
          "text": [
            "[TRAINING] - Epoch: [1] [101/461] eta: 0:41:57 lr: 0.000100 loss: 0.1081 (0.1237) bce_loss: 0.1081 (0.1237) time: 7.0049 data: 6.0627 max mem: 8206\n"
          ]
        },
        {
          "output_type": "stream",
          "name": "stderr",
          "text": [
            "INFO:20230807_training:[TRAINING] - Epoch: [1] [151/461] eta: 0:36:06 lr: 0.000100 loss: 0.0943 (0.1174) bce_loss: 0.0943 (0.1174) time: 6.8960 data: 5.9441 max mem: 8206\n"
          ]
        },
        {
          "output_type": "stream",
          "name": "stdout",
          "text": [
            "[TRAINING] - Epoch: [1] [151/461] eta: 0:36:06 lr: 0.000100 loss: 0.0943 (0.1174) bce_loss: 0.0943 (0.1174) time: 6.8960 data: 5.9441 max mem: 8206\n"
          ]
        },
        {
          "output_type": "stream",
          "name": "stderr",
          "text": [
            "INFO:20230807_training:[TRAINING] - Epoch: [1] [201/461] eta: 0:30:14 lr: 0.000100 loss: 0.0806 (0.1111) bce_loss: 0.0806 (0.1111) time: 6.8563 data: 5.8980 max mem: 8206\n"
          ]
        },
        {
          "output_type": "stream",
          "name": "stdout",
          "text": [
            "[TRAINING] - Epoch: [1] [201/461] eta: 0:30:14 lr: 0.000100 loss: 0.0806 (0.1111) bce_loss: 0.0806 (0.1111) time: 6.8563 data: 5.8980 max mem: 8206\n"
          ]
        },
        {
          "output_type": "stream",
          "name": "stderr",
          "text": [
            "INFO:20230807_training:[TRAINING] - Epoch: [1] [251/461] eta: 0:24:23 lr: 0.000100 loss: 0.0806 (0.1036) bce_loss: 0.0806 (0.1036) time: 6.8013 data: 5.8780 max mem: 8206\n"
          ]
        },
        {
          "output_type": "stream",
          "name": "stdout",
          "text": [
            "[TRAINING] - Epoch: [1] [251/461] eta: 0:24:23 lr: 0.000100 loss: 0.0806 (0.1036) bce_loss: 0.0806 (0.1036) time: 6.8013 data: 5.8780 max mem: 8206\n"
          ]
        },
        {
          "output_type": "stream",
          "name": "stderr",
          "text": [
            "INFO:20230807_training:[TRAINING] - Epoch: [1] [301/461] eta: 0:18:37 lr: 0.000100 loss: 0.0509 (0.0980) bce_loss: 0.0509 (0.0980) time: 7.0166 data: 6.0960 max mem: 8206\n"
          ]
        },
        {
          "output_type": "stream",
          "name": "stdout",
          "text": [
            "[TRAINING] - Epoch: [1] [301/461] eta: 0:18:37 lr: 0.000100 loss: 0.0509 (0.0980) bce_loss: 0.0509 (0.0980) time: 7.0166 data: 6.0960 max mem: 8206\n"
          ]
        },
        {
          "output_type": "stream",
          "name": "stderr",
          "text": [
            "INFO:20230807_training:[TRAINING] - Epoch: [1] [351/461] eta: 0:12:48 lr: 0.000100 loss: 0.0412 (0.0916) bce_loss: 0.0412 (0.0916) time: 6.8171 data: 5.8964 max mem: 8206\n"
          ]
        },
        {
          "output_type": "stream",
          "name": "stdout",
          "text": [
            "[TRAINING] - Epoch: [1] [351/461] eta: 0:12:48 lr: 0.000100 loss: 0.0412 (0.0916) bce_loss: 0.0412 (0.0916) time: 6.8171 data: 5.8964 max mem: 8206\n"
          ]
        },
        {
          "output_type": "stream",
          "name": "stderr",
          "text": [
            "INFO:20230807_training:[TRAINING] - Epoch: [1] [401/461] eta: 0:07:01 lr: 0.000100 loss: 0.0481 (0.0859) bce_loss: 0.0481 (0.0859) time: 6.8215 data: 5.8995 max mem: 8206\n"
          ]
        },
        {
          "output_type": "stream",
          "name": "stdout",
          "text": [
            "[TRAINING] - Epoch: [1] [401/461] eta: 0:07:01 lr: 0.000100 loss: 0.0481 (0.0859) bce_loss: 0.0481 (0.0859) time: 6.8215 data: 5.8995 max mem: 8206\n"
          ]
        },
        {
          "output_type": "stream",
          "name": "stderr",
          "text": [
            "INFO:20230807_training:[TRAINING] - Epoch: [1] [451/461] eta: 0:01:15 lr: 0.000100 loss: 0.0561 (0.0820) bce_loss: 0.0561 (0.0820) time: 6.8113 data: 5.8900 max mem: 8206\n"
          ]
        },
        {
          "output_type": "stream",
          "name": "stdout",
          "text": [
            "[TRAINING] - Epoch: [1] [451/461] eta: 0:01:15 lr: 0.000100 loss: 0.0561 (0.0820) bce_loss: 0.0561 (0.0820) time: 6.8113 data: 5.8900 max mem: 8206\n"
          ]
        },
        {
          "output_type": "stream",
          "name": "stderr",
          "text": [
            "INFO:20230807_training:[TRAINING] - Epoch: [1] [461/461] eta: 0:00:06 lr: 0.000100 loss: 0.0687 (0.0819) bce_loss: 0.0687 (0.0819) time: 6.8337 data: 5.9275 max mem: 8206\n",
            "INFO:20230807_training:[TRAINING] - Epoch: [1] Total time: 0:52:55 (6.8884 s / it)\n"
          ]
        },
        {
          "output_type": "stream",
          "name": "stdout",
          "text": [
            "[TRAINING] - Epoch: [1] [461/461] eta: 0:00:06 lr: 0.000100 loss: 0.0687 (0.0819) bce_loss: 0.0687 (0.0819) time: 6.8337 data: 5.9275 max mem: 8206\n",
            "[TRAINING] - Epoch: [1] Total time: 0:52:55 (6.8884 s / it)\n",
            "[TRAINING] - Epoch: [1] mean loss: 0.0819\n"
          ]
        },
        {
          "output_type": "stream",
          "name": "stderr",
          "text": [
            "INFO:20230807_validation:[VALIDATION] - Epoch: [1] [ 1/52] eta: 0:11:44 n: 32 recall: 1.0 precision: 1.0 f1-score: 1.0 MAE: 0.0 MSE: 0.0 RMSE: 0.0 time: 13.5563 data: 13.2301 max mem: 8206\n"
          ]
        },
        {
          "output_type": "stream",
          "name": "stdout",
          "text": [
            "[VALIDATION] - Epoch: [1] [ 1/52] eta: 0:11:44 n: 32 recall: 1.0 precision: 1.0 f1-score: 1.0 MAE: 0.0 MSE: 0.0 RMSE: 0.0 time: 13.5563 data: 13.2301 max mem: 8206\n"
          ]
        },
        {
          "output_type": "stream",
          "name": "stderr",
          "text": [
            "INFO:20230807_validation:[VALIDATION] - Epoch: [1] [11/52] eta: 0:05:06 n: 32 recall: 1.0 precision: 1.0 f1-score: 1.0 MAE: 0.0 MSE: 0.0 RMSE: 0.0 time: 7.2950 data: 6.9791 max mem: 8206\n"
          ]
        },
        {
          "output_type": "stream",
          "name": "stdout",
          "text": [
            "[VALIDATION] - Epoch: [1] [11/52] eta: 0:05:06 n: 32 recall: 1.0 precision: 1.0 f1-score: 1.0 MAE: 0.0 MSE: 0.0 RMSE: 0.0 time: 7.2950 data: 6.9791 max mem: 8206\n"
          ]
        },
        {
          "output_type": "stream",
          "name": "stderr",
          "text": [
            "INFO:20230807_validation:[VALIDATION] - Epoch: [1] [21/52] eta: 0:03:46 n: 32 recall: 1.0 precision: 1.0 f1-score: 1.0 MAE: 0.0 MSE: 0.0 RMSE: 0.0 time: 6.7633 data: 6.4381 max mem: 8206\n"
          ]
        },
        {
          "output_type": "stream",
          "name": "stdout",
          "text": [
            "[VALIDATION] - Epoch: [1] [21/52] eta: 0:03:46 n: 32 recall: 1.0 precision: 1.0 f1-score: 1.0 MAE: 0.0 MSE: 0.0 RMSE: 0.0 time: 6.7633 data: 6.4381 max mem: 8206\n"
          ]
        },
        {
          "output_type": "stream",
          "name": "stderr",
          "text": [
            "INFO:20230807_validation:[VALIDATION] - Epoch: [1] [31/52] eta: 0:02:34 n: 32 recall: 1.0 precision: 1.0 f1-score: 1.0 MAE: 0.0 MSE: 0.0 RMSE: 0.0 time: 6.8962 data: 6.5607 max mem: 8206\n"
          ]
        },
        {
          "output_type": "stream",
          "name": "stdout",
          "text": [
            "[VALIDATION] - Epoch: [1] [31/52] eta: 0:02:34 n: 32 recall: 1.0 precision: 1.0 f1-score: 1.0 MAE: 0.0 MSE: 0.0 RMSE: 0.0 time: 6.8962 data: 6.5607 max mem: 8206\n"
          ]
        },
        {
          "output_type": "stream",
          "name": "stderr",
          "text": [
            "INFO:20230807_validation:[VALIDATION] - Epoch: [1] [41/52] eta: 0:01:23 n: 32 recall: 1.0 precision: 1.0 f1-score: 1.0 MAE: 0.0 MSE: 0.0 RMSE: 0.0 time: 6.8183 data: 6.4867 max mem: 8206\n"
          ]
        },
        {
          "output_type": "stream",
          "name": "stdout",
          "text": [
            "[VALIDATION] - Epoch: [1] [41/52] eta: 0:01:23 n: 32 recall: 1.0 precision: 1.0 f1-score: 1.0 MAE: 0.0 MSE: 0.0 RMSE: 0.0 time: 6.8183 data: 6.4867 max mem: 8206\n"
          ]
        },
        {
          "output_type": "stream",
          "name": "stderr",
          "text": [
            "INFO:20230807_validation:[VALIDATION] - Epoch: [1] [51/52] eta: 0:00:13 n: 32 recall: 1.0 precision: 1.0 f1-score: 1.0 MAE: 0.0 MSE: 0.0 RMSE: 0.0 time: 6.8187 data: 6.4890 max mem: 8206\n",
            "INFO:20230807_validation:[VALIDATION] - Epoch: [1] [52/52] eta: 0:00:06 n: 6 recall: 1.0 precision: 1.0 f1-score: 1.0 MAE: 0.0 MSE: 0.0 RMSE: 0.0 time: 6.6720 data: 6.3549 max mem: 8206\n",
            "INFO:20230807_validation:[VALIDATION] - Epoch: [1] Total time: 0:05:54 (6.8207 s / it)\n"
          ]
        },
        {
          "output_type": "stream",
          "name": "stdout",
          "text": [
            "[VALIDATION] - Epoch: [1] [51/52] eta: 0:00:13 n: 32 recall: 1.0 precision: 1.0 f1-score: 1.0 MAE: 0.0 MSE: 0.0 RMSE: 0.0 time: 6.8187 data: 6.4890 max mem: 8206\n",
            "[VALIDATION] - Epoch: [1] [52/52] eta: 0:00:06 n: 6 recall: 1.0 precision: 1.0 f1-score: 1.0 MAE: 0.0 MSE: 0.0 RMSE: 0.0 time: 6.6720 data: 6.3549 max mem: 8206\n",
            "[VALIDATION] - Epoch: [1] Total time: 0:05:54 (6.8207 s / it)\n",
            "[VALIDATION] - Epoch: [1] accuracy: 0.0568\n",
            "Best model saved - Epoch 1 - Validation value: 0.056777\n"
          ]
        },
        {
          "output_type": "stream",
          "name": "stderr",
          "text": [
            "INFO:20230807_training:[TRAINING] - Epoch: [2] [  1/461] eta: 0:12:32 lr: 0.000100 loss: 0.0687 (0.0820) bce_loss: 0.0687 (0.0820) time: 1.6330 data: 0.7289 max mem: 8206\n"
          ]
        },
        {
          "output_type": "stream",
          "name": "stdout",
          "text": [
            "[TRAINING] - Epoch: [2] [  1/461] eta: 0:12:32 lr: 0.000100 loss: 0.0687 (0.0820) bce_loss: 0.0687 (0.0820) time: 1.6330 data: 0.7289 max mem: 8206\n"
          ]
        },
        {
          "output_type": "stream",
          "name": "stderr",
          "text": [
            "INFO:20230807_training:[TRAINING] - Epoch: [2] [ 51/461] eta: 0:06:23 lr: 0.000100 loss: 0.0418 (0.0797) bce_loss: 0.0418 (0.0797) time: 0.9253 data: 0.0189 max mem: 8206\n"
          ]
        },
        {
          "output_type": "stream",
          "name": "stdout",
          "text": [
            "[TRAINING] - Epoch: [2] [ 51/461] eta: 0:06:23 lr: 0.000100 loss: 0.0418 (0.0797) bce_loss: 0.0418 (0.0797) time: 0.9253 data: 0.0189 max mem: 8206\n"
          ]
        },
        {
          "output_type": "stream",
          "name": "stderr",
          "text": [
            "INFO:20230807_training:[TRAINING] - Epoch: [2] [101/461] eta: 0:05:38 lr: 0.000100 loss: 0.0432 (0.0771) bce_loss: 0.0432 (0.0771) time: 0.9468 data: 0.0193 max mem: 8206\n"
          ]
        },
        {
          "output_type": "stream",
          "name": "stdout",
          "text": [
            "[TRAINING] - Epoch: [2] [101/461] eta: 0:05:38 lr: 0.000100 loss: 0.0432 (0.0771) bce_loss: 0.0432 (0.0771) time: 0.9468 data: 0.0193 max mem: 8206\n"
          ]
        },
        {
          "output_type": "stream",
          "name": "stderr",
          "text": [
            "INFO:20230807_training:[TRAINING] - Epoch: [2] [151/461] eta: 0:04:52 lr: 0.000100 loss: 0.0508 (0.0745) bce_loss: 0.0508 (0.0745) time: 0.9481 data: 0.0197 max mem: 8206\n"
          ]
        },
        {
          "output_type": "stream",
          "name": "stdout",
          "text": [
            "[TRAINING] - Epoch: [2] [151/461] eta: 0:04:52 lr: 0.000100 loss: 0.0508 (0.0745) bce_loss: 0.0508 (0.0745) time: 0.9481 data: 0.0197 max mem: 8206\n"
          ]
        },
        {
          "output_type": "stream",
          "name": "stderr",
          "text": [
            "INFO:20230807_training:[TRAINING] - Epoch: [2] [201/461] eta: 0:04:06 lr: 0.000100 loss: 0.0548 (0.0730) bce_loss: 0.0548 (0.0730) time: 0.9520 data: 0.0213 max mem: 8206\n"
          ]
        },
        {
          "output_type": "stream",
          "name": "stdout",
          "text": [
            "[TRAINING] - Epoch: [2] [201/461] eta: 0:04:06 lr: 0.000100 loss: 0.0548 (0.0730) bce_loss: 0.0548 (0.0730) time: 0.9520 data: 0.0213 max mem: 8206\n"
          ]
        },
        {
          "output_type": "stream",
          "name": "stderr",
          "text": [
            "INFO:20230807_training:[TRAINING] - Epoch: [2] [251/461] eta: 0:03:19 lr: 0.000100 loss: 0.0558 (0.0721) bce_loss: 0.0558 (0.0721) time: 0.9517 data: 0.0223 max mem: 8206\n"
          ]
        },
        {
          "output_type": "stream",
          "name": "stdout",
          "text": [
            "[TRAINING] - Epoch: [2] [251/461] eta: 0:03:19 lr: 0.000100 loss: 0.0558 (0.0721) bce_loss: 0.0558 (0.0721) time: 0.9517 data: 0.0223 max mem: 8206\n"
          ]
        },
        {
          "output_type": "stream",
          "name": "stderr",
          "text": [
            "INFO:20230807_training:[TRAINING] - Epoch: [2] [301/461] eta: 0:02:32 lr: 0.000100 loss: 0.0386 (0.0706) bce_loss: 0.0386 (0.0706) time: 0.9527 data: 0.0232 max mem: 8206\n"
          ]
        },
        {
          "output_type": "stream",
          "name": "stdout",
          "text": [
            "[TRAINING] - Epoch: [2] [301/461] eta: 0:02:32 lr: 0.000100 loss: 0.0386 (0.0706) bce_loss: 0.0386 (0.0706) time: 0.9527 data: 0.0232 max mem: 8206\n"
          ]
        },
        {
          "output_type": "stream",
          "name": "stderr",
          "text": [
            "INFO:20230807_training:[TRAINING] - Epoch: [2] [351/461] eta: 0:01:45 lr: 0.000100 loss: 0.0428 (0.0689) bce_loss: 0.0428 (0.0689) time: 0.9541 data: 0.0234 max mem: 8206\n"
          ]
        },
        {
          "output_type": "stream",
          "name": "stdout",
          "text": [
            "[TRAINING] - Epoch: [2] [351/461] eta: 0:01:45 lr: 0.000100 loss: 0.0428 (0.0689) bce_loss: 0.0428 (0.0689) time: 0.9541 data: 0.0234 max mem: 8206\n"
          ]
        },
        {
          "output_type": "stream",
          "name": "stderr",
          "text": [
            "INFO:20230807_training:[TRAINING] - Epoch: [2] [401/461] eta: 0:00:57 lr: 0.000100 loss: 0.0391 (0.0675) bce_loss: 0.0391 (0.0675) time: 0.9494 data: 0.0210 max mem: 8206\n"
          ]
        },
        {
          "output_type": "stream",
          "name": "stdout",
          "text": [
            "[TRAINING] - Epoch: [2] [401/461] eta: 0:00:57 lr: 0.000100 loss: 0.0391 (0.0675) bce_loss: 0.0391 (0.0675) time: 0.9494 data: 0.0210 max mem: 8206\n"
          ]
        },
        {
          "output_type": "stream",
          "name": "stderr",
          "text": [
            "INFO:20230807_training:[TRAINING] - Epoch: [2] [451/461] eta: 0:00:10 lr: 0.000100 loss: 0.0461 (0.0663) bce_loss: 0.0461 (0.0663) time: 0.9519 data: 0.0231 max mem: 8206\n"
          ]
        },
        {
          "output_type": "stream",
          "name": "stdout",
          "text": [
            "[TRAINING] - Epoch: [2] [451/461] eta: 0:00:10 lr: 0.000100 loss: 0.0461 (0.0663) bce_loss: 0.0461 (0.0663) time: 0.9519 data: 0.0231 max mem: 8206\n"
          ]
        },
        {
          "output_type": "stream",
          "name": "stderr",
          "text": [
            "INFO:20230807_training:[TRAINING] - Epoch: [2] [461/461] eta: 0:00:00 lr: 0.000100 loss: 0.0383 (0.0660) bce_loss: 0.0383 (0.0660) time: 0.9352 data: 0.0224 max mem: 8206\n",
            "INFO:20230807_training:[TRAINING] - Epoch: [2] Total time: 0:07:16 (0.9477 s / it)\n"
          ]
        },
        {
          "output_type": "stream",
          "name": "stdout",
          "text": [
            "[TRAINING] - Epoch: [2] [461/461] eta: 0:00:00 lr: 0.000100 loss: 0.0383 (0.0660) bce_loss: 0.0383 (0.0660) time: 0.9352 data: 0.0224 max mem: 8206\n",
            "[TRAINING] - Epoch: [2] Total time: 0:07:16 (0.9477 s / it)\n",
            "[TRAINING] - Epoch: [2] mean loss: 0.0500\n"
          ]
        },
        {
          "output_type": "stream",
          "name": "stderr",
          "text": [
            "INFO:20230807_validation:[VALIDATION] - Epoch: [2] [ 1/52] eta: 0:00:50 n: 32 recall: 1.0 precision: 1.0 f1-score: 1.0 MAE: 0.0 MSE: 0.0 RMSE: 0.0 time: 0.9628 data: 0.7018 max mem: 8206\n"
          ]
        },
        {
          "output_type": "stream",
          "name": "stdout",
          "text": [
            "[VALIDATION] - Epoch: [2] [ 1/52] eta: 0:00:50 n: 32 recall: 1.0 precision: 1.0 f1-score: 1.0 MAE: 0.0 MSE: 0.0 RMSE: 0.0 time: 0.9628 data: 0.7018 max mem: 8206\n"
          ]
        },
        {
          "output_type": "stream",
          "name": "stderr",
          "text": [
            "INFO:20230807_validation:[VALIDATION] - Epoch: [2] [11/52] eta: 0:00:16 n: 32 recall: 1.0 precision: 1.0 f1-score: 1.0 MAE: 0.0 MSE: 0.0 RMSE: 0.0 time: 0.3920 data: 0.1122 max mem: 8206\n"
          ]
        },
        {
          "output_type": "stream",
          "name": "stdout",
          "text": [
            "[VALIDATION] - Epoch: [2] [11/52] eta: 0:00:16 n: 32 recall: 1.0 precision: 1.0 f1-score: 1.0 MAE: 0.0 MSE: 0.0 RMSE: 0.0 time: 0.3920 data: 0.1122 max mem: 8206\n"
          ]
        },
        {
          "output_type": "stream",
          "name": "stderr",
          "text": [
            "INFO:20230807_validation:[VALIDATION] - Epoch: [2] [21/52] eta: 0:00:11 n: 32 recall: 1.0 precision: 1.0 f1-score: 1.0 MAE: 0.0 MSE: 0.0 RMSE: 0.0 time: 0.3317 data: 0.0480 max mem: 8206\n"
          ]
        },
        {
          "output_type": "stream",
          "name": "stdout",
          "text": [
            "[VALIDATION] - Epoch: [2] [21/52] eta: 0:00:11 n: 32 recall: 1.0 precision: 1.0 f1-score: 1.0 MAE: 0.0 MSE: 0.0 RMSE: 0.0 time: 0.3317 data: 0.0480 max mem: 8206\n"
          ]
        },
        {
          "output_type": "stream",
          "name": "stderr",
          "text": [
            "INFO:20230807_validation:[VALIDATION] - Epoch: [2] [31/52] eta: 0:00:08 n: 32 recall: 1.0 precision: 1.0 f1-score: 1.0 MAE: 0.0 MSE: 0.0 RMSE: 0.0 time: 0.3535 data: 0.0659 max mem: 8206\n"
          ]
        },
        {
          "output_type": "stream",
          "name": "stdout",
          "text": [
            "[VALIDATION] - Epoch: [2] [31/52] eta: 0:00:08 n: 32 recall: 1.0 precision: 1.0 f1-score: 1.0 MAE: 0.0 MSE: 0.0 RMSE: 0.0 time: 0.3535 data: 0.0659 max mem: 8206\n"
          ]
        },
        {
          "output_type": "stream",
          "name": "stderr",
          "text": [
            "INFO:20230807_validation:[VALIDATION] - Epoch: [2] [41/52] eta: 0:00:04 n: 32 recall: 1.0 precision: 1.0 f1-score: 1.0 MAE: 0.0 MSE: 0.0 RMSE: 0.0 time: 0.3824 data: 0.0936 max mem: 8206\n"
          ]
        },
        {
          "output_type": "stream",
          "name": "stdout",
          "text": [
            "[VALIDATION] - Epoch: [2] [41/52] eta: 0:00:04 n: 32 recall: 1.0 precision: 1.0 f1-score: 1.0 MAE: 0.0 MSE: 0.0 RMSE: 0.0 time: 0.3824 data: 0.0936 max mem: 8206\n"
          ]
        },
        {
          "output_type": "stream",
          "name": "stderr",
          "text": [
            "INFO:20230807_validation:[VALIDATION] - Epoch: [2] [51/52] eta: 0:00:00 n: 32 recall: 1.0 precision: 1.0 f1-score: 1.0 MAE: 0.0 MSE: 0.0 RMSE: 0.0 time: 0.3511 data: 0.0661 max mem: 8206\n",
            "INFO:20230807_validation:[VALIDATION] - Epoch: [2] [52/52] eta: 0:00:00 n: 6 recall: 1.0 precision: 1.0 f1-score: 1.0 MAE: 0.0 MSE: 0.0 RMSE: 0.0 time: 0.3393 data: 0.0656 max mem: 8206\n",
            "INFO:20230807_validation:[VALIDATION] - Epoch: [2] Total time: 0:00:18 (0.3571 s / it)\n"
          ]
        },
        {
          "output_type": "stream",
          "name": "stdout",
          "text": [
            "[VALIDATION] - Epoch: [2] [51/52] eta: 0:00:00 n: 32 recall: 1.0 precision: 1.0 f1-score: 1.0 MAE: 0.0 MSE: 0.0 RMSE: 0.0 time: 0.3511 data: 0.0661 max mem: 8206\n",
            "[VALIDATION] - Epoch: [2] [52/52] eta: 0:00:00 n: 6 recall: 1.0 precision: 1.0 f1-score: 1.0 MAE: 0.0 MSE: 0.0 RMSE: 0.0 time: 0.3393 data: 0.0656 max mem: 8206\n",
            "[VALIDATION] - Epoch: [2] Total time: 0:00:18 (0.3571 s / it)\n",
            "[VALIDATION] - Epoch: [2] accuracy: 0.8822\n",
            "Best model saved - Epoch 2 - Validation value: 0.882173\n"
          ]
        },
        {
          "output_type": "stream",
          "name": "stderr",
          "text": [
            "INFO:20230807_training:[TRAINING] - Epoch: [3] [  1/461] eta: 0:16:31 lr: 0.000100 loss: 0.0359 (0.0659) bce_loss: 0.0359 (0.0659) time: 2.1510 data: 1.1591 max mem: 8206\n"
          ]
        },
        {
          "output_type": "stream",
          "name": "stdout",
          "text": [
            "[TRAINING] - Epoch: [3] [  1/461] eta: 0:16:31 lr: 0.000100 loss: 0.0359 (0.0659) bce_loss: 0.0359 (0.0659) time: 2.1510 data: 1.1591 max mem: 8206\n"
          ]
        },
        {
          "output_type": "stream",
          "name": "stderr",
          "text": [
            "INFO:20230807_training:[TRAINING] - Epoch: [3] [ 51/461] eta: 0:06:39 lr: 0.000100 loss: 0.0553 (0.0651) bce_loss: 0.0553 (0.0651) time: 0.9504 data: 0.0209 max mem: 8206\n"
          ]
        },
        {
          "output_type": "stream",
          "name": "stdout",
          "text": [
            "[TRAINING] - Epoch: [3] [ 51/461] eta: 0:06:39 lr: 0.000100 loss: 0.0553 (0.0651) bce_loss: 0.0553 (0.0651) time: 0.9504 data: 0.0209 max mem: 8206\n"
          ]
        },
        {
          "output_type": "stream",
          "name": "stderr",
          "text": [
            "INFO:20230807_training:[TRAINING] - Epoch: [3] [101/461] eta: 0:05:46 lr: 0.000100 loss: 0.0388 (0.0640) bce_loss: 0.0388 (0.0640) time: 0.9486 data: 0.0213 max mem: 8206\n"
          ]
        },
        {
          "output_type": "stream",
          "name": "stdout",
          "text": [
            "[TRAINING] - Epoch: [3] [101/461] eta: 0:05:46 lr: 0.000100 loss: 0.0388 (0.0640) bce_loss: 0.0388 (0.0640) time: 0.9486 data: 0.0213 max mem: 8206\n"
          ]
        },
        {
          "output_type": "stream",
          "name": "stderr",
          "text": [
            "INFO:20230807_training:[TRAINING] - Epoch: [3] [151/461] eta: 0:04:57 lr: 0.000100 loss: 0.0399 (0.0629) bce_loss: 0.0399 (0.0629) time: 0.9505 data: 0.0202 max mem: 8206\n"
          ]
        },
        {
          "output_type": "stream",
          "name": "stdout",
          "text": [
            "[TRAINING] - Epoch: [3] [151/461] eta: 0:04:57 lr: 0.000100 loss: 0.0399 (0.0629) bce_loss: 0.0399 (0.0629) time: 0.9505 data: 0.0202 max mem: 8206\n"
          ]
        },
        {
          "output_type": "stream",
          "name": "stderr",
          "text": [
            "INFO:20230807_training:[TRAINING] - Epoch: [3] [201/461] eta: 0:04:09 lr: 0.000100 loss: 0.0370 (0.0619) bce_loss: 0.0370 (0.0619) time: 0.9515 data: 0.0217 max mem: 8206\n"
          ]
        },
        {
          "output_type": "stream",
          "name": "stdout",
          "text": [
            "[TRAINING] - Epoch: [3] [201/461] eta: 0:04:09 lr: 0.000100 loss: 0.0370 (0.0619) bce_loss: 0.0370 (0.0619) time: 0.9515 data: 0.0217 max mem: 8206\n"
          ]
        },
        {
          "output_type": "stream",
          "name": "stderr",
          "text": [
            "INFO:20230807_training:[TRAINING] - Epoch: [3] [251/461] eta: 0:03:21 lr: 0.000100 loss: 0.0400 (0.0613) bce_loss: 0.0400 (0.0613) time: 0.9478 data: 0.0193 max mem: 8206\n"
          ]
        },
        {
          "output_type": "stream",
          "name": "stdout",
          "text": [
            "[TRAINING] - Epoch: [3] [251/461] eta: 0:03:21 lr: 0.000100 loss: 0.0400 (0.0613) bce_loss: 0.0400 (0.0613) time: 0.9478 data: 0.0193 max mem: 8206\n"
          ]
        },
        {
          "output_type": "stream",
          "name": "stderr",
          "text": [
            "INFO:20230807_training:[TRAINING] - Epoch: [3] [301/461] eta: 0:02:33 lr: 0.000100 loss: 0.0287 (0.0603) bce_loss: 0.0287 (0.0603) time: 0.9506 data: 0.0217 max mem: 8206\n"
          ]
        },
        {
          "output_type": "stream",
          "name": "stdout",
          "text": [
            "[TRAINING] - Epoch: [3] [301/461] eta: 0:02:33 lr: 0.000100 loss: 0.0287 (0.0603) bce_loss: 0.0287 (0.0603) time: 0.9506 data: 0.0217 max mem: 8206\n"
          ]
        },
        {
          "output_type": "stream",
          "name": "stderr",
          "text": [
            "INFO:20230807_training:[TRAINING] - Epoch: [3] [351/461] eta: 0:01:45 lr: 0.000100 loss: 0.0328 (0.0593) bce_loss: 0.0328 (0.0593) time: 0.9492 data: 0.0205 max mem: 8206\n"
          ]
        },
        {
          "output_type": "stream",
          "name": "stdout",
          "text": [
            "[TRAINING] - Epoch: [3] [351/461] eta: 0:01:45 lr: 0.000100 loss: 0.0328 (0.0593) bce_loss: 0.0328 (0.0593) time: 0.9492 data: 0.0205 max mem: 8206\n"
          ]
        },
        {
          "output_type": "stream",
          "name": "stderr",
          "text": [
            "INFO:20230807_training:[TRAINING] - Epoch: [3] [401/461] eta: 0:00:58 lr: 0.000100 loss: 0.0302 (0.0583) bce_loss: 0.0302 (0.0583) time: 0.9488 data: 0.0202 max mem: 8206\n"
          ]
        },
        {
          "output_type": "stream",
          "name": "stdout",
          "text": [
            "[TRAINING] - Epoch: [3] [401/461] eta: 0:00:58 lr: 0.000100 loss: 0.0302 (0.0583) bce_loss: 0.0302 (0.0583) time: 0.9488 data: 0.0202 max mem: 8206\n"
          ]
        },
        {
          "output_type": "stream",
          "name": "stderr",
          "text": [
            "INFO:20230807_training:[TRAINING] - Epoch: [3] [451/461] eta: 0:00:10 lr: 0.000100 loss: 0.0388 (0.0577) bce_loss: 0.0388 (0.0577) time: 0.9511 data: 0.0219 max mem: 8206\n"
          ]
        },
        {
          "output_type": "stream",
          "name": "stdout",
          "text": [
            "[TRAINING] - Epoch: [3] [451/461] eta: 0:00:10 lr: 0.000100 loss: 0.0388 (0.0577) bce_loss: 0.0388 (0.0577) time: 0.9511 data: 0.0219 max mem: 8206\n"
          ]
        },
        {
          "output_type": "stream",
          "name": "stderr",
          "text": [
            "INFO:20230807_training:[TRAINING] - Epoch: [3] [461/461] eta: 0:00:00 lr: 0.000100 loss: 0.0336 (0.0576) bce_loss: 0.0336 (0.0576) time: 0.9334 data: 0.0212 max mem: 8206\n",
            "INFO:20230807_training:[TRAINING] - Epoch: [3] Total time: 0:07:18 (0.9519 s / it)\n"
          ]
        },
        {
          "output_type": "stream",
          "name": "stdout",
          "text": [
            "[TRAINING] - Epoch: [3] [461/461] eta: 0:00:00 lr: 0.000100 loss: 0.0336 (0.0576) bce_loss: 0.0336 (0.0576) time: 0.9334 data: 0.0212 max mem: 8206\n",
            "[TRAINING] - Epoch: [3] Total time: 0:07:18 (0.9519 s / it)\n",
            "[TRAINING] - Epoch: [3] mean loss: 0.0409\n"
          ]
        },
        {
          "output_type": "stream",
          "name": "stderr",
          "text": [
            "INFO:20230807_validation:[VALIDATION] - Epoch: [3] [ 1/52] eta: 0:00:49 n: 32 recall: 1.0 precision: 1.0 f1-score: 1.0 MAE: 0.0 MSE: 0.0 RMSE: 0.0 time: 0.9607 data: 0.6945 max mem: 8206\n"
          ]
        },
        {
          "output_type": "stream",
          "name": "stdout",
          "text": [
            "[VALIDATION] - Epoch: [3] [ 1/52] eta: 0:00:49 n: 32 recall: 1.0 precision: 1.0 f1-score: 1.0 MAE: 0.0 MSE: 0.0 RMSE: 0.0 time: 0.9607 data: 0.6945 max mem: 8206\n"
          ]
        },
        {
          "output_type": "stream",
          "name": "stderr",
          "text": [
            "INFO:20230807_validation:[VALIDATION] - Epoch: [3] [11/52] eta: 0:00:16 n: 32 recall: 1.0 precision: 1.0 f1-score: 1.0 MAE: 0.0 MSE: 0.0 RMSE: 0.0 time: 0.3942 data: 0.1129 max mem: 8206\n"
          ]
        },
        {
          "output_type": "stream",
          "name": "stdout",
          "text": [
            "[VALIDATION] - Epoch: [3] [11/52] eta: 0:00:16 n: 32 recall: 1.0 precision: 1.0 f1-score: 1.0 MAE: 0.0 MSE: 0.0 RMSE: 0.0 time: 0.3942 data: 0.1129 max mem: 8206\n"
          ]
        },
        {
          "output_type": "stream",
          "name": "stderr",
          "text": [
            "INFO:20230807_validation:[VALIDATION] - Epoch: [3] [21/52] eta: 0:00:12 n: 32 recall: 1.0 precision: 1.0 f1-score: 1.0 MAE: 0.0 MSE: 0.0 RMSE: 0.0 time: 0.3469 data: 0.0621 max mem: 8206\n"
          ]
        },
        {
          "output_type": "stream",
          "name": "stdout",
          "text": [
            "[VALIDATION] - Epoch: [3] [21/52] eta: 0:00:12 n: 32 recall: 1.0 precision: 1.0 f1-score: 1.0 MAE: 0.0 MSE: 0.0 RMSE: 0.0 time: 0.3469 data: 0.0621 max mem: 8206\n"
          ]
        },
        {
          "output_type": "stream",
          "name": "stderr",
          "text": [
            "INFO:20230807_validation:[VALIDATION] - Epoch: [3] [31/52] eta: 0:00:08 n: 32 recall: 1.0 precision: 1.0 f1-score: 1.0 MAE: 0.0 MSE: 0.0 RMSE: 0.0 time: 0.3779 data: 0.0880 max mem: 8206\n"
          ]
        },
        {
          "output_type": "stream",
          "name": "stdout",
          "text": [
            "[VALIDATION] - Epoch: [3] [31/52] eta: 0:00:08 n: 32 recall: 1.0 precision: 1.0 f1-score: 1.0 MAE: 0.0 MSE: 0.0 RMSE: 0.0 time: 0.3779 data: 0.0880 max mem: 8206\n"
          ]
        },
        {
          "output_type": "stream",
          "name": "stderr",
          "text": [
            "INFO:20230807_validation:[VALIDATION] - Epoch: [3] [41/52] eta: 0:00:04 n: 32 recall: 1.0 precision: 1.0 f1-score: 1.0 MAE: 0.0 MSE: 0.0 RMSE: 0.0 time: 0.3952 data: 0.1065 max mem: 8206\n"
          ]
        },
        {
          "output_type": "stream",
          "name": "stdout",
          "text": [
            "[VALIDATION] - Epoch: [3] [41/52] eta: 0:00:04 n: 32 recall: 1.0 precision: 1.0 f1-score: 1.0 MAE: 0.0 MSE: 0.0 RMSE: 0.0 time: 0.3952 data: 0.1065 max mem: 8206\n"
          ]
        },
        {
          "output_type": "stream",
          "name": "stderr",
          "text": [
            "INFO:20230807_validation:[VALIDATION] - Epoch: [3] [51/52] eta: 0:00:00 n: 32 recall: 1.0 precision: 1.0 f1-score: 1.0 MAE: 0.0 MSE: 0.0 RMSE: 0.0 time: 0.3540 data: 0.0689 max mem: 8206\n",
            "INFO:20230807_validation:[VALIDATION] - Epoch: [3] [52/52] eta: 0:00:00 n: 6 recall: 1.0 precision: 1.0 f1-score: 1.0 MAE: 0.0 MSE: 0.0 RMSE: 0.0 time: 0.3307 data: 0.0565 max mem: 8206\n",
            "INFO:20230807_validation:[VALIDATION] - Epoch: [3] Total time: 0:00:19 (0.3676 s / it)\n"
          ]
        },
        {
          "output_type": "stream",
          "name": "stdout",
          "text": [
            "[VALIDATION] - Epoch: [3] [51/52] eta: 0:00:00 n: 32 recall: 1.0 precision: 1.0 f1-score: 1.0 MAE: 0.0 MSE: 0.0 RMSE: 0.0 time: 0.3540 data: 0.0689 max mem: 8206\n",
            "[VALIDATION] - Epoch: [3] [52/52] eta: 0:00:00 n: 6 recall: 1.0 precision: 1.0 f1-score: 1.0 MAE: 0.0 MSE: 0.0 RMSE: 0.0 time: 0.3307 data: 0.0565 max mem: 8206\n",
            "[VALIDATION] - Epoch: [3] Total time: 0:00:19 (0.3676 s / it)\n",
            "[VALIDATION] - Epoch: [3] accuracy: 0.0488\n"
          ]
        },
        {
          "output_type": "stream",
          "name": "stderr",
          "text": [
            "INFO:20230807_training:[TRAINING] - Epoch: [4] [  1/461] eta: 0:13:03 lr: 0.000100 loss: 0.0315 (0.0576) bce_loss: 0.0315 (0.0576) time: 1.6988 data: 0.7643 max mem: 8206\n"
          ]
        },
        {
          "output_type": "stream",
          "name": "stdout",
          "text": [
            "[TRAINING] - Epoch: [4] [  1/461] eta: 0:13:03 lr: 0.000100 loss: 0.0315 (0.0576) bce_loss: 0.0315 (0.0576) time: 1.6988 data: 0.7643 max mem: 8206\n"
          ]
        },
        {
          "output_type": "stream",
          "name": "stderr",
          "text": [
            "INFO:20230807_training:[TRAINING] - Epoch: [4] [ 51/461] eta: 0:06:36 lr: 0.000100 loss: 0.0396 (0.0571) bce_loss: 0.0396 (0.0571) time: 0.9503 data: 0.0203 max mem: 8206\n"
          ]
        },
        {
          "output_type": "stream",
          "name": "stdout",
          "text": [
            "[TRAINING] - Epoch: [4] [ 51/461] eta: 0:06:36 lr: 0.000100 loss: 0.0396 (0.0571) bce_loss: 0.0396 (0.0571) time: 0.9503 data: 0.0203 max mem: 8206\n"
          ]
        },
        {
          "output_type": "stream",
          "name": "stderr",
          "text": [
            "INFO:20230807_training:[TRAINING] - Epoch: [4] [101/461] eta: 0:05:45 lr: 0.000100 loss: 0.0255 (0.0564) bce_loss: 0.0255 (0.0564) time: 0.9492 data: 0.0214 max mem: 8206\n"
          ]
        },
        {
          "output_type": "stream",
          "name": "stdout",
          "text": [
            "[TRAINING] - Epoch: [4] [101/461] eta: 0:05:45 lr: 0.000100 loss: 0.0255 (0.0564) bce_loss: 0.0255 (0.0564) time: 0.9492 data: 0.0214 max mem: 8206\n"
          ]
        },
        {
          "output_type": "stream",
          "name": "stderr",
          "text": [
            "INFO:20230807_training:[TRAINING] - Epoch: [4] [151/461] eta: 0:04:56 lr: 0.000100 loss: 0.0357 (0.0560) bce_loss: 0.0357 (0.0560) time: 0.9490 data: 0.0199 max mem: 8206\n"
          ]
        },
        {
          "output_type": "stream",
          "name": "stdout",
          "text": [
            "[TRAINING] - Epoch: [4] [151/461] eta: 0:04:56 lr: 0.000100 loss: 0.0357 (0.0560) bce_loss: 0.0357 (0.0560) time: 0.9490 data: 0.0199 max mem: 8206\n"
          ]
        },
        {
          "output_type": "stream",
          "name": "stderr",
          "text": [
            "INFO:20230807_training:[TRAINING] - Epoch: [4] [201/461] eta: 0:04:08 lr: 0.000100 loss: 0.0247 (0.0554) bce_loss: 0.0247 (0.0554) time: 0.9505 data: 0.0216 max mem: 8206\n"
          ]
        },
        {
          "output_type": "stream",
          "name": "stdout",
          "text": [
            "[TRAINING] - Epoch: [4] [201/461] eta: 0:04:08 lr: 0.000100 loss: 0.0247 (0.0554) bce_loss: 0.0247 (0.0554) time: 0.9505 data: 0.0216 max mem: 8206\n"
          ]
        },
        {
          "output_type": "stream",
          "name": "stderr",
          "text": [
            "INFO:20230807_training:[TRAINING] - Epoch: [4] [251/461] eta: 0:03:21 lr: 0.000100 loss: 0.0317 (0.0548) bce_loss: 0.0317 (0.0548) time: 0.9499 data: 0.0222 max mem: 8206\n"
          ]
        },
        {
          "output_type": "stream",
          "name": "stdout",
          "text": [
            "[TRAINING] - Epoch: [4] [251/461] eta: 0:03:21 lr: 0.000100 loss: 0.0317 (0.0548) bce_loss: 0.0317 (0.0548) time: 0.9499 data: 0.0222 max mem: 8206\n"
          ]
        },
        {
          "output_type": "stream",
          "name": "stderr",
          "text": [
            "INFO:20230807_training:[TRAINING] - Epoch: [4] [301/461] eta: 0:02:33 lr: 0.000100 loss: 0.0466 (0.0543) bce_loss: 0.0466 (0.0543) time: 0.9492 data: 0.0218 max mem: 8206\n"
          ]
        },
        {
          "output_type": "stream",
          "name": "stdout",
          "text": [
            "[TRAINING] - Epoch: [4] [301/461] eta: 0:02:33 lr: 0.000100 loss: 0.0466 (0.0543) bce_loss: 0.0466 (0.0543) time: 0.9492 data: 0.0218 max mem: 8206\n"
          ]
        },
        {
          "output_type": "stream",
          "name": "stderr",
          "text": [
            "INFO:20230807_training:[TRAINING] - Epoch: [4] [351/461] eta: 0:01:45 lr: 0.000100 loss: 0.0329 (0.0540) bce_loss: 0.0329 (0.0540) time: 0.9486 data: 0.0213 max mem: 8206\n"
          ]
        },
        {
          "output_type": "stream",
          "name": "stdout",
          "text": [
            "[TRAINING] - Epoch: [4] [351/461] eta: 0:01:45 lr: 0.000100 loss: 0.0329 (0.0540) bce_loss: 0.0329 (0.0540) time: 0.9486 data: 0.0213 max mem: 8206\n"
          ]
        },
        {
          "output_type": "stream",
          "name": "stderr",
          "text": [
            "INFO:20230807_training:[TRAINING] - Epoch: [4] [401/461] eta: 0:00:58 lr: 0.000100 loss: 0.0419 (0.0537) bce_loss: 0.0419 (0.0537) time: 0.9500 data: 0.0211 max mem: 8206\n"
          ]
        },
        {
          "output_type": "stream",
          "name": "stdout",
          "text": [
            "[TRAINING] - Epoch: [4] [401/461] eta: 0:00:58 lr: 0.000100 loss: 0.0419 (0.0537) bce_loss: 0.0419 (0.0537) time: 0.9500 data: 0.0211 max mem: 8206\n"
          ]
        },
        {
          "output_type": "stream",
          "name": "stderr",
          "text": [
            "INFO:20230807_training:[TRAINING] - Epoch: [4] [451/461] eta: 0:00:10 lr: 0.000100 loss: 0.0405 (0.0535) bce_loss: 0.0405 (0.0535) time: 0.9511 data: 0.0222 max mem: 8206\n"
          ]
        },
        {
          "output_type": "stream",
          "name": "stdout",
          "text": [
            "[TRAINING] - Epoch: [4] [451/461] eta: 0:00:10 lr: 0.000100 loss: 0.0405 (0.0535) bce_loss: 0.0405 (0.0535) time: 0.9511 data: 0.0222 max mem: 8206\n"
          ]
        },
        {
          "output_type": "stream",
          "name": "stderr",
          "text": [
            "INFO:20230807_training:[TRAINING] - Epoch: [4] [461/461] eta: 0:00:00 lr: 0.000100 loss: 0.0334 (0.0534) bce_loss: 0.0334 (0.0534) time: 0.9338 data: 0.0214 max mem: 8206\n",
            "INFO:20230807_training:[TRAINING] - Epoch: [4] Total time: 0:07:18 (0.9508 s / it)\n"
          ]
        },
        {
          "output_type": "stream",
          "name": "stdout",
          "text": [
            "[TRAINING] - Epoch: [4] [461/461] eta: 0:00:00 lr: 0.000100 loss: 0.0334 (0.0534) bce_loss: 0.0334 (0.0534) time: 0.9338 data: 0.0214 max mem: 8206\n",
            "[TRAINING] - Epoch: [4] Total time: 0:07:18 (0.9508 s / it)\n",
            "[TRAINING] - Epoch: [4] mean loss: 0.0408\n"
          ]
        },
        {
          "output_type": "stream",
          "name": "stderr",
          "text": [
            "INFO:20230807_validation:[VALIDATION] - Epoch: [4] [ 1/52] eta: 0:00:49 n: 32 recall: 1.0 precision: 1.0 f1-score: 1.0 MAE: 0.0 MSE: 0.0 RMSE: 0.0 time: 0.9592 data: 0.6939 max mem: 8206\n"
          ]
        },
        {
          "output_type": "stream",
          "name": "stdout",
          "text": [
            "[VALIDATION] - Epoch: [4] [ 1/52] eta: 0:00:49 n: 32 recall: 1.0 precision: 1.0 f1-score: 1.0 MAE: 0.0 MSE: 0.0 RMSE: 0.0 time: 0.9592 data: 0.6939 max mem: 8206\n"
          ]
        },
        {
          "output_type": "stream",
          "name": "stderr",
          "text": [
            "INFO:20230807_validation:[VALIDATION] - Epoch: [4] [11/52] eta: 0:00:15 n: 32 recall: 1.0 precision: 1.0 f1-score: 1.0 MAE: 0.0 MSE: 0.0 RMSE: 0.0 time: 0.3747 data: 0.0925 max mem: 8206\n"
          ]
        },
        {
          "output_type": "stream",
          "name": "stdout",
          "text": [
            "[VALIDATION] - Epoch: [4] [11/52] eta: 0:00:15 n: 32 recall: 1.0 precision: 1.0 f1-score: 1.0 MAE: 0.0 MSE: 0.0 RMSE: 0.0 time: 0.3747 data: 0.0925 max mem: 8206\n"
          ]
        },
        {
          "output_type": "stream",
          "name": "stderr",
          "text": [
            "INFO:20230807_validation:[VALIDATION] - Epoch: [4] [21/52] eta: 0:00:11 n: 32 recall: 1.0 precision: 1.0 f1-score: 1.0 MAE: 0.0 MSE: 0.0 RMSE: 0.0 time: 0.3417 data: 0.0552 max mem: 8206\n"
          ]
        },
        {
          "output_type": "stream",
          "name": "stdout",
          "text": [
            "[VALIDATION] - Epoch: [4] [21/52] eta: 0:00:11 n: 32 recall: 1.0 precision: 1.0 f1-score: 1.0 MAE: 0.0 MSE: 0.0 RMSE: 0.0 time: 0.3417 data: 0.0552 max mem: 8206\n"
          ]
        },
        {
          "output_type": "stream",
          "name": "stderr",
          "text": [
            "INFO:20230807_validation:[VALIDATION] - Epoch: [4] [31/52] eta: 0:00:08 n: 32 recall: 1.0 precision: 1.0 f1-score: 1.0 MAE: 0.0 MSE: 0.0 RMSE: 0.0 time: 0.3784 data: 0.0895 max mem: 8206\n"
          ]
        },
        {
          "output_type": "stream",
          "name": "stdout",
          "text": [
            "[VALIDATION] - Epoch: [4] [31/52] eta: 0:00:08 n: 32 recall: 1.0 precision: 1.0 f1-score: 1.0 MAE: 0.0 MSE: 0.0 RMSE: 0.0 time: 0.3784 data: 0.0895 max mem: 8206\n"
          ]
        },
        {
          "output_type": "stream",
          "name": "stderr",
          "text": [
            "INFO:20230807_validation:[VALIDATION] - Epoch: [4] [41/52] eta: 0:00:04 n: 32 recall: 1.0 precision: 1.0 f1-score: 1.0 MAE: 0.0 MSE: 0.0 RMSE: 0.0 time: 0.3586 data: 0.0735 max mem: 8206\n"
          ]
        },
        {
          "output_type": "stream",
          "name": "stdout",
          "text": [
            "[VALIDATION] - Epoch: [4] [41/52] eta: 0:00:04 n: 32 recall: 1.0 precision: 1.0 f1-score: 1.0 MAE: 0.0 MSE: 0.0 RMSE: 0.0 time: 0.3586 data: 0.0735 max mem: 8206\n"
          ]
        },
        {
          "output_type": "stream",
          "name": "stderr",
          "text": [
            "INFO:20230807_validation:[VALIDATION] - Epoch: [4] [51/52] eta: 0:00:00 n: 32 recall: 1.0 precision: 1.0 f1-score: 1.0 MAE: 0.0 MSE: 0.0 RMSE: 0.0 time: 0.3330 data: 0.0540 max mem: 8206\n",
            "INFO:20230807_validation:[VALIDATION] - Epoch: [4] [52/52] eta: 0:00:00 n: 6 recall: 1.0 precision: 1.0 f1-score: 1.0 MAE: 0.0 MSE: 0.0 RMSE: 0.0 time: 0.3219 data: 0.0537 max mem: 8206\n",
            "INFO:20230807_validation:[VALIDATION] - Epoch: [4] Total time: 0:00:18 (0.3557 s / it)\n"
          ]
        },
        {
          "output_type": "stream",
          "name": "stdout",
          "text": [
            "[VALIDATION] - Epoch: [4] [51/52] eta: 0:00:00 n: 32 recall: 1.0 precision: 1.0 f1-score: 1.0 MAE: 0.0 MSE: 0.0 RMSE: 0.0 time: 0.3330 data: 0.0540 max mem: 8206\n",
            "[VALIDATION] - Epoch: [4] [52/52] eta: 0:00:00 n: 6 recall: 1.0 precision: 1.0 f1-score: 1.0 MAE: 0.0 MSE: 0.0 RMSE: 0.0 time: 0.3219 data: 0.0537 max mem: 8206\n",
            "[VALIDATION] - Epoch: [4] Total time: 0:00:18 (0.3557 s / it)\n",
            "[VALIDATION] - Epoch: [4] accuracy: 0.9115\n",
            "Best model saved - Epoch 4 - Validation value: 0.911477\n"
          ]
        },
        {
          "output_type": "stream",
          "name": "stderr",
          "text": [
            "INFO:20230807_training:[TRAINING] - Epoch: [5] [  1/461] eta: 0:12:41 lr: 0.000100 loss: 0.0339 (0.0534) bce_loss: 0.0339 (0.0534) time: 1.6513 data: 0.7161 max mem: 8206\n"
          ]
        },
        {
          "output_type": "stream",
          "name": "stdout",
          "text": [
            "[TRAINING] - Epoch: [5] [  1/461] eta: 0:12:41 lr: 0.000100 loss: 0.0339 (0.0534) bce_loss: 0.0339 (0.0534) time: 1.6513 data: 0.7161 max mem: 8206\n"
          ]
        },
        {
          "output_type": "stream",
          "name": "stderr",
          "text": [
            "INFO:20230807_training:[TRAINING] - Epoch: [5] [ 51/461] eta: 0:06:35 lr: 0.000100 loss: 0.0426 (0.0531) bce_loss: 0.0426 (0.0531) time: 0.9496 data: 0.0207 max mem: 8206\n"
          ]
        },
        {
          "output_type": "stream",
          "name": "stdout",
          "text": [
            "[TRAINING] - Epoch: [5] [ 51/461] eta: 0:06:35 lr: 0.000100 loss: 0.0426 (0.0531) bce_loss: 0.0426 (0.0531) time: 0.9496 data: 0.0207 max mem: 8206\n"
          ]
        },
        {
          "output_type": "stream",
          "name": "stderr",
          "text": [
            "INFO:20230807_training:[TRAINING] - Epoch: [5] [101/461] eta: 0:05:45 lr: 0.000100 loss: 0.0621 (0.0531) bce_loss: 0.0621 (0.0531) time: 0.9488 data: 0.0215 max mem: 8206\n"
          ]
        },
        {
          "output_type": "stream",
          "name": "stdout",
          "text": [
            "[TRAINING] - Epoch: [5] [101/461] eta: 0:05:45 lr: 0.000100 loss: 0.0621 (0.0531) bce_loss: 0.0621 (0.0531) time: 0.9488 data: 0.0215 max mem: 8206\n"
          ]
        },
        {
          "output_type": "stream",
          "name": "stderr",
          "text": [
            "INFO:20230807_training:[TRAINING] - Epoch: [5] [151/461] eta: 0:04:56 lr: 0.000100 loss: 0.0548 (0.0529) bce_loss: 0.0548 (0.0529) time: 0.9495 data: 0.0222 max mem: 8206\n"
          ]
        },
        {
          "output_type": "stream",
          "name": "stdout",
          "text": [
            "[TRAINING] - Epoch: [5] [151/461] eta: 0:04:56 lr: 0.000100 loss: 0.0548 (0.0529) bce_loss: 0.0548 (0.0529) time: 0.9495 data: 0.0222 max mem: 8206\n"
          ]
        },
        {
          "output_type": "stream",
          "name": "stderr",
          "text": [
            "INFO:20230807_training:[TRAINING] - Epoch: [5] [201/461] eta: 0:04:08 lr: 0.000100 loss: 0.0384 (0.0527) bce_loss: 0.0384 (0.0527) time: 0.9517 data: 0.0226 max mem: 8206\n"
          ]
        },
        {
          "output_type": "stream",
          "name": "stdout",
          "text": [
            "[TRAINING] - Epoch: [5] [201/461] eta: 0:04:08 lr: 0.000100 loss: 0.0384 (0.0527) bce_loss: 0.0384 (0.0527) time: 0.9517 data: 0.0226 max mem: 8206\n"
          ]
        },
        {
          "output_type": "stream",
          "name": "stderr",
          "text": [
            "INFO:20230807_training:[TRAINING] - Epoch: [5] [251/461] eta: 0:03:20 lr: 0.000100 loss: 0.0244 (0.0522) bce_loss: 0.0244 (0.0522) time: 0.9502 data: 0.0225 max mem: 8206\n"
          ]
        },
        {
          "output_type": "stream",
          "name": "stdout",
          "text": [
            "[TRAINING] - Epoch: [5] [251/461] eta: 0:03:20 lr: 0.000100 loss: 0.0244 (0.0522) bce_loss: 0.0244 (0.0522) time: 0.9502 data: 0.0225 max mem: 8206\n"
          ]
        },
        {
          "output_type": "stream",
          "name": "stderr",
          "text": [
            "INFO:20230807_training:[TRAINING] - Epoch: [5] [301/461] eta: 0:02:33 lr: 0.000100 loss: 0.0437 (0.0522) bce_loss: 0.0437 (0.0522) time: 0.9505 data: 0.0224 max mem: 8206\n"
          ]
        },
        {
          "output_type": "stream",
          "name": "stdout",
          "text": [
            "[TRAINING] - Epoch: [5] [301/461] eta: 0:02:33 lr: 0.000100 loss: 0.0437 (0.0522) bce_loss: 0.0437 (0.0522) time: 0.9505 data: 0.0224 max mem: 8206\n"
          ]
        },
        {
          "output_type": "stream",
          "name": "stderr",
          "text": [
            "INFO:20230807_training:[TRAINING] - Epoch: [5] [351/461] eta: 0:01:45 lr: 0.000100 loss: 0.0438 (0.0521) bce_loss: 0.0438 (0.0521) time: 0.9521 data: 0.0220 max mem: 8206\n"
          ]
        },
        {
          "output_type": "stream",
          "name": "stdout",
          "text": [
            "[TRAINING] - Epoch: [5] [351/461] eta: 0:01:45 lr: 0.000100 loss: 0.0438 (0.0521) bce_loss: 0.0438 (0.0521) time: 0.9521 data: 0.0220 max mem: 8206\n"
          ]
        },
        {
          "output_type": "stream",
          "name": "stderr",
          "text": [
            "INFO:20230807_training:[TRAINING] - Epoch: [5] [401/461] eta: 0:00:58 lr: 0.000100 loss: 0.0372 (0.0519) bce_loss: 0.0372 (0.0519) time: 0.9495 data: 0.0213 max mem: 8206\n"
          ]
        },
        {
          "output_type": "stream",
          "name": "stdout",
          "text": [
            "[TRAINING] - Epoch: [5] [401/461] eta: 0:00:58 lr: 0.000100 loss: 0.0372 (0.0519) bce_loss: 0.0372 (0.0519) time: 0.9495 data: 0.0213 max mem: 8206\n"
          ]
        },
        {
          "output_type": "stream",
          "name": "stderr",
          "text": [
            "INFO:20230807_training:[TRAINING] - Epoch: [5] [451/461] eta: 0:00:10 lr: 0.000100 loss: 0.0427 (0.0517) bce_loss: 0.0427 (0.0517) time: 0.9513 data: 0.0230 max mem: 8206\n"
          ]
        },
        {
          "output_type": "stream",
          "name": "stdout",
          "text": [
            "[TRAINING] - Epoch: [5] [451/461] eta: 0:00:10 lr: 0.000100 loss: 0.0427 (0.0517) bce_loss: 0.0427 (0.0517) time: 0.9513 data: 0.0230 max mem: 8206\n"
          ]
        },
        {
          "output_type": "stream",
          "name": "stderr",
          "text": [
            "INFO:20230807_training:[TRAINING] - Epoch: [5] [461/461] eta: 0:00:00 lr: 0.000100 loss: 0.0427 (0.0517) bce_loss: 0.0427 (0.0517) time: 0.9345 data: 0.0223 max mem: 8206\n",
            "INFO:20230807_training:[TRAINING] - Epoch: [5] Total time: 0:07:18 (0.9509 s / it)\n"
          ]
        },
        {
          "output_type": "stream",
          "name": "stdout",
          "text": [
            "[TRAINING] - Epoch: [5] [461/461] eta: 0:00:00 lr: 0.000100 loss: 0.0427 (0.0517) bce_loss: 0.0427 (0.0517) time: 0.9345 data: 0.0223 max mem: 8206\n",
            "[TRAINING] - Epoch: [5] Total time: 0:07:18 (0.9509 s / it)\n",
            "[TRAINING] - Epoch: [5] mean loss: 0.0449\n"
          ]
        },
        {
          "output_type": "stream",
          "name": "stderr",
          "text": [
            "INFO:20230807_validation:[VALIDATION] - Epoch: [5] [ 1/52] eta: 0:00:49 n: 32 recall: 1.0 precision: 1.0 f1-score: 1.0 MAE: 0.0 MSE: 0.0 RMSE: 0.0 time: 0.9592 data: 0.6946 max mem: 8206\n"
          ]
        },
        {
          "output_type": "stream",
          "name": "stdout",
          "text": [
            "[VALIDATION] - Epoch: [5] [ 1/52] eta: 0:00:49 n: 32 recall: 1.0 precision: 1.0 f1-score: 1.0 MAE: 0.0 MSE: 0.0 RMSE: 0.0 time: 0.9592 data: 0.6946 max mem: 8206\n"
          ]
        },
        {
          "output_type": "stream",
          "name": "stderr",
          "text": [
            "INFO:20230807_validation:[VALIDATION] - Epoch: [5] [11/52] eta: 0:00:16 n: 32 recall: 1.0 precision: 1.0 f1-score: 1.0 MAE: 0.0 MSE: 0.0 RMSE: 0.0 time: 0.3917 data: 0.1071 max mem: 8206\n"
          ]
        },
        {
          "output_type": "stream",
          "name": "stdout",
          "text": [
            "[VALIDATION] - Epoch: [5] [11/52] eta: 0:00:16 n: 32 recall: 1.0 precision: 1.0 f1-score: 1.0 MAE: 0.0 MSE: 0.0 RMSE: 0.0 time: 0.3917 data: 0.1071 max mem: 8206\n"
          ]
        },
        {
          "output_type": "stream",
          "name": "stderr",
          "text": [
            "INFO:20230807_validation:[VALIDATION] - Epoch: [5] [21/52] eta: 0:00:12 n: 32 recall: 1.0 precision: 1.0 f1-score: 1.0 MAE: 0.0 MSE: 0.0 RMSE: 0.0 time: 0.3615 data: 0.0748 max mem: 8206\n"
          ]
        },
        {
          "output_type": "stream",
          "name": "stdout",
          "text": [
            "[VALIDATION] - Epoch: [5] [21/52] eta: 0:00:12 n: 32 recall: 1.0 precision: 1.0 f1-score: 1.0 MAE: 0.0 MSE: 0.0 RMSE: 0.0 time: 0.3615 data: 0.0748 max mem: 8206\n"
          ]
        },
        {
          "output_type": "stream",
          "name": "stderr",
          "text": [
            "INFO:20230807_validation:[VALIDATION] - Epoch: [5] [31/52] eta: 0:00:08 n: 32 recall: 1.0 precision: 1.0 f1-score: 1.0 MAE: 0.0 MSE: 0.0 RMSE: 0.0 time: 0.4003 data: 0.1119 max mem: 8206\n"
          ]
        },
        {
          "output_type": "stream",
          "name": "stdout",
          "text": [
            "[VALIDATION] - Epoch: [5] [31/52] eta: 0:00:08 n: 32 recall: 1.0 precision: 1.0 f1-score: 1.0 MAE: 0.0 MSE: 0.0 RMSE: 0.0 time: 0.4003 data: 0.1119 max mem: 8206\n"
          ]
        },
        {
          "output_type": "stream",
          "name": "stderr",
          "text": [
            "INFO:20230807_validation:[VALIDATION] - Epoch: [5] [41/52] eta: 0:00:04 n: 32 recall: 1.0 precision: 1.0 f1-score: 1.0 MAE: 0.0 MSE: 0.0 RMSE: 0.0 time: 0.3857 data: 0.0981 max mem: 8206\n"
          ]
        },
        {
          "output_type": "stream",
          "name": "stdout",
          "text": [
            "[VALIDATION] - Epoch: [5] [41/52] eta: 0:00:04 n: 32 recall: 1.0 precision: 1.0 f1-score: 1.0 MAE: 0.0 MSE: 0.0 RMSE: 0.0 time: 0.3857 data: 0.0981 max mem: 8206\n"
          ]
        },
        {
          "output_type": "stream",
          "name": "stderr",
          "text": [
            "INFO:20230807_validation:[VALIDATION] - Epoch: [5] [51/52] eta: 0:00:00 n: 32 recall: 1.0 precision: 1.0 f1-score: 1.0 MAE: 0.0 MSE: 0.0 RMSE: 0.0 time: 0.3429 data: 0.0595 max mem: 8206\n",
            "INFO:20230807_validation:[VALIDATION] - Epoch: [5] [52/52] eta: 0:00:00 n: 6 recall: 1.0 precision: 1.0 f1-score: 1.0 MAE: 0.0 MSE: 0.0 RMSE: 0.0 time: 0.3169 data: 0.0445 max mem: 8206\n",
            "INFO:20230807_validation:[VALIDATION] - Epoch: [5] Total time: 0:00:19 (0.3716 s / it)\n"
          ]
        },
        {
          "output_type": "stream",
          "name": "stdout",
          "text": [
            "[VALIDATION] - Epoch: [5] [51/52] eta: 0:00:00 n: 32 recall: 1.0 precision: 1.0 f1-score: 1.0 MAE: 0.0 MSE: 0.0 RMSE: 0.0 time: 0.3429 data: 0.0595 max mem: 8206\n",
            "[VALIDATION] - Epoch: [5] [52/52] eta: 0:00:00 n: 6 recall: 1.0 precision: 1.0 f1-score: 1.0 MAE: 0.0 MSE: 0.0 RMSE: 0.0 time: 0.3169 data: 0.0445 max mem: 8206\n",
            "[VALIDATION] - Epoch: [5] Total time: 0:00:19 (0.3716 s / it)\n",
            "[VALIDATION] - Epoch: [5] accuracy: 0.9786\n",
            "Best model saved - Epoch 5 - Validation value: 0.978632\n"
          ]
        },
        {
          "output_type": "stream",
          "name": "stderr",
          "text": [
            "INFO:20230807_training:[TRAINING] - Epoch: [6] [  1/461] eta: 0:12:29 lr: 0.000100 loss: 0.0427 (0.0517) bce_loss: 0.0427 (0.0517) time: 1.6266 data: 0.6943 max mem: 8206\n"
          ]
        },
        {
          "output_type": "stream",
          "name": "stdout",
          "text": [
            "[TRAINING] - Epoch: [6] [  1/461] eta: 0:12:29 lr: 0.000100 loss: 0.0427 (0.0517) bce_loss: 0.0427 (0.0517) time: 1.6266 data: 0.6943 max mem: 8206\n"
          ]
        },
        {
          "output_type": "stream",
          "name": "stderr",
          "text": [
            "INFO:20230807_training:[TRAINING] - Epoch: [6] [ 51/461] eta: 0:06:35 lr: 0.000100 loss: 0.0292 (0.0514) bce_loss: 0.0292 (0.0514) time: 0.9494 data: 0.0204 max mem: 8206\n"
          ]
        },
        {
          "output_type": "stream",
          "name": "stdout",
          "text": [
            "[TRAINING] - Epoch: [6] [ 51/461] eta: 0:06:35 lr: 0.000100 loss: 0.0292 (0.0514) bce_loss: 0.0292 (0.0514) time: 0.9494 data: 0.0204 max mem: 8206\n"
          ]
        },
        {
          "output_type": "stream",
          "name": "stderr",
          "text": [
            "INFO:20230807_training:[TRAINING] - Epoch: [6] [101/461] eta: 0:05:44 lr: 0.000100 loss: 0.0296 (0.0510) bce_loss: 0.0296 (0.0510) time: 0.9484 data: 0.0214 max mem: 8206\n"
          ]
        },
        {
          "output_type": "stream",
          "name": "stdout",
          "text": [
            "[TRAINING] - Epoch: [6] [101/461] eta: 0:05:44 lr: 0.000100 loss: 0.0296 (0.0510) bce_loss: 0.0296 (0.0510) time: 0.9484 data: 0.0214 max mem: 8206\n"
          ]
        },
        {
          "output_type": "stream",
          "name": "stderr",
          "text": [
            "INFO:20230807_training:[TRAINING] - Epoch: [6] [151/461] eta: 0:04:56 lr: 0.000100 loss: 0.0430 (0.0509) bce_loss: 0.0430 (0.0509) time: 0.9503 data: 0.0221 max mem: 8206\n"
          ]
        },
        {
          "output_type": "stream",
          "name": "stdout",
          "text": [
            "[TRAINING] - Epoch: [6] [151/461] eta: 0:04:56 lr: 0.000100 loss: 0.0430 (0.0509) bce_loss: 0.0430 (0.0509) time: 0.9503 data: 0.0221 max mem: 8206\n"
          ]
        },
        {
          "output_type": "stream",
          "name": "stderr",
          "text": [
            "INFO:20230807_training:[TRAINING] - Epoch: [6] [201/461] eta: 0:04:08 lr: 0.000100 loss: 0.0503 (0.0508) bce_loss: 0.0503 (0.0508) time: 0.9478 data: 0.0205 max mem: 8206\n"
          ]
        },
        {
          "output_type": "stream",
          "name": "stdout",
          "text": [
            "[TRAINING] - Epoch: [6] [201/461] eta: 0:04:08 lr: 0.000100 loss: 0.0503 (0.0508) bce_loss: 0.0503 (0.0508) time: 0.9478 data: 0.0205 max mem: 8206\n"
          ]
        },
        {
          "output_type": "stream",
          "name": "stderr",
          "text": [
            "INFO:20230807_training:[TRAINING] - Epoch: [6] [251/461] eta: 0:03:20 lr: 0.000100 loss: 0.0392 (0.0506) bce_loss: 0.0392 (0.0506) time: 0.9483 data: 0.0210 max mem: 8206\n"
          ]
        },
        {
          "output_type": "stream",
          "name": "stdout",
          "text": [
            "[TRAINING] - Epoch: [6] [251/461] eta: 0:03:20 lr: 0.000100 loss: 0.0392 (0.0506) bce_loss: 0.0392 (0.0506) time: 0.9483 data: 0.0210 max mem: 8206\n"
          ]
        },
        {
          "output_type": "stream",
          "name": "stderr",
          "text": [
            "INFO:20230807_training:[TRAINING] - Epoch: [6] [301/461] eta: 0:02:33 lr: 0.000100 loss: 0.0462 (0.0506) bce_loss: 0.0462 (0.0506) time: 0.9500 data: 0.0219 max mem: 8206\n"
          ]
        },
        {
          "output_type": "stream",
          "name": "stdout",
          "text": [
            "[TRAINING] - Epoch: [6] [301/461] eta: 0:02:33 lr: 0.000100 loss: 0.0462 (0.0506) bce_loss: 0.0462 (0.0506) time: 0.9500 data: 0.0219 max mem: 8206\n"
          ]
        },
        {
          "output_type": "stream",
          "name": "stderr",
          "text": [
            "INFO:20230807_training:[TRAINING] - Epoch: [6] [351/461] eta: 0:01:45 lr: 0.000100 loss: 0.0413 (0.0505) bce_loss: 0.0413 (0.0505) time: 0.9494 data: 0.0222 max mem: 8206\n"
          ]
        },
        {
          "output_type": "stream",
          "name": "stdout",
          "text": [
            "[TRAINING] - Epoch: [6] [351/461] eta: 0:01:45 lr: 0.000100 loss: 0.0413 (0.0505) bce_loss: 0.0413 (0.0505) time: 0.9494 data: 0.0222 max mem: 8206\n"
          ]
        },
        {
          "output_type": "stream",
          "name": "stderr",
          "text": [
            "INFO:20230807_training:[TRAINING] - Epoch: [6] [401/461] eta: 0:00:57 lr: 0.000100 loss: 0.0320 (0.0504) bce_loss: 0.0320 (0.0504) time: 0.9493 data: 0.0216 max mem: 8206\n"
          ]
        },
        {
          "output_type": "stream",
          "name": "stdout",
          "text": [
            "[TRAINING] - Epoch: [6] [401/461] eta: 0:00:57 lr: 0.000100 loss: 0.0320 (0.0504) bce_loss: 0.0320 (0.0504) time: 0.9493 data: 0.0216 max mem: 8206\n"
          ]
        },
        {
          "output_type": "stream",
          "name": "stderr",
          "text": [
            "INFO:20230807_training:[TRAINING] - Epoch: [6] [451/461] eta: 0:00:10 lr: 0.000100 loss: 0.0441 (0.0504) bce_loss: 0.0441 (0.0504) time: 0.9495 data: 0.0228 max mem: 8206\n"
          ]
        },
        {
          "output_type": "stream",
          "name": "stdout",
          "text": [
            "[TRAINING] - Epoch: [6] [451/461] eta: 0:00:10 lr: 0.000100 loss: 0.0441 (0.0504) bce_loss: 0.0441 (0.0504) time: 0.9495 data: 0.0228 max mem: 8206\n"
          ]
        },
        {
          "output_type": "stream",
          "name": "stderr",
          "text": [
            "INFO:20230807_training:[TRAINING] - Epoch: [6] [461/461] eta: 0:00:00 lr: 0.000100 loss: 0.0363 (0.0504) bce_loss: 0.0363 (0.0504) time: 0.9312 data: 0.0214 max mem: 8206\n",
            "INFO:20230807_training:[TRAINING] - Epoch: [6] Total time: 0:07:17 (0.9497 s / it)\n"
          ]
        },
        {
          "output_type": "stream",
          "name": "stdout",
          "text": [
            "[TRAINING] - Epoch: [6] [461/461] eta: 0:00:00 lr: 0.000100 loss: 0.0363 (0.0504) bce_loss: 0.0363 (0.0504) time: 0.9312 data: 0.0214 max mem: 8206\n",
            "[TRAINING] - Epoch: [6] Total time: 0:07:17 (0.9497 s / it)\n",
            "[TRAINING] - Epoch: [6] mean loss: 0.0437\n"
          ]
        },
        {
          "output_type": "stream",
          "name": "stderr",
          "text": [
            "INFO:20230807_validation:[VALIDATION] - Epoch: [6] [ 1/52] eta: 0:00:50 n: 32 recall: 1.0 precision: 1.0 f1-score: 1.0 MAE: 0.0 MSE: 0.0 RMSE: 0.0 time: 0.9736 data: 0.7061 max mem: 8206\n"
          ]
        },
        {
          "output_type": "stream",
          "name": "stdout",
          "text": [
            "[VALIDATION] - Epoch: [6] [ 1/52] eta: 0:00:50 n: 32 recall: 1.0 precision: 1.0 f1-score: 1.0 MAE: 0.0 MSE: 0.0 RMSE: 0.0 time: 0.9736 data: 0.7061 max mem: 8206\n"
          ]
        },
        {
          "output_type": "stream",
          "name": "stderr",
          "text": [
            "INFO:20230807_validation:[VALIDATION] - Epoch: [6] [11/52] eta: 0:00:16 n: 32 recall: 1.0 precision: 1.0 f1-score: 1.0 MAE: 0.0 MSE: 0.0 RMSE: 0.0 time: 0.3818 data: 0.0977 max mem: 8206\n"
          ]
        },
        {
          "output_type": "stream",
          "name": "stdout",
          "text": [
            "[VALIDATION] - Epoch: [6] [11/52] eta: 0:00:16 n: 32 recall: 1.0 precision: 1.0 f1-score: 1.0 MAE: 0.0 MSE: 0.0 RMSE: 0.0 time: 0.3818 data: 0.0977 max mem: 8206\n"
          ]
        },
        {
          "output_type": "stream",
          "name": "stderr",
          "text": [
            "INFO:20230807_validation:[VALIDATION] - Epoch: [6] [21/52] eta: 0:00:11 n: 32 recall: 1.0 precision: 1.0 f1-score: 1.0 MAE: 0.0 MSE: 0.0 RMSE: 0.0 time: 0.3315 data: 0.0457 max mem: 8206\n"
          ]
        },
        {
          "output_type": "stream",
          "name": "stdout",
          "text": [
            "[VALIDATION] - Epoch: [6] [21/52] eta: 0:00:11 n: 32 recall: 1.0 precision: 1.0 f1-score: 1.0 MAE: 0.0 MSE: 0.0 RMSE: 0.0 time: 0.3315 data: 0.0457 max mem: 8206\n"
          ]
        },
        {
          "output_type": "stream",
          "name": "stderr",
          "text": [
            "INFO:20230807_validation:[VALIDATION] - Epoch: [6] [31/52] eta: 0:00:08 n: 32 recall: 1.0 precision: 1.0 f1-score: 1.0 MAE: 0.0 MSE: 0.0 RMSE: 0.0 time: 0.3718 data: 0.0844 max mem: 8206\n"
          ]
        },
        {
          "output_type": "stream",
          "name": "stdout",
          "text": [
            "[VALIDATION] - Epoch: [6] [31/52] eta: 0:00:08 n: 32 recall: 1.0 precision: 1.0 f1-score: 1.0 MAE: 0.0 MSE: 0.0 RMSE: 0.0 time: 0.3718 data: 0.0844 max mem: 8206\n"
          ]
        },
        {
          "output_type": "stream",
          "name": "stderr",
          "text": [
            "INFO:20230807_validation:[VALIDATION] - Epoch: [6] [41/52] eta: 0:00:04 n: 32 recall: 1.0 precision: 1.0 f1-score: 1.0 MAE: 0.0 MSE: 0.0 RMSE: 0.0 time: 0.3773 data: 0.0910 max mem: 8206\n"
          ]
        },
        {
          "output_type": "stream",
          "name": "stdout",
          "text": [
            "[VALIDATION] - Epoch: [6] [41/52] eta: 0:00:04 n: 32 recall: 1.0 precision: 1.0 f1-score: 1.0 MAE: 0.0 MSE: 0.0 RMSE: 0.0 time: 0.3773 data: 0.0910 max mem: 8206\n"
          ]
        },
        {
          "output_type": "stream",
          "name": "stderr",
          "text": [
            "INFO:20230807_validation:[VALIDATION] - Epoch: [6] [51/52] eta: 0:00:00 n: 32 recall: 1.0 precision: 1.0 f1-score: 1.0 MAE: 0.0 MSE: 0.0 RMSE: 0.0 time: 0.3411 data: 0.0582 max mem: 8206\n",
            "INFO:20230807_validation:[VALIDATION] - Epoch: [6] [52/52] eta: 0:00:00 n: 6 recall: 1.0 precision: 1.0 f1-score: 1.0 MAE: 0.0 MSE: 0.0 RMSE: 0.0 time: 0.3186 data: 0.0467 max mem: 8206\n",
            "INFO:20230807_validation:[VALIDATION] - Epoch: [6] Total time: 0:00:18 (0.3578 s / it)\n"
          ]
        },
        {
          "output_type": "stream",
          "name": "stdout",
          "text": [
            "[VALIDATION] - Epoch: [6] [51/52] eta: 0:00:00 n: 32 recall: 1.0 precision: 1.0 f1-score: 1.0 MAE: 0.0 MSE: 0.0 RMSE: 0.0 time: 0.3411 data: 0.0582 max mem: 8206\n",
            "[VALIDATION] - Epoch: [6] [52/52] eta: 0:00:00 n: 6 recall: 1.0 precision: 1.0 f1-score: 1.0 MAE: 0.0 MSE: 0.0 RMSE: 0.0 time: 0.3186 data: 0.0467 max mem: 8206\n",
            "[VALIDATION] - Epoch: [6] Total time: 0:00:18 (0.3578 s / it)\n",
            "[VALIDATION] - Epoch: [6] accuracy: 0.0568\n"
          ]
        },
        {
          "output_type": "stream",
          "name": "stderr",
          "text": [
            "INFO:20230807_training:[TRAINING] - Epoch: [7] [  1/461] eta: 0:12:35 lr: 0.000100 loss: 0.0363 (0.0504) bce_loss: 0.0363 (0.0504) time: 1.6397 data: 0.7096 max mem: 8206\n"
          ]
        },
        {
          "output_type": "stream",
          "name": "stdout",
          "text": [
            "[TRAINING] - Epoch: [7] [  1/461] eta: 0:12:35 lr: 0.000100 loss: 0.0363 (0.0504) bce_loss: 0.0363 (0.0504) time: 1.6397 data: 0.7096 max mem: 8206\n"
          ]
        },
        {
          "output_type": "stream",
          "name": "stderr",
          "text": [
            "INFO:20230807_training:[TRAINING] - Epoch: [7] [ 51/461] eta: 0:06:35 lr: 0.000100 loss: 0.0334 (0.0502) bce_loss: 0.0334 (0.0502) time: 0.9490 data: 0.0222 max mem: 8206\n"
          ]
        },
        {
          "output_type": "stream",
          "name": "stdout",
          "text": [
            "[TRAINING] - Epoch: [7] [ 51/461] eta: 0:06:35 lr: 0.000100 loss: 0.0334 (0.0502) bce_loss: 0.0334 (0.0502) time: 0.9490 data: 0.0222 max mem: 8206\n"
          ]
        },
        {
          "output_type": "stream",
          "name": "stderr",
          "text": [
            "INFO:20230807_training:[TRAINING] - Epoch: [7] [101/461] eta: 0:05:44 lr: 0.000100 loss: 0.0556 (0.0504) bce_loss: 0.0556 (0.0504) time: 0.9454 data: 0.0219 max mem: 8206\n"
          ]
        },
        {
          "output_type": "stream",
          "name": "stdout",
          "text": [
            "[TRAINING] - Epoch: [7] [101/461] eta: 0:05:44 lr: 0.000100 loss: 0.0556 (0.0504) bce_loss: 0.0556 (0.0504) time: 0.9454 data: 0.0219 max mem: 8206\n"
          ]
        },
        {
          "output_type": "stream",
          "name": "stderr",
          "text": [
            "INFO:20230807_training:[TRAINING] - Epoch: [7] [151/461] eta: 0:04:56 lr: 0.000100 loss: 0.0661 (0.0506) bce_loss: 0.0661 (0.0506) time: 0.9490 data: 0.0218 max mem: 8206\n"
          ]
        },
        {
          "output_type": "stream",
          "name": "stdout",
          "text": [
            "[TRAINING] - Epoch: [7] [151/461] eta: 0:04:56 lr: 0.000100 loss: 0.0661 (0.0506) bce_loss: 0.0661 (0.0506) time: 0.9490 data: 0.0218 max mem: 8206\n"
          ]
        },
        {
          "output_type": "stream",
          "name": "stderr",
          "text": [
            "INFO:20230807_training:[TRAINING] - Epoch: [7] [201/461] eta: 0:04:08 lr: 0.000100 loss: 0.0657 (0.0509) bce_loss: 0.0657 (0.0509) time: 0.9472 data: 0.0217 max mem: 8206\n"
          ]
        },
        {
          "output_type": "stream",
          "name": "stdout",
          "text": [
            "[TRAINING] - Epoch: [7] [201/461] eta: 0:04:08 lr: 0.000100 loss: 0.0657 (0.0509) bce_loss: 0.0657 (0.0509) time: 0.9472 data: 0.0217 max mem: 8206\n"
          ]
        },
        {
          "output_type": "stream",
          "name": "stderr",
          "text": [
            "INFO:20230807_training:[TRAINING] - Epoch: [7] [251/461] eta: 0:03:20 lr: 0.000100 loss: 0.0369 (0.0510) bce_loss: 0.0369 (0.0510) time: 0.9484 data: 0.0240 max mem: 8206\n"
          ]
        },
        {
          "output_type": "stream",
          "name": "stdout",
          "text": [
            "[TRAINING] - Epoch: [7] [251/461] eta: 0:03:20 lr: 0.000100 loss: 0.0369 (0.0510) bce_loss: 0.0369 (0.0510) time: 0.9484 data: 0.0240 max mem: 8206\n"
          ]
        },
        {
          "output_type": "stream",
          "name": "stderr",
          "text": [
            "INFO:20230807_training:[TRAINING] - Epoch: [7] [301/461] eta: 0:02:32 lr: 0.000100 loss: 0.0398 (0.0511) bce_loss: 0.0398 (0.0511) time: 0.9465 data: 0.0217 max mem: 8206\n"
          ]
        },
        {
          "output_type": "stream",
          "name": "stdout",
          "text": [
            "[TRAINING] - Epoch: [7] [301/461] eta: 0:02:32 lr: 0.000100 loss: 0.0398 (0.0511) bce_loss: 0.0398 (0.0511) time: 0.9465 data: 0.0217 max mem: 8206\n"
          ]
        },
        {
          "output_type": "stream",
          "name": "stderr",
          "text": [
            "INFO:20230807_training:[TRAINING] - Epoch: [7] [351/461] eta: 0:01:45 lr: 0.000100 loss: 0.0486 (0.0512) bce_loss: 0.0486 (0.0512) time: 0.9482 data: 0.0227 max mem: 8206\n"
          ]
        },
        {
          "output_type": "stream",
          "name": "stdout",
          "text": [
            "[TRAINING] - Epoch: [7] [351/461] eta: 0:01:45 lr: 0.000100 loss: 0.0486 (0.0512) bce_loss: 0.0486 (0.0512) time: 0.9482 data: 0.0227 max mem: 8206\n"
          ]
        },
        {
          "output_type": "stream",
          "name": "stderr",
          "text": [
            "INFO:20230807_training:[TRAINING] - Epoch: [7] [401/461] eta: 0:00:57 lr: 0.000100 loss: 0.0695 (0.0514) bce_loss: 0.0695 (0.0514) time: 0.9488 data: 0.0221 max mem: 8206\n"
          ]
        },
        {
          "output_type": "stream",
          "name": "stdout",
          "text": [
            "[TRAINING] - Epoch: [7] [401/461] eta: 0:00:57 lr: 0.000100 loss: 0.0695 (0.0514) bce_loss: 0.0695 (0.0514) time: 0.9488 data: 0.0221 max mem: 8206\n"
          ]
        },
        {
          "output_type": "stream",
          "name": "stderr",
          "text": [
            "INFO:20230807_training:[TRAINING] - Epoch: [7] [451/461] eta: 0:00:10 lr: 0.000100 loss: 0.0523 (0.0517) bce_loss: 0.0523 (0.0517) time: 0.9494 data: 0.0227 max mem: 8206\n"
          ]
        },
        {
          "output_type": "stream",
          "name": "stdout",
          "text": [
            "[TRAINING] - Epoch: [7] [451/461] eta: 0:00:10 lr: 0.000100 loss: 0.0523 (0.0517) bce_loss: 0.0523 (0.0517) time: 0.9494 data: 0.0227 max mem: 8206\n"
          ]
        },
        {
          "output_type": "stream",
          "name": "stderr",
          "text": [
            "INFO:20230807_training:[TRAINING] - Epoch: [7] [461/461] eta: 0:00:00 lr: 0.000100 loss: 0.0515 (0.0516) bce_loss: 0.0515 (0.0516) time: 0.9312 data: 0.0214 max mem: 8206\n",
            "INFO:20230807_training:[TRAINING] - Epoch: [7] Total time: 0:07:17 (0.9484 s / it)\n"
          ]
        },
        {
          "output_type": "stream",
          "name": "stdout",
          "text": [
            "[TRAINING] - Epoch: [7] [461/461] eta: 0:00:00 lr: 0.000100 loss: 0.0515 (0.0516) bce_loss: 0.0515 (0.0516) time: 0.9312 data: 0.0214 max mem: 8206\n",
            "[TRAINING] - Epoch: [7] Total time: 0:07:17 (0.9484 s / it)\n",
            "[TRAINING] - Epoch: [7] mean loss: 0.0592\n"
          ]
        },
        {
          "output_type": "stream",
          "name": "stderr",
          "text": [
            "INFO:20230807_validation:[VALIDATION] - Epoch: [7] [ 1/52] eta: 0:00:51 n: 32 recall: 1.0 precision: 1.0 f1-score: 1.0 MAE: 0.0 MSE: 0.0 RMSE: 0.0 time: 0.9820 data: 0.7197 max mem: 8206\n"
          ]
        },
        {
          "output_type": "stream",
          "name": "stdout",
          "text": [
            "[VALIDATION] - Epoch: [7] [ 1/52] eta: 0:00:51 n: 32 recall: 1.0 precision: 1.0 f1-score: 1.0 MAE: 0.0 MSE: 0.0 RMSE: 0.0 time: 0.9820 data: 0.7197 max mem: 8206\n"
          ]
        },
        {
          "output_type": "stream",
          "name": "stderr",
          "text": [
            "INFO:20230807_validation:[VALIDATION] - Epoch: [7] [11/52] eta: 0:00:15 n: 32 recall: 1.0 precision: 1.0 f1-score: 1.0 MAE: 0.0 MSE: 0.0 RMSE: 0.0 time: 0.3749 data: 0.0927 max mem: 8206\n"
          ]
        },
        {
          "output_type": "stream",
          "name": "stdout",
          "text": [
            "[VALIDATION] - Epoch: [7] [11/52] eta: 0:00:15 n: 32 recall: 1.0 precision: 1.0 f1-score: 1.0 MAE: 0.0 MSE: 0.0 RMSE: 0.0 time: 0.3749 data: 0.0927 max mem: 8206\n"
          ]
        },
        {
          "output_type": "stream",
          "name": "stderr",
          "text": [
            "INFO:20230807_validation:[VALIDATION] - Epoch: [7] [21/52] eta: 0:00:11 n: 32 recall: 1.0 precision: 1.0 f1-score: 1.0 MAE: 0.0 MSE: 0.0 RMSE: 0.0 time: 0.3276 data: 0.0433 max mem: 8206\n"
          ]
        },
        {
          "output_type": "stream",
          "name": "stdout",
          "text": [
            "[VALIDATION] - Epoch: [7] [21/52] eta: 0:00:11 n: 32 recall: 1.0 precision: 1.0 f1-score: 1.0 MAE: 0.0 MSE: 0.0 RMSE: 0.0 time: 0.3276 data: 0.0433 max mem: 8206\n"
          ]
        },
        {
          "output_type": "stream",
          "name": "stderr",
          "text": [
            "INFO:20230807_validation:[VALIDATION] - Epoch: [7] [31/52] eta: 0:00:08 n: 32 recall: 1.0 precision: 1.0 f1-score: 1.0 MAE: 0.0 MSE: 0.0 RMSE: 0.0 time: 0.3586 data: 0.0715 max mem: 8206\n"
          ]
        },
        {
          "output_type": "stream",
          "name": "stdout",
          "text": [
            "[VALIDATION] - Epoch: [7] [31/52] eta: 0:00:08 n: 32 recall: 1.0 precision: 1.0 f1-score: 1.0 MAE: 0.0 MSE: 0.0 RMSE: 0.0 time: 0.3586 data: 0.0715 max mem: 8206\n"
          ]
        },
        {
          "output_type": "stream",
          "name": "stderr",
          "text": [
            "INFO:20230807_validation:[VALIDATION] - Epoch: [7] [41/52] eta: 0:00:04 n: 32 recall: 1.0 precision: 1.0 f1-score: 1.0 MAE: 0.0 MSE: 0.0 RMSE: 0.0 time: 0.3892 data: 0.1010 max mem: 8206\n"
          ]
        },
        {
          "output_type": "stream",
          "name": "stdout",
          "text": [
            "[VALIDATION] - Epoch: [7] [41/52] eta: 0:00:04 n: 32 recall: 1.0 precision: 1.0 f1-score: 1.0 MAE: 0.0 MSE: 0.0 RMSE: 0.0 time: 0.3892 data: 0.1010 max mem: 8206\n"
          ]
        },
        {
          "output_type": "stream",
          "name": "stderr",
          "text": [
            "INFO:20230807_validation:[VALIDATION] - Epoch: [7] [51/52] eta: 0:00:00 n: 32 recall: 1.0 precision: 1.0 f1-score: 1.0 MAE: 0.0 MSE: 0.0 RMSE: 0.0 time: 0.3722 data: 0.0879 max mem: 8206\n",
            "INFO:20230807_validation:[VALIDATION] - Epoch: [7] [52/52] eta: 0:00:00 n: 6 recall: 1.0 precision: 1.0 f1-score: 1.0 MAE: 0.0 MSE: 0.0 RMSE: 0.0 time: 0.3509 data: 0.0777 max mem: 8206\n",
            "INFO:20230807_validation:[VALIDATION] - Epoch: [7] Total time: 0:00:18 (0.3633 s / it)\n"
          ]
        },
        {
          "output_type": "stream",
          "name": "stdout",
          "text": [
            "[VALIDATION] - Epoch: [7] [51/52] eta: 0:00:00 n: 32 recall: 1.0 precision: 1.0 f1-score: 1.0 MAE: 0.0 MSE: 0.0 RMSE: 0.0 time: 0.3722 data: 0.0879 max mem: 8206\n",
            "[VALIDATION] - Epoch: [7] [52/52] eta: 0:00:00 n: 6 recall: 1.0 precision: 1.0 f1-score: 1.0 MAE: 0.0 MSE: 0.0 RMSE: 0.0 time: 0.3509 data: 0.0777 max mem: 8206\n",
            "[VALIDATION] - Epoch: [7] Total time: 0:00:18 (0.3633 s / it)\n",
            "[VALIDATION] - Epoch: [7] accuracy: 0.3236\n"
          ]
        },
        {
          "output_type": "stream",
          "name": "stderr",
          "text": [
            "INFO:20230807_training:[TRAINING] - Epoch: [8] [  1/461] eta: 0:12:59 lr: 0.000100 loss: 0.0515 (0.0516) bce_loss: 0.0515 (0.0516) time: 1.6907 data: 0.7515 max mem: 8206\n"
          ]
        },
        {
          "output_type": "stream",
          "name": "stdout",
          "text": [
            "[TRAINING] - Epoch: [8] [  1/461] eta: 0:12:59 lr: 0.000100 loss: 0.0515 (0.0516) bce_loss: 0.0515 (0.0516) time: 1.6907 data: 0.7515 max mem: 8206\n"
          ]
        },
        {
          "output_type": "stream",
          "name": "stderr",
          "text": [
            "INFO:20230807_training:[TRAINING] - Epoch: [8] [ 51/461] eta: 0:06:36 lr: 0.000100 loss: 0.0490 (0.0517) bce_loss: 0.0490 (0.0517) time: 0.9488 data: 0.0210 max mem: 8206\n"
          ]
        },
        {
          "output_type": "stream",
          "name": "stdout",
          "text": [
            "[TRAINING] - Epoch: [8] [ 51/461] eta: 0:06:36 lr: 0.000100 loss: 0.0490 (0.0517) bce_loss: 0.0490 (0.0517) time: 0.9488 data: 0.0210 max mem: 8206\n"
          ]
        },
        {
          "output_type": "stream",
          "name": "stderr",
          "text": [
            "INFO:20230807_training:[TRAINING] - Epoch: [8] [101/461] eta: 0:05:45 lr: 0.000100 loss: 0.0591 (0.0519) bce_loss: 0.0591 (0.0519) time: 0.9487 data: 0.0237 max mem: 8206\n"
          ]
        },
        {
          "output_type": "stream",
          "name": "stdout",
          "text": [
            "[TRAINING] - Epoch: [8] [101/461] eta: 0:05:45 lr: 0.000100 loss: 0.0591 (0.0519) bce_loss: 0.0591 (0.0519) time: 0.9487 data: 0.0237 max mem: 8206\n"
          ]
        },
        {
          "output_type": "stream",
          "name": "stderr",
          "text": [
            "INFO:20230807_training:[TRAINING] - Epoch: [8] [151/461] eta: 0:04:56 lr: 0.000100 loss: 0.0314 (0.0518) bce_loss: 0.0314 (0.0518) time: 0.9432 data: 0.0205 max mem: 8206\n"
          ]
        },
        {
          "output_type": "stream",
          "name": "stdout",
          "text": [
            "[TRAINING] - Epoch: [8] [151/461] eta: 0:04:56 lr: 0.000100 loss: 0.0314 (0.0518) bce_loss: 0.0314 (0.0518) time: 0.9432 data: 0.0205 max mem: 8206\n"
          ]
        },
        {
          "output_type": "stream",
          "name": "stderr",
          "text": [
            "INFO:20230807_training:[TRAINING] - Epoch: [8] [201/461] eta: 0:04:08 lr: 0.000100 loss: 0.0434 (0.0517) bce_loss: 0.0434 (0.0517) time: 0.9463 data: 0.0224 max mem: 8206\n"
          ]
        },
        {
          "output_type": "stream",
          "name": "stdout",
          "text": [
            "[TRAINING] - Epoch: [8] [201/461] eta: 0:04:08 lr: 0.000100 loss: 0.0434 (0.0517) bce_loss: 0.0434 (0.0517) time: 0.9463 data: 0.0224 max mem: 8206\n"
          ]
        },
        {
          "output_type": "stream",
          "name": "stderr",
          "text": [
            "INFO:20230807_training:[TRAINING] - Epoch: [8] [251/461] eta: 0:03:20 lr: 0.000100 loss: 0.0366 (0.0516) bce_loss: 0.0366 (0.0516) time: 0.9487 data: 0.0231 max mem: 8206\n"
          ]
        },
        {
          "output_type": "stream",
          "name": "stdout",
          "text": [
            "[TRAINING] - Epoch: [8] [251/461] eta: 0:03:20 lr: 0.000100 loss: 0.0366 (0.0516) bce_loss: 0.0366 (0.0516) time: 0.9487 data: 0.0231 max mem: 8206\n"
          ]
        },
        {
          "output_type": "stream",
          "name": "stderr",
          "text": [
            "INFO:20230807_training:[TRAINING] - Epoch: [8] [301/461] eta: 0:02:32 lr: 0.000100 loss: 0.0419 (0.0515) bce_loss: 0.0419 (0.0515) time: 0.9471 data: 0.0221 max mem: 8206\n"
          ]
        },
        {
          "output_type": "stream",
          "name": "stdout",
          "text": [
            "[TRAINING] - Epoch: [8] [301/461] eta: 0:02:32 lr: 0.000100 loss: 0.0419 (0.0515) bce_loss: 0.0419 (0.0515) time: 0.9471 data: 0.0221 max mem: 8206\n"
          ]
        },
        {
          "output_type": "stream",
          "name": "stderr",
          "text": [
            "INFO:20230807_training:[TRAINING] - Epoch: [8] [351/461] eta: 0:01:45 lr: 0.000100 loss: 0.0345 (0.0515) bce_loss: 0.0345 (0.0515) time: 0.9456 data: 0.0211 max mem: 8206\n"
          ]
        },
        {
          "output_type": "stream",
          "name": "stdout",
          "text": [
            "[TRAINING] - Epoch: [8] [351/461] eta: 0:01:45 lr: 0.000100 loss: 0.0345 (0.0515) bce_loss: 0.0345 (0.0515) time: 0.9456 data: 0.0211 max mem: 8206\n"
          ]
        },
        {
          "output_type": "stream",
          "name": "stderr",
          "text": [
            "INFO:20230807_training:[TRAINING] - Epoch: [8] [401/461] eta: 0:00:57 lr: 0.000100 loss: 0.0494 (0.0515) bce_loss: 0.0494 (0.0515) time: 0.9471 data: 0.0218 max mem: 8206\n"
          ]
        },
        {
          "output_type": "stream",
          "name": "stdout",
          "text": [
            "[TRAINING] - Epoch: [8] [401/461] eta: 0:00:57 lr: 0.000100 loss: 0.0494 (0.0515) bce_loss: 0.0494 (0.0515) time: 0.9471 data: 0.0218 max mem: 8206\n"
          ]
        },
        {
          "output_type": "stream",
          "name": "stderr",
          "text": [
            "INFO:20230807_training:[TRAINING] - Epoch: [8] [451/461] eta: 0:00:10 lr: 0.000100 loss: 0.0282 (0.0516) bce_loss: 0.0282 (0.0516) time: 0.9464 data: 0.0220 max mem: 8206\n"
          ]
        },
        {
          "output_type": "stream",
          "name": "stdout",
          "text": [
            "[TRAINING] - Epoch: [8] [451/461] eta: 0:00:10 lr: 0.000100 loss: 0.0282 (0.0516) bce_loss: 0.0282 (0.0516) time: 0.9464 data: 0.0220 max mem: 8206\n"
          ]
        },
        {
          "output_type": "stream",
          "name": "stderr",
          "text": [
            "INFO:20230807_training:[TRAINING] - Epoch: [8] [461/461] eta: 0:00:00 lr: 0.000100 loss: 0.0293 (0.0515) bce_loss: 0.0293 (0.0515) time: 0.9291 data: 0.0212 max mem: 8206\n",
            "INFO:20230807_training:[TRAINING] - Epoch: [8] Total time: 0:07:17 (0.9486 s / it)\n"
          ]
        },
        {
          "output_type": "stream",
          "name": "stdout",
          "text": [
            "[TRAINING] - Epoch: [8] [461/461] eta: 0:00:00 lr: 0.000100 loss: 0.0293 (0.0515) bce_loss: 0.0293 (0.0515) time: 0.9291 data: 0.0212 max mem: 8206\n",
            "[TRAINING] - Epoch: [8] Total time: 0:07:17 (0.9486 s / it)\n",
            "[TRAINING] - Epoch: [8] mean loss: 0.0509\n"
          ]
        },
        {
          "output_type": "stream",
          "name": "stderr",
          "text": [
            "INFO:20230807_validation:[VALIDATION] - Epoch: [8] [ 1/52] eta: 0:00:52 n: 32 recall: 1.0 precision: 1.0 f1-score: 1.0 MAE: 0.0 MSE: 0.0 RMSE: 0.0 time: 1.0080 data: 0.7415 max mem: 8206\n"
          ]
        },
        {
          "output_type": "stream",
          "name": "stdout",
          "text": [
            "[VALIDATION] - Epoch: [8] [ 1/52] eta: 0:00:52 n: 32 recall: 1.0 precision: 1.0 f1-score: 1.0 MAE: 0.0 MSE: 0.0 RMSE: 0.0 time: 1.0080 data: 0.7415 max mem: 8206\n"
          ]
        },
        {
          "output_type": "stream",
          "name": "stderr",
          "text": [
            "INFO:20230807_validation:[VALIDATION] - Epoch: [8] [11/52] eta: 0:00:16 n: 32 recall: 1.0 precision: 1.0 f1-score: 1.0 MAE: 0.0 MSE: 0.0 RMSE: 0.0 time: 0.4034 data: 0.1147 max mem: 8206\n"
          ]
        },
        {
          "output_type": "stream",
          "name": "stdout",
          "text": [
            "[VALIDATION] - Epoch: [8] [11/52] eta: 0:00:16 n: 32 recall: 1.0 precision: 1.0 f1-score: 1.0 MAE: 0.0 MSE: 0.0 RMSE: 0.0 time: 0.4034 data: 0.1147 max mem: 8206\n"
          ]
        },
        {
          "output_type": "stream",
          "name": "stderr",
          "text": [
            "INFO:20230807_validation:[VALIDATION] - Epoch: [8] [21/52] eta: 0:00:12 n: 32 recall: 1.0 precision: 1.0 f1-score: 1.0 MAE: 0.0 MSE: 0.0 RMSE: 0.0 time: 0.3490 data: 0.0611 max mem: 8206\n"
          ]
        },
        {
          "output_type": "stream",
          "name": "stdout",
          "text": [
            "[VALIDATION] - Epoch: [8] [21/52] eta: 0:00:12 n: 32 recall: 1.0 precision: 1.0 f1-score: 1.0 MAE: 0.0 MSE: 0.0 RMSE: 0.0 time: 0.3490 data: 0.0611 max mem: 8206\n"
          ]
        },
        {
          "output_type": "stream",
          "name": "stderr",
          "text": [
            "INFO:20230807_validation:[VALIDATION] - Epoch: [8] [31/52] eta: 0:00:08 n: 32 recall: 1.0 precision: 1.0 f1-score: 1.0 MAE: 0.0 MSE: 0.0 RMSE: 0.0 time: 0.3720 data: 0.0841 max mem: 8206\n"
          ]
        },
        {
          "output_type": "stream",
          "name": "stdout",
          "text": [
            "[VALIDATION] - Epoch: [8] [31/52] eta: 0:00:08 n: 32 recall: 1.0 precision: 1.0 f1-score: 1.0 MAE: 0.0 MSE: 0.0 RMSE: 0.0 time: 0.3720 data: 0.0841 max mem: 8206\n"
          ]
        },
        {
          "output_type": "stream",
          "name": "stderr",
          "text": [
            "INFO:20230807_validation:[VALIDATION] - Epoch: [8] [41/52] eta: 0:00:04 n: 32 recall: 1.0 precision: 1.0 f1-score: 1.0 MAE: 0.0 MSE: 0.0 RMSE: 0.0 time: 0.3900 data: 0.0994 max mem: 8206\n"
          ]
        },
        {
          "output_type": "stream",
          "name": "stdout",
          "text": [
            "[VALIDATION] - Epoch: [8] [41/52] eta: 0:00:04 n: 32 recall: 1.0 precision: 1.0 f1-score: 1.0 MAE: 0.0 MSE: 0.0 RMSE: 0.0 time: 0.3900 data: 0.0994 max mem: 8206\n"
          ]
        },
        {
          "output_type": "stream",
          "name": "stderr",
          "text": [
            "INFO:20230807_validation:[VALIDATION] - Epoch: [8] [51/52] eta: 0:00:00 n: 32 recall: 1.0 precision: 1.0 f1-score: 1.0 MAE: 0.0 MSE: 0.0 RMSE: 0.0 time: 0.3500 data: 0.0633 max mem: 8206\n",
            "INFO:20230807_validation:[VALIDATION] - Epoch: [8] [52/52] eta: 0:00:00 n: 6 recall: 1.0 precision: 1.0 f1-score: 1.0 MAE: 0.0 MSE: 0.0 RMSE: 0.0 time: 0.3390 data: 0.0633 max mem: 8206\n",
            "INFO:20230807_validation:[VALIDATION] - Epoch: [8] Total time: 0:00:19 (0.3658 s / it)\n"
          ]
        },
        {
          "output_type": "stream",
          "name": "stdout",
          "text": [
            "[VALIDATION] - Epoch: [8] [51/52] eta: 0:00:00 n: 32 recall: 1.0 precision: 1.0 f1-score: 1.0 MAE: 0.0 MSE: 0.0 RMSE: 0.0 time: 0.3500 data: 0.0633 max mem: 8206\n",
            "[VALIDATION] - Epoch: [8] [52/52] eta: 0:00:00 n: 6 recall: 1.0 precision: 1.0 f1-score: 1.0 MAE: 0.0 MSE: 0.0 RMSE: 0.0 time: 0.3390 data: 0.0633 max mem: 8206\n",
            "[VALIDATION] - Epoch: [8] Total time: 0:00:19 (0.3658 s / it)\n",
            "[VALIDATION] - Epoch: [8] accuracy: 0.0696\n"
          ]
        },
        {
          "output_type": "stream",
          "name": "stderr",
          "text": [
            "INFO:20230807_training:[TRAINING] - Epoch: [9] [  1/461] eta: 0:12:38 lr: 0.000100 loss: 0.0293 (0.0515) bce_loss: 0.0293 (0.0515) time: 1.6444 data: 0.7156 max mem: 8206\n"
          ]
        },
        {
          "output_type": "stream",
          "name": "stdout",
          "text": [
            "[TRAINING] - Epoch: [9] [  1/461] eta: 0:12:38 lr: 0.000100 loss: 0.0293 (0.0515) bce_loss: 0.0293 (0.0515) time: 1.6444 data: 0.7156 max mem: 8206\n"
          ]
        },
        {
          "output_type": "stream",
          "name": "stderr",
          "text": [
            "INFO:20230807_training:[TRAINING] - Epoch: [9] [ 51/461] eta: 0:06:35 lr: 0.000100 loss: 0.0479 (0.0514) bce_loss: 0.0479 (0.0514) time: 0.9481 data: 0.0235 max mem: 8206\n"
          ]
        },
        {
          "output_type": "stream",
          "name": "stdout",
          "text": [
            "[TRAINING] - Epoch: [9] [ 51/461] eta: 0:06:35 lr: 0.000100 loss: 0.0479 (0.0514) bce_loss: 0.0479 (0.0514) time: 0.9481 data: 0.0235 max mem: 8206\n"
          ]
        },
        {
          "output_type": "stream",
          "name": "stderr",
          "text": [
            "INFO:20230807_training:[TRAINING] - Epoch: [9] [101/461] eta: 0:05:44 lr: 0.000100 loss: 0.0297 (0.0513) bce_loss: 0.0297 (0.0513) time: 0.9467 data: 0.0231 max mem: 8206\n"
          ]
        },
        {
          "output_type": "stream",
          "name": "stdout",
          "text": [
            "[TRAINING] - Epoch: [9] [101/461] eta: 0:05:44 lr: 0.000100 loss: 0.0297 (0.0513) bce_loss: 0.0297 (0.0513) time: 0.9467 data: 0.0231 max mem: 8206\n"
          ]
        },
        {
          "output_type": "stream",
          "name": "stderr",
          "text": [
            "INFO:20230807_training:[TRAINING] - Epoch: [9] [151/461] eta: 0:04:56 lr: 0.000100 loss: 0.0483 (0.0512) bce_loss: 0.0483 (0.0512) time: 0.9475 data: 0.0240 max mem: 8206\n"
          ]
        },
        {
          "output_type": "stream",
          "name": "stdout",
          "text": [
            "[TRAINING] - Epoch: [9] [151/461] eta: 0:04:56 lr: 0.000100 loss: 0.0483 (0.0512) bce_loss: 0.0483 (0.0512) time: 0.9475 data: 0.0240 max mem: 8206\n"
          ]
        },
        {
          "output_type": "stream",
          "name": "stderr",
          "text": [
            "INFO:20230807_training:[TRAINING] - Epoch: [9] [201/461] eta: 0:04:08 lr: 0.000100 loss: 0.0380 (0.0512) bce_loss: 0.0380 (0.0512) time: 0.9460 data: 0.0224 max mem: 8206\n"
          ]
        },
        {
          "output_type": "stream",
          "name": "stdout",
          "text": [
            "[TRAINING] - Epoch: [9] [201/461] eta: 0:04:08 lr: 0.000100 loss: 0.0380 (0.0512) bce_loss: 0.0380 (0.0512) time: 0.9460 data: 0.0224 max mem: 8206\n"
          ]
        },
        {
          "output_type": "stream",
          "name": "stderr",
          "text": [
            "INFO:20230807_training:[TRAINING] - Epoch: [9] [251/461] eta: 0:03:20 lr: 0.000100 loss: 0.0397 (0.0512) bce_loss: 0.0397 (0.0512) time: 0.9476 data: 0.0226 max mem: 8206\n"
          ]
        },
        {
          "output_type": "stream",
          "name": "stdout",
          "text": [
            "[TRAINING] - Epoch: [9] [251/461] eta: 0:03:20 lr: 0.000100 loss: 0.0397 (0.0512) bce_loss: 0.0397 (0.0512) time: 0.9476 data: 0.0226 max mem: 8206\n"
          ]
        },
        {
          "output_type": "stream",
          "name": "stderr",
          "text": [
            "INFO:20230807_training:[TRAINING] - Epoch: [9] [301/461] eta: 0:02:32 lr: 0.000100 loss: 0.0286 (0.0511) bce_loss: 0.0286 (0.0511) time: 0.9479 data: 0.0232 max mem: 8206\n"
          ]
        },
        {
          "output_type": "stream",
          "name": "stdout",
          "text": [
            "[TRAINING] - Epoch: [9] [301/461] eta: 0:02:32 lr: 0.000100 loss: 0.0286 (0.0511) bce_loss: 0.0286 (0.0511) time: 0.9479 data: 0.0232 max mem: 8206\n"
          ]
        },
        {
          "output_type": "stream",
          "name": "stderr",
          "text": [
            "INFO:20230807_training:[TRAINING] - Epoch: [9] [351/461] eta: 0:01:45 lr: 0.000100 loss: 0.0301 (0.0510) bce_loss: 0.0301 (0.0510) time: 0.9491 data: 0.0238 max mem: 8206\n"
          ]
        },
        {
          "output_type": "stream",
          "name": "stdout",
          "text": [
            "[TRAINING] - Epoch: [9] [351/461] eta: 0:01:45 lr: 0.000100 loss: 0.0301 (0.0510) bce_loss: 0.0301 (0.0510) time: 0.9491 data: 0.0238 max mem: 8206\n"
          ]
        },
        {
          "output_type": "stream",
          "name": "stderr",
          "text": [
            "INFO:20230807_training:[TRAINING] - Epoch: [9] [401/461] eta: 0:00:57 lr: 0.000100 loss: 0.0355 (0.0509) bce_loss: 0.0355 (0.0509) time: 0.9494 data: 0.0244 max mem: 8206\n"
          ]
        },
        {
          "output_type": "stream",
          "name": "stdout",
          "text": [
            "[TRAINING] - Epoch: [9] [401/461] eta: 0:00:57 lr: 0.000100 loss: 0.0355 (0.0509) bce_loss: 0.0355 (0.0509) time: 0.9494 data: 0.0244 max mem: 8206\n"
          ]
        },
        {
          "output_type": "stream",
          "name": "stderr",
          "text": [
            "INFO:20230807_training:[TRAINING] - Epoch: [9] [451/461] eta: 0:00:10 lr: 0.000100 loss: 0.0273 (0.0508) bce_loss: 0.0273 (0.0508) time: 0.9481 data: 0.0226 max mem: 8206\n"
          ]
        },
        {
          "output_type": "stream",
          "name": "stdout",
          "text": [
            "[TRAINING] - Epoch: [9] [451/461] eta: 0:00:10 lr: 0.000100 loss: 0.0273 (0.0508) bce_loss: 0.0273 (0.0508) time: 0.9481 data: 0.0226 max mem: 8206\n"
          ]
        },
        {
          "output_type": "stream",
          "name": "stderr",
          "text": [
            "INFO:20230807_training:[TRAINING] - Epoch: [9] [461/461] eta: 0:00:00 lr: 0.000100 loss: 0.0297 (0.0508) bce_loss: 0.0297 (0.0508) time: 0.9307 data: 0.0231 max mem: 8206\n",
            "INFO:20230807_training:[TRAINING] - Epoch: [9] Total time: 0:07:17 (0.9490 s / it)\n"
          ]
        },
        {
          "output_type": "stream",
          "name": "stdout",
          "text": [
            "[TRAINING] - Epoch: [9] [461/461] eta: 0:00:00 lr: 0.000100 loss: 0.0297 (0.0508) bce_loss: 0.0297 (0.0508) time: 0.9307 data: 0.0231 max mem: 8206\n",
            "[TRAINING] - Epoch: [9] Total time: 0:07:17 (0.9490 s / it)\n",
            "[TRAINING] - Epoch: [9] mean loss: 0.0447\n"
          ]
        },
        {
          "output_type": "stream",
          "name": "stderr",
          "text": [
            "INFO:20230807_validation:[VALIDATION] - Epoch: [9] [ 1/52] eta: 0:00:52 n: 32 recall: 1.0 precision: 1.0 f1-score: 1.0 MAE: 0.0 MSE: 0.0 RMSE: 0.0 time: 1.0141 data: 0.7490 max mem: 8206\n"
          ]
        },
        {
          "output_type": "stream",
          "name": "stdout",
          "text": [
            "[VALIDATION] - Epoch: [9] [ 1/52] eta: 0:00:52 n: 32 recall: 1.0 precision: 1.0 f1-score: 1.0 MAE: 0.0 MSE: 0.0 RMSE: 0.0 time: 1.0141 data: 0.7490 max mem: 8206\n"
          ]
        },
        {
          "output_type": "stream",
          "name": "stderr",
          "text": [
            "INFO:20230807_validation:[VALIDATION] - Epoch: [9] [11/52] eta: 0:00:17 n: 32 recall: 1.0 precision: 1.0 f1-score: 1.0 MAE: 0.0 MSE: 0.0 RMSE: 0.0 time: 0.4082 data: 0.1269 max mem: 8206\n"
          ]
        },
        {
          "output_type": "stream",
          "name": "stdout",
          "text": [
            "[VALIDATION] - Epoch: [9] [11/52] eta: 0:00:17 n: 32 recall: 1.0 precision: 1.0 f1-score: 1.0 MAE: 0.0 MSE: 0.0 RMSE: 0.0 time: 0.4082 data: 0.1269 max mem: 8206\n"
          ]
        },
        {
          "output_type": "stream",
          "name": "stderr",
          "text": [
            "INFO:20230807_validation:[VALIDATION] - Epoch: [9] [21/52] eta: 0:00:12 n: 32 recall: 1.0 precision: 1.0 f1-score: 1.0 MAE: 0.0 MSE: 0.0 RMSE: 0.0 time: 0.3496 data: 0.0644 max mem: 8206\n"
          ]
        },
        {
          "output_type": "stream",
          "name": "stdout",
          "text": [
            "[VALIDATION] - Epoch: [9] [21/52] eta: 0:00:12 n: 32 recall: 1.0 precision: 1.0 f1-score: 1.0 MAE: 0.0 MSE: 0.0 RMSE: 0.0 time: 0.3496 data: 0.0644 max mem: 8206\n"
          ]
        },
        {
          "output_type": "stream",
          "name": "stderr",
          "text": [
            "INFO:20230807_validation:[VALIDATION] - Epoch: [9] [31/52] eta: 0:00:08 n: 32 recall: 1.0 precision: 1.0 f1-score: 1.0 MAE: 0.0 MSE: 0.0 RMSE: 0.0 time: 0.3732 data: 0.0845 max mem: 8206\n"
          ]
        },
        {
          "output_type": "stream",
          "name": "stdout",
          "text": [
            "[VALIDATION] - Epoch: [9] [31/52] eta: 0:00:08 n: 32 recall: 1.0 precision: 1.0 f1-score: 1.0 MAE: 0.0 MSE: 0.0 RMSE: 0.0 time: 0.3732 data: 0.0845 max mem: 8206\n"
          ]
        },
        {
          "output_type": "stream",
          "name": "stderr",
          "text": [
            "INFO:20230807_validation:[VALIDATION] - Epoch: [9] [41/52] eta: 0:00:04 n: 32 recall: 1.0 precision: 1.0 f1-score: 1.0 MAE: 0.0 MSE: 0.0 RMSE: 0.0 time: 0.3968 data: 0.1064 max mem: 8206\n"
          ]
        },
        {
          "output_type": "stream",
          "name": "stdout",
          "text": [
            "[VALIDATION] - Epoch: [9] [41/52] eta: 0:00:04 n: 32 recall: 1.0 precision: 1.0 f1-score: 1.0 MAE: 0.0 MSE: 0.0 RMSE: 0.0 time: 0.3968 data: 0.1064 max mem: 8206\n"
          ]
        },
        {
          "output_type": "stream",
          "name": "stderr",
          "text": [
            "INFO:20230807_validation:[VALIDATION] - Epoch: [9] [51/52] eta: 0:00:00 n: 32 recall: 1.0 precision: 1.0 f1-score: 1.0 MAE: 0.0 MSE: 0.0 RMSE: 0.0 time: 0.3670 data: 0.0804 max mem: 8206\n",
            "INFO:20230807_validation:[VALIDATION] - Epoch: [9] [52/52] eta: 0:00:00 n: 6 recall: 1.0 precision: 1.0 f1-score: 1.0 MAE: 0.0 MSE: 0.0 RMSE: 0.0 time: 0.3560 data: 0.0804 max mem: 8206\n",
            "INFO:20230807_validation:[VALIDATION] - Epoch: [9] Total time: 0:00:19 (0.3741 s / it)\n"
          ]
        },
        {
          "output_type": "stream",
          "name": "stdout",
          "text": [
            "[VALIDATION] - Epoch: [9] [51/52] eta: 0:00:00 n: 32 recall: 1.0 precision: 1.0 f1-score: 1.0 MAE: 0.0 MSE: 0.0 RMSE: 0.0 time: 0.3670 data: 0.0804 max mem: 8206\n",
            "[VALIDATION] - Epoch: [9] [52/52] eta: 0:00:00 n: 6 recall: 1.0 precision: 1.0 f1-score: 1.0 MAE: 0.0 MSE: 0.0 RMSE: 0.0 time: 0.3560 data: 0.0804 max mem: 8206\n",
            "[VALIDATION] - Epoch: [9] Total time: 0:00:19 (0.3741 s / it)\n",
            "[VALIDATION] - Epoch: [9] accuracy: 0.0568\n"
          ]
        },
        {
          "output_type": "stream",
          "name": "stderr",
          "text": [
            "INFO:20230807_training:[TRAINING] - Epoch: [10] [  1/461] eta: 0:12:34 lr: 0.000100 loss: 0.0311 (0.0508) bce_loss: 0.0311 (0.0508) time: 1.6371 data: 0.7106 max mem: 8206\n"
          ]
        },
        {
          "output_type": "stream",
          "name": "stdout",
          "text": [
            "[TRAINING] - Epoch: [10] [  1/461] eta: 0:12:34 lr: 0.000100 loss: 0.0311 (0.0508) bce_loss: 0.0311 (0.0508) time: 1.6371 data: 0.7106 max mem: 8206\n"
          ]
        },
        {
          "output_type": "stream",
          "name": "stderr",
          "text": [
            "INFO:20230807_training:[TRAINING] - Epoch: [10] [ 51/461] eta: 0:06:34 lr: 0.000100 loss: 0.0451 (0.0507) bce_loss: 0.0451 (0.0507) time: 0.9462 data: 0.0225 max mem: 8206\n"
          ]
        },
        {
          "output_type": "stream",
          "name": "stdout",
          "text": [
            "[TRAINING] - Epoch: [10] [ 51/461] eta: 0:06:34 lr: 0.000100 loss: 0.0451 (0.0507) bce_loss: 0.0451 (0.0507) time: 0.9462 data: 0.0225 max mem: 8206\n"
          ]
        },
        {
          "output_type": "stream",
          "name": "stderr",
          "text": [
            "INFO:20230807_training:[TRAINING] - Epoch: [10] [101/461] eta: 0:05:44 lr: 0.000100 loss: 0.0368 (0.0505) bce_loss: 0.0368 (0.0505) time: 0.9448 data: 0.0232 max mem: 8206\n"
          ]
        },
        {
          "output_type": "stream",
          "name": "stdout",
          "text": [
            "[TRAINING] - Epoch: [10] [101/461] eta: 0:05:44 lr: 0.000100 loss: 0.0368 (0.0505) bce_loss: 0.0368 (0.0505) time: 0.9448 data: 0.0232 max mem: 8206\n"
          ]
        },
        {
          "output_type": "stream",
          "name": "stderr",
          "text": [
            "INFO:20230807_training:[TRAINING] - Epoch: [10] [151/461] eta: 0:04:55 lr: 0.000100 loss: 0.0364 (0.0504) bce_loss: 0.0364 (0.0504) time: 0.9468 data: 0.0224 max mem: 8206\n"
          ]
        },
        {
          "output_type": "stream",
          "name": "stdout",
          "text": [
            "[TRAINING] - Epoch: [10] [151/461] eta: 0:04:55 lr: 0.000100 loss: 0.0364 (0.0504) bce_loss: 0.0364 (0.0504) time: 0.9468 data: 0.0224 max mem: 8206\n"
          ]
        },
        {
          "output_type": "stream",
          "name": "stderr",
          "text": [
            "INFO:20230807_training:[TRAINING] - Epoch: [10] [201/461] eta: 0:04:08 lr: 0.000100 loss: 0.0301 (0.0503) bce_loss: 0.0301 (0.0503) time: 0.9471 data: 0.0231 max mem: 8206\n"
          ]
        },
        {
          "output_type": "stream",
          "name": "stdout",
          "text": [
            "[TRAINING] - Epoch: [10] [201/461] eta: 0:04:08 lr: 0.000100 loss: 0.0301 (0.0503) bce_loss: 0.0301 (0.0503) time: 0.9471 data: 0.0231 max mem: 8206\n"
          ]
        },
        {
          "output_type": "stream",
          "name": "stderr",
          "text": [
            "INFO:20230807_training:[TRAINING] - Epoch: [10] [251/461] eta: 0:03:20 lr: 0.000100 loss: 0.0328 (0.0503) bce_loss: 0.0328 (0.0503) time: 0.9465 data: 0.0236 max mem: 8206\n"
          ]
        },
        {
          "output_type": "stream",
          "name": "stdout",
          "text": [
            "[TRAINING] - Epoch: [10] [251/461] eta: 0:03:20 lr: 0.000100 loss: 0.0328 (0.0503) bce_loss: 0.0328 (0.0503) time: 0.9465 data: 0.0236 max mem: 8206\n"
          ]
        },
        {
          "output_type": "stream",
          "name": "stderr",
          "text": [
            "INFO:20230807_training:[TRAINING] - Epoch: [10] [301/461] eta: 0:02:32 lr: 0.000100 loss: 0.0224 (0.0501) bce_loss: 0.0224 (0.0501) time: 0.9470 data: 0.0233 max mem: 8206\n"
          ]
        },
        {
          "output_type": "stream",
          "name": "stdout",
          "text": [
            "[TRAINING] - Epoch: [10] [301/461] eta: 0:02:32 lr: 0.000100 loss: 0.0224 (0.0501) bce_loss: 0.0224 (0.0501) time: 0.9470 data: 0.0233 max mem: 8206\n"
          ]
        },
        {
          "output_type": "stream",
          "name": "stderr",
          "text": [
            "INFO:20230807_training:[TRAINING] - Epoch: [10] [351/461] eta: 0:01:45 lr: 0.000100 loss: 0.0395 (0.0499) bce_loss: 0.0395 (0.0499) time: 0.9495 data: 0.0231 max mem: 8206\n"
          ]
        },
        {
          "output_type": "stream",
          "name": "stdout",
          "text": [
            "[TRAINING] - Epoch: [10] [351/461] eta: 0:01:45 lr: 0.000100 loss: 0.0395 (0.0499) bce_loss: 0.0395 (0.0499) time: 0.9495 data: 0.0231 max mem: 8206\n"
          ]
        },
        {
          "output_type": "stream",
          "name": "stderr",
          "text": [
            "INFO:20230807_training:[TRAINING] - Epoch: [10] [401/461] eta: 0:00:57 lr: 0.000100 loss: 0.0295 (0.0498) bce_loss: 0.0295 (0.0498) time: 0.9484 data: 0.0230 max mem: 8206\n"
          ]
        },
        {
          "output_type": "stream",
          "name": "stdout",
          "text": [
            "[TRAINING] - Epoch: [10] [401/461] eta: 0:00:57 lr: 0.000100 loss: 0.0295 (0.0498) bce_loss: 0.0295 (0.0498) time: 0.9484 data: 0.0230 max mem: 8206\n"
          ]
        },
        {
          "output_type": "stream",
          "name": "stderr",
          "text": [
            "INFO:20230807_training:[TRAINING] - Epoch: [10] [451/461] eta: 0:00:10 lr: 0.000100 loss: 0.0258 (0.0496) bce_loss: 0.0258 (0.0496) time: 0.9484 data: 0.0234 max mem: 8206\n"
          ]
        },
        {
          "output_type": "stream",
          "name": "stdout",
          "text": [
            "[TRAINING] - Epoch: [10] [451/461] eta: 0:00:10 lr: 0.000100 loss: 0.0258 (0.0496) bce_loss: 0.0258 (0.0496) time: 0.9484 data: 0.0234 max mem: 8206\n"
          ]
        },
        {
          "output_type": "stream",
          "name": "stderr",
          "text": [
            "INFO:20230807_training:[TRAINING] - Epoch: [10] [461/461] eta: 0:00:00 lr: 0.000100 loss: 0.0270 (0.0496) bce_loss: 0.0270 (0.0496) time: 0.9300 data: 0.0224 max mem: 8206\n",
            "INFO:20230807_training:[TRAINING] - Epoch: [10] Total time: 0:07:17 (0.9487 s / it)\n"
          ]
        },
        {
          "output_type": "stream",
          "name": "stdout",
          "text": [
            "[TRAINING] - Epoch: [10] [461/461] eta: 0:00:00 lr: 0.000100 loss: 0.0270 (0.0496) bce_loss: 0.0270 (0.0496) time: 0.9300 data: 0.0224 max mem: 8206\n",
            "[TRAINING] - Epoch: [10] Total time: 0:07:17 (0.9487 s / it)\n",
            "[TRAINING] - Epoch: [10] mean loss: 0.0392\n"
          ]
        },
        {
          "output_type": "stream",
          "name": "stderr",
          "text": [
            "INFO:20230807_validation:[VALIDATION] - Epoch: [10] [ 1/52] eta: 0:00:52 n: 32 recall: 1.0 precision: 1.0 f1-score: 1.0 MAE: 0.0 MSE: 0.0 RMSE: 0.0 time: 1.0054 data: 0.7404 max mem: 8206\n"
          ]
        },
        {
          "output_type": "stream",
          "name": "stdout",
          "text": [
            "[VALIDATION] - Epoch: [10] [ 1/52] eta: 0:00:52 n: 32 recall: 1.0 precision: 1.0 f1-score: 1.0 MAE: 0.0 MSE: 0.0 RMSE: 0.0 time: 1.0054 data: 0.7404 max mem: 8206\n"
          ]
        },
        {
          "output_type": "stream",
          "name": "stderr",
          "text": [
            "INFO:20230807_validation:[VALIDATION] - Epoch: [10] [11/52] eta: 0:00:17 n: 32 recall: 1.0 precision: 1.0 f1-score: 1.0 MAE: 0.0 MSE: 0.0 RMSE: 0.0 time: 0.4089 data: 0.1297 max mem: 8206\n"
          ]
        },
        {
          "output_type": "stream",
          "name": "stdout",
          "text": [
            "[VALIDATION] - Epoch: [10] [11/52] eta: 0:00:17 n: 32 recall: 1.0 precision: 1.0 f1-score: 1.0 MAE: 0.0 MSE: 0.0 RMSE: 0.0 time: 0.4089 data: 0.1297 max mem: 8206\n"
          ]
        },
        {
          "output_type": "stream",
          "name": "stderr",
          "text": [
            "INFO:20230807_validation:[VALIDATION] - Epoch: [10] [21/52] eta: 0:00:11 n: 32 recall: 1.0 precision: 1.0 f1-score: 1.0 MAE: 0.0 MSE: 0.0 RMSE: 0.0 time: 0.3419 data: 0.0582 max mem: 8206\n"
          ]
        },
        {
          "output_type": "stream",
          "name": "stdout",
          "text": [
            "[VALIDATION] - Epoch: [10] [21/52] eta: 0:00:11 n: 32 recall: 1.0 precision: 1.0 f1-score: 1.0 MAE: 0.0 MSE: 0.0 RMSE: 0.0 time: 0.3419 data: 0.0582 max mem: 8206\n"
          ]
        },
        {
          "output_type": "stream",
          "name": "stderr",
          "text": [
            "INFO:20230807_validation:[VALIDATION] - Epoch: [10] [31/52] eta: 0:00:08 n: 32 recall: 1.0 precision: 1.0 f1-score: 1.0 MAE: 0.0 MSE: 0.0 RMSE: 0.0 time: 0.3457 data: 0.0576 max mem: 8206\n"
          ]
        },
        {
          "output_type": "stream",
          "name": "stdout",
          "text": [
            "[VALIDATION] - Epoch: [10] [31/52] eta: 0:00:08 n: 32 recall: 1.0 precision: 1.0 f1-score: 1.0 MAE: 0.0 MSE: 0.0 RMSE: 0.0 time: 0.3457 data: 0.0576 max mem: 8206\n"
          ]
        },
        {
          "output_type": "stream",
          "name": "stderr",
          "text": [
            "INFO:20230807_validation:[VALIDATION] - Epoch: [10] [41/52] eta: 0:00:04 n: 32 recall: 1.0 precision: 1.0 f1-score: 1.0 MAE: 0.0 MSE: 0.0 RMSE: 0.0 time: 0.3816 data: 0.0932 max mem: 8206\n"
          ]
        },
        {
          "output_type": "stream",
          "name": "stdout",
          "text": [
            "[VALIDATION] - Epoch: [10] [41/52] eta: 0:00:04 n: 32 recall: 1.0 precision: 1.0 f1-score: 1.0 MAE: 0.0 MSE: 0.0 RMSE: 0.0 time: 0.3816 data: 0.0932 max mem: 8206\n"
          ]
        },
        {
          "output_type": "stream",
          "name": "stderr",
          "text": [
            "INFO:20230807_validation:[VALIDATION] - Epoch: [10] [51/52] eta: 0:00:00 n: 32 recall: 1.0 precision: 1.0 f1-score: 1.0 MAE: 0.0 MSE: 0.0 RMSE: 0.0 time: 0.3714 data: 0.0850 max mem: 8206\n",
            "INFO:20230807_validation:[VALIDATION] - Epoch: [10] [52/52] eta: 0:00:00 n: 6 recall: 1.0 precision: 1.0 f1-score: 1.0 MAE: 0.0 MSE: 0.0 RMSE: 0.0 time: 0.3607 data: 0.0850 max mem: 8206\n",
            "INFO:20230807_validation:[VALIDATION] - Epoch: [10] Total time: 0:00:18 (0.3650 s / it)\n"
          ]
        },
        {
          "output_type": "stream",
          "name": "stdout",
          "text": [
            "[VALIDATION] - Epoch: [10] [51/52] eta: 0:00:00 n: 32 recall: 1.0 precision: 1.0 f1-score: 1.0 MAE: 0.0 MSE: 0.0 RMSE: 0.0 time: 0.3714 data: 0.0850 max mem: 8206\n",
            "[VALIDATION] - Epoch: [10] [52/52] eta: 0:00:00 n: 6 recall: 1.0 precision: 1.0 f1-score: 1.0 MAE: 0.0 MSE: 0.0 RMSE: 0.0 time: 0.3607 data: 0.0850 max mem: 8206\n",
            "[VALIDATION] - Epoch: [10] Total time: 0:00:18 (0.3650 s / it)\n",
            "[VALIDATION] - Epoch: [10] accuracy: 0.0598\n"
          ]
        },
        {
          "output_type": "stream",
          "name": "stderr",
          "text": [
            "INFO:20230807_training:[TRAINING] - Epoch: [11] [  1/461] eta: 0:12:33 lr: 0.000100 loss: 0.0270 (0.0496) bce_loss: 0.0270 (0.0496) time: 1.6335 data: 0.6996 max mem: 8206\n"
          ]
        },
        {
          "output_type": "stream",
          "name": "stdout",
          "text": [
            "[TRAINING] - Epoch: [11] [  1/461] eta: 0:12:33 lr: 0.000100 loss: 0.0270 (0.0496) bce_loss: 0.0270 (0.0496) time: 1.6335 data: 0.6996 max mem: 8206\n"
          ]
        },
        {
          "output_type": "stream",
          "name": "stderr",
          "text": [
            "INFO:20230807_training:[TRAINING] - Epoch: [11] [ 51/461] eta: 0:06:34 lr: 0.000100 loss: 0.0344 (0.0495) bce_loss: 0.0344 (0.0495) time: 0.9476 data: 0.0226 max mem: 8206\n"
          ]
        },
        {
          "output_type": "stream",
          "name": "stdout",
          "text": [
            "[TRAINING] - Epoch: [11] [ 51/461] eta: 0:06:34 lr: 0.000100 loss: 0.0344 (0.0495) bce_loss: 0.0344 (0.0495) time: 0.9476 data: 0.0226 max mem: 8206\n"
          ]
        },
        {
          "output_type": "stream",
          "name": "stderr",
          "text": [
            "INFO:20230807_training:[TRAINING] - Epoch: [11] [101/461] eta: 0:05:43 lr: 0.000100 loss: 0.0265 (0.0493) bce_loss: 0.0265 (0.0493) time: 0.9445 data: 0.0229 max mem: 8206\n"
          ]
        },
        {
          "output_type": "stream",
          "name": "stdout",
          "text": [
            "[TRAINING] - Epoch: [11] [101/461] eta: 0:05:43 lr: 0.000100 loss: 0.0265 (0.0493) bce_loss: 0.0265 (0.0493) time: 0.9445 data: 0.0229 max mem: 8206\n"
          ]
        },
        {
          "output_type": "stream",
          "name": "stderr",
          "text": [
            "INFO:20230807_training:[TRAINING] - Epoch: [11] [151/461] eta: 0:04:55 lr: 0.000100 loss: 0.0270 (0.0491) bce_loss: 0.0270 (0.0491) time: 0.9461 data: 0.0230 max mem: 8206\n"
          ]
        },
        {
          "output_type": "stream",
          "name": "stdout",
          "text": [
            "[TRAINING] - Epoch: [11] [151/461] eta: 0:04:55 lr: 0.000100 loss: 0.0270 (0.0491) bce_loss: 0.0270 (0.0491) time: 0.9461 data: 0.0230 max mem: 8206\n"
          ]
        },
        {
          "output_type": "stream",
          "name": "stderr",
          "text": [
            "INFO:20230807_training:[TRAINING] - Epoch: [11] [201/461] eta: 0:04:07 lr: 0.000100 loss: 0.0353 (0.0490) bce_loss: 0.0353 (0.0490) time: 0.9472 data: 0.0232 max mem: 8206\n"
          ]
        },
        {
          "output_type": "stream",
          "name": "stdout",
          "text": [
            "[TRAINING] - Epoch: [11] [201/461] eta: 0:04:07 lr: 0.000100 loss: 0.0353 (0.0490) bce_loss: 0.0353 (0.0490) time: 0.9472 data: 0.0232 max mem: 8206\n"
          ]
        },
        {
          "output_type": "stream",
          "name": "stderr",
          "text": [
            "INFO:20230807_training:[TRAINING] - Epoch: [11] [251/461] eta: 0:03:20 lr: 0.000100 loss: 0.0258 (0.0488) bce_loss: 0.0258 (0.0488) time: 0.9474 data: 0.0237 max mem: 8206\n"
          ]
        },
        {
          "output_type": "stream",
          "name": "stdout",
          "text": [
            "[TRAINING] - Epoch: [11] [251/461] eta: 0:03:20 lr: 0.000100 loss: 0.0258 (0.0488) bce_loss: 0.0258 (0.0488) time: 0.9474 data: 0.0237 max mem: 8206\n"
          ]
        },
        {
          "output_type": "stream",
          "name": "stderr",
          "text": [
            "INFO:20230807_training:[TRAINING] - Epoch: [11] [301/461] eta: 0:02:32 lr: 0.000100 loss: 0.0287 (0.0487) bce_loss: 0.0287 (0.0487) time: 0.9484 data: 0.0243 max mem: 8206\n"
          ]
        },
        {
          "output_type": "stream",
          "name": "stdout",
          "text": [
            "[TRAINING] - Epoch: [11] [301/461] eta: 0:02:32 lr: 0.000100 loss: 0.0287 (0.0487) bce_loss: 0.0287 (0.0487) time: 0.9484 data: 0.0243 max mem: 8206\n"
          ]
        },
        {
          "output_type": "stream",
          "name": "stderr",
          "text": [
            "INFO:20230807_training:[TRAINING] - Epoch: [11] [351/461] eta: 0:01:45 lr: 0.000100 loss: 0.0326 (0.0486) bce_loss: 0.0326 (0.0486) time: 0.9470 data: 0.0227 max mem: 8206\n"
          ]
        },
        {
          "output_type": "stream",
          "name": "stdout",
          "text": [
            "[TRAINING] - Epoch: [11] [351/461] eta: 0:01:45 lr: 0.000100 loss: 0.0326 (0.0486) bce_loss: 0.0326 (0.0486) time: 0.9470 data: 0.0227 max mem: 8206\n"
          ]
        },
        {
          "output_type": "stream",
          "name": "stderr",
          "text": [
            "INFO:20230807_training:[TRAINING] - Epoch: [11] [401/461] eta: 0:00:57 lr: 0.000100 loss: 0.0502 (0.0486) bce_loss: 0.0502 (0.0486) time: 0.9463 data: 0.0230 max mem: 8206\n"
          ]
        },
        {
          "output_type": "stream",
          "name": "stdout",
          "text": [
            "[TRAINING] - Epoch: [11] [401/461] eta: 0:00:57 lr: 0.000100 loss: 0.0502 (0.0486) bce_loss: 0.0502 (0.0486) time: 0.9463 data: 0.0230 max mem: 8206\n"
          ]
        },
        {
          "output_type": "stream",
          "name": "stderr",
          "text": [
            "INFO:20230807_training:[TRAINING] - Epoch: [11] [451/461] eta: 0:00:10 lr: 0.000100 loss: 0.0287 (0.0485) bce_loss: 0.0287 (0.0485) time: 0.9467 data: 0.0241 max mem: 8206\n"
          ]
        },
        {
          "output_type": "stream",
          "name": "stdout",
          "text": [
            "[TRAINING] - Epoch: [11] [451/461] eta: 0:00:10 lr: 0.000100 loss: 0.0287 (0.0485) bce_loss: 0.0287 (0.0485) time: 0.9467 data: 0.0241 max mem: 8206\n"
          ]
        },
        {
          "output_type": "stream",
          "name": "stderr",
          "text": [
            "INFO:20230807_training:[TRAINING] - Epoch: [11] [461/461] eta: 0:00:00 lr: 0.000100 loss: 0.0441 (0.0485) bce_loss: 0.0441 (0.0485) time: 0.9276 data: 0.0219 max mem: 8206\n",
            "INFO:20230807_training:[TRAINING] - Epoch: [11] Total time: 0:07:16 (0.9476 s / it)\n"
          ]
        },
        {
          "output_type": "stream",
          "name": "stdout",
          "text": [
            "[TRAINING] - Epoch: [11] [461/461] eta: 0:00:00 lr: 0.000100 loss: 0.0441 (0.0485) bce_loss: 0.0441 (0.0485) time: 0.9276 data: 0.0219 max mem: 8206\n",
            "[TRAINING] - Epoch: [11] Total time: 0:07:16 (0.9476 s / it)\n",
            "[TRAINING] - Epoch: [11] mean loss: 0.0373\n"
          ]
        },
        {
          "output_type": "stream",
          "name": "stderr",
          "text": [
            "INFO:20230807_validation:[VALIDATION] - Epoch: [11] [ 1/52] eta: 0:00:58 n: 32 recall: 1.0 precision: 1.0 f1-score: 1.0 MAE: 0.0 MSE: 0.0 RMSE: 0.0 time: 1.1272 data: 0.8563 max mem: 8206\n"
          ]
        },
        {
          "output_type": "stream",
          "name": "stdout",
          "text": [
            "[VALIDATION] - Epoch: [11] [ 1/52] eta: 0:00:58 n: 32 recall: 1.0 precision: 1.0 f1-score: 1.0 MAE: 0.0 MSE: 0.0 RMSE: 0.0 time: 1.1272 data: 0.8563 max mem: 8206\n"
          ]
        },
        {
          "output_type": "stream",
          "name": "stderr",
          "text": [
            "INFO:20230807_validation:[VALIDATION] - Epoch: [11] [11/52] eta: 0:00:17 n: 32 recall: 1.0 precision: 1.0 f1-score: 1.0 MAE: 0.0 MSE: 0.0 RMSE: 0.0 time: 0.4151 data: 0.1333 max mem: 8206\n"
          ]
        },
        {
          "output_type": "stream",
          "name": "stdout",
          "text": [
            "[VALIDATION] - Epoch: [11] [11/52] eta: 0:00:17 n: 32 recall: 1.0 precision: 1.0 f1-score: 1.0 MAE: 0.0 MSE: 0.0 RMSE: 0.0 time: 0.4151 data: 0.1333 max mem: 8206\n"
          ]
        },
        {
          "output_type": "stream",
          "name": "stderr",
          "text": [
            "INFO:20230807_validation:[VALIDATION] - Epoch: [11] [21/52] eta: 0:00:12 n: 32 recall: 1.0 precision: 1.0 f1-score: 1.0 MAE: 0.0 MSE: 0.0 RMSE: 0.0 time: 0.3387 data: 0.0539 max mem: 8206\n"
          ]
        },
        {
          "output_type": "stream",
          "name": "stdout",
          "text": [
            "[VALIDATION] - Epoch: [11] [21/52] eta: 0:00:12 n: 32 recall: 1.0 precision: 1.0 f1-score: 1.0 MAE: 0.0 MSE: 0.0 RMSE: 0.0 time: 0.3387 data: 0.0539 max mem: 8206\n"
          ]
        },
        {
          "output_type": "stream",
          "name": "stderr",
          "text": [
            "INFO:20230807_validation:[VALIDATION] - Epoch: [11] [31/52] eta: 0:00:08 n: 32 recall: 1.0 precision: 1.0 f1-score: 1.0 MAE: 0.0 MSE: 0.0 RMSE: 0.0 time: 0.3423 data: 0.0561 max mem: 8206\n"
          ]
        },
        {
          "output_type": "stream",
          "name": "stdout",
          "text": [
            "[VALIDATION] - Epoch: [11] [31/52] eta: 0:00:08 n: 32 recall: 1.0 precision: 1.0 f1-score: 1.0 MAE: 0.0 MSE: 0.0 RMSE: 0.0 time: 0.3423 data: 0.0561 max mem: 8206\n"
          ]
        },
        {
          "output_type": "stream",
          "name": "stderr",
          "text": [
            "INFO:20230807_validation:[VALIDATION] - Epoch: [11] [41/52] eta: 0:00:04 n: 32 recall: 1.0 precision: 1.0 f1-score: 1.0 MAE: 0.0 MSE: 0.0 RMSE: 0.0 time: 0.3741 data: 0.0867 max mem: 8206\n"
          ]
        },
        {
          "output_type": "stream",
          "name": "stdout",
          "text": [
            "[VALIDATION] - Epoch: [11] [41/52] eta: 0:00:04 n: 32 recall: 1.0 precision: 1.0 f1-score: 1.0 MAE: 0.0 MSE: 0.0 RMSE: 0.0 time: 0.3741 data: 0.0867 max mem: 8206\n"
          ]
        },
        {
          "output_type": "stream",
          "name": "stderr",
          "text": [
            "INFO:20230807_validation:[VALIDATION] - Epoch: [11] [51/52] eta: 0:00:00 n: 32 recall: 1.0 precision: 1.0 f1-score: 1.0 MAE: 0.0 MSE: 0.0 RMSE: 0.0 time: 0.3808 data: 0.0940 max mem: 8206\n",
            "INFO:20230807_validation:[VALIDATION] - Epoch: [11] [52/52] eta: 0:00:00 n: 6 recall: 1.0 precision: 1.0 f1-score: 1.0 MAE: 0.0 MSE: 0.0 RMSE: 0.0 time: 0.3702 data: 0.0940 max mem: 8206\n",
            "INFO:20230807_validation:[VALIDATION] - Epoch: [11] Total time: 0:00:19 (0.3688 s / it)\n"
          ]
        },
        {
          "output_type": "stream",
          "name": "stdout",
          "text": [
            "[VALIDATION] - Epoch: [11] [51/52] eta: 0:00:00 n: 32 recall: 1.0 precision: 1.0 f1-score: 1.0 MAE: 0.0 MSE: 0.0 RMSE: 0.0 time: 0.3808 data: 0.0940 max mem: 8206\n",
            "[VALIDATION] - Epoch: [11] [52/52] eta: 0:00:00 n: 6 recall: 1.0 precision: 1.0 f1-score: 1.0 MAE: 0.0 MSE: 0.0 RMSE: 0.0 time: 0.3702 data: 0.0940 max mem: 8206\n",
            "[VALIDATION] - Epoch: [11] Total time: 0:00:19 (0.3688 s / it)\n",
            "[VALIDATION] - Epoch: [11] accuracy: 0.0824\n"
          ]
        },
        {
          "output_type": "stream",
          "name": "stderr",
          "text": [
            "INFO:20230807_training:[TRAINING] - Epoch: [12] [  1/461] eta: 0:12:37 lr: 0.000100 loss: 0.0369 (0.0485) bce_loss: 0.0369 (0.0485) time: 1.6432 data: 0.7047 max mem: 8206\n"
          ]
        },
        {
          "output_type": "stream",
          "name": "stdout",
          "text": [
            "[TRAINING] - Epoch: [12] [  1/461] eta: 0:12:37 lr: 0.000100 loss: 0.0369 (0.0485) bce_loss: 0.0369 (0.0485) time: 1.6432 data: 0.7047 max mem: 8206\n"
          ]
        },
        {
          "output_type": "stream",
          "name": "stderr",
          "text": [
            "INFO:20230807_training:[TRAINING] - Epoch: [12] [ 51/461] eta: 0:06:34 lr: 0.000100 loss: 0.0291 (0.0484) bce_loss: 0.0291 (0.0484) time: 0.9453 data: 0.0211 max mem: 8206\n"
          ]
        },
        {
          "output_type": "stream",
          "name": "stdout",
          "text": [
            "[TRAINING] - Epoch: [12] [ 51/461] eta: 0:06:34 lr: 0.000100 loss: 0.0291 (0.0484) bce_loss: 0.0291 (0.0484) time: 0.9453 data: 0.0211 max mem: 8206\n"
          ]
        },
        {
          "output_type": "stream",
          "name": "stderr",
          "text": [
            "INFO:20230807_training:[TRAINING] - Epoch: [12] [101/461] eta: 0:05:43 lr: 0.000100 loss: 0.0447 (0.0484) bce_loss: 0.0447 (0.0484) time: 0.9440 data: 0.0225 max mem: 8206\n"
          ]
        },
        {
          "output_type": "stream",
          "name": "stdout",
          "text": [
            "[TRAINING] - Epoch: [12] [101/461] eta: 0:05:43 lr: 0.000100 loss: 0.0447 (0.0484) bce_loss: 0.0447 (0.0484) time: 0.9440 data: 0.0225 max mem: 8206\n"
          ]
        },
        {
          "output_type": "stream",
          "name": "stderr",
          "text": [
            "INFO:20230807_training:[TRAINING] - Epoch: [12] [151/461] eta: 0:04:55 lr: 0.000100 loss: 0.0262 (0.0483) bce_loss: 0.0262 (0.0483) time: 0.9463 data: 0.0227 max mem: 8206\n"
          ]
        },
        {
          "output_type": "stream",
          "name": "stdout",
          "text": [
            "[TRAINING] - Epoch: [12] [151/461] eta: 0:04:55 lr: 0.000100 loss: 0.0262 (0.0483) bce_loss: 0.0262 (0.0483) time: 0.9463 data: 0.0227 max mem: 8206\n"
          ]
        },
        {
          "output_type": "stream",
          "name": "stderr",
          "text": [
            "INFO:20230807_training:[TRAINING] - Epoch: [12] [201/461] eta: 0:04:07 lr: 0.000100 loss: 0.0436 (0.0482) bce_loss: 0.0436 (0.0482) time: 0.9464 data: 0.0217 max mem: 8206\n"
          ]
        },
        {
          "output_type": "stream",
          "name": "stdout",
          "text": [
            "[TRAINING] - Epoch: [12] [201/461] eta: 0:04:07 lr: 0.000100 loss: 0.0436 (0.0482) bce_loss: 0.0436 (0.0482) time: 0.9464 data: 0.0217 max mem: 8206\n"
          ]
        },
        {
          "output_type": "stream",
          "name": "stderr",
          "text": [
            "INFO:20230807_training:[TRAINING] - Epoch: [12] [251/461] eta: 0:03:20 lr: 0.000100 loss: 0.0462 (0.0482) bce_loss: 0.0462 (0.0482) time: 0.9458 data: 0.0210 max mem: 8206\n"
          ]
        },
        {
          "output_type": "stream",
          "name": "stdout",
          "text": [
            "[TRAINING] - Epoch: [12] [251/461] eta: 0:03:20 lr: 0.000100 loss: 0.0462 (0.0482) bce_loss: 0.0462 (0.0482) time: 0.9458 data: 0.0210 max mem: 8206\n"
          ]
        },
        {
          "output_type": "stream",
          "name": "stderr",
          "text": [
            "INFO:20230807_training:[TRAINING] - Epoch: [12] [301/461] eta: 0:02:32 lr: 0.000100 loss: 0.0307 (0.0481) bce_loss: 0.0307 (0.0481) time: 0.9470 data: 0.0226 max mem: 8206\n"
          ]
        },
        {
          "output_type": "stream",
          "name": "stdout",
          "text": [
            "[TRAINING] - Epoch: [12] [301/461] eta: 0:02:32 lr: 0.000100 loss: 0.0307 (0.0481) bce_loss: 0.0307 (0.0481) time: 0.9470 data: 0.0226 max mem: 8206\n"
          ]
        },
        {
          "output_type": "stream",
          "name": "stderr",
          "text": [
            "INFO:20230807_training:[TRAINING] - Epoch: [12] [351/461] eta: 0:01:45 lr: 0.000100 loss: 0.0359 (0.0480) bce_loss: 0.0359 (0.0480) time: 0.9499 data: 0.0248 max mem: 8206\n"
          ]
        },
        {
          "output_type": "stream",
          "name": "stdout",
          "text": [
            "[TRAINING] - Epoch: [12] [351/461] eta: 0:01:45 lr: 0.000100 loss: 0.0359 (0.0480) bce_loss: 0.0359 (0.0480) time: 0.9499 data: 0.0248 max mem: 8206\n"
          ]
        },
        {
          "output_type": "stream",
          "name": "stderr",
          "text": [
            "INFO:20230807_training:[TRAINING] - Epoch: [12] [401/461] eta: 0:00:57 lr: 0.000100 loss: 0.0219 (0.0479) bce_loss: 0.0219 (0.0479) time: 0.9488 data: 0.0235 max mem: 8206\n"
          ]
        },
        {
          "output_type": "stream",
          "name": "stdout",
          "text": [
            "[TRAINING] - Epoch: [12] [401/461] eta: 0:00:57 lr: 0.000100 loss: 0.0219 (0.0479) bce_loss: 0.0219 (0.0479) time: 0.9488 data: 0.0235 max mem: 8206\n"
          ]
        },
        {
          "output_type": "stream",
          "name": "stderr",
          "text": [
            "INFO:20230807_training:[TRAINING] - Epoch: [12] [451/461] eta: 0:00:10 lr: 0.000100 loss: 0.0285 (0.0478) bce_loss: 0.0285 (0.0478) time: 0.9463 data: 0.0240 max mem: 8206\n"
          ]
        },
        {
          "output_type": "stream",
          "name": "stdout",
          "text": [
            "[TRAINING] - Epoch: [12] [451/461] eta: 0:00:10 lr: 0.000100 loss: 0.0285 (0.0478) bce_loss: 0.0285 (0.0478) time: 0.9463 data: 0.0240 max mem: 8206\n"
          ]
        },
        {
          "output_type": "stream",
          "name": "stderr",
          "text": [
            "INFO:20230807_training:[TRAINING] - Epoch: [12] [461/461] eta: 0:00:00 lr: 0.000100 loss: 0.0301 (0.0477) bce_loss: 0.0301 (0.0477) time: 0.9291 data: 0.0228 max mem: 8206\n",
            "INFO:20230807_training:[TRAINING] - Epoch: [12] Total time: 0:07:16 (0.9475 s / it)\n"
          ]
        },
        {
          "output_type": "stream",
          "name": "stdout",
          "text": [
            "[TRAINING] - Epoch: [12] [461/461] eta: 0:00:00 lr: 0.000100 loss: 0.0301 (0.0477) bce_loss: 0.0301 (0.0477) time: 0.9291 data: 0.0228 max mem: 8206\n",
            "[TRAINING] - Epoch: [12] Total time: 0:07:16 (0.9475 s / it)\n",
            "[TRAINING] - Epoch: [12] mean loss: 0.0394\n"
          ]
        },
        {
          "output_type": "stream",
          "name": "stderr",
          "text": [
            "INFO:20230807_validation:[VALIDATION] - Epoch: [12] [ 1/52] eta: 0:01:03 n: 32 recall: 1.0 precision: 1.0 f1-score: 1.0 MAE: 0.0 MSE: 0.0 RMSE: 0.0 time: 1.2300 data: 0.9605 max mem: 8206\n"
          ]
        },
        {
          "output_type": "stream",
          "name": "stdout",
          "text": [
            "[VALIDATION] - Epoch: [12] [ 1/52] eta: 0:01:03 n: 32 recall: 1.0 precision: 1.0 f1-score: 1.0 MAE: 0.0 MSE: 0.0 RMSE: 0.0 time: 1.2300 data: 0.9605 max mem: 8206\n"
          ]
        },
        {
          "output_type": "stream",
          "name": "stderr",
          "text": [
            "INFO:20230807_validation:[VALIDATION] - Epoch: [12] [11/52] eta: 0:00:19 n: 32 recall: 1.0 precision: 1.0 f1-score: 1.0 MAE: 0.0 MSE: 0.0 RMSE: 0.0 time: 0.4636 data: 0.1755 max mem: 8206\n"
          ]
        },
        {
          "output_type": "stream",
          "name": "stdout",
          "text": [
            "[VALIDATION] - Epoch: [12] [11/52] eta: 0:00:19 n: 32 recall: 1.0 precision: 1.0 f1-score: 1.0 MAE: 0.0 MSE: 0.0 RMSE: 0.0 time: 0.4636 data: 0.1755 max mem: 8206\n"
          ]
        },
        {
          "output_type": "stream",
          "name": "stderr",
          "text": [
            "INFO:20230807_validation:[VALIDATION] - Epoch: [12] [21/52] eta: 0:00:12 n: 32 recall: 1.0 precision: 1.0 f1-score: 1.0 MAE: 0.0 MSE: 0.0 RMSE: 0.0 time: 0.3642 data: 0.0746 max mem: 8206\n"
          ]
        },
        {
          "output_type": "stream",
          "name": "stdout",
          "text": [
            "[VALIDATION] - Epoch: [12] [21/52] eta: 0:00:12 n: 32 recall: 1.0 precision: 1.0 f1-score: 1.0 MAE: 0.0 MSE: 0.0 RMSE: 0.0 time: 0.3642 data: 0.0746 max mem: 8206\n"
          ]
        },
        {
          "output_type": "stream",
          "name": "stderr",
          "text": [
            "INFO:20230807_validation:[VALIDATION] - Epoch: [12] [31/52] eta: 0:00:08 n: 32 recall: 1.0 precision: 1.0 f1-score: 1.0 MAE: 0.0 MSE: 0.0 RMSE: 0.0 time: 0.3444 data: 0.0564 max mem: 8206\n"
          ]
        },
        {
          "output_type": "stream",
          "name": "stdout",
          "text": [
            "[VALIDATION] - Epoch: [12] [31/52] eta: 0:00:08 n: 32 recall: 1.0 precision: 1.0 f1-score: 1.0 MAE: 0.0 MSE: 0.0 RMSE: 0.0 time: 0.3444 data: 0.0564 max mem: 8206\n"
          ]
        },
        {
          "output_type": "stream",
          "name": "stderr",
          "text": [
            "INFO:20230807_validation:[VALIDATION] - Epoch: [12] [41/52] eta: 0:00:04 n: 32 recall: 1.0 precision: 1.0 f1-score: 1.0 MAE: 0.0 MSE: 0.0 RMSE: 0.0 time: 0.3592 data: 0.0699 max mem: 8206\n"
          ]
        },
        {
          "output_type": "stream",
          "name": "stdout",
          "text": [
            "[VALIDATION] - Epoch: [12] [41/52] eta: 0:00:04 n: 32 recall: 1.0 precision: 1.0 f1-score: 1.0 MAE: 0.0 MSE: 0.0 RMSE: 0.0 time: 0.3592 data: 0.0699 max mem: 8206\n"
          ]
        },
        {
          "output_type": "stream",
          "name": "stderr",
          "text": [
            "INFO:20230807_validation:[VALIDATION] - Epoch: [12] [51/52] eta: 0:00:00 n: 32 recall: 1.0 precision: 1.0 f1-score: 1.0 MAE: 0.0 MSE: 0.0 RMSE: 0.0 time: 0.3778 data: 0.0855 max mem: 8206\n",
            "INFO:20230807_validation:[VALIDATION] - Epoch: [12] [52/52] eta: 0:00:00 n: 6 recall: 1.0 precision: 1.0 f1-score: 1.0 MAE: 0.0 MSE: 0.0 RMSE: 0.0 time: 0.3616 data: 0.0805 max mem: 8206\n",
            "INFO:20230807_validation:[VALIDATION] - Epoch: [12] Total time: 0:00:19 (0.3789 s / it)\n"
          ]
        },
        {
          "output_type": "stream",
          "name": "stdout",
          "text": [
            "[VALIDATION] - Epoch: [12] [51/52] eta: 0:00:00 n: 32 recall: 1.0 precision: 1.0 f1-score: 1.0 MAE: 0.0 MSE: 0.0 RMSE: 0.0 time: 0.3778 data: 0.0855 max mem: 8206\n",
            "[VALIDATION] - Epoch: [12] [52/52] eta: 0:00:00 n: 6 recall: 1.0 precision: 1.0 f1-score: 1.0 MAE: 0.0 MSE: 0.0 RMSE: 0.0 time: 0.3616 data: 0.0805 max mem: 8206\n",
            "[VALIDATION] - Epoch: [12] Total time: 0:00:19 (0.3789 s / it)\n",
            "[VALIDATION] - Epoch: [12] accuracy: 0.9744\n"
          ]
        },
        {
          "output_type": "stream",
          "name": "stderr",
          "text": [
            "INFO:20230807_training:[TRAINING] - Epoch: [13] [  1/461] eta: 0:12:24 lr: 0.000100 loss: 0.0301 (0.0477) bce_loss: 0.0301 (0.0477) time: 1.6146 data: 0.6865 max mem: 8206\n"
          ]
        },
        {
          "output_type": "stream",
          "name": "stdout",
          "text": [
            "[TRAINING] - Epoch: [13] [  1/461] eta: 0:12:24 lr: 0.000100 loss: 0.0301 (0.0477) bce_loss: 0.0301 (0.0477) time: 1.6146 data: 0.6865 max mem: 8206\n"
          ]
        },
        {
          "output_type": "stream",
          "name": "stderr",
          "text": [
            "INFO:20230807_training:[TRAINING] - Epoch: [13] [ 51/461] eta: 0:06:35 lr: 0.000100 loss: 0.0399 (0.0476) bce_loss: 0.0399 (0.0476) time: 0.9500 data: 0.0237 max mem: 8206\n"
          ]
        },
        {
          "output_type": "stream",
          "name": "stdout",
          "text": [
            "[TRAINING] - Epoch: [13] [ 51/461] eta: 0:06:35 lr: 0.000100 loss: 0.0399 (0.0476) bce_loss: 0.0399 (0.0476) time: 0.9500 data: 0.0237 max mem: 8206\n"
          ]
        },
        {
          "output_type": "stream",
          "name": "stderr",
          "text": [
            "INFO:20230807_training:[TRAINING] - Epoch: [13] [101/461] eta: 0:05:43 lr: 0.000100 loss: 0.0475 (0.0475) bce_loss: 0.0475 (0.0475) time: 0.9437 data: 0.0214 max mem: 8206\n"
          ]
        },
        {
          "output_type": "stream",
          "name": "stdout",
          "text": [
            "[TRAINING] - Epoch: [13] [101/461] eta: 0:05:43 lr: 0.000100 loss: 0.0475 (0.0475) bce_loss: 0.0475 (0.0475) time: 0.9437 data: 0.0214 max mem: 8206\n"
          ]
        },
        {
          "output_type": "stream",
          "name": "stderr",
          "text": [
            "INFO:20230807_training:[TRAINING] - Epoch: [13] [151/461] eta: 0:04:55 lr: 0.000100 loss: 0.0183 (0.0474) bce_loss: 0.0183 (0.0474) time: 0.9464 data: 0.0224 max mem: 8206\n"
          ]
        },
        {
          "output_type": "stream",
          "name": "stdout",
          "text": [
            "[TRAINING] - Epoch: [13] [151/461] eta: 0:04:55 lr: 0.000100 loss: 0.0183 (0.0474) bce_loss: 0.0183 (0.0474) time: 0.9464 data: 0.0224 max mem: 8206\n"
          ]
        },
        {
          "output_type": "stream",
          "name": "stderr",
          "text": [
            "INFO:20230807_training:[TRAINING] - Epoch: [13] [201/461] eta: 0:04:07 lr: 0.000100 loss: 0.0313 (0.0472) bce_loss: 0.0313 (0.0472) time: 0.9446 data: 0.0226 max mem: 8206\n"
          ]
        },
        {
          "output_type": "stream",
          "name": "stdout",
          "text": [
            "[TRAINING] - Epoch: [13] [201/461] eta: 0:04:07 lr: 0.000100 loss: 0.0313 (0.0472) bce_loss: 0.0313 (0.0472) time: 0.9446 data: 0.0226 max mem: 8206\n"
          ]
        },
        {
          "output_type": "stream",
          "name": "stderr",
          "text": [
            "INFO:20230807_training:[TRAINING] - Epoch: [13] [251/461] eta: 0:03:20 lr: 0.000100 loss: 0.0171 (0.0471) bce_loss: 0.0171 (0.0471) time: 0.9450 data: 0.0217 max mem: 8206\n"
          ]
        },
        {
          "output_type": "stream",
          "name": "stdout",
          "text": [
            "[TRAINING] - Epoch: [13] [251/461] eta: 0:03:20 lr: 0.000100 loss: 0.0171 (0.0471) bce_loss: 0.0171 (0.0471) time: 0.9450 data: 0.0217 max mem: 8206\n"
          ]
        },
        {
          "output_type": "stream",
          "name": "stderr",
          "text": [
            "INFO:20230807_training:[TRAINING] - Epoch: [13] [301/461] eta: 0:02:32 lr: 0.000100 loss: 0.0267 (0.0470) bce_loss: 0.0267 (0.0470) time: 0.9501 data: 0.0250 max mem: 8206\n"
          ]
        },
        {
          "output_type": "stream",
          "name": "stdout",
          "text": [
            "[TRAINING] - Epoch: [13] [301/461] eta: 0:02:32 lr: 0.000100 loss: 0.0267 (0.0470) bce_loss: 0.0267 (0.0470) time: 0.9501 data: 0.0250 max mem: 8206\n"
          ]
        },
        {
          "output_type": "stream",
          "name": "stderr",
          "text": [
            "INFO:20230807_training:[TRAINING] - Epoch: [13] [351/461] eta: 0:01:45 lr: 0.000100 loss: 0.0269 (0.0469) bce_loss: 0.0269 (0.0469) time: 0.9481 data: 0.0238 max mem: 8206\n"
          ]
        },
        {
          "output_type": "stream",
          "name": "stdout",
          "text": [
            "[TRAINING] - Epoch: [13] [351/461] eta: 0:01:45 lr: 0.000100 loss: 0.0269 (0.0469) bce_loss: 0.0269 (0.0469) time: 0.9481 data: 0.0238 max mem: 8206\n"
          ]
        },
        {
          "output_type": "stream",
          "name": "stderr",
          "text": [
            "INFO:20230807_training:[TRAINING] - Epoch: [13] [401/461] eta: 0:00:57 lr: 0.000100 loss: 0.0268 (0.0468) bce_loss: 0.0268 (0.0468) time: 0.9498 data: 0.0244 max mem: 8206\n"
          ]
        },
        {
          "output_type": "stream",
          "name": "stdout",
          "text": [
            "[TRAINING] - Epoch: [13] [401/461] eta: 0:00:57 lr: 0.000100 loss: 0.0268 (0.0468) bce_loss: 0.0268 (0.0468) time: 0.9498 data: 0.0244 max mem: 8206\n"
          ]
        },
        {
          "output_type": "stream",
          "name": "stderr",
          "text": [
            "INFO:20230807_training:[TRAINING] - Epoch: [13] [451/461] eta: 0:00:10 lr: 0.000100 loss: 0.0275 (0.0467) bce_loss: 0.0275 (0.0467) time: 0.9486 data: 0.0247 max mem: 8206\n"
          ]
        },
        {
          "output_type": "stream",
          "name": "stdout",
          "text": [
            "[TRAINING] - Epoch: [13] [451/461] eta: 0:00:10 lr: 0.000100 loss: 0.0275 (0.0467) bce_loss: 0.0275 (0.0467) time: 0.9486 data: 0.0247 max mem: 8206\n"
          ]
        },
        {
          "output_type": "stream",
          "name": "stderr",
          "text": [
            "INFO:20230807_training:[TRAINING] - Epoch: [13] [461/461] eta: 0:00:00 lr: 0.000100 loss: 0.0296 (0.0467) bce_loss: 0.0296 (0.0467) time: 0.9286 data: 0.0218 max mem: 8206\n",
            "INFO:20230807_training:[TRAINING] - Epoch: [13] Total time: 0:07:16 (0.9478 s / it)\n"
          ]
        },
        {
          "output_type": "stream",
          "name": "stdout",
          "text": [
            "[TRAINING] - Epoch: [13] [461/461] eta: 0:00:00 lr: 0.000100 loss: 0.0296 (0.0467) bce_loss: 0.0296 (0.0467) time: 0.9286 data: 0.0218 max mem: 8206\n",
            "[TRAINING] - Epoch: [13] Total time: 0:07:16 (0.9478 s / it)\n",
            "[TRAINING] - Epoch: [13] mean loss: 0.0339\n"
          ]
        },
        {
          "output_type": "stream",
          "name": "stderr",
          "text": [
            "INFO:20230807_validation:[VALIDATION] - Epoch: [13] [ 1/52] eta: 0:00:51 n: 32 recall: 1.0 precision: 1.0 f1-score: 1.0 MAE: 0.0 MSE: 0.0 RMSE: 0.0 time: 0.9883 data: 0.7198 max mem: 8206\n"
          ]
        },
        {
          "output_type": "stream",
          "name": "stdout",
          "text": [
            "[VALIDATION] - Epoch: [13] [ 1/52] eta: 0:00:51 n: 32 recall: 1.0 precision: 1.0 f1-score: 1.0 MAE: 0.0 MSE: 0.0 RMSE: 0.0 time: 0.9883 data: 0.7198 max mem: 8206\n"
          ]
        },
        {
          "output_type": "stream",
          "name": "stderr",
          "text": [
            "INFO:20230807_validation:[VALIDATION] - Epoch: [13] [11/52] eta: 0:00:19 n: 32 recall: 1.0 precision: 1.0 f1-score: 1.0 MAE: 0.0 MSE: 0.0 RMSE: 0.0 time: 0.4546 data: 0.1658 max mem: 8206\n"
          ]
        },
        {
          "output_type": "stream",
          "name": "stdout",
          "text": [
            "[VALIDATION] - Epoch: [13] [11/52] eta: 0:00:19 n: 32 recall: 1.0 precision: 1.0 f1-score: 1.0 MAE: 0.0 MSE: 0.0 RMSE: 0.0 time: 0.4546 data: 0.1658 max mem: 8206\n"
          ]
        },
        {
          "output_type": "stream",
          "name": "stderr",
          "text": [
            "INFO:20230807_validation:[VALIDATION] - Epoch: [13] [21/52] eta: 0:00:12 n: 32 recall: 1.0 precision: 1.0 f1-score: 1.0 MAE: 0.0 MSE: 0.0 RMSE: 0.0 time: 0.3680 data: 0.0794 max mem: 8206\n"
          ]
        },
        {
          "output_type": "stream",
          "name": "stdout",
          "text": [
            "[VALIDATION] - Epoch: [13] [21/52] eta: 0:00:12 n: 32 recall: 1.0 precision: 1.0 f1-score: 1.0 MAE: 0.0 MSE: 0.0 RMSE: 0.0 time: 0.3680 data: 0.0794 max mem: 8206\n"
          ]
        },
        {
          "output_type": "stream",
          "name": "stderr",
          "text": [
            "INFO:20230807_validation:[VALIDATION] - Epoch: [13] [31/52] eta: 0:00:08 n: 32 recall: 1.0 precision: 1.0 f1-score: 1.0 MAE: 0.0 MSE: 0.0 RMSE: 0.0 time: 0.3266 data: 0.0396 max mem: 8206\n"
          ]
        },
        {
          "output_type": "stream",
          "name": "stdout",
          "text": [
            "[VALIDATION] - Epoch: [13] [31/52] eta: 0:00:08 n: 32 recall: 1.0 precision: 1.0 f1-score: 1.0 MAE: 0.0 MSE: 0.0 RMSE: 0.0 time: 0.3266 data: 0.0396 max mem: 8206\n"
          ]
        },
        {
          "output_type": "stream",
          "name": "stderr",
          "text": [
            "INFO:20230807_validation:[VALIDATION] - Epoch: [13] [41/52] eta: 0:00:04 n: 32 recall: 1.0 precision: 1.0 f1-score: 1.0 MAE: 0.0 MSE: 0.0 RMSE: 0.0 time: 0.3240 data: 0.0389 max mem: 8206\n"
          ]
        },
        {
          "output_type": "stream",
          "name": "stdout",
          "text": [
            "[VALIDATION] - Epoch: [13] [41/52] eta: 0:00:04 n: 32 recall: 1.0 precision: 1.0 f1-score: 1.0 MAE: 0.0 MSE: 0.0 RMSE: 0.0 time: 0.3240 data: 0.0389 max mem: 8206\n"
          ]
        },
        {
          "output_type": "stream",
          "name": "stderr",
          "text": [
            "INFO:20230807_validation:[VALIDATION] - Epoch: [13] [51/52] eta: 0:00:00 n: 32 recall: 1.0 precision: 1.0 f1-score: 1.0 MAE: 0.0 MSE: 0.0 RMSE: 0.0 time: 0.3428 data: 0.0569 max mem: 8206\n",
            "INFO:20230807_validation:[VALIDATION] - Epoch: [13] [52/52] eta: 0:00:00 n: 6 recall: 1.0 precision: 1.0 f1-score: 1.0 MAE: 0.0 MSE: 0.0 RMSE: 0.0 time: 0.3317 data: 0.0569 max mem: 8206\n",
            "INFO:20230807_validation:[VALIDATION] - Epoch: [13] Total time: 0:00:18 (0.3568 s / it)\n"
          ]
        },
        {
          "output_type": "stream",
          "name": "stdout",
          "text": [
            "[VALIDATION] - Epoch: [13] [51/52] eta: 0:00:00 n: 32 recall: 1.0 precision: 1.0 f1-score: 1.0 MAE: 0.0 MSE: 0.0 RMSE: 0.0 time: 0.3428 data: 0.0569 max mem: 8206\n",
            "[VALIDATION] - Epoch: [13] [52/52] eta: 0:00:00 n: 6 recall: 1.0 precision: 1.0 f1-score: 1.0 MAE: 0.0 MSE: 0.0 RMSE: 0.0 time: 0.3317 data: 0.0569 max mem: 8206\n",
            "[VALIDATION] - Epoch: [13] Total time: 0:00:18 (0.3568 s / it)\n",
            "[VALIDATION] - Epoch: [13] accuracy: 0.9823\n",
            "Best model saved - Epoch 13 - Validation value: 0.982295\n"
          ]
        },
        {
          "output_type": "stream",
          "name": "stderr",
          "text": [
            "INFO:20230807_training:[TRAINING] - Epoch: [14] [  1/461] eta: 0:13:36 lr: 0.000100 loss: 0.0296 (0.0467) bce_loss: 0.0296 (0.0467) time: 1.7714 data: 0.8285 max mem: 8206\n"
          ]
        },
        {
          "output_type": "stream",
          "name": "stdout",
          "text": [
            "[TRAINING] - Epoch: [14] [  1/461] eta: 0:13:36 lr: 0.000100 loss: 0.0296 (0.0467) bce_loss: 0.0296 (0.0467) time: 1.7714 data: 0.8285 max mem: 8206\n"
          ]
        },
        {
          "output_type": "error",
          "ename": "FileNotFoundError",
          "evalue": "ignored",
          "traceback": [
            "\u001b[0;31m---------------------------------------------------------------------------\u001b[0m",
            "\u001b[0;31mFileNotFoundError\u001b[0m                         Traceback (most recent call last)",
            "\u001b[0;32m<ipython-input-18-64c6300fae7a>\u001b[0m in \u001b[0;36m<cell line: 1>\u001b[0;34m()\u001b[0m\n\u001b[0;32m----> 1\u001b[0;31m \u001b[0mtrainer\u001b[0m\u001b[0;34m.\u001b[0m\u001b[0mstart\u001b[0m\u001b[0;34m(\u001b[0m\u001b[0mwarmup_iters\u001b[0m\u001b[0;34m=\u001b[0m\u001b[0;36m100\u001b[0m\u001b[0;34m,\u001b[0m \u001b[0mcheckpoints\u001b[0m\u001b[0;34m=\u001b[0m\u001b[0;34m'best'\u001b[0m\u001b[0;34m,\u001b[0m \u001b[0mselect\u001b[0m\u001b[0;34m=\u001b[0m\u001b[0;34m'max'\u001b[0m\u001b[0;34m,\u001b[0m \u001b[0mvalidate_on\u001b[0m\u001b[0;34m=\u001b[0m\u001b[0;34m'accuracy'\u001b[0m\u001b[0;34m,\u001b[0m \u001b[0mwandb_flag\u001b[0m \u001b[0;34m=\u001b[0m\u001b[0;32mTrue\u001b[0m\u001b[0;34m)\u001b[0m\u001b[0;34m\u001b[0m\u001b[0;34m\u001b[0m\u001b[0m\n\u001b[0m",
            "\u001b[0;32m/content/HerdNet/animaloc/train/trainers.py\u001b[0m in \u001b[0;36mstart\u001b[0;34m(self, warmup_iters, checkpoints, select, validate_on, wandb_flag)\u001b[0m\n\u001b[1;32m    271\u001b[0m \u001b[0;34m\u001b[0m\u001b[0m\n\u001b[1;32m    272\u001b[0m             \u001b[0;31m# training\u001b[0m\u001b[0;34m\u001b[0m\u001b[0;34m\u001b[0m\u001b[0m\n\u001b[0;32m--> 273\u001b[0;31m             \u001b[0mtrain_output\u001b[0m \u001b[0;34m=\u001b[0m \u001b[0mself\u001b[0m\u001b[0;34m.\u001b[0m\u001b[0m_train\u001b[0m\u001b[0;34m(\u001b[0m\u001b[0mepoch\u001b[0m\u001b[0;34m,\u001b[0m \u001b[0mwarmup_iters\u001b[0m\u001b[0;34m,\u001b[0m \u001b[0mwandb_flag\u001b[0m\u001b[0;34m)\u001b[0m\u001b[0;34m\u001b[0m\u001b[0;34m\u001b[0m\u001b[0m\n\u001b[0m\u001b[1;32m    274\u001b[0m             \u001b[0;32mif\u001b[0m \u001b[0mwandb_flag\u001b[0m\u001b[0;34m:\u001b[0m\u001b[0;34m\u001b[0m\u001b[0;34m\u001b[0m\u001b[0m\n\u001b[1;32m    275\u001b[0m                 \u001b[0mwandb\u001b[0m\u001b[0;34m.\u001b[0m\u001b[0mlog\u001b[0m\u001b[0;34m(\u001b[0m\u001b[0;34m{\u001b[0m\u001b[0;34m'train_loss'\u001b[0m\u001b[0;34m:\u001b[0m \u001b[0mtrain_output\u001b[0m\u001b[0;34m,\u001b[0m \u001b[0;34m'epoch'\u001b[0m\u001b[0;34m:\u001b[0m \u001b[0mepoch\u001b[0m\u001b[0;34m}\u001b[0m\u001b[0;34m)\u001b[0m\u001b[0;34m\u001b[0m\u001b[0;34m\u001b[0m\u001b[0m\n",
            "\u001b[0;32m/content/HerdNet/animaloc/train/trainers.py\u001b[0m in \u001b[0;36m_train\u001b[0;34m(self, epoch, warmup_iters, wandb_flag)\u001b[0m\n\u001b[1;32m    507\u001b[0m         \u001b[0mbatches_losses\u001b[0m \u001b[0;34m=\u001b[0m \u001b[0;34m[\u001b[0m\u001b[0;34m]\u001b[0m\u001b[0;34m\u001b[0m\u001b[0;34m\u001b[0m\u001b[0m\n\u001b[1;32m    508\u001b[0m \u001b[0;34m\u001b[0m\u001b[0m\n\u001b[0;32m--> 509\u001b[0;31m         \u001b[0;32mfor\u001b[0m \u001b[0mimages\u001b[0m\u001b[0;34m,\u001b[0m \u001b[0mtargets\u001b[0m \u001b[0;32min\u001b[0m \u001b[0mself\u001b[0m\u001b[0;34m.\u001b[0m\u001b[0mtrain_logger\u001b[0m\u001b[0;34m.\u001b[0m\u001b[0mlog_every\u001b[0m\u001b[0;34m(\u001b[0m\u001b[0mself\u001b[0m\u001b[0;34m.\u001b[0m\u001b[0mtrain_dataloader\u001b[0m\u001b[0;34m,\u001b[0m \u001b[0mself\u001b[0m\u001b[0;34m.\u001b[0m\u001b[0mprint_freq\u001b[0m\u001b[0;34m,\u001b[0m \u001b[0mheader\u001b[0m\u001b[0;34m)\u001b[0m\u001b[0;34m:\u001b[0m\u001b[0;34m\u001b[0m\u001b[0;34m\u001b[0m\u001b[0m\n\u001b[0m\u001b[1;32m    510\u001b[0m \u001b[0;34m\u001b[0m\u001b[0m\n\u001b[1;32m    511\u001b[0m             \u001b[0mimages\u001b[0m\u001b[0;34m,\u001b[0m \u001b[0mtargets\u001b[0m \u001b[0;34m=\u001b[0m \u001b[0mself\u001b[0m\u001b[0;34m.\u001b[0m\u001b[0mprepare_data\u001b[0m\u001b[0;34m(\u001b[0m\u001b[0mimages\u001b[0m\u001b[0;34m,\u001b[0m \u001b[0mtargets\u001b[0m\u001b[0;34m)\u001b[0m\u001b[0;34m\u001b[0m\u001b[0;34m\u001b[0m\u001b[0m\n",
            "\u001b[0;32m/content/HerdNet/animaloc/utils/logger.py\u001b[0m in \u001b[0;36mlog_every\u001b[0;34m(self, iterable, print_freq, header)\u001b[0m\n\u001b[1;32m     72\u001b[0m         \u001b[0mMB\u001b[0m \u001b[0;34m=\u001b[0m \u001b[0;36m1024.0\u001b[0m \u001b[0;34m*\u001b[0m \u001b[0;36m1024.0\u001b[0m\u001b[0;34m\u001b[0m\u001b[0;34m\u001b[0m\u001b[0m\n\u001b[1;32m     73\u001b[0m         \u001b[0mflag\u001b[0m \u001b[0;34m=\u001b[0m \u001b[0;36m1\u001b[0m\u001b[0;34m\u001b[0m\u001b[0;34m\u001b[0m\u001b[0m\n\u001b[0;32m---> 74\u001b[0;31m         \u001b[0;32mfor\u001b[0m \u001b[0mobj\u001b[0m \u001b[0;32min\u001b[0m \u001b[0miterable\u001b[0m\u001b[0;34m:\u001b[0m\u001b[0;34m\u001b[0m\u001b[0;34m\u001b[0m\u001b[0m\n\u001b[0m\u001b[1;32m     75\u001b[0m             \u001b[0mdata_time\u001b[0m\u001b[0;34m.\u001b[0m\u001b[0mupdate\u001b[0m\u001b[0;34m(\u001b[0m\u001b[0mtime\u001b[0m\u001b[0;34m.\u001b[0m\u001b[0mtime\u001b[0m\u001b[0;34m(\u001b[0m\u001b[0;34m)\u001b[0m \u001b[0;34m-\u001b[0m \u001b[0mend\u001b[0m\u001b[0;34m)\u001b[0m\u001b[0;34m\u001b[0m\u001b[0;34m\u001b[0m\u001b[0m\n\u001b[1;32m     76\u001b[0m             \u001b[0;32myield\u001b[0m \u001b[0mobj\u001b[0m\u001b[0;34m\u001b[0m\u001b[0;34m\u001b[0m\u001b[0m\n",
            "\u001b[0;32m/usr/local/lib/python3.10/dist-packages/torch/utils/data/dataloader.py\u001b[0m in \u001b[0;36m__next__\u001b[0;34m(self)\u001b[0m\n\u001b[1;32m    631\u001b[0m                 \u001b[0;31m# TODO(https://github.com/pytorch/pytorch/issues/76750)\u001b[0m\u001b[0;34m\u001b[0m\u001b[0;34m\u001b[0m\u001b[0m\n\u001b[1;32m    632\u001b[0m                 \u001b[0mself\u001b[0m\u001b[0;34m.\u001b[0m\u001b[0m_reset\u001b[0m\u001b[0;34m(\u001b[0m\u001b[0;34m)\u001b[0m  \u001b[0;31m# type: ignore[call-arg]\u001b[0m\u001b[0;34m\u001b[0m\u001b[0;34m\u001b[0m\u001b[0m\n\u001b[0;32m--> 633\u001b[0;31m             \u001b[0mdata\u001b[0m \u001b[0;34m=\u001b[0m \u001b[0mself\u001b[0m\u001b[0;34m.\u001b[0m\u001b[0m_next_data\u001b[0m\u001b[0;34m(\u001b[0m\u001b[0;34m)\u001b[0m\u001b[0;34m\u001b[0m\u001b[0;34m\u001b[0m\u001b[0m\n\u001b[0m\u001b[1;32m    634\u001b[0m             \u001b[0mself\u001b[0m\u001b[0;34m.\u001b[0m\u001b[0m_num_yielded\u001b[0m \u001b[0;34m+=\u001b[0m \u001b[0;36m1\u001b[0m\u001b[0;34m\u001b[0m\u001b[0;34m\u001b[0m\u001b[0m\n\u001b[1;32m    635\u001b[0m             \u001b[0;32mif\u001b[0m \u001b[0mself\u001b[0m\u001b[0;34m.\u001b[0m\u001b[0m_dataset_kind\u001b[0m \u001b[0;34m==\u001b[0m \u001b[0m_DatasetKind\u001b[0m\u001b[0;34m.\u001b[0m\u001b[0mIterable\u001b[0m \u001b[0;32mand\u001b[0m\u001b[0;31m \u001b[0m\u001b[0;31m\\\u001b[0m\u001b[0;34m\u001b[0m\u001b[0;34m\u001b[0m\u001b[0m\n",
            "\u001b[0;32m/usr/local/lib/python3.10/dist-packages/torch/utils/data/dataloader.py\u001b[0m in \u001b[0;36m_next_data\u001b[0;34m(self)\u001b[0m\n\u001b[1;32m   1343\u001b[0m             \u001b[0;32melse\u001b[0m\u001b[0;34m:\u001b[0m\u001b[0;34m\u001b[0m\u001b[0;34m\u001b[0m\u001b[0m\n\u001b[1;32m   1344\u001b[0m                 \u001b[0;32mdel\u001b[0m \u001b[0mself\u001b[0m\u001b[0;34m.\u001b[0m\u001b[0m_task_info\u001b[0m\u001b[0;34m[\u001b[0m\u001b[0midx\u001b[0m\u001b[0;34m]\u001b[0m\u001b[0;34m\u001b[0m\u001b[0;34m\u001b[0m\u001b[0m\n\u001b[0;32m-> 1345\u001b[0;31m                 \u001b[0;32mreturn\u001b[0m \u001b[0mself\u001b[0m\u001b[0;34m.\u001b[0m\u001b[0m_process_data\u001b[0m\u001b[0;34m(\u001b[0m\u001b[0mdata\u001b[0m\u001b[0;34m)\u001b[0m\u001b[0;34m\u001b[0m\u001b[0;34m\u001b[0m\u001b[0m\n\u001b[0m\u001b[1;32m   1346\u001b[0m \u001b[0;34m\u001b[0m\u001b[0m\n\u001b[1;32m   1347\u001b[0m     \u001b[0;32mdef\u001b[0m \u001b[0m_try_put_index\u001b[0m\u001b[0;34m(\u001b[0m\u001b[0mself\u001b[0m\u001b[0;34m)\u001b[0m\u001b[0;34m:\u001b[0m\u001b[0;34m\u001b[0m\u001b[0;34m\u001b[0m\u001b[0m\n",
            "\u001b[0;32m/usr/local/lib/python3.10/dist-packages/torch/utils/data/dataloader.py\u001b[0m in \u001b[0;36m_process_data\u001b[0;34m(self, data)\u001b[0m\n\u001b[1;32m   1369\u001b[0m         \u001b[0mself\u001b[0m\u001b[0;34m.\u001b[0m\u001b[0m_try_put_index\u001b[0m\u001b[0;34m(\u001b[0m\u001b[0;34m)\u001b[0m\u001b[0;34m\u001b[0m\u001b[0;34m\u001b[0m\u001b[0m\n\u001b[1;32m   1370\u001b[0m         \u001b[0;32mif\u001b[0m \u001b[0misinstance\u001b[0m\u001b[0;34m(\u001b[0m\u001b[0mdata\u001b[0m\u001b[0;34m,\u001b[0m \u001b[0mExceptionWrapper\u001b[0m\u001b[0;34m)\u001b[0m\u001b[0;34m:\u001b[0m\u001b[0;34m\u001b[0m\u001b[0;34m\u001b[0m\u001b[0m\n\u001b[0;32m-> 1371\u001b[0;31m             \u001b[0mdata\u001b[0m\u001b[0;34m.\u001b[0m\u001b[0mreraise\u001b[0m\u001b[0;34m(\u001b[0m\u001b[0;34m)\u001b[0m\u001b[0;34m\u001b[0m\u001b[0;34m\u001b[0m\u001b[0m\n\u001b[0m\u001b[1;32m   1372\u001b[0m         \u001b[0;32mreturn\u001b[0m \u001b[0mdata\u001b[0m\u001b[0;34m\u001b[0m\u001b[0;34m\u001b[0m\u001b[0m\n\u001b[1;32m   1373\u001b[0m \u001b[0;34m\u001b[0m\u001b[0m\n",
            "\u001b[0;32m/usr/local/lib/python3.10/dist-packages/torch/_utils.py\u001b[0m in \u001b[0;36mreraise\u001b[0;34m(self)\u001b[0m\n\u001b[1;32m    642\u001b[0m             \u001b[0;31m# instantiate since we don't know how to\u001b[0m\u001b[0;34m\u001b[0m\u001b[0;34m\u001b[0m\u001b[0m\n\u001b[1;32m    643\u001b[0m             \u001b[0;32mraise\u001b[0m \u001b[0mRuntimeError\u001b[0m\u001b[0;34m(\u001b[0m\u001b[0mmsg\u001b[0m\u001b[0;34m)\u001b[0m \u001b[0;32mfrom\u001b[0m \u001b[0;32mNone\u001b[0m\u001b[0;34m\u001b[0m\u001b[0;34m\u001b[0m\u001b[0m\n\u001b[0;32m--> 644\u001b[0;31m         \u001b[0;32mraise\u001b[0m \u001b[0mexception\u001b[0m\u001b[0;34m\u001b[0m\u001b[0;34m\u001b[0m\u001b[0m\n\u001b[0m\u001b[1;32m    645\u001b[0m \u001b[0;34m\u001b[0m\u001b[0m\n\u001b[1;32m    646\u001b[0m \u001b[0;34m\u001b[0m\u001b[0m\n",
            "\u001b[0;31mFileNotFoundError\u001b[0m: Caught FileNotFoundError in DataLoader worker process 1.\nOriginal Traceback (most recent call last):\n  File \"/usr/local/lib/python3.10/dist-packages/torch/utils/data/_utils/worker.py\", line 308, in _worker_loop\n    data = fetcher.fetch(index)\n  File \"/usr/local/lib/python3.10/dist-packages/torch/utils/data/_utils/fetch.py\", line 51, in fetch\n    data = [self.dataset[idx] for idx in possibly_batched_index]\n  File \"/usr/local/lib/python3.10/dist-packages/torch/utils/data/_utils/fetch.py\", line 51, in <listcomp>\n    data = [self.dataset[idx] for idx in possibly_batched_index]\n  File \"/usr/local/lib/python3.10/dist-packages/torch/utils/data/dataset.py\", line 298, in __getitem__\n    return self.dataset[self.indices[idx]]\n  File \"/content/HerdNet/animaloc/datasets/csv.py\", line 227, in __getitem__\n    img = self._load_image(index)\n  File \"/content/HerdNet/animaloc/datasets/folder.py\", line 97, in _load_image\n    pil_img = PIL.Image.open(img_path).convert('RGB')\n  File \"/usr/local/lib/python3.10/dist-packages/PIL/Image.py\", line 3227, in open\n    fp = builtins.open(filename, \"rb\")\nFileNotFoundError: [Errno 2] No such file or directory: '/content/drive/MyDrive/val_patches/MT1_CAH_img_6A_SE_1941.jpg'\n"
          ]
        }
      ],
      "source": [
        "trainer.start(warmup_iters=100, checkpoints='best', select='max', validate_on='accuracy', wandb_flag =True)"
      ]
    },
    {
      "cell_type": "code",
      "source": [
        "df= evaluator.results # getting the validation results in pandas format\n",
        "df.head()\n",
        "df.to_csv('/content/drive/MyDrive/train_evaluator_results_13.csv', index=False)"
      ],
      "metadata": {
        "id": "jW2lQauI3uZW"
      },
      "execution_count": null,
      "outputs": []
    },
    {
      "cell_type": "code",
      "source": [
        "evaluator.metrics.confusion_matrix"
      ],
      "metadata": {
        "colab": {
          "base_uri": "https://localhost:8080/"
        },
        "id": "FFhSB6iDJmLf",
        "outputId": "115442a0-9a01-42ed-97db-1de48aa04a5c"
      },
      "execution_count": null,
      "outputs": [
        {
          "output_type": "execute_result",
          "data": {
            "text/plain": [
              "array([[1531.,   14.],\n",
              "       [  15.,   78.]])"
            ]
          },
          "metadata": {},
          "execution_count": 20
        }
      ]
    },
    {
      "cell_type": "code",
      "source": [
        "features=bottleneck_conv[](image)"
      ],
      "metadata": {
        "id": "St9EYyUdqLNY"
      },
      "execution_count": null,
      "outputs": []
    },
    {
      "cell_type": "code",
      "execution_count": null,
      "metadata": {
        "id": "D5133GoRz8r_"
      },
      "outputs": [],
      "source": [
        "# Path to your .pth file\n",
        "# import gdown\n",
        "\n",
        "pth_path = '/content/output/best_model.pth'\n",
        "\n",
        "# if not pth_path:\n",
        "#     gdown.download(\n",
        "#         'https://drive.google.com/uc?export=download&id=1-WUnBC4BJMVkNvRqalF_HzA1_pRkQTI_',\n",
        "#         '/content/20220413_herdnet_model.pth'\n",
        "#         )\n",
        "#     pth_path = '/content/20220413_herdnet_model.pth'"
      ]
    },
    {
      "cell_type": "code",
      "execution_count": null,
      "metadata": {
        "id": "VPHXVYWNzVDj"
      },
      "outputs": [],
      "source": [
        "# Create output folder\n",
        "from animaloc.utils.useful_funcs import mkdir\n",
        "test_dir = '/content/drive/MyDrive/test_output'\n",
        "mkdir(test_dir)"
      ]
    },
    {
      "cell_type": "code",
      "execution_count": null,
      "metadata": {
        "id": "DXUsHk7dzl47"
      },
      "outputs": [],
      "source": [
        "\n",
        " # Load trained parameters\n",
        "from animaloc.models import load_model\n",
        "# pth_path= '/content/drive/MyDrive/output/best_model.pth'\n",
        "dla_encoder = load_model(dla_encoder, pth_path=pth_path)"
      ]
    },
    {
      "cell_type": "code",
      "source": [
        "test_evaluator = TileEvaluator(\n",
        "    model=dla_encoder,\n",
        "    dataloader=val_dataloader,\n",
        "    metrics=metrics,\n",
        "    stitcher=None,\n",
        "    work_dir=work_dir,\n",
        "    header='test',\n",
        "    )"
      ],
      "metadata": {
        "id": "Zf4dk_uVc3gY"
      },
      "execution_count": null,
      "outputs": []
    },
    {
      "cell_type": "code",
      "source": [
        "# Start testing\n",
        "test_f1_score = test_evaluator.evaluate(returns='f1_score')"
      ],
      "metadata": {
        "colab": {
          "base_uri": "https://localhost:8080/"
        },
        "id": "s_RAvUi_dipf",
        "outputId": "f831b550-8872-4e4a-ffc4-852570ad2293"
      },
      "execution_count": null,
      "outputs": [
        {
          "output_type": "stream",
          "name": "stderr",
          "text": [
            "INFO:20230807_evaluation:test [ 1/52] eta: 0:00:57 n: 32 recall: 1.0 precision: 1.0 f1-score: 1.0 MAE: 0.0 MSE: 0.0 RMSE: 0.0 time: 1.1096 data: 0.7819 max mem: 8206\n"
          ]
        },
        {
          "output_type": "stream",
          "name": "stdout",
          "text": [
            "test [ 1/52] eta: 0:00:57 n: 32 recall: 1.0 precision: 1.0 f1-score: 1.0 MAE: 0.0 MSE: 0.0 RMSE: 0.0 time: 1.1096 data: 0.7819 max mem: 8206\n"
          ]
        },
        {
          "output_type": "stream",
          "name": "stderr",
          "text": [
            "INFO:20230807_evaluation:test [11/52] eta: 0:00:16 n: 32 recall: 1.0 precision: 1.0 f1-score: 1.0 MAE: 0.0 MSE: 0.0 RMSE: 0.0 time: 0.3879 data: 0.1037 max mem: 8206\n"
          ]
        },
        {
          "output_type": "stream",
          "name": "stdout",
          "text": [
            "test [11/52] eta: 0:00:16 n: 32 recall: 1.0 precision: 1.0 f1-score: 1.0 MAE: 0.0 MSE: 0.0 RMSE: 0.0 time: 0.3879 data: 0.1037 max mem: 8206\n"
          ]
        },
        {
          "output_type": "stream",
          "name": "stderr",
          "text": [
            "INFO:20230807_evaluation:test [21/52] eta: 0:00:11 n: 32 recall: 1.0 precision: 1.0 f1-score: 1.0 MAE: 0.0 MSE: 0.0 RMSE: 0.0 time: 0.3245 data: 0.0463 max mem: 8206\n"
          ]
        },
        {
          "output_type": "stream",
          "name": "stdout",
          "text": [
            "test [21/52] eta: 0:00:11 n: 32 recall: 1.0 precision: 1.0 f1-score: 1.0 MAE: 0.0 MSE: 0.0 RMSE: 0.0 time: 0.3245 data: 0.0463 max mem: 8206\n"
          ]
        },
        {
          "output_type": "stream",
          "name": "stderr",
          "text": [
            "INFO:20230807_evaluation:test [31/52] eta: 0:00:08 n: 32 recall: 1.0 precision: 1.0 f1-score: 1.0 MAE: 0.0 MSE: 0.0 RMSE: 0.0 time: 0.3508 data: 0.0720 max mem: 8206\n"
          ]
        },
        {
          "output_type": "stream",
          "name": "stdout",
          "text": [
            "test [31/52] eta: 0:00:08 n: 32 recall: 1.0 precision: 1.0 f1-score: 1.0 MAE: 0.0 MSE: 0.0 RMSE: 0.0 time: 0.3508 data: 0.0720 max mem: 8206\n"
          ]
        },
        {
          "output_type": "stream",
          "name": "stderr",
          "text": [
            "INFO:20230807_evaluation:test [41/52] eta: 0:00:04 n: 32 recall: 1.0 precision: 1.0 f1-score: 1.0 MAE: 0.0 MSE: 0.0 RMSE: 0.0 time: 0.3806 data: 0.0980 max mem: 8206\n"
          ]
        },
        {
          "output_type": "stream",
          "name": "stdout",
          "text": [
            "test [41/52] eta: 0:00:04 n: 32 recall: 1.0 precision: 1.0 f1-score: 1.0 MAE: 0.0 MSE: 0.0 RMSE: 0.0 time: 0.3806 data: 0.0980 max mem: 8206\n"
          ]
        },
        {
          "output_type": "stream",
          "name": "stderr",
          "text": [
            "INFO:20230807_evaluation:test [51/52] eta: 0:00:00 n: 32 recall: 1.0 precision: 1.0 f1-score: 1.0 MAE: 0.0 MSE: 0.0 RMSE: 0.0 time: 0.3514 data: 0.0732 max mem: 8206\n",
            "INFO:20230807_evaluation:test [52/52] eta: 0:00:00 n: 6 recall: 1.0 precision: 1.0 f1-score: 1.0 MAE: 0.0 MSE: 0.0 RMSE: 0.0 time: 0.3405 data: 0.0732 max mem: 8206\n",
            "INFO:20230807_evaluation:test Total time: 0:00:18 (0.3549 s / it)\n"
          ]
        },
        {
          "output_type": "stream",
          "name": "stdout",
          "text": [
            "test [51/52] eta: 0:00:00 n: 32 recall: 1.0 precision: 1.0 f1-score: 1.0 MAE: 0.0 MSE: 0.0 RMSE: 0.0 time: 0.3514 data: 0.0732 max mem: 8206\n",
            "test [52/52] eta: 0:00:00 n: 6 recall: 1.0 precision: 1.0 f1-score: 1.0 MAE: 0.0 MSE: 0.0 RMSE: 0.0 time: 0.3405 data: 0.0732 max mem: 8206\n",
            "test Total time: 0:00:18 (0.3549 s / it)\n"
          ]
        }
      ]
    },
    {
      "cell_type": "code",
      "source": [
        "df= test_evaluator.results # getting the validation results in pandas format\n",
        "df.head()\n",
        "df.to_csv('/content/drive/MyDrive/test_evaluator_results_13.csv', index=False)"
      ],
      "metadata": {
        "id": "5wUrBEZcojnf"
      },
      "execution_count": null,
      "outputs": []
    },
    {
      "cell_type": "code",
      "source": [
        "# Print global F1 score (%)\n",
        "print(f\"F1 score = {test_f1_score * 100:0.0f}%\")"
      ],
      "metadata": {
        "colab": {
          "base_uri": "https://localhost:8080/"
        },
        "id": "lrzsc08OdwO6",
        "outputId": "aaccee9c-6ad5-45d9-d3a8-c5cfc4851d65"
      },
      "execution_count": null,
      "outputs": [
        {
          "output_type": "stream",
          "name": "stdout",
          "text": [
            "F1 score = 100%\n"
          ]
        }
      ]
    },
    {
      "cell_type": "code",
      "source": [
        "# Get the detections (Metrics)\n",
        "detections = test_evaluator.results\n",
        "detections.to_csv('/content//drive/MyDrive/test_output/metrics.csv')"
      ],
      "metadata": {
        "id": "9iJsMwi_d46n"
      },
      "execution_count": null,
      "outputs": []
    },
    {
      "cell_type": "code",
      "source": [
        "%matplotlib inline\n",
        "from animaloc.vizual import PlotPrecisionRecall\n",
        "pr_curve = PlotPrecisionRecall(legend=True)\n",
        "metrics = evaluator._stored_metrics\n",
        "for c in range(1, metrics.num_classes):\n",
        "    rec, pre = metrics.rec_pre_lists(c)\n",
        "    pr_curve.feed(rec, pre, str(c))\n",
        "\n",
        "pr_curve.plot()"
      ],
      "metadata": {
        "id": "K10Dja_Nf4k1",
        "colab": {
          "base_uri": "https://localhost:8080/",
          "height": 619
        },
        "outputId": "9c226766-6e10-470f-e32b-5d60f42779af"
      },
      "execution_count": null,
      "outputs": [
        {
          "output_type": "display_data",
          "data": {
            "text/plain": [
              "<Figure size 700x700 with 1 Axes>"
            ],
            "image/png": "[encoded data removed]"
          },
          "metadata": {}
        }
      ]
    },
    {
      "cell_type": "markdown",
      "source": [
        "Copy of the weight of DLA encoder toward HerdNet:"
      ],
      "metadata": {
        "id": "3RudGh_1bY9T"
      }
    },
    {
      "cell_type": "code",
      "source": [
        "from animaloc.models import HerdNet\n",
        "# Load the checkpoint\n",
        "checkpoint = torch.load('/content/output/best_model.pth')\n",
        "\n",
        "# Update the model parameters\n",
        "dla_encoder.load_state_dict(checkpoint['model_state_dict'])\n",
        "herdnet = HerdNet(num_classes=num_classes, down_ratio=down_ratio).cuda()\n",
        "import copy\n",
        "\n",
        "herdnet.base_0= copy.deepcopy(dla_encoder.model.base_0)"
      ],
      "metadata": {
        "id": "G46IPjpCZh0n"
      },
      "execution_count": null,
      "outputs": []
    },
    {
      "cell_type": "code",
      "source": [
        "!pip install -U hydra-core wandb\n",
        "%env HYDRA_FULL_ERROR=1\n",
        "# !python /content/HerdNet/tools\n",
        "!python /content/HerdNet/tools/train.py -m train=my_herdnet"
      ],
      "metadata": {
        "colab": {
          "base_uri": "https://localhost:8080/"
        },
        "id": "jHJliFbrklBd",
        "outputId": "66f21122-5995-48ef-e297-998e0aab1db9"
      },
      "execution_count": null,
      "outputs": [
        {
          "output_type": "stream",
          "name": "stdout",
          "text": [
            "Requirement already satisfied: hydra-core in /usr/local/lib/python3.10/dist-packages (1.3.2)\n",
            "Requirement already satisfied: wandb in /usr/local/lib/python3.10/dist-packages (0.15.8)\n",
            "Requirement already satisfied: omegaconf<2.4,>=2.2 in /usr/local/lib/python3.10/dist-packages (from hydra-core) (2.3.0)\n",
            "Requirement already satisfied: antlr4-python3-runtime==4.9.* in /usr/local/lib/python3.10/dist-packages (from hydra-core) (4.9.3)\n",
            "Requirement already satisfied: packaging in /usr/local/lib/python3.10/dist-packages (from hydra-core) (23.1)\n",
            "Requirement already satisfied: Click!=8.0.0,>=7.1 in /usr/local/lib/python3.10/dist-packages (from wandb) (8.1.6)\n",
            "Requirement already satisfied: GitPython!=3.1.29,>=1.0.0 in /usr/local/lib/python3.10/dist-packages (from wandb) (3.1.32)\n",
            "Requirement already satisfied: requests<3,>=2.0.0 in /usr/local/lib/python3.10/dist-packages (from wandb) (2.27.1)\n",
            "Requirement already satisfied: psutil>=5.0.0 in /usr/local/lib/python3.10/dist-packages (from wandb) (5.9.5)\n",
            "Requirement already satisfied: sentry-sdk>=1.0.0 in /usr/local/lib/python3.10/dist-packages (from wandb) (1.29.2)\n",
            "Requirement already satisfied: docker-pycreds>=0.4.0 in /usr/local/lib/python3.10/dist-packages (from wandb) (0.4.0)\n",
            "Requirement already satisfied: PyYAML in /usr/local/lib/python3.10/dist-packages (from wandb) (6.0.1)\n",
            "Requirement already satisfied: pathtools in /usr/local/lib/python3.10/dist-packages (from wandb) (0.1.2)\n",
            "Requirement already satisfied: setproctitle in /usr/local/lib/python3.10/dist-packages (from wandb) (1.3.2)\n",
            "Requirement already satisfied: setuptools in /usr/local/lib/python3.10/dist-packages (from wandb) (67.7.2)\n",
            "Requirement already satisfied: appdirs>=1.4.3 in /usr/local/lib/python3.10/dist-packages (from wandb) (1.4.4)\n",
            "Requirement already satisfied: protobuf!=4.21.0,<5,>=3.19.0 in /usr/local/lib/python3.10/dist-packages (from wandb) (3.20.3)\n",
            "Requirement already satisfied: six>=1.4.0 in /usr/local/lib/python3.10/dist-packages (from docker-pycreds>=0.4.0->wandb) (1.16.0)\n",
            "Requirement already satisfied: gitdb<5,>=4.0.1 in /usr/local/lib/python3.10/dist-packages (from GitPython!=3.1.29,>=1.0.0->wandb) (4.0.10)\n",
            "Requirement already satisfied: urllib3<1.27,>=1.21.1 in /usr/local/lib/python3.10/dist-packages (from requests<3,>=2.0.0->wandb) (1.26.16)\n",
            "Requirement already satisfied: certifi>=2017.4.17 in /usr/local/lib/python3.10/dist-packages (from requests<3,>=2.0.0->wandb) (2023.7.22)\n",
            "Requirement already satisfied: charset-normalizer~=2.0.0 in /usr/local/lib/python3.10/dist-packages (from requests<3,>=2.0.0->wandb) (2.0.12)\n",
            "Requirement already satisfied: idna<4,>=2.5 in /usr/local/lib/python3.10/dist-packages (from requests<3,>=2.0.0->wandb) (3.4)\n",
            "Requirement already satisfied: smmap<6,>=3.0.1 in /usr/local/lib/python3.10/dist-packages (from gitdb<5,>=4.0.1->GitPython!=3.1.29,>=1.0.0->wandb) (5.0.0)\n",
            "env: HYDRA_FULL_ERROR=1\n",
            "/content/HerdNet/tools/train.py:222: UserWarning: \n",
            "The version_base parameter is not specified.\n",
            "Please specify a compatability version level, or None.\n",
            "Will assume defaults for version 1.1\n",
            "  @hydra.main(config_path='../configs', config_name=\"config\")\n",
            "Traceback (most recent call last):\n",
            "  File \"/content/HerdNet/tools/train.py\", line 405, in <module>\n",
            "    main()\n",
            "  File \"/usr/local/lib/python3.10/dist-packages/hydra/main.py\", line 94, in decorated_main\n",
            "    _run_hydra(\n",
            "  File \"/usr/local/lib/python3.10/dist-packages/hydra/_internal/utils.py\", line 394, in _run_hydra\n",
            "    _run_app(\n",
            "  File \"/usr/local/lib/python3.10/dist-packages/hydra/_internal/utils.py\", line 465, in _run_app\n",
            "    run_and_report(\n",
            "  File \"/usr/local/lib/python3.10/dist-packages/hydra/_internal/utils.py\", line 223, in run_and_report\n",
            "    raise ex\n",
            "  File \"/usr/local/lib/python3.10/dist-packages/hydra/_internal/utils.py\", line 220, in run_and_report\n",
            "    return func()\n",
            "  File \"/usr/local/lib/python3.10/dist-packages/hydra/_internal/utils.py\", line 466, in <lambda>\n",
            "    lambda: hydra.multirun(\n",
            "  File \"/usr/local/lib/python3.10/dist-packages/hydra/_internal/hydra.py\", line 143, in multirun\n",
            "    cfg = self.compose_config(\n",
            "  File \"/usr/local/lib/python3.10/dist-packages/hydra/_internal/hydra.py\", line 594, in compose_config\n",
            "    cfg = self.config_loader.load_configuration(\n",
            "  File \"/usr/local/lib/python3.10/dist-packages/hydra/_internal/config_loader_impl.py\", line 142, in load_configuration\n",
            "    return self._load_configuration_impl(\n",
            "  File \"/usr/local/lib/python3.10/dist-packages/hydra/_internal/config_loader_impl.py\", line 253, in _load_configuration_impl\n",
            "    defaults_list = create_defaults_list(\n",
            "  File \"/usr/local/lib/python3.10/dist-packages/hydra/_internal/defaults_list.py\", line 745, in create_defaults_list\n",
            "    defaults, tree = _create_defaults_list(\n",
            "  File \"/usr/local/lib/python3.10/dist-packages/hydra/_internal/defaults_list.py\", line 715, in _create_defaults_list\n",
            "    defaults_tree = _create_defaults_tree(\n",
            "  File \"/usr/local/lib/python3.10/dist-packages/hydra/_internal/defaults_list.py\", line 356, in _create_defaults_tree\n",
            "    ret = _create_defaults_tree_impl(\n",
            "  File \"/usr/local/lib/python3.10/dist-packages/hydra/_internal/defaults_list.py\", line 457, in _create_defaults_tree_impl\n",
            "    return _expand_virtual_root(repo, root, overrides, skip_missing)\n",
            "  File \"/usr/local/lib/python3.10/dist-packages/hydra/_internal/defaults_list.py\", line 280, in _expand_virtual_root\n",
            "    subtree = _create_defaults_tree_impl(\n",
            "  File \"/usr/local/lib/python3.10/dist-packages/hydra/_internal/defaults_list.py\", line 573, in _create_defaults_tree_impl\n",
            "    add_child(children, new_root)\n",
            "  File \"/usr/local/lib/python3.10/dist-packages/hydra/_internal/defaults_list.py\", line 520, in add_child\n",
            "    subtree_ = _create_defaults_tree_impl(\n",
            "  File \"/usr/local/lib/python3.10/dist-packages/hydra/_internal/defaults_list.py\", line 466, in _create_defaults_tree_impl\n",
            "    update_package_header(repo=repo, node=parent)\n",
            "  File \"/usr/local/lib/python3.10/dist-packages/hydra/_internal/defaults_list.py\", line 262, in update_package_header\n",
            "    loaded = repo.load_config(config_path=node.get_config_path())\n",
            "  File \"/usr/local/lib/python3.10/dist-packages/hydra/_internal/config_repository.py\", line 348, in load_config\n",
            "    ret = self.delegate.load_config(config_path=config_path)\n",
            "  File \"/usr/local/lib/python3.10/dist-packages/hydra/_internal/config_repository.py\", line 91, in load_config\n",
            "    ret = source.load_config(config_path=config_path)\n",
            "  File \"/usr/local/lib/python3.10/dist-packages/hydra/_internal/core_plugins/file_config_source.py\", line 31, in load_config\n",
            "    cfg = OmegaConf.load(f)\n",
            "  File \"/usr/local/lib/python3.10/dist-packages/omegaconf/omegaconf.py\", line 192, in load\n",
            "    obj = yaml.load(file_, Loader=get_yaml_loader())\n",
            "  File \"/usr/local/lib/python3.10/dist-packages/yaml/__init__.py\", line 81, in load\n",
            "    return loader.get_single_data()\n",
            "  File \"/usr/local/lib/python3.10/dist-packages/yaml/constructor.py\", line 49, in get_single_data\n",
            "    node = self.get_single_node()\n",
            "  File \"/usr/local/lib/python3.10/dist-packages/yaml/composer.py\", line 36, in get_single_node\n",
            "    document = self.compose_document()\n",
            "  File \"/usr/local/lib/python3.10/dist-packages/yaml/composer.py\", line 55, in compose_document\n",
            "    node = self.compose_node(None, None)\n",
            "  File \"/usr/local/lib/python3.10/dist-packages/yaml/composer.py\", line 84, in compose_node\n",
            "    node = self.compose_mapping_node(anchor)\n",
            "  File \"/usr/local/lib/python3.10/dist-packages/yaml/composer.py\", line 133, in compose_mapping_node\n",
            "    item_value = self.compose_node(node, item_key)\n",
            "  File \"/usr/local/lib/python3.10/dist-packages/yaml/composer.py\", line 84, in compose_node\n",
            "    node = self.compose_mapping_node(anchor)\n",
            "  File \"/usr/local/lib/python3.10/dist-packages/yaml/composer.py\", line 133, in compose_mapping_node\n",
            "    item_value = self.compose_node(node, item_key)\n",
            "  File \"/usr/local/lib/python3.10/dist-packages/yaml/composer.py\", line 84, in compose_node\n",
            "    node = self.compose_mapping_node(anchor)\n",
            "  File \"/usr/local/lib/python3.10/dist-packages/yaml/composer.py\", line 133, in compose_mapping_node\n",
            "    item_value = self.compose_node(node, item_key)\n",
            "  File \"/usr/local/lib/python3.10/dist-packages/yaml/composer.py\", line 84, in compose_node\n",
            "    node = self.compose_mapping_node(anchor)\n",
            "  File \"/usr/local/lib/python3.10/dist-packages/yaml/composer.py\", line 133, in compose_mapping_node\n",
            "    item_value = self.compose_node(node, item_key)\n",
            "  File \"/usr/local/lib/python3.10/dist-packages/yaml/composer.py\", line 82, in compose_node\n",
            "    node = self.compose_sequence_node(anchor)\n",
            "  File \"/usr/local/lib/python3.10/dist-packages/yaml/composer.py\", line 110, in compose_sequence_node\n",
            "    while not self.check_event(SequenceEndEvent):\n",
            "  File \"/usr/local/lib/python3.10/dist-packages/yaml/parser.py\", line 98, in check_event\n",
            "    self.current_event = self.state()\n",
            "  File \"/usr/local/lib/python3.10/dist-packages/yaml/parser.py\", line 483, in parse_flow_sequence_entry\n",
            "    raise ParserError(\"while parsing a flow sequence\", self.marks[-1],\n",
            "yaml.parser.ParserError: while parsing a flow sequence\n",
            "  in \"/content/HerdNet/configs/train/my_herdnet.yaml\", line 37, column 15\n",
            "expected ',' or ']', but got '<scalar>'\n",
            "  in \"/content/HerdNet/configs/train/my_herdnet.yaml\", line 39, column 1\n"
          ]
        }
      ]
    },
    {
      "cell_type": "markdown",
      "source": [
        "# Utilisation de fichiers de configuration avec Hyrda"
      ],
      "metadata": {
        "id": "ZkPEui5m6qBi"
      }
    },
    {
      "cell_type": "code",
      "source": [
        "# Train config file\n",
        "%%writefile /content/HerdNet/configs/train/my_herdnet.yaml\n",
        "wandb_project: 'herdnet'\n",
        "wandb_entity: 'wildlife-monitoring'\n",
        "wandb_run: 'myrun'\n",
        "seed: 1\n",
        "device_name: 'cuda'\n",
        "\n",
        "model:\n",
        "  name: 'HerdNet'\n",
        "  from_torchvision: False\n",
        "  load_from: null\n",
        "  resume_from: null\n",
        "  kwargs:\n",
        "    num_layers: 34\n",
        "    pretrained: True\n",
        "    down_ratio: 2\n",
        "    head_conv: 64\n",
        "  freeze: null\n",
        "\n",
        "losses:\n",
        "  FocalLoss:\n",
        "    print_name: 'focal_loss'\n",
        "    from_torch: False\n",
        "    output_idx: 0\n",
        "    target_idx: 0\n",
        "    lambda_const: 1.0\n",
        "    kwargs:\n",
        "      reduction: 'mean'\n",
        "      normalize: False\n",
        "  CrossEntropyLoss:\n",
        "    print_name: 'ce_loss'\n",
        "    from_torch: True\n",
        "    output_idx: 1\n",
        "    target_idx: 1\n",
        "    lambda_const: 1.0\n",
        "    kwargs:\n",
        "      reduction: 'mean'\n",
        "      weight: [weight: [0.1,5.,15.,1.]\n",
        "\n",
        "datasets:\n",
        "  img_size: [512,512]\n",
        "  anno_type: 'point'\n",
        "  num_classes: 2\n",
        "  collate_fn: null\n",
        "\n",
        "  class_def:\n",
        "    1: 'caribou'\n",
        "\n",
        "  train:\n",
        "    name: 'CSVDataset'\n",
        "    csv_file: '/content/drive/MyDrive/Train_patches/gt.csv'\n",
        "    root_dir: '/content/drive/MyDrive/Train_patches'\n",
        "\n",
        "    sampler: null\n",
        "\n",
        "    albu_transforms:\n",
        "      HorizontalFlip:\n",
        "        p: 0.5\n",
        "      MotionBlur:\n",
        "        p: 0.5\n",
        "      Normalize:\n",
        "        p: 1.0\n",
        "\n",
        "    end_transforms:\n",
        "      MultiTransformsWrapper:\n",
        "        FIDT:\n",
        "          num_classes: ${train.datasets.num_classes}\n",
        "          down_ratio: ${train.model.kwargs.down_ratio}\n",
        "        PointsToMask:\n",
        "          radius: 2\n",
        "          num_classes: ${train.datasets.num_classes}\n",
        "          squeeze: True\n",
        "          down_ratio: 32\n",
        "\n",
        "  validate:\n",
        "    name: 'CSVDataset'\n",
        "    csv_file: '/content/drive/MyDrive/val_patches/gt.csv'\n",
        "    root_dir: '/content/drive/MyDrive/val_patches'\n",
        "\n",
        "    albu_transforms:\n",
        "      Normalize:\n",
        "        p: 1.0\n",
        "\n",
        "    end_transforms:\n",
        "      DownSample:\n",
        "        down_ratio: ${train.model.kwargs.down_ratio}\n",
        "        anno_type: ${train.datasets.anno_type}\n",
        "\n",
        "training_settings:\n",
        "  trainer: 'Trainer'\n",
        "  valid_freq: 1\n",
        "  print_freq: 100\n",
        "  batch_size: 8\n",
        "  optimizer: 'adam'\n",
        "  lr: 1e-4\n",
        "  weight_decay: 0.0005\n",
        "  auto_lr:\n",
        "    mode: 'max'\n",
        "    patience: 10\n",
        "    threshold: 1e-4\n",
        "    threshold_mode: 'rel'\n",
        "    cooldown: 10\n",
        "    min_lr: 1e-6\n",
        "    verbose: True\n",
        "  warmup_iters: 100\n",
        "  vizual_fn: null\n",
        "  epochs: 100\n",
        "  evaluator:\n",
        "    name: 'HerdNetEvaluator'\n",
        "    threshold: 5\n",
        "    select_mode: 'max'\n",
        "    validate_on: 'f1_score'\n",
        "    kwargs:\n",
        "      print_freq: 10\n",
        "      lmds_kwargs:\n",
        "        kernel_size: [3,3]\n",
        "        adapt_ts: 0.3\n",
        "  stitcher:\n",
        "    name: 'HerdNetStitcher'\n",
        "    kwargs:\n",
        "      overlap: 0\n",
        "      down_ratio: ${train.model.kwargs.down_ratio}\n",
        "      up: False\n",
        "      reduction: 'mean'"
      ],
      "metadata": {
        "id": "f8Q4fXjc6n2J",
        "colab": {
          "base_uri": "https://localhost:8080/"
        },
        "outputId": "b085f3d5-87d7-44c4-fb9f-b8cd3305af7f"
      },
      "execution_count": null,
      "outputs": [
        {
          "output_type": "stream",
          "name": "stdout",
          "text": [
            "Writing /content/HerdNet/configs/train/my_herdnet.yaml\n"
          ]
        }
      ]
    },
    {
      "cell_type": "code",
      "source": [
        "# TEST config files\n",
        "%%writefile /content/HerdNet/configs/test/my_herdnet.yaml\n",
        "wandb_project: 'HerdNet'\n",
        "wandb_entity: 'wildlife-monitoring'\n",
        "wandb_run: 'myrun'\n",
        "device_name: 'cuda'\n",
        "\n",
        "model:\n",
        "  name: 'HerdNet'\n",
        "  from_torchvision: False\n",
        "  pth_file: '/content/drive/MyDrive/output/best_model.pth'\n",
        "  kwargs:\n",
        "    num_layers: 34\n",
        "    pretrained: False\n",
        "    down_ratio: 2\n",
        "    head_conv: 64\n",
        "\n",
        "dataset:\n",
        "  img_size: [512,512]\n",
        "  anno_type: 'point'\n",
        "  num_classes: 1\n",
        "  collate_fn: null\n",
        "\n",
        "  class_def:\n",
        "    1: 'caribou'\n",
        "\n",
        "\n",
        "  name: 'CSVDataset'\n",
        "  csv_file: '/content/drive/MyDrive/test_patches/gt.csv'\n",
        "  root_dir: '/content/drive/MyDrive/test_patches'\n",
        "\n",
        "  mean: [0.485, 0.456, 0.406]\n",
        "  std: [0.229, 0.224, 0.225]\n",
        "\n",
        "evaluator:\n",
        "  name: 'HerdNetEvaluator'\n",
        "  threshold: 5\n",
        "  kwargs:\n",
        "    lmds_kwargs:\n",
        "      kernel_size: [3,3]\n",
        "      adapt_ts: 0.3\n",
        "\n",
        "stitcher:\n",
        "  name: 'HerdNetStitcher'\n",
        "  kwargs:\n",
        "    overlap: 160\n",
        "    down_ratio: ${test.model.kwargs.down_ratio}\n",
        "    up: False\n",
        "    reduction: 'mean'"
      ],
      "metadata": {
        "colab": {
          "base_uri": "https://localhost:8080/"
        },
        "id": "uXqYxxwfelza",
        "outputId": "f75cbd67-ff2f-4005-e056-1072ae88574b"
      },
      "execution_count": null,
      "outputs": [
        {
          "output_type": "stream",
          "name": "stdout",
          "text": [
            "Writing /content/HerdNet/configs/test/my_herdnet.yaml\n"
          ]
        }
      ]
    },
    {
      "cell_type": "code",
      "source": [
        "\n",
        "if wandb.run is not None:\n",
        "  wandb.finish()\n",
        "!python /content/HerdNet/tools/train.py -m train=my_herdnet\n",
        "\n"
      ],
      "metadata": {
        "id": "wziHf6BA-lbc",
        "colab": {
          "base_uri": "https://localhost:8080/",
          "height": 1000
        },
        "outputId": "6c853679-b127-4bf9-a7e2-45f3fb1e5cc0"
      },
      "execution_count": null,
      "outputs": [
        {
          "output_type": "display_data",
          "data": {
            "text/plain": [
              "<IPython.core.display.HTML object>"
            ],
            "text/html": [
              "Waiting for W&B process to finish... <strong style=\"color:green\">(success).</strong>"
            ]
          },
          "metadata": {}
        },
        {
          "output_type": "display_data",
          "data": {
            "text/plain": [
              "<IPython.core.display.HTML object>"
            ],
            "text/html": [
              "<style>\n",
              "    table.wandb td:nth-child(1) { padding: 0 10px; text-align: left ; width: auto;} td:nth-child(2) {text-align: left ; width: 100%}\n",
              "    .wandb-row { display: flex; flex-direction: row; flex-wrap: wrap; justify-content: flex-start; width: 100% }\n",
              "    .wandb-col { display: flex; flex-direction: column; flex-basis: 100%; flex: 1; padding: 10px; }\n",
              "    </style>\n",
              "<div class=\"wandb-row\"><div class=\"wandb-col\"><h3>Run history:</h3><br/><table class=\"wandb\"><tr><td>accuracy</td><td>▁▇▁▇█▁▃▁▁▁▁██</td></tr><tr><td>bce_loss</td><td>█▄▄▂▄▂▆▂▂▄▃▁▂▂▂▂▃▂▃▃▃▂▂▃▂▂▁▂▄▁▅▁▃▂▄▂▂▁▆▂</td></tr><tr><td>epoch</td><td>▁▁▂▂▂▂▃▃▃▃▄▄▅▅▅▅▆▆▆▆▇▇▇▇██</td></tr><tr><td>lr</td><td>▁▁▁▁▁▁▁▁▁▁▁▁▁▁</td></tr><tr><td>train_loss</td><td>█▃▂▂▃▂▅▃▃▂▁▂▁</td></tr></table><br/></div><div class=\"wandb-col\"><h3>Run summary:</h3><br/><table class=\"wandb\"><tr><td>accuracy</td><td>0.9823</td></tr><tr><td>bce_loss</td><td>0.00891</td></tr><tr><td>epoch</td><td>13</td></tr><tr><td>lr</td><td>0.0001</td></tr><tr><td>train_loss</td><td>0.03395</td></tr></table><br/></div></div>"
            ]
          },
          "metadata": {}
        },
        {
          "output_type": "display_data",
          "data": {
            "text/plain": [
              "<IPython.core.display.HTML object>"
            ],
            "text/html": [
              " View run <strong style=\"color:#cdcd00\">daily-wood-32</strong> at: <a href='https://wandb.ai/wildlife-monitoring/herdnet/runs/uydv9kcb' target=\"_blank\">https://wandb.ai/wildlife-monitoring/herdnet/runs/uydv9kcb</a><br/> View job at <a href='https://wandb.ai/wildlife-monitoring/herdnet/jobs/QXJ0aWZhY3RDb2xsZWN0aW9uOjg3OTU3Njcw/version_details/v3' target=\"_blank\">https://wandb.ai/wildlife-monitoring/herdnet/jobs/QXJ0aWZhY3RDb2xsZWN0aW9uOjg3OTU3Njcw/version_details/v3</a><br/>Synced 5 W&B file(s), 0 media file(s), 22 artifact file(s) and 1 other file(s)"
            ]
          },
          "metadata": {}
        },
        {
          "output_type": "display_data",
          "data": {
            "text/plain": [
              "<IPython.core.display.HTML object>"
            ],
            "text/html": [
              "Find logs at: <code>./wandb/run-20230807_151837-uydv9kcb/logs</code>"
            ]
          },
          "metadata": {}
        },
        {
          "output_type": "stream",
          "name": "stdout",
          "text": [
            "/content/HerdNet/tools/train.py:222: UserWarning: \n",
            "The version_base parameter is not specified.\n",
            "Please specify a compatability version level, or None.\n",
            "Will assume defaults for version 1.1\n",
            "  @hydra.main(config_path='../configs', config_name=\"config\")\n",
            "Traceback (most recent call last):\n",
            "  File \"/content/HerdNet/tools/train.py\", line 405, in <module>\n",
            "    main()\n",
            "  File \"/usr/local/lib/python3.10/dist-packages/hydra/main.py\", line 94, in decorated_main\n",
            "    _run_hydra(\n",
            "  File \"/usr/local/lib/python3.10/dist-packages/hydra/_internal/utils.py\", line 394, in _run_hydra\n",
            "    _run_app(\n",
            "  File \"/usr/local/lib/python3.10/dist-packages/hydra/_internal/utils.py\", line 465, in _run_app\n",
            "    run_and_report(\n",
            "  File \"/usr/local/lib/python3.10/dist-packages/hydra/_internal/utils.py\", line 223, in run_and_report\n",
            "    raise ex\n",
            "  File \"/usr/local/lib/python3.10/dist-packages/hydra/_internal/utils.py\", line 220, in run_and_report\n",
            "    return func()\n",
            "  File \"/usr/local/lib/python3.10/dist-packages/hydra/_internal/utils.py\", line 466, in <lambda>\n",
            "    lambda: hydra.multirun(\n",
            "  File \"/usr/local/lib/python3.10/dist-packages/hydra/_internal/hydra.py\", line 143, in multirun\n",
            "    cfg = self.compose_config(\n",
            "  File \"/usr/local/lib/python3.10/dist-packages/hydra/_internal/hydra.py\", line 594, in compose_config\n",
            "    cfg = self.config_loader.load_configuration(\n",
            "  File \"/usr/local/lib/python3.10/dist-packages/hydra/_internal/config_loader_impl.py\", line 142, in load_configuration\n",
            "    return self._load_configuration_impl(\n",
            "  File \"/usr/local/lib/python3.10/dist-packages/hydra/_internal/config_loader_impl.py\", line 253, in _load_configuration_impl\n",
            "    defaults_list = create_defaults_list(\n",
            "  File \"/usr/local/lib/python3.10/dist-packages/hydra/_internal/defaults_list.py\", line 745, in create_defaults_list\n",
            "    defaults, tree = _create_defaults_list(\n",
            "  File \"/usr/local/lib/python3.10/dist-packages/hydra/_internal/defaults_list.py\", line 715, in _create_defaults_list\n",
            "    defaults_tree = _create_defaults_tree(\n",
            "  File \"/usr/local/lib/python3.10/dist-packages/hydra/_internal/defaults_list.py\", line 356, in _create_defaults_tree\n",
            "    ret = _create_defaults_tree_impl(\n",
            "  File \"/usr/local/lib/python3.10/dist-packages/hydra/_internal/defaults_list.py\", line 457, in _create_defaults_tree_impl\n",
            "    return _expand_virtual_root(repo, root, overrides, skip_missing)\n",
            "  File \"/usr/local/lib/python3.10/dist-packages/hydra/_internal/defaults_list.py\", line 280, in _expand_virtual_root\n",
            "    subtree = _create_defaults_tree_impl(\n",
            "  File \"/usr/local/lib/python3.10/dist-packages/hydra/_internal/defaults_list.py\", line 573, in _create_defaults_tree_impl\n",
            "    add_child(children, new_root)\n",
            "  File \"/usr/local/lib/python3.10/dist-packages/hydra/_internal/defaults_list.py\", line 520, in add_child\n",
            "    subtree_ = _create_defaults_tree_impl(\n",
            "  File \"/usr/local/lib/python3.10/dist-packages/hydra/_internal/defaults_list.py\", line 466, in _create_defaults_tree_impl\n",
            "    update_package_header(repo=repo, node=parent)\n",
            "  File \"/usr/local/lib/python3.10/dist-packages/hydra/_internal/defaults_list.py\", line 262, in update_package_header\n",
            "    loaded = repo.load_config(config_path=node.get_config_path())\n",
            "  File \"/usr/local/lib/python3.10/dist-packages/hydra/_internal/config_repository.py\", line 348, in load_config\n",
            "    ret = self.delegate.load_config(config_path=config_path)\n",
            "  File \"/usr/local/lib/python3.10/dist-packages/hydra/_internal/config_repository.py\", line 91, in load_config\n",
            "    ret = source.load_config(config_path=config_path)\n",
            "  File \"/usr/local/lib/python3.10/dist-packages/hydra/_internal/core_plugins/file_config_source.py\", line 31, in load_config\n",
            "    cfg = OmegaConf.load(f)\n",
            "  File \"/usr/local/lib/python3.10/dist-packages/omegaconf/omegaconf.py\", line 192, in load\n",
            "    obj = yaml.load(file_, Loader=get_yaml_loader())\n",
            "  File \"/usr/local/lib/python3.10/dist-packages/yaml/__init__.py\", line 81, in load\n",
            "    return loader.get_single_data()\n",
            "  File \"/usr/local/lib/python3.10/dist-packages/yaml/constructor.py\", line 49, in get_single_data\n",
            "    node = self.get_single_node()\n",
            "  File \"/usr/local/lib/python3.10/dist-packages/yaml/composer.py\", line 36, in get_single_node\n",
            "    document = self.compose_document()\n",
            "  File \"/usr/local/lib/python3.10/dist-packages/yaml/composer.py\", line 55, in compose_document\n",
            "    node = self.compose_node(None, None)\n",
            "  File \"/usr/local/lib/python3.10/dist-packages/yaml/composer.py\", line 84, in compose_node\n",
            "    node = self.compose_mapping_node(anchor)\n",
            "  File \"/usr/local/lib/python3.10/dist-packages/yaml/composer.py\", line 133, in compose_mapping_node\n",
            "    item_value = self.compose_node(node, item_key)\n",
            "  File \"/usr/local/lib/python3.10/dist-packages/yaml/composer.py\", line 84, in compose_node\n",
            "    node = self.compose_mapping_node(anchor)\n",
            "  File \"/usr/local/lib/python3.10/dist-packages/yaml/composer.py\", line 133, in compose_mapping_node\n",
            "    item_value = self.compose_node(node, item_key)\n",
            "  File \"/usr/local/lib/python3.10/dist-packages/yaml/composer.py\", line 84, in compose_node\n",
            "    node = self.compose_mapping_node(anchor)\n",
            "  File \"/usr/local/lib/python3.10/dist-packages/yaml/composer.py\", line 133, in compose_mapping_node\n",
            "    item_value = self.compose_node(node, item_key)\n",
            "  File \"/usr/local/lib/python3.10/dist-packages/yaml/composer.py\", line 84, in compose_node\n",
            "    node = self.compose_mapping_node(anchor)\n",
            "  File \"/usr/local/lib/python3.10/dist-packages/yaml/composer.py\", line 133, in compose_mapping_node\n",
            "    item_value = self.compose_node(node, item_key)\n",
            "  File \"/usr/local/lib/python3.10/dist-packages/yaml/composer.py\", line 82, in compose_node\n",
            "    node = self.compose_sequence_node(anchor)\n",
            "  File \"/usr/local/lib/python3.10/dist-packages/yaml/composer.py\", line 110, in compose_sequence_node\n",
            "    while not self.check_event(SequenceEndEvent):\n",
            "  File \"/usr/local/lib/python3.10/dist-packages/yaml/parser.py\", line 98, in check_event\n",
            "    self.current_event = self.state()\n",
            "  File \"/usr/local/lib/python3.10/dist-packages/yaml/parser.py\", line 483, in parse_flow_sequence_entry\n",
            "    raise ParserError(\"while parsing a flow sequence\", self.marks[-1],\n",
            "yaml.parser.ParserError: while parsing a flow sequence\n",
            "  in \"/content/HerdNet/configs/train/my_herdnet.yaml\", line 37, column 15\n",
            "expected ',' or ']', but got '<scalar>'\n",
            "  in \"/content/HerdNet/configs/train/my_herdnet.yaml\", line 39, column 1\n"
          ]
        }
      ]
    },
    {
      "cell_type": "code",
      "source": [],
      "metadata": {
        "colab": {
          "base_uri": "https://localhost:8080/"
        },
        "id": "G9vFDM2AhH4b",
        "outputId": "6525e957-7cb2-47da-b487-75559096a53d"
      },
      "execution_count": null,
      "outputs": [
        {
          "output_type": "stream",
          "name": "stdout",
          "text": [
            "python3: can't open file '/content/foo.py': [Errno 2] No such file or directory\n"
          ]
        }
      ]
    },
    {
      "cell_type": "code",
      "source": [
        "!python /content/HerdNet/tools/test.py -m test=my_herdnet"
      ],
      "metadata": {
        "id": "NtSCJJil_6K9",
        "colab": {
          "base_uri": "https://localhost:8080/"
        },
        "outputId": "1bfc87b1-8a91-4e8c-ed4f-be83f8275462"
      },
      "execution_count": null,
      "outputs": [
        {
          "output_type": "stream",
          "name": "stdout",
          "text": [
            "/content/HerdNet/tools/test.py:129: UserWarning: \n",
            "The version_base parameter is not specified.\n",
            "Please specify a compatability version level, or None.\n",
            "Will assume defaults for version 1.1\n",
            "  @hydra.main(config_path='../configs', config_name=\"config\")\n",
            "[2023-08-04 22:24:53,380][HYDRA] Launching 1 jobs locally\n",
            "[2023-08-04 22:24:53,381][HYDRA] \t#0 : test=my_herdnet\n",
            "/usr/local/lib/python3.10/dist-packages/hydra/_internal/core_plugins/basic_launcher.py:74: UserWarning: Future Hydra versions will no longer change working directory at job runtime by default.\n",
            "See https://hydra.cc/docs/1.2/upgrades/1.1_to_1.2/changes_to_job_working_dir/ for more information.\n",
            "  ret = run_job(\n",
            "\u001b[34m\u001b[1mwandb\u001b[0m: Currently logged in as: \u001b[33mghazaleh-serati\u001b[0m. Use \u001b[1m`wandb login --relogin`\u001b[0m to force relogin\n",
            "\u001b[34m\u001b[1mwandb\u001b[0m: Tracking run with wandb version 0.15.8\n",
            "\u001b[34m\u001b[1mwandb\u001b[0m: Run data is saved locally in \u001b[35m\u001b[1m/content/multirun/2023-08-04/22-24-53/0/wandb/run-20230804_222453-9ldhzx6l\u001b[0m\n",
            "\u001b[34m\u001b[1mwandb\u001b[0m: Run \u001b[1m`wandb offline`\u001b[0m to turn off syncing.\n",
            "\u001b[34m\u001b[1mwandb\u001b[0m: Syncing run \u001b[33mzesty-dream-7\u001b[0m\n",
            "\u001b[34m\u001b[1mwandb\u001b[0m: ⭐️ View project at \u001b[34m\u001b[4mhttps://wandb.ai/ghazaleh-serati/HerdNet\u001b[0m\n",
            "\u001b[34m\u001b[1mwandb\u001b[0m: 🚀 View run at \u001b[34m\u001b[4mhttps://wandb.ai/ghazaleh-serati/HerdNet/runs/9ldhzx6l\u001b[0m\n",
            "Building the test dataset ...\n",
            "Building the trained model ...\n",
            "Error executing job with overrides: ['test=my_herdnet']\n",
            "Traceback (most recent call last):\n",
            "  File \"/content/HerdNet/tools/test.py\", line 176, in main\n",
            "    model = _build_model(cfg).to(device)\n",
            "  File \"/content/HerdNet/tools/test.py\", line 67, in _build_model\n",
            "    model = load_model(model, cfg.model.pth_file)\n",
            "  File \"/content/HerdNet/animaloc/models/utils.py\", line 41, in load_model\n",
            "    model.load_state_dict(checkpoint['model_state_dict'])\n",
            "  File \"/usr/local/lib/python3.10/dist-packages/torch/nn/modules/module.py\", line 2041, in load_state_dict\n",
            "    raise RuntimeError('Error(s) in loading state_dict for {}:\\n\\t{}'.format(\n",
            "RuntimeError: Error(s) in loading state_dict for LossWrapper:\n",
            "\tsize mismatch for model.cls_head.2.weight: copying a param with shape torch.Size([2, 64, 1, 1]) from checkpoint, the shape in current model is torch.Size([1, 64, 1, 1]).\n",
            "\tsize mismatch for model.cls_head.2.bias: copying a param with shape torch.Size([2]) from checkpoint, the shape in current model is torch.Size([1]).\n",
            "\n",
            "Set the environment variable HYDRA_FULL_ERROR=1 for a complete stack trace.\n"
          ]
        }
      ]
    }
  ],
  "metadata": {
    "accelerator": "GPU",
    "colab": {
      "provenance": [],
      "machine_shape": "hm",
      "gpuType": "T4",
      "include_colab_link": true
    },
    "kernelspec": {
      "display_name": "Python 3",
      "name": "python3"
    },
    "language_info": {
      "name": "python"
    }
  },
  "nbformat": 4,
  "nbformat_minor": 0
}