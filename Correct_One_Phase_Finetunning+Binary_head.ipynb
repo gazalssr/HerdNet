{
  "cells": [
    {
      "cell_type": "markdown",
      "metadata": {
        "id": "view-in-github",
        "colab_type": "text"
      },
      "source": [
        "<a href=\"https://colab.research.google.com/github/gazalssr/HerdNet/blob/main/Correct_One_Phase_Finetunning%2BBinary_head.ipynb\" target=\"_parent\"><img src=\"https://colab.research.google.com/assets/colab-badge.svg\" alt=\"Open In Colab\"/></a>"
      ]
    },
    {
      "cell_type": "markdown",
      "metadata": {
        "id": "tOMmy2YvTHSy"
      },
      "source": [
        "# DEMO - Training and testing HerdNet on nadir aerial images\n",
        "test"
      ]
    },
    {
      "cell_type": "markdown",
      "metadata": {
        "id": "_XTpIbRwT9PO"
      },
      "source": [
        "## Installations"
      ]
    },
    {
      "cell_type": "code",
      "execution_count": null,
      "metadata": {
        "id": "9v5ab5BbSrVl"
      },
      "outputs": [],
      "source": [
        "# Check GPU\n",
        "!nvidia-smi"
      ]
    },
    {
      "cell_type": "code",
      "execution_count": null,
      "metadata": {
        "id": "z9RVoQx5UOkg"
      },
      "outputs": [],
      "source": [
        "# Install the dependencies\n",
        "!pip install h5py\n",
        "!pip install typing-extensions\n",
        "!pip install wheel\n",
        "!pip install albumentations>=1.0.3\n",
        "!pip install fiftyone>=0.14.3\n",
        "!pip install hydra-core>=1.1.0\n",
        "!pip install opencv-python>=4.5.1.48\n",
        "!pip install pandas>=1.2.3\n",
        "!pip install pillow>=8.2.0\n",
        "!pip install scikit-image>=0.18.1\n",
        "!pip install scikit-learn>=1.0.2\n",
        "!pip install scipy>=1.6.2\n",
        "!pip install wandb>=0.10.33\n",
        "!pip install numpy>=1.20.0\n"
      ]
    },
    {
      "cell_type": "code",
      "execution_count": null,
      "metadata": {
        "id": "8zHuAvHOq0t8"
      },
      "outputs": [],
      "source": [
        "from google.colab import drive\n",
        "drive.mount('/content/drive')"
      ]
    },
    {
      "cell_type": "code",
      "execution_count": null,
      "metadata": {
        "id": "oJydpjxoUGAC"
      },
      "outputs": [],
      "source": [
        "# Download and install the code\n",
        "import sys\n",
        "\n",
        "!git clone https://github.com/gazalssr/HerdNet.git\n",
        "#!cd '/content/HerdNet' && python setup.py install\n",
        "!pip install -e /content/HerdNet\n",
        "sys.path.append('/content/HerdNet')"
      ]
    },
    {
      "cell_type": "code",
      "execution_count": null,
      "metadata": {
        "id": "IZzPIF8fonl_"
      },
      "outputs": [],
      "source": [
        "!wandb login\n",
        "import wandb"
      ]
    },
    {
      "cell_type": "markdown",
      "metadata": {
        "id": "cuxaC9qGVk5S"
      },
      "source": [
        "## Create datasets"
      ]
    },
    {
      "cell_type": "code",
      "execution_count": null,
      "metadata": {
        "id": "y1n_cQLFYBsJ"
      },
      "outputs": [],
      "source": [
        "# Set the seed\n",
        "from animaloc.utils.seed import set_seed\n",
        "\n",
        "set_seed(9292)"
      ]
    },
    {
      "cell_type": "code",
      "execution_count": null,
      "metadata": {
        "id": "e38YbTf7npmg"
      },
      "outputs": [],
      "source": [
        "%matplotlib inline\n",
        "import matplotlib.pyplot as plt\n",
        "import PIL.Image as Image\n",
        "\n",
        "from animaloc.data.patches import ImageToPatches, AnnotatedImageToPatches\n",
        "\n",
        "img_path = '//content/drive/MyDrive/CAH_small_samples/Train_CAH_Sample/CAH_7_90_2017_BR.jpg'\n",
        "\n",
        "sample_img = Image.open(img_path)\n",
        "\n",
        "patcher = ImageToPatches(sample_img, (512,512), overlap = 100)\n",
        "patches = patcher.make_patches()\n",
        "\n",
        "print(f'Number of patches: {len(patches)}')\n",
        "\n",
        "plt.figure(figsize=(15,10))\n",
        "_ = patcher.show()"
      ]
    },
    {
      "cell_type": "code",
      "execution_count": null,
      "metadata": {
        "id": "9tGqtLNG21Jf"
      },
      "outputs": [],
      "source": [
        "# Create training  patches using the patcher tool\n",
        "from animaloc.utils.useful_funcs import mkdir\n",
        "import pandas as pd\n",
        "from PIL import Image\n",
        "df = pd.read_csv('/content/drive/MyDrive/Small_CAH_whole/train/train.csv')\n",
        "df = df.to_csv('/content/drive/MyDrive/Small_CAH_whole/train/train.csv', index=False)\n",
        "# df = pd.read_csv('/content/drive/MyDrive/CAH_small_samples/Train_CAH_Sample/Train_CAH_Sample.csv')\n",
        "# df = df.to_csv('/content/drive/MyDrive/CAH_small_samples/Train_CAH_Sample/Train_CAH_Sample.csv', index=False)\n",
        "mkdir('/content/drive/MyDrive/Train_patches_stratified')\n",
        "#!python /content/HerdNet/tools/patcher.py /content/drive/MyDrive/CAH_small_samples/Train_CAH_Sample/ 512 512 256 /content/drive/MyDrive/Train_patches -csv /content/drive/MyDrive/CAH_small_samples/Train_CAH_Sample/Train_CAH_Sample.csv -min 0.0 -all False\n",
        "!python /content/HerdNet/tools/patcher.py  /content/drive/MyDrive/Small_CAH_whole/train 512 512 256  /content/drive/MyDrive/Train_patches_stratified -csv /content/drive/MyDrive/Small_CAH_whole/train/train.csv -min 0.0 -all False"
      ]
    },
    {
      "cell_type": "code",
      "execution_count": null,
      "metadata": {
        "id": "gxtfGNR2458X"
      },
      "outputs": [],
      "source": [
        "# Create validation patches\n",
        "from animaloc.utils.useful_funcs import mkdir\n",
        "import pandas as pd\n",
        "# mkdir('/content/drive/MyDrive/val_patches')\n",
        "mkdir('/content/drive/MyDrive/val_patches_stratified')\n",
        "# !python /content/HerdNet/tools/patcher.py /content/drive/MyDrive/CAH_training_session_1/ValCAH 512 512 256 /content/drive/MyDrive/val_patches -csv /content/drive/MyDrive/CAH_training_session_1/ValCAH/ValCAH_2017_1.csv -min 0.0 -all True\n",
        "!python /content/HerdNet/tools/patcher.py /content/drive/MyDrive/Small_CAH_whole/val/ 512 512 256 /content/drive/MyDrive/val_patches_stratified -csv /content/drive/MyDrive/Small_CAH_whole/val/val.csv -min 0.0 -all False"
      ]
    },
    {
      "cell_type": "code",
      "execution_count": null,
      "metadata": {
        "id": "k-8O7nCoWy8Z"
      },
      "outputs": [],
      "source": [
        "%pdb"
      ]
    },
    {
      "cell_type": "code",
      "execution_count": null,
      "metadata": {
        "id": "SiECsu46goFm"
      },
      "outputs": [],
      "source": [
        "# Create test patches\n",
        "from animaloc.utils.useful_funcs import mkdir\n",
        "import pandas as pd\n",
        "\n",
        "# mkdir('/content/drive/MyDrive/test_patches')\n",
        "mkdir('/content/drive/MyDrive/test_patches_stratified')\n",
        "!python /content/HerdNet/tools/patcher.py /content/drive/MyDrive/Small_CAH_whole/test/ 512 512 256 /content/drive/MyDrive/test_patches_stratified -csv /content/drive/MyDrive/Small_CAH_whole/test/test.csv -min 0.0 -all False"
      ]
    },
    {
      "cell_type": "markdown",
      "metadata": {
        "id": "uAYUy__Ks2o7"
      },
      "source": [
        "## Caribou dataset donwload"
      ]
    },
    {
      "cell_type": "code",
      "execution_count": null,
      "metadata": {
        "id": "yQr0X4dRiZc2"
      },
      "outputs": [],
      "source": [
        "#make a zip file from the patch folders\n",
        "#Zip file path (destination)       source file path\n",
        "%cd /content/drive/MyDrive/\n",
        "# Zip the directory\n",
        "!zip -jr 'Stratified_patches_zip/Train_patches_stratified.zip' 'Train_patches_stratified'\n",
        "!zip -jr 'Stratified_patches_zip/val_patches_stratified.zip' 'val_patches_stratified'\n",
        "!zip -jr 'Stratified_patches_zip/test_patches_stratified.zip' 'test_patches_stratified'\n",
        "\n",
        "# import shutil\n",
        "# shutil.make_archive('/content/drive/MyDrive/Train_patches_S', 'zip', '/content/drive/MyDrive/Train_patches')\n",
        "# shutil.make_archive('/content/drive/MyDrive/val_patches_S', 'zip', '/content/drive/MyDrive/val_patches')\n",
        "# shutil.make_archive('/content/drive/MyDrive/test_patches_S', 'zip', '/content/drive/MyDrive/test_patches')"
      ]
    },
    {
      "cell_type": "code",
      "execution_count": null,
      "metadata": {
        "id": "pu0_-H8tsG1h"
      },
      "outputs": [],
      "source": [
        "#### Downloading and unziping the files\n",
        "#zip file download (destination link)\n",
        "# %cd /content/drive/MyDrive/\n",
        "!pip install --upgrade --no-cache-dir gdown\n",
        "# Download the Train zip file\n",
        "\n",
        "!gdown https://drive.google.com/uc?id=1mI6Ve5v3sAj9h502g75GD1lZSYy4-FR4 -O /content/Train_patches_stratified.zip\n",
        "# Unzip the file to the specified directory\n",
        "!unzip -oq /content/Train_patches_stratified.zip -d /content/Train_patches_stratified\n",
        "\n",
        "# Download the val zip file\n",
        "!gdown https://drive.google.com/uc?id=1-1lGSZVk-ts0TMo0n-sbwlBGKHhgh9O9 -O /content/val_patches_stratified.zip\n",
        "# Unzip the file to the specified directory\n",
        "!unzip -oq /content/val_patches_stratified.zip -d /content/val_patches_stratified\n",
        "\n",
        "# Download the test zip file\n",
        "!gdown https://drive.google.com/uc?id=1-1r9sQlC-NxgcSvKKl0WPEmOpkzRV4KB -O /content/test_patches_stratified.zip\n",
        "\n",
        "# Unzip the file to the specified directory\n",
        "!unzip -oq /content/test_patches_stratified.zip -d /content/test_patches_stratified\n",
        "\n"
      ]
    },
    {
      "cell_type": "code",
      "source": [
        "# Download the val zip file\n",
        "!gdown https://drive.google.com/uc?id=1-1lGSZVk-ts0TMo0n-sbwlBGKHhgh9O9 -O /content/val_patches_stratified.zip\n",
        "# Unzip the file to the specified directory\n",
        "!unzip -oq /content/val_patches_stratified.zip -d /content/val_patches_stratified"
      ],
      "metadata": {
        "id": "Ap9W9eXqAQm5"
      },
      "execution_count": null,
      "outputs": []
    },
    {
      "cell_type": "code",
      "source": [
        "\n",
        "!unzip -l /content/drive/MyDrive/Stratified_patches_zip/Train_patches_stratified.zip\n"
      ],
      "metadata": {
        "id": "iURab5Vq2Vae"
      },
      "execution_count": null,
      "outputs": []
    },
    {
      "cell_type": "code",
      "execution_count": null,
      "metadata": {
        "id": "tylrprA80b_Q"
      },
      "outputs": [],
      "source": [
        "%matplotlib inline\n",
        "# Showing some samples of patches and the annotations\n",
        "import matplotlib.pyplot as plt\n",
        "from animaloc.datasets import CSVDataset\n",
        "from animaloc.data.batch_utils import show_batch, collate_fn\n",
        "from torch.utils.data import DataLoader\n",
        "import torch\n",
        "import albumentations as A\n",
        "batch_size = 8\n",
        "csv_path = '/content/Train_patches_stratified/gt.csv'\n",
        "image_path = '/content/Train_patches_stratified'\n",
        "dataset = CSVDataset(csv_path, image_path, [A.Normalize()])\n",
        "dataloader = DataLoader(dataset, batch_size=batch_size, collate_fn=collate_fn, shuffle=True)\n",
        "\n",
        "sample_batch = next(iter(dataloader))\n",
        "for i in range(len(sample_batch[1])):\n",
        "  points = sample_batch[1][i]['points'].numpy()\n",
        "  bbox= []\n",
        "  for pt in points:\n",
        "      bbox.append([pt[0]-2,pt[1]-2,pt[0]+2,pt[1]+2])\n",
        "  print(len(sample_batch[1][i]['labels']))\n",
        "  sample_batch[1][i]['annotations']=torch.tensor(bbox)\n",
        "plt.figure(figsize=(16,2))\n",
        "show_batch(sample_batch)"
      ]
    },
    {
      "cell_type": "code",
      "execution_count": null,
      "metadata": {
        "id": "Bwp4XPR8YNMR"
      },
      "outputs": [],
      "source": [
        "# Training, validation and test datasets\n",
        "import albumentations as A\n",
        "\n",
        "from animaloc.datasets import FolderDataset\n",
        "from animaloc.data.transforms import MultiTransformsWrapper, DownSample, PointsToMask, FIDT\n",
        "\n",
        "patch_size = 512\n",
        "num_classes = 2\n",
        "down_ratio: int = 2\n",
        "\n",
        "train_dataset = CSVDataset(\n",
        "\n",
        "    csv_file = '/content/Train_patches_stratified/gt.csv',\n",
        "    root_dir = '/content/Train_patches_stratified',\n",
        "    # Data Augmentation\n",
        "    albu_transforms = [\n",
        "        A.VerticalFlip(p=0.5),\n",
        "        A.HorizontalFlip(p=0.5),\n",
        "        A.Normalize(p=1.0),\n",
        "        A.RandomRotate90(p=0.5),\n",
        "        A.RandomBrightnessContrast(brightness_limit=0.2, contrast_limit=0.2, p=0.2),\n",
        "        A.Blur(blur_limit=15, p=0.2),\n",
        "        ],\n",
        "    end_transforms = [MultiTransformsWrapper([\n",
        "        FIDT(num_classes=num_classes, down_ratio=down_ratio),\n",
        "        PointsToMask(radius=2, num_classes=num_classes, squeeze=True, down_ratio=int(patch_size//16))\n",
        "        ])]\n",
        "    )\n",
        "\n",
        "val_dataset = CSVDataset(\n",
        "\n",
        "    csv_file = '/content/val_patches_stratified/gt.csv',\n",
        "    root_dir = '/content/val_patches_stratified',\n",
        "    albu_transforms = [A.Normalize(p=1.0)],\n",
        "    end_transforms = [DownSample(down_ratio=down_ratio, anno_type='point')]\n",
        "    )\n",
        "\n",
        "test_dataset = CSVDataset(\n",
        "\n",
        "    csv_file = '/content/test_patches_stratified/gt.csv',\n",
        "    root_dir = '/content/test_patches_stratified',\n",
        "    albu_transforms = [A.Normalize(p=1.0)],\n",
        "    end_transforms = [DownSample(down_ratio=down_ratio, anno_type='point')]\n",
        "    )"
      ]
    },
    {
      "cell_type": "code",
      "execution_count": null,
      "metadata": {
        "id": "lR1W5NVFYhiZ"
      },
      "outputs": [],
      "source": [
        "# Dataloaders\n",
        "from torch.utils.data import DataLoader\n",
        "train_dataloader = DataLoader(dataset = train_dataset, batch_size = 4, shuffle = True)\n",
        "val_dataloader = DataLoader(dataset = val_dataset, batch_size = 1, shuffle = False)\n",
        "test_dataloader = DataLoader(dataset = test_dataset, batch_size = 1, shuffle = False)"
      ]
    },
    {
      "cell_type": "markdown",
      "metadata": {
        "id": "emWQUMq2Vwpj"
      },
      "source": [
        "## Define HerdNet for training"
      ]
    },
    {
      "cell_type": "code",
      "execution_count": null,
      "metadata": {
        "id": "Sa0lyXDZrVIX"
      },
      "outputs": [],
      "source": [
        "# Path to your .pth file\n",
        "import torch\n",
        "####################### Transfered weights ###########################\n",
        "pth_path = '/content/drive/MyDrive/output/Binary.pth'\n",
        "pretrained_dict = torch.load(pth_path)"
      ]
    },
    {
      "cell_type": "code",
      "execution_count": null,
      "metadata": {
        "id": "JIBKygFlV0V1"
      },
      "outputs": [],
      "source": [
        "from animaloc.models import HerdNet\n",
        "from torch import Tensor\n",
        "from animaloc.models import LossWrapper\n",
        "from animaloc.train.losses import FocalLoss\n",
        "from torch.nn import CrossEntropyLoss\n",
        "\n",
        "herdnet = HerdNet(num_classes=num_classes, down_ratio=down_ratio).cuda()\n",
        "\n",
        "losses = [\n",
        "    {'loss': FocalLoss(reduction='mean'), 'idx': 0, 'idy': 0, 'lambda': 1.0, 'name': 'focal_loss'},\n",
        "    {'loss': CrossEntropyLoss(reduction='mean'), 'idx': 1, 'idy': 1, 'lambda': 1.0, 'name': 'ce_loss'}\n",
        "    ]\n",
        "\n",
        "herdnet = LossWrapper(herdnet, losses=losses)\n",
        "herdnet.load_state_dict(pretrained_dict, strict=False) # /initialisation from a pre-task"
      ]
    },
    {
      "cell_type": "markdown",
      "metadata": {
        "id": "Nm5u6yg4V78C"
      },
      "source": [
        "## Create the Trainer"
      ]
    },
    {
      "cell_type": "code",
      "execution_count": null,
      "metadata": {
        "id": "IDgj3foK4i_8"
      },
      "outputs": [],
      "source": [
        "#############Get model layers ###########################\n",
        "def get_parameter_names(model): # getting the model layers\n",
        "  param_dict= dict()\n",
        "  for l, (name,param) in enumerate(model.named_parameters()):\n",
        "    #print(l,\":\\t\",name,type(param),param.requires_grad)\n",
        "    param_dict[name]= l\n",
        "  return param_dict\n",
        "result = get_parameter_names(herdnet)\n",
        "print(result)"
      ]
    },
    {
      "cell_type": "code",
      "execution_count": null,
      "metadata": {
        "id": "3B_RxOm9aNqy"
      },
      "outputs": [],
      "source": [
        "#Freeze the layers\n",
        "def freeze_parts(model, get_parameter_names, layers_to_freeze, lr, unfreeze=False):\n",
        "    params_to_update = []\n",
        "\n",
        "    for l, (name, param) in enumerate(model.named_parameters()):\n",
        "        res = any(ele in name for ele in layers_to_freeze)\n",
        "        param.requires_grad = unfreeze if res else not unfreeze\n",
        "\n",
        "        if param.requires_grad == True:\n",
        "            params_to_update.append({\n",
        "                \"params\": param,\n",
        "                \"lr\": lr,\n",
        "            })\n",
        "\n",
        "        # Print parameters to update\n",
        "        if param.requires_grad:\n",
        "            print(f\"Trainable parameter: {name}\")\n",
        "        else:\n",
        "            print(f\"Frozen parameter: {name}\")\n",
        "\n",
        "    return params_to_update\n"
      ]
    },
    {
      "cell_type": "code",
      "execution_count": null,
      "metadata": {
        "id": "Pv7P2DkyeXuY"
      },
      "outputs": [],
      "source": [
        "#Freeze half of a specified layer\n",
        "def freeze_parts(model, get_parameter_names, layers_to_freeze, freeze_layer_half=None, lr=0.0001, unfreeze=False):\n",
        "    params_to_update = []\n",
        "\n",
        "    for l, (name, param) in enumerate(model.named_parameters()):\n",
        "        res = any(ele in name for ele in layers_to_freeze)\n",
        "        param.requires_grad = unfreeze if res else not unfreeze\n",
        "\n",
        "        # Check if the current layer is the specified layer to freeze half of its parameters\n",
        "        if freeze_layer_half is not None and freeze_layer_half in name:\n",
        "            total_params = param.numel()\n",
        "            half_params = total_params // 2\n",
        "            param.requires_grad = unfreeze if l < half_params else not unfreeze\n",
        "\n",
        "        if param.requires_grad:\n",
        "            params_to_update.append({\n",
        "                \"params\": param,\n",
        "                \"lr\": lr,\n",
        "            })\n",
        "\n",
        "        # Print parameters to update\n",
        "        if param.requires_grad:\n",
        "            print(f\"Trainable parameter: {name}\")\n",
        "        else:\n",
        "            print(f\"Frozen parameter: {name}\")\n",
        "\n",
        "    return params_to_update\n"
      ]
    },
    {
      "cell_type": "code",
      "execution_count": null,
      "metadata": {
        "id": "mVbnOiHncXy9"
      },
      "outputs": [],
      "source": [
        "#Freeze half of the last layer\n",
        "def freeze_parts(model, get_parameter_names, layers_to_freeze, lr, unfreeze=False, freeze_last_half=False):\n",
        "    # Initialize an empty list to store parameters to update\n",
        "    params_to_update = []\n",
        "\n",
        "    # Iterate through all named parameters in the model\n",
        "    for name, param in model.named_parameters():\n",
        "        # Check if the parameter should be frozen based on the layers_to_freeze list\n",
        "        should_freeze = any(ele in name for ele in layers_to_freeze)\n",
        "\n",
        "        # If freeze_last_half is True, freeze half of the parameters in the last layer\n",
        "        if freeze_last_half and 'your_last_layer_keyword' in name:\n",
        "            # Calculate the number of channels in the last layer\n",
        "            num_channels = param.size(0)\n",
        "\n",
        "            # Calculate the number of channels to freeze (half of the total channels)\n",
        "            num_channels_to_freeze = num_channels // 2\n",
        "\n",
        "            # Check if the current channel should be frozen\n",
        "            should_freeze = should_freeze or (param.size(0) >= num_channels - num_channels_to_freeze)\n",
        "\n",
        "        # Set requires_grad attribute based on whether to freeze or unfreeze\n",
        "        param.requires_grad = unfreeze if should_freeze else not unfreeze\n",
        "\n",
        "        # Append parameters to the update list if requires_grad is True\n",
        "        if param.requires_grad:\n",
        "            params_to_update.append({\n",
        "                \"params\": param,\n",
        "                \"lr\": lr,\n",
        "            })\n",
        "\n",
        "        # Print information about the parameter (whether it's trainable or frozen)\n",
        "        if param.requires_grad:\n",
        "            print(f\"Trainable parameter: {name}\")\n",
        "        else:\n",
        "            print(f\"Frozen parameter: {name}\")\n",
        "\n",
        "    return params_to_update\n"
      ]
    },
    {
      "cell_type": "code",
      "execution_count": null,
      "metadata": {
        "id": "t4j5G34Mj2Vd"
      },
      "outputs": [],
      "source": [
        "#freezing half of one lyer+ other layers\n",
        "params_to_update = freeze_parts(herdnet.model, get_parameter_names, layers_to_freeze=['base_layer','level0','level1','level2','level3'], freeze_layer_half='level_4', lr=0.0001, unfreeze=False)\n"
      ]
    },
    {
      "cell_type": "code",
      "execution_count": null,
      "metadata": {
        "id": "hh-ZnDvimjye"
      },
      "outputs": [],
      "source": [
        "#Freezing a whole layer\n",
        "lr=1e-4\n",
        "# layers_to_freeze= [] # nothing frozen\n",
        "# layers_to_freeze= ['base_layer','level0','level1','level2','level3','level4','level5'] # we are feezing all the levels below level5\n",
        "layers_to_freeze= ['base_layer','level0','level1','level2','level3','level4']\n",
        "\n",
        "params_to_update= freeze_parts(herdnet.model,get_parameter_names,layers_to_freeze,lr,unfreeze=False)"
      ]
    },
    {
      "cell_type": "markdown",
      "metadata": {
        "id": "RWaZoXw6HD4X"
      },
      "source": [
        "# Create the Trainer"
      ]
    },
    {
      "cell_type": "code",
      "execution_count": null,
      "metadata": {
        "id": "MSBimwtzWDZp"
      },
      "outputs": [],
      "source": [
        "from torch.optim import Adam\n",
        "from animaloc.train import Trainer\n",
        "from torch.optim.lr_scheduler import StepLR\n",
        "from animaloc.eval import PointsMetrics, HerdNetStitcher, HerdNetEvaluator\n",
        "from animaloc.utils.useful_funcs import mkdir\n",
        "\n",
        "work_dir = '/content/drive/MyDrive/output'\n",
        "mkdir(work_dir)\n",
        "\n",
        "lr = 1e-4\n",
        "weight_decay = 1e-3\n",
        "epochs = 100\n",
        "# parameters= herdnet.parameters()\n",
        "optimizer = Adam(params_to_update, lr=lr, weight_decay=weight_decay)\n",
        "# scheduler = StepLR(optimizer, step_size=5, gamma=0.5)\n",
        "# scheduler.step()\n",
        "metrics = PointsMetrics(radius=20, num_classes=num_classes)\n",
        "\n",
        "stitcher = HerdNetStitcher(\n",
        "    model=herdnet,\n",
        "    size=(patch_size,patch_size),\n",
        "    overlap=0,\n",
        "    down_ratio=down_ratio,\n",
        "    reduction='mean'\n",
        "    )\n",
        "\n",
        "evaluator = HerdNetEvaluator(\n",
        "    model=herdnet,\n",
        "    dataloader=val_dataloader,\n",
        "    metrics=metrics,\n",
        "    stitcher=None,\n",
        "    work_dir=work_dir,\n",
        "    header='validation'\n",
        "    )\n",
        "\n",
        "trainer = Trainer(\n",
        "    model=herdnet,\n",
        "    train_dataloader=train_dataloader,\n",
        "    optimizer=optimizer,\n",
        "    num_epochs=epochs,\n",
        "    evaluator=evaluator,             # metric evaluation\n",
        "    # val_dataloader= val_dataloader, # loss evaluation\n",
        "    work_dir=work_dir\n",
        "    )"
      ]
    },
    {
      "cell_type": "markdown",
      "metadata": {
        "id": "uMQ0NWTnrXNq"
      },
      "source": [
        "# Start Training"
      ]
    },
    {
      "cell_type": "code",
      "execution_count": null,
      "metadata": {
        "id": "U-2p4kaSJxxT"
      },
      "outputs": [],
      "source": [
        "import wandb\n",
        "if wandb.run is not None:\n",
        "  wandb.finish()\n",
        "wandb.init(project=\"herdnet-finetuning\")"
      ]
    },
    {
      "cell_type": "code",
      "execution_count": null,
      "metadata": {
        "id": "K3b2Emq4ut96"
      },
      "outputs": [],
      "source": [
        "%pdb"
      ]
    },
    {
      "cell_type": "code",
      "execution_count": null,
      "metadata": {
        "id": "malFT6r5V4rC"
      },
      "outputs": [],
      "source": [
        "trainer.start(warmup_iters=100, checkpoints='best', select='max', validate_on='f1_score', wandb_flag =True)\n",
        "# validate_on='f1_score'"
      ]
    },
    {
      "cell_type": "code",
      "execution_count": null,
      "metadata": {
        "id": "PuOb7n8gdlWs"
      },
      "outputs": [],
      "source": [
        "# df= evaluator.results # getting the validation results in pandas format\n",
        "# df.head()\n",
        "evaluator.metrics.confusion_matrix"
      ]
    },
    {
      "cell_type": "code",
      "execution_count": null,
      "metadata": {
        "id": "-6eqgfcrIOi3"
      },
      "outputs": [],
      "source": [
        "#save and load finetunned parameters\n",
        "herdnet = HerdNet()\n",
        "torch.save(herdnet.state_dict(), 'fine_tuned_model.pth')\n",
        "herdnet.load_state_dict(torch.load('fine_tuned_model.pth'))\n",
        "pth_path = '/content/drive/MyDrive/output/fine_tuned_model.pth'\n",
        "torch.save(herdnet.state_dict(), pth_path)"
      ]
    },
    {
      "cell_type": "markdown",
      "metadata": {
        "id": "_e0CQd5Bxx5T"
      },
      "source": [
        "## Test the model"
      ]
    },
    {
      "cell_type": "code",
      "execution_count": null,
      "metadata": {
        "id": "D5133GoRz8r_"
      },
      "outputs": [],
      "source": [
        "# Path to your .pth file\n",
        "# pth_path = '/content/fine_tuned_model.pth'\n",
        "finetuned_dict = torch.load(pth_path)"
      ]
    },
    {
      "cell_type": "code",
      "execution_count": null,
      "metadata": {
        "id": "VPHXVYWNzVDj"
      },
      "outputs": [],
      "source": [
        "# Create output folder\n",
        "from animaloc.utils.useful_funcs import mkdir\n",
        "test_dir = '/content/drive/MyDrive/test_output_one_phase_Finetune'\n",
        "mkdir(test_dir)"
      ]
    },
    {
      "cell_type": "code",
      "execution_count": null,
      "metadata": {
        "id": "lX3Jp883zB-D"
      },
      "outputs": [],
      "source": [
        "# Create an Evaluator\n",
        "test_evaluator = HerdNetEvaluator(\n",
        "    model=herdnet,\n",
        "    dataloader=test_dataloader,\n",
        "    metrics=metrics,\n",
        "    stitcher=stitcher,\n",
        "    work_dir=test_dir,\n",
        "    header='test'\n",
        "    )"
      ]
    },
    {
      "cell_type": "code",
      "execution_count": null,
      "metadata": {
        "id": "CZt_wNle0488"
      },
      "outputs": [],
      "source": [
        "# Start testing\n",
        "test_f1_score = test_evaluator.evaluate(returns='f1_score')"
      ]
    },
    {
      "cell_type": "code",
      "execution_count": null,
      "metadata": {
        "id": "1vICHF-sFGxa"
      },
      "outputs": [],
      "source": [
        "# Print global F1 score (%)\n",
        "print(f\"F1 score = {test_f1_score * 100:0.0f}%\")"
      ]
    },
    {
      "cell_type": "code",
      "execution_count": null,
      "metadata": {
        "id": "ANdn_feR2ZY8"
      },
      "outputs": [],
      "source": [
        "# Get the detections (Metrics)\n",
        "detections = test_evaluator.results\n",
        "detections.to_csv('/content//drive/MyDrive/test_output_pretrain/metrics.csv')"
      ]
    },
    {
      "cell_type": "code",
      "execution_count": null,
      "metadata": {
        "id": "1TtCRWj5x-7-"
      },
      "outputs": [],
      "source": [
        "# precision-recall curves\n",
        "%matplotlib inline\n",
        "from animaloc.vizual import PlotPrecisionRecall\n",
        "pr_curve = PlotPrecisionRecall(legend=True)\n",
        "metrics = test_evaluator._stored_metrics\n",
        "for c in range(1, metrics.num_classes):\n",
        "    rec, pre = metrics.rec_pre_lists(c)\n",
        "    pr_curve.feed(rec, pre, str(c))\n",
        "\n",
        "pr_curve.plot()"
      ]
    },
    {
      "cell_type": "code",
      "execution_count": null,
      "metadata": {
        "id": "yTIEHuTJRvKe"
      },
      "outputs": [],
      "source": [
        "# Train config files\n",
        "%%writefile /content/HerdNet/configs/train/herdnet.yaml\n",
        "wandb_project: 'hernet-finetunning'\n",
        "wandb_entity: 'ghazaleh-serati'\n",
        "wandb_run: 'myrun'\n",
        "seed: 1\n",
        "device_name: 'cuda'\n",
        "\n",
        "model:\n",
        "  name: 'HerdNet'\n",
        "  from_torchvision: False\n",
        "  load_from: null\n",
        "  resume_from: null\n",
        "  kwargs:\n",
        "    num_layers: 34\n",
        "    pretrained: True\n",
        "    down_ratio: 2\n",
        "    head_conv: 64\n",
        "  freeze: null\n",
        "\n",
        "losses:\n",
        "  FocalLoss:\n",
        "    print_name: 'focal_loss'\n",
        "    from_torch: False\n",
        "    output_idx: 0\n",
        "    target_idx: 0\n",
        "    lambda_const: 1.0\n",
        "    kwargs:\n",
        "      reduction: 'mean'\n",
        "      normalize: False\n",
        "  CrossEntropyLoss:\n",
        "    print_name: 'ce_loss'\n",
        "    from_torch: True\n",
        "    output_idx: 1\n",
        "    target_idx: 1\n",
        "    lambda_const: 1.0\n",
        "    kwargs:\n",
        "      reduction: 'mean'\n",
        "      weight: [0.1,5.,15.,1.]\n",
        "\n",
        "datasets:\n",
        "  img_size: [512,512]\n",
        "  anno_type: 'point'\n",
        "  num_classes: 1\n",
        "  collate_fn: null\n",
        "\n",
        "  class_def:\n",
        "    1: 'caribou'\n",
        "\n",
        "\n",
        "  train:\n",
        "    name: 'CSVDataset'\n",
        "    csv_file: '/content/Train_patches/gt.csv'\n",
        "    root_dir: '/content/Train_patches'\n",
        "\n",
        "    sampler: null\n",
        "\n",
        "    albu_transforms:\n",
        "      HorizontalFlip:\n",
        "        p: 0.5\n",
        "      MotionBlur:\n",
        "        p: 0.5\n",
        "      Normalize:\n",
        "        p: 1.0\n",
        "\n",
        "    end_transforms:\n",
        "      MultiTransformsWrapper:\n",
        "        FIDT:\n",
        "          num_classes: ${train.datasets.num_classes}\n",
        "          down_ratio: ${train.model.kwargs.down_ratio}\n",
        "        PointsToMask:\n",
        "          radius: 2\n",
        "          num_classes: ${train.datasets.num_classes}\n",
        "          squeeze: True\n",
        "          down_ratio: 32\n",
        "\n",
        "  validate:\n",
        "    name: 'CSVDataset'\n",
        "    csv_file: '/content/drive/MyDrive/val_patches/gt.csv'\n",
        "    root_dir: '/content/drive/MyDrive/val_patches'\n",
        "\n",
        "    albu_transforms:\n",
        "      Normalize:\n",
        "        p: 1.0\n",
        "\n",
        "    end_transforms:\n",
        "      DownSample:\n",
        "        down_ratio: ${train.model.kwargs.down_ratio}\n",
        "        anno_type: ${train.datasets.anno_type}\n",
        "\n",
        "training_settings:\n",
        "  trainer: 'Trainer'\n",
        "  valid_freq: 1\n",
        "  print_freq: 100\n",
        "  batch_size: 4\n",
        "  optimizer: 'adam'\n",
        "  lr: 1e-4\n",
        "  weight_decay: 0.0005\n",
        "  auto_lr:\n",
        "    mode: 'max'\n",
        "    patience: 10\n",
        "    threshold: 1e-4\n",
        "    threshold_mode: 'rel'\n",
        "    cooldown: 10\n",
        "    min_lr: 1e-6\n",
        "    verbose: True\n",
        "  warmup_iters: 100\n",
        "  vizual_fn: null\n",
        "  epochs: 1\n",
        "  evaluator:\n",
        "    name: 'HerdNetEvaluator'\n",
        "    threshold: 5\n",
        "    select_mode: 'max'\n",
        "    validate_on: 'f1_score'\n",
        "    kwargs:\n",
        "      print_freq: 10\n",
        "      lmds_kwargs:\n",
        "        kernel_size: [3,3]\n",
        "        adapt_ts: 0.3\n",
        "  stitcher:\n",
        "    name: 'HerdNetStitcher'\n",
        "    kwargs:\n",
        "      overlap: 0\n",
        "      down_ratio: ${train.model.kwargs.down_ratio}\n",
        "      up: False\n",
        "      reduction: 'mean'"
      ]
    },
    {
      "cell_type": "code",
      "execution_count": null,
      "metadata": {
        "id": "bEFtSC9Gyb9f"
      },
      "outputs": [],
      "source": [
        "# TEST config files\n",
        "%%writefile /content/HerdNet/configs/test/herdnet.yaml\n",
        "wandb_project: 'HerdNet'\n",
        "wandb_entity: 'ghazaleh-serati'\n",
        "wandb_run: 'myrun'\n",
        "device_name: 'cuda'\n",
        "\n",
        "model:\n",
        "  name: 'HerdNet'\n",
        "  from_torchvision: False\n",
        "  pth_file: '/content/drive/MyDrive/output/best_model.pth'\n",
        "  kwargs:\n",
        "    num_layers: 34\n",
        "    pretrained: False\n",
        "    down_ratio: 2\n",
        "    head_conv: 64\n",
        "\n",
        "dataset:\n",
        "  img_size: [512,512]\n",
        "  anno_type: 'point'\n",
        "  num_classes: 1\n",
        "  collate_fn: null\n",
        "\n",
        "  class_def:\n",
        "    1: 'caribou'\n",
        "\n",
        "\n",
        "  name: 'CSVDataset'\n",
        "  csv_file: '/content/test_patches/gt.csv'\n",
        "  root_dir: '/content/test_patches'\n",
        "\n",
        "  mean: [0.485, 0.456, 0.406]\n",
        "  std: [0.229, 0.224, 0.225]\n",
        "\n",
        "evaluator:\n",
        "  name: 'HerdNetEvaluator'\n",
        "  threshold: 5\n",
        "  kwargs:\n",
        "    lmds_kwargs:\n",
        "      kernel_size: [3,3]\n",
        "      adapt_ts: 0.3\n",
        "\n",
        "stitcher:\n",
        "  name: 'HerdNetStitcher'\n",
        "  kwargs:\n",
        "    overlap: 160\n",
        "    down_ratio: ${test.model.kwargs.down_ratio}\n",
        "    up: False\n",
        "    reduction: 'mean'"
      ]
    },
    {
      "cell_type": "code",
      "execution_count": null,
      "metadata": {
        "id": "Rl7VtN6czOwv"
      },
      "outputs": [],
      "source": [
        "# Launching training and testing sessions with config files\n",
        "\n",
        "!python /content/HerdNet/tools/train.py train=HerdNet"
      ]
    },
    {
      "cell_type": "code",
      "execution_count": null,
      "metadata": {
        "id": "xVEMnOZp3f9l"
      },
      "outputs": [],
      "source": [
        "!python /content/HerdNet/tools/train.py -m train=HerdNet train.training_settings.batch_size=1,2,4 train.training_settings.lr=1e-3,1e-4"
      ]
    },
    {
      "cell_type": "code",
      "execution_count": null,
      "metadata": {
        "id": "94E9A5DH3gQT"
      },
      "outputs": [],
      "source": [
        "!python /content/HerdNet/tools/test.py test=HerdNet"
      ]
    }
  ],
  "metadata": {
    "accelerator": "GPU",
    "colab": {
      "machine_shape": "hm",
      "provenance": [],
      "include_colab_link": true
    },
    "kernelspec": {
      "display_name": "Python 3",
      "name": "python3"
    },
    "language_info": {
      "name": "python"
    }
  },
  "nbformat": 4,
  "nbformat_minor": 0
}